{
 "cells": [
  {
   "cell_type": "code",
   "execution_count": 1,
   "id": "af6753f7",
   "metadata": {},
   "outputs": [],
   "source": [
    "import pandas as pd\n",
    "import matplotlib.pyplot as plt\n",
    "import os\n",
    "from tqdm import tqdm\n",
    "import numpy as np\n",
    "import re"
   ]
  },
  {
   "cell_type": "code",
   "execution_count": 2,
   "id": "7fe2fe01",
   "metadata": {},
   "outputs": [],
   "source": [
    "df = pd.read_excel('dataset/MK Live_clean_Rev1.xlsm',sheet_name = 'MK Live_clean_Rev1',engine='openpyxl')"
   ]
  },
  {
   "cell_type": "code",
   "execution_count": 3,
   "id": "0eb154dc",
   "metadata": {},
   "outputs": [],
   "source": [
    "col = list(df.columns)\n",
    "col_name = [df[i] for i in col]"
   ]
  },
  {
   "cell_type": "code",
   "execution_count": null,
   "id": "3b0a3a42",
   "metadata": {},
   "outputs": [],
   "source": []
  },
  {
   "cell_type": "markdown",
   "id": "c1487611",
   "metadata": {},
   "source": [
    "# 1. เพศ"
   ]
  },
  {
   "cell_type": "code",
   "execution_count": 12,
   "id": "2f25ae87",
   "metadata": {
    "scrolled": true
   },
   "outputs": [
    {
     "name": "stdout",
     "output_type": "stream",
     "text": [
      "{'หญิง': 119, 'ชาย': 75}\n"
     ]
    }
   ],
   "source": [
    "col_name[78].value_counts()\n",
    "sex = {k:v for k,v in col_name[78].value_counts().items() if v>1}\n",
    "print(sex)\n",
    "date = list(sex.keys())\n",
    "values = list(sex.values())\n",
    "  \n",
    "# fig = plt.figure(figsize = (10, 5))\n",
    " \n",
    "# creating the bar plot\n",
    "\n",
    "\n",
    "# plt.bar(date, values, color ='maroon',\n",
    "#         width = 0.6)"
   ]
  },
  {
   "cell_type": "code",
   "execution_count": 59,
   "id": "fec4e7cf",
   "metadata": {},
   "outputs": [
    {
     "data": {
      "text/plain": [
       "หญิง    119\n",
       "ชาย      75\n",
       "Name: DateValue, dtype: int64"
      ]
     },
     "execution_count": 59,
     "metadata": {},
     "output_type": "execute_result"
    }
   ],
   "source": [
    "df_sex = pd.Series(sex, name='DateValue')\n",
    "df_sex"
   ]
  },
  {
   "cell_type": "markdown",
   "id": "bccbcc3c",
   "metadata": {},
   "source": [
    "# 2. อายุ"
   ]
  },
  {
   "cell_type": "code",
   "execution_count": null,
   "id": "8dc0b10f",
   "metadata": {},
   "outputs": [],
   "source": []
  },
  {
   "cell_type": "code",
   "execution_count": 60,
   "id": "c47654d7",
   "metadata": {},
   "outputs": [
    {
     "data": {
      "text/plain": [
       "0      26-33 ปี\n",
       "1      26-33 ปี\n",
       "2      26-33 ปี\n",
       "3      26-33 ปี\n",
       "4      26-33 ปี\n",
       "         ...   \n",
       "194    26-33 ปี\n",
       "195    42-49 ปี\n",
       "196    26-33 ปี\n",
       "197         NaN\n",
       "198         NaN\n",
       "Name: 2. อายุ, Length: 199, dtype: object"
      ]
     },
     "execution_count": 60,
     "metadata": {},
     "output_type": "execute_result"
    }
   ],
   "source": [
    "col_name[79]"
   ]
  },
  {
   "cell_type": "code",
   "execution_count": null,
   "id": "b39a517a",
   "metadata": {},
   "outputs": [],
   "source": [
    "col_name[79].groupby(by=[\"hour\"]).sum()[[\"Total\"]]"
   ]
  },
  {
   "cell_type": "code",
   "execution_count": 15,
   "id": "27a7522b",
   "metadata": {
    "scrolled": true
   },
   "outputs": [
    {
     "name": "stdout",
     "output_type": "stream",
     "text": [
      "26-33 ปี       110\n",
      "34-41 ปี        49\n",
      "50 ปีขึ้นไป     14\n",
      "42-49 ปี        13\n",
      "18-25 ปี        11\n",
      "Name: 2. อายุ, dtype: int64\n"
     ]
    }
   ],
   "source": [
    "col_name[79].value_counts()\n",
    "print(col_name[79].value_counts())\n",
    "date = list(col_name[79].value_counts().index)\n",
    "values = list(col_name[79].value_counts().values)\n",
    "  \n",
    "# fig = plt.figure(figsize = (10, 5))\n",
    " \n",
    "# creating the bar plot\n",
    "\n",
    "\n",
    "# plt.bar(date, values, color ='maroon',\n",
    "#         width = 0.6)"
   ]
  },
  {
   "cell_type": "markdown",
   "id": "1418cf45",
   "metadata": {},
   "source": [
    "# # 3. ระดับการศึกษา"
   ]
  },
  {
   "cell_type": "code",
   "execution_count": 16,
   "id": "4ee5c1ab",
   "metadata": {},
   "outputs": [
    {
     "name": "stdout",
     "output_type": "stream",
     "text": [
      "ปริญญาตรี          118\n",
      "ปริญญาโท            65\n",
      "สูงกว่าปริญญาโท     10\n",
      "มัธยมปลาย            3\n",
      "อนุปริญญาตรี         1\n",
      "Name: 3. ระดับการศึกษา, dtype: int64\n"
     ]
    },
    {
     "data": {
      "text/plain": [
       "<BarContainer object of 5 artists>"
      ]
     },
     "execution_count": 16,
     "metadata": {},
     "output_type": "execute_result"
    },
    {
     "data": {
      "image/png": "[encoded data removed]",
      "text/plain": [
       "<Figure size 432x288 with 1 Axes>"
      ]
     },
     "metadata": {
      "needs_background": "light"
     },
     "output_type": "display_data"
    }
   ],
   "source": [
    "col_name[80].value_counts()\n",
    "print(col_name[80].value_counts())\n",
    "date = list(col_name[80].value_counts().index)\n",
    "values = list(col_name[80].value_counts().values)\n",
    "  \n",
    "# fig = plt.figure(figsize = (10, 5))\n",
    " \n",
    "# creating the bar plot\n",
    "\n",
    "\n",
    "plt.bar(date, values, color ='maroon',\n",
    "        width = 0.6)"
   ]
  },
  {
   "cell_type": "markdown",
   "id": "0b2560f5",
   "metadata": {},
   "source": [
    "# อาชีพ"
   ]
  },
  {
   "cell_type": "code",
   "execution_count": 17,
   "id": "8a5cea82",
   "metadata": {
    "scrolled": true
   },
   "outputs": [
    {
     "name": "stdout",
     "output_type": "stream",
     "text": [
      "พนักงานเอกชน             144\n",
      "ธุรกิจส่วนตัว             23\n",
      "ข้าราชการ/รัฐวิสาหกิจ     13\n",
      "อาชีพอิสระ                11\n",
      "นักศึกษา                   4\n",
      "แพทย์                      1\n",
      "ทันตแพทย์                  1\n",
      "Name: 4. อาชีพ, dtype: int64\n"
     ]
    },
    {
     "data": {
      "text/plain": [
       "<BarContainer object of 7 artists>"
      ]
     },
     "execution_count": 17,
     "metadata": {},
     "output_type": "execute_result"
    },
    {
     "data": {
      "image/png": "[encoded data removed]",
      "text/plain": [
       "<Figure size 432x288 with 1 Axes>"
      ]
     },
     "metadata": {
      "needs_background": "light"
     },
     "output_type": "display_data"
    }
   ],
   "source": [
    "col_name[81].value_counts()\n",
    "print(col_name[81].value_counts())\n",
    "date = list(col_name[81].value_counts().index)\n",
    "values = list(col_name[81].value_counts().values)\n",
    "  \n",
    "# fig = plt.figure(figsize = (10, 5))\n",
    " \n",
    "# creating the bar plot\n",
    "\n",
    "\n",
    "plt.bar(date, values, color ='maroon',\n",
    "        width = 0.6)"
   ]
  },
  {
   "cell_type": "markdown",
   "id": "43a63b1a",
   "metadata": {},
   "source": [
    "# รายได้"
   ]
  },
  {
   "cell_type": "code",
   "execution_count": 18,
   "id": "5e4fdf46",
   "metadata": {
    "scrolled": true
   },
   "outputs": [
    {
     "name": "stdout",
     "output_type": "stream",
     "text": [
      "60,001 บาทขึ้นไป      87\n",
      "30,001-45,000 บาท     47\n",
      "45,001-60,000 บาท     39\n",
      "15,001-30,000 บาท     23\n",
      "ต่ำกว่า 15,000 บาท     1\n",
      "Name: 5. รายได้ต่อเดือน, dtype: int64\n"
     ]
    },
    {
     "data": {
      "text/plain": [
       "<BarContainer object of 5 artists>"
      ]
     },
     "execution_count": 18,
     "metadata": {},
     "output_type": "execute_result"
    },
    {
     "data": {
      "image/png": "[encoded data removed]",
      "text/plain": [
       "<Figure size 432x288 with 1 Axes>"
      ]
     },
     "metadata": {
      "needs_background": "light"
     },
     "output_type": "display_data"
    }
   ],
   "source": [
    "col_name[82].value_counts()\n",
    "print(col_name[82].value_counts())\n",
    "date = list(col_name[82].value_counts().index)\n",
    "values = list(col_name[82].value_counts().values)\n",
    "  \n",
    "# fig = plt.figure(figsize = (10, 5))\n",
    " \n",
    "# creating the bar plot\n",
    "\n",
    "\n",
    "plt.bar(date, values, color ='maroon',\n",
    "        width = 0.6)"
   ]
  },
  {
   "cell_type": "markdown",
   "id": "e4b7cccd",
   "metadata": {},
   "source": [
    "# สถานภาพ"
   ]
  },
  {
   "cell_type": "code",
   "execution_count": 19,
   "id": "901bb695",
   "metadata": {},
   "outputs": [
    {
     "name": "stdout",
     "output_type": "stream",
     "text": [
      "โสด     150\n",
      "สมรส     47\n",
      "Name: 6. สถานภาพ, dtype: int64\n"
     ]
    },
    {
     "data": {
      "text/plain": [
       "<BarContainer object of 2 artists>"
      ]
     },
     "execution_count": 19,
     "metadata": {},
     "output_type": "execute_result"
    },
    {
     "data": {
      "image/png": "[encoded data removed]",
      "text/plain": [
       "<Figure size 432x288 with 1 Axes>"
      ]
     },
     "metadata": {
      "needs_background": "light"
     },
     "output_type": "display_data"
    }
   ],
   "source": [
    "col_name[83].value_counts()\n",
    "print(col_name[83].value_counts())\n",
    "date = list(col_name[83].value_counts().index)\n",
    "values = list(col_name[83].value_counts().values)\n",
    "  \n",
    "# fig = plt.figure(figsize = (10, 5))\n",
    " \n",
    "# creating the bar plot\n",
    "\n",
    "\n",
    "plt.bar(date, values, color ='maroon',\n",
    "        width = 0.6)"
   ]
  },
  {
   "cell_type": "markdown",
   "id": "39025a48",
   "metadata": {},
   "source": [
    "# ในปัจจุบันสมาชิกที่อาศัยอยู่กับท่านมีกี่คน (รวมตัวท่านด้วย)"
   ]
  },
  {
   "cell_type": "code",
   "execution_count": 20,
   "id": "4fc07916",
   "metadata": {},
   "outputs": [
    {
     "name": "stdout",
     "output_type": "stream",
     "text": [
      "3 - 4 คน      88\n",
      "5 คนขึ้นไป    39\n",
      "2  คน         37\n",
      "1 คน          33\n",
      "Name: 7. ในปัจจุบันสมาชิกที่อาศัยอยู่กับท่านมีกี่คน (รวมตัวท่านด้วย), dtype: int64\n"
     ]
    },
    {
     "data": {
      "text/plain": [
       "<BarContainer object of 4 artists>"
      ]
     },
     "execution_count": 20,
     "metadata": {},
     "output_type": "execute_result"
    },
    {
     "data": {
      "image/png": "[encoded data removed]",
      "text/plain": [
       "<Figure size 432x288 with 1 Axes>"
      ]
     },
     "metadata": {
      "needs_background": "light"
     },
     "output_type": "display_data"
    }
   ],
   "source": [
    "col_name[84].value_counts()\n",
    "print(col_name[84].value_counts())\n",
    "date = list(col_name[84].value_counts().index)\n",
    "values = list(col_name[84].value_counts().values)\n",
    "  \n",
    "# fig = plt.figure(figsize = (10, 5))\n",
    " \n",
    "# creating the bar plot\n",
    "\n",
    "\n",
    "plt.bar(date, values, color ='maroon',\n",
    "        width = 0.6)"
   ]
  },
  {
   "cell_type": "markdown",
   "id": "80bd532d",
   "metadata": {},
   "source": [
    "# ท่านคิดว่า MK Live ควรปรับปรุงหรือพัฒนาในด้านใดมากที่สุด"
   ]
  },
  {
   "cell_type": "code",
   "execution_count": 22,
   "id": "92f38759",
   "metadata": {},
   "outputs": [
    {
     "name": "stdout",
     "output_type": "stream",
     "text": [
      "ราคาอาหาร                    41\n",
      "การประชาสัมพันธ์ และโฆษณา    18\n",
      "ปริมาณอาหาร                  13\n",
      "โปรโมชั่น                    10\n",
      "ความหลากหลายของเมนู           6\n",
      "ความใส่ใจของพนักงาน           3\n",
      "อื่นๆ                         1\n",
      "Name: 6.1 ท่านคิดว่า MK Live ควรปรับปรุงหรือพัฒนาในด้านใดมากที่สุด\\n [อันดับ 1], dtype: int64\n"
     ]
    },
    {
     "data": {
      "text/plain": [
       "<BarContainer object of 7 artists>"
      ]
     },
     "execution_count": 22,
     "metadata": {},
     "output_type": "execute_result"
    },
    {
     "data": {
      "image/png": "[encoded data removed]",
      "text/plain": [
       "<Figure size 432x288 with 1 Axes>"
      ]
     },
     "metadata": {
      "needs_background": "light"
     },
     "output_type": "display_data"
    }
   ],
   "source": [
    "col_name[87].value_counts()\n",
    "print(col_name[87].value_counts())\n",
    "\n",
    "date = list(col_name[87].value_counts().index)\n",
    "values = list(col_name[87].value_counts().values)\n",
    "  \n",
    "# fig = plt.figure(figsize = (10, 5))\n",
    " \n",
    "# creating the bar plot\n",
    "\n",
    "\n",
    "plt.bar(date, values, color ='maroon',\n",
    "        width = 0.6)"
   ]
  },
  {
   "cell_type": "code",
   "execution_count": null,
   "id": "be18e463",
   "metadata": {},
   "outputs": [],
   "source": []
  },
  {
   "cell_type": "markdown",
   "id": "e8686242",
   "metadata": {},
   "source": [
    "# 1. ปัจจัยที่สำคัญที่สุดปัจจัยใด ที่จะทำให้ท่านสนใจทดลองรับประทานอาหารที่ร้าน MK Live (เลือกได้ไม่เกิน 3 คำตอบ)"
   ]
  },
  {
   "cell_type": "code",
   "execution_count": 24,
   "id": "028eb8da",
   "metadata": {},
   "outputs": [],
   "source": [
    "def text_process(text,check_non_ch):\n",
    "    for ch in check_non_ch:\n",
    "        if ch in text :\n",
    "            text = text.replace(ch,\" \")\n",
    "    return text"
   ]
  },
  {
   "cell_type": "code",
   "execution_count": 26,
   "id": "3cb601fd",
   "metadata": {},
   "outputs": [
    {
     "name": "stdout",
     "output_type": "stream",
     "text": [
      "{'คุณภาพและความสดใหม่ของอาหาร': 51, 'เมนูอาหาร': 51, 'ราคาอาหาร': 43, 'ที่ตั้งของสาขา': 21, 'ภาพลักษณ์ของแบรนด์': 17, 'โปรโมชั่น': 13, 'บรรยากาศการตกแต่งร้าน': 11, 'การประชาสัมพันธ์ และโฆษณา': 10, 'พนักงาน และระดับการบริการ': 10, 'จำนวนสาขา': 2, 'อยากลอง': 2, 'อยากรู้ว่าต่างจาก MK ปกติยังไง': 1, 'สงสัยว่าคืออะไร': 1, 'ความแปลกใหม่ และต้องการทดลองสิ่งใหม่': 1}\n"
     ]
    },
    {
     "data": {
      "text/plain": [
       "<BarContainer object of 14 artists>"
      ]
     },
     "execution_count": 26,
     "metadata": {},
     "output_type": "execute_result"
    },
    {
     "data": {
      "image/png": "[encoded data removed]",
      "text/plain": [
       "<Figure size 432x288 with 1 Axes>"
      ]
     },
     "metadata": {
      "needs_background": "light"
     },
     "output_type": "display_data"
    }
   ],
   "source": [
    "text_list = list(col_name[74].value_counts().index)\n",
    "check_non_ch = [index for text in text_list for index in text if not re.match(r\"[\\u0E00-\\u0E7Fa-zA-Z' ]\", index)]\n",
    "check_non_ch = list(set(check_non_ch))\n",
    "split_ch = [text_process(text,check_non_ch).split('  ') for text in text_list]\n",
    "sum_ch = []\n",
    "for i in split_ch:\n",
    "    sum_ch.extend(i)\n",
    "sum_ch = list(set(sum_ch))\n",
    "banch = {}\n",
    "for i in sum_ch:\n",
    "    sum_b = 0\n",
    "    for k,v in col_name[74].value_counts().items():\n",
    "        split_ch = text_process(k,check_non_ch).split(\"  \")\n",
    "        if i in split_ch:\n",
    "            sum_b += v\n",
    "    banch[i] = sum_b\n",
    "banch = {k: v  for k, v in sorted(banch.items(), key=lambda item: item[1],reverse=True)}\n",
    "print(banch)\n",
    "\n",
    "date = list(banch.keys())\n",
    "values = list(banch.values())\n",
    "  \n",
    "# fig = plt.figure(figsize = (10, 5))\n",
    " \n",
    "# creating the bar plot\n",
    "\n",
    "\n",
    "plt.bar(date, values, color ='maroon',\n",
    "        width = 0.6)"
   ]
  },
  {
   "cell_type": "markdown",
   "id": "9d5a944b",
   "metadata": {},
   "source": [
    "# ท่านคิดว่า MK Live ต่างจาก MK อย่างไร สูงที่สุด 3 ลำดับแรก [อันดับ 1]"
   ]
  },
  {
   "cell_type": "code",
   "execution_count": 28,
   "id": "24bfb119",
   "metadata": {},
   "outputs": [
    {
     "name": "stdout",
     "output_type": "stream",
     "text": [
      "ราคา                                  36\n",
      "MK Live เหมาะกับคนรักสุขภาพมากกว่า    24\n",
      "เมนูอาหารแตกต่างกัน                   19\n",
      "บรรยากาศการตกแต่งร้าน                  6\n",
      "ไม่แตกต่าง                             4\n",
      "คุณภาพและความสดใหม่ของอาหาร            4\n",
      "อื่นๆ                                  1\n",
      "Name: 5.1 ท่านคิดว่า MK Live ต่างจาก MK อย่างไร สูงที่สุด 3 ลำดับแรก [อันดับ 1], dtype: int64\n"
     ]
    },
    {
     "data": {
      "text/plain": [
       "<BarContainer object of 7 artists>"
      ]
     },
     "execution_count": 28,
     "metadata": {},
     "output_type": "execute_result"
    },
    {
     "data": {
      "image/png": "[encoded data removed]",
      "text/plain": [
       "<Figure size 432x288 with 1 Axes>"
      ]
     },
     "metadata": {
      "needs_background": "light"
     },
     "output_type": "display_data"
    }
   ],
   "source": [
    "print(col_name[69].value_counts())\n",
    "date = list(col_name[69].value_counts().index)\n",
    "values = list(col_name[69].value_counts().values)\n",
    "  \n",
    "# fig = plt.figure(figsize = (10, 5))\n",
    " \n",
    "# creating the bar plot\n",
    "\n",
    "\n",
    "plt.bar(date, values, color ='maroon',\n",
    "        width = 0.6)"
   ]
  },
  {
   "cell_type": "markdown",
   "id": "701c9260",
   "metadata": {},
   "source": [
    "# ท่านชอบ MK Live เพราะสาเหตุใด สูงที่สุด 3 ลำดับแรก [อันดับ 1]"
   ]
  },
  {
   "cell_type": "code",
   "execution_count": 29,
   "id": "7693d511",
   "metadata": {},
   "outputs": [
    {
     "name": "stdout",
     "output_type": "stream",
     "text": [
      "เป็นอาหารเพื่อสุขภาพ           45\n",
      "เมนูแปลกใหม่                   16\n",
      "การตกแต่งและบรรยากาศของร้าน    12\n",
      "ไม่ต้องรอคิวนาน                 9\n",
      "มีการบริการที่ดี                6\n",
      "เดินทางสะดวกใกล้บ้าน            4\n",
      "อื่นๆ                           2\n",
      "Name: 4.1 ท่านชอบ MK Live เพราะสาเหตุใด สูงที่สุด 3 ลำดับแรก [อันดับ 1], dtype: int64\n"
     ]
    },
    {
     "data": {
      "text/plain": [
       "<BarContainer object of 7 artists>"
      ]
     },
     "execution_count": 29,
     "metadata": {},
     "output_type": "execute_result"
    },
    {
     "name": "stderr",
     "output_type": "stream",
     "text": [
      "/home/sun/anaconda3/envs/covid-19/lib/python3.8/site-packages/matplotlib/backends/backend_agg.py:240: RuntimeWarning: Glyph 3655 missing from current font.\n",
      "  font.set_text(s, 0.0, flags=flags)\n",
      "/home/sun/anaconda3/envs/covid-19/lib/python3.8/site-packages/matplotlib/backends/backend_agg.py:203: RuntimeWarning: Glyph 3655 missing from current font.\n",
      "  font.set_text(s, 0, flags=flags)\n"
     ]
    },
    {
     "data": {
      "image/png": "[encoded data removed]",
      "text/plain": [
       "<Figure size 432x288 with 1 Axes>"
      ]
     },
     "metadata": {
      "needs_background": "light"
     },
     "output_type": "display_data"
    }
   ],
   "source": [
    "print(col_name[65].value_counts())\n",
    "date = list(col_name[65].value_counts().index)\n",
    "values = list(col_name[65].value_counts().values)\n",
    "  \n",
    "# fig = plt.figure(figsize = (10, 5))\n",
    " \n",
    "# creating the bar plot\n",
    "\n",
    "\n",
    "plt.bar(date, values, color ='maroon',\n",
    "        width = 0.6)"
   ]
  },
  {
   "cell_type": "markdown",
   "id": "35113697",
   "metadata": {},
   "source": [
    "# 3. ท่านรับประทาน MK Live บ่อยเพียงใด"
   ]
  },
  {
   "cell_type": "code",
   "execution_count": 31,
   "id": "962f3c08",
   "metadata": {},
   "outputs": [
    {
     "name": "stdout",
     "output_type": "stream",
     "text": [
      "น้อยกว่า 1 ครั้งต่อเดือน    83\n",
      "1 ครั้งต่อเดือน              9\n",
      "2 ครั้งต่อเดือน              2\n",
      "Name: 3. ท่านรับประทาน MK Live บ่อยเพียงใด\\n, dtype: int64\n"
     ]
    },
    {
     "data": {
      "text/plain": [
       "<BarContainer object of 3 artists>"
      ]
     },
     "execution_count": 31,
     "metadata": {},
     "output_type": "execute_result"
    },
    {
     "data": {
      "image/png": "[encoded data removed]",
      "text/plain": [
       "<Figure size 432x288 with 1 Axes>"
      ]
     },
     "metadata": {
      "needs_background": "light"
     },
     "output_type": "display_data"
    }
   ],
   "source": [
    "print(col_name[63].value_counts())\n",
    "date = list(col_name[63].value_counts().index)\n",
    "values = list(col_name[63].value_counts().values)\n",
    "  \n",
    "# fig = plt.figure(figsize = (10, 5))\n",
    " \n",
    "# creating the bar plot\n",
    "\n",
    "\n",
    "plt.bar(date, values, color ='maroon',\n",
    "        width = 0.6)"
   ]
  },
  {
   "cell_type": "markdown",
   "id": "0c14f7bc",
   "metadata": {},
   "source": [
    "# ท่านเคยรับประทาน MK Live ที่สาขาใดบ้าง (ตอบได้มากกว่า 1 คำตอบ)"
   ]
  },
  {
   "cell_type": "code",
   "execution_count": 32,
   "id": "7b2d0bf9",
   "metadata": {},
   "outputs": [],
   "source": [
    "def text_process(text,check_non_ch):\n",
    "    for ch in check_non_ch:\n",
    "        if ch in text :\n",
    "            text = text.replace(ch,\" \")\n",
    "    return text"
   ]
  },
  {
   "cell_type": "code",
   "execution_count": 33,
   "id": "8b9f05b9",
   "metadata": {},
   "outputs": [
    {
     "name": "stdout",
     "output_type": "stream",
     "text": [
      "{'Emquatier': 45, 'Central World': 40, 'Mega Bangna': 20, 'Icon Siam': 14, 'Central Phuket': 2}\n"
     ]
    },
    {
     "data": {
      "text/plain": [
       "<BarContainer object of 5 artists>"
      ]
     },
     "execution_count": 33,
     "metadata": {},
     "output_type": "execute_result"
    },
    {
     "data": {
      "image/png": "[encoded data removed]",
      "text/plain": [
       "<Figure size 432x288 with 1 Axes>"
      ]
     },
     "metadata": {
      "needs_background": "light"
     },
     "output_type": "display_data"
    }
   ],
   "source": [
    "text_list = list(col_name[61].value_counts().index)\n",
    "check_non_ch = [index for text in text_list for index in text if not re.match(r\"[\\u0E00-\\u0E7Fa-zA-Z' ]\", index)]\n",
    "check_non_ch = list(set(check_non_ch))\n",
    "split_ch = [text_process(text,check_non_ch).split('  ') for text in text_list]\n",
    "sum_ch = []\n",
    "for i in split_ch:\n",
    "    sum_ch.extend(i)\n",
    "sum_ch = list(set(sum_ch))\n",
    "banch = {}\n",
    "for i in sum_ch:\n",
    "    sum_b = 0\n",
    "    for k,v in col_name[61].value_counts().items():\n",
    "        split_ch = text_process(k,check_non_ch).split(\"  \")\n",
    "        if i in split_ch:\n",
    "            sum_b += v\n",
    "    banch[i] = sum_b\n",
    "            \n",
    "banch = {k: v  for k, v in sorted(banch.items(), key=lambda item: item[1],reverse=True)}\n",
    "print(banch)\n",
    "\n",
    "date = list(banch.keys())\n",
    "values = list(banch.values())\n",
    "  \n",
    "# fig = plt.figure(figsize = (10, 5))\n",
    " \n",
    "# creating the bar plot\n",
    "\n",
    "\n",
    "plt.bar(date, values, color ='maroon',\n",
    "        width = 0.6)"
   ]
  },
  {
   "cell_type": "code",
   "execution_count": null,
   "id": "4199bed3",
   "metadata": {},
   "outputs": [],
   "source": []
  },
  {
   "cell_type": "markdown",
   "id": "069693e8",
   "metadata": {},
   "source": [
    "# อาหารอื่นๆที่ทานควบคู่กับการรับประทานสุกี้ประเภทใด ที่ท่านชื่นชอบมากที่สุด"
   ]
  },
  {
   "cell_type": "code",
   "execution_count": 35,
   "id": "809e8b61",
   "metadata": {},
   "outputs": [
    {
     "name": "stdout",
     "output_type": "stream",
     "text": [
      "อาหารจานเดียว เช่น เป็ดย่าง หมูกรอบ    145\n",
      "ติ่มซำ                                  28\n",
      "อาหารประเภททอด                          16\n",
      "อาหารประเภทยำ                            4\n",
      "ผัก เช่นคะน้าน้ำมันหอย                   1\n",
      "ข้าวผัดกระเทียม หรือ หมี่หยก             1\n",
      "แมงกระพรุนน้ำมันงา                       1\n",
      "ปกติทานแต่สุกี้                          1\n",
      "Name: 9. อาหารอื่นๆที่ทานควบคู่กับการรับประทานสุกี้ประเภทใด ที่ท่านชื่นชอบมากที่สุด, dtype: int64\n"
     ]
    },
    {
     "data": {
      "text/plain": [
       "<BarContainer object of 8 artists>"
      ]
     },
     "execution_count": 35,
     "metadata": {},
     "output_type": "execute_result"
    },
    {
     "data": {
      "image/png": "[encoded data removed]",
      "text/plain": [
       "<Figure size 432x288 with 1 Axes>"
      ]
     },
     "metadata": {
      "needs_background": "light"
     },
     "output_type": "display_data"
    }
   ],
   "source": [
    "print(col_name[58].value_counts())\n",
    "date = list(col_name[58].value_counts().index)\n",
    "values = list(col_name[58].value_counts().values)\n",
    "  \n",
    "# fig = plt.figure(figsize = (10, 5))\n",
    " \n",
    "# creating the bar plot\n",
    "\n",
    "\n",
    "plt.bar(date, values, color ='maroon',\n",
    "        width = 0.6)"
   ]
  },
  {
   "cell_type": "markdown",
   "id": "ae80b429",
   "metadata": {},
   "source": [
    "# วัตถุดิบประเภทใด ที่ท่านชื่นชอบมากที่สุดเมื่อรับประทานสุกี้"
   ]
  },
  {
   "cell_type": "code",
   "execution_count": 36,
   "id": "c5d56506",
   "metadata": {},
   "outputs": [
    {
     "name": "stdout",
     "output_type": "stream",
     "text": [
      "เนื้อสัตว์            92\n",
      "น้ำจิ้ม               54\n",
      "ผักสด                 17\n",
      "บะหมี่                14\n",
      "น้ำซุป                12\n",
      "ลูกชิ้น                6\n",
      "ลูกชิ้นปลาแซลมอน       1\n",
      "ชอบหมดทุกข้อเลยค่ะ     1\n",
      "Name: 8. วัตถุดิบประเภทใด ที่ท่านชื่นชอบมากที่สุดเมื่อรับประทานสุกี้, dtype: int64\n"
     ]
    },
    {
     "data": {
      "text/plain": [
       "<BarContainer object of 6 artists>"
      ]
     },
     "execution_count": 36,
     "metadata": {},
     "output_type": "execute_result"
    },
    {
     "data": {
      "image/png": "[encoded data removed]",
      "text/plain": [
       "<Figure size 432x288 with 1 Axes>"
      ]
     },
     "metadata": {
      "needs_background": "light"
     },
     "output_type": "display_data"
    }
   ],
   "source": [
    "print(col_name[57].value_counts())\n",
    "date = list(col_name[56].value_counts().index)\n",
    "values = list(col_name[56].value_counts().values)\n",
    "  \n",
    "# fig = plt.figure(figsize = (10, 5))\n",
    " \n",
    "# creating the bar plot\n",
    "\n",
    "\n",
    "plt.bar(date, values, color ='maroon',\n",
    "        width = 0.6)"
   ]
  },
  {
   "cell_type": "markdown",
   "id": "1e68a8e4",
   "metadata": {},
   "source": [
    "# ราคาต่อหัว เมื่อท่านรับประทานสุกี้เป็นราคาประมาณเท่าใด"
   ]
  },
  {
   "cell_type": "code",
   "execution_count": 37,
   "id": "b76c96ca",
   "metadata": {},
   "outputs": [
    {
     "name": "stdout",
     "output_type": "stream",
     "text": [
      "301-500 บาทต่อคน          110\n",
      "501-700 บาทต่อคน           37\n",
      "101-300 บาทต่อคน           34\n",
      "700-1,000 บาทต่อคน         13\n",
      "มากกว่า 1,000 บาทต่อคน      2\n",
      "น้อยกว่า 100 บาทต่อคน       1\n",
      "Name: 7. ราคาต่อหัว เมื่อท่านรับประทานสุกี้เป็นราคาประมาณเท่าใด, dtype: int64\n"
     ]
    },
    {
     "data": {
      "text/plain": [
       "<BarContainer object of 6 artists>"
      ]
     },
     "execution_count": 37,
     "metadata": {},
     "output_type": "execute_result"
    },
    {
     "data": {
      "image/png": "[encoded data removed]",
      "text/plain": [
       "<Figure size 432x288 with 1 Axes>"
      ]
     },
     "metadata": {
      "needs_background": "light"
     },
     "output_type": "display_data"
    }
   ],
   "source": [
    "print(col_name[56].value_counts())\n",
    "date = list(col_name[56].value_counts().index)\n",
    "values = list(col_name[56].value_counts().values)\n",
    "  \n",
    "# fig = plt.figure(figsize = (10, 5))\n",
    " \n",
    "# creating the bar plot\n",
    "\n",
    "\n",
    "plt.bar(date, values, color ='maroon',\n",
    "        width = 0.6)"
   ]
  },
  {
   "cell_type": "markdown",
   "id": "95e66759",
   "metadata": {},
   "source": [
    "# 4. จากร้านที่ท่านเลือก ในข้อก่อนหน้า โดยภาพรวมท่านมีพึงพอใจในการเข้าใช้บริการและรับประทานหรือไม่ โปรดระบุระดับคะแนนความพึงพอใจของท่านจาก 1- 10 (1 พอใจน้อยที่สุด 10 พอใจมากที่สุด)"
   ]
  },
  {
   "cell_type": "code",
   "execution_count": 38,
   "id": "c3b0b135",
   "metadata": {},
   "outputs": [],
   "source": [
    "### score MK"
   ]
  },
  {
   "cell_type": "code",
   "execution_count": 39,
   "id": "4188366c",
   "metadata": {},
   "outputs": [
    {
     "data": {
      "text/plain": [
       "8.321917808219178"
      ]
     },
     "execution_count": 39,
     "metadata": {},
     "output_type": "execute_result"
    }
   ],
   "source": [
    "df = pd.DataFrame()\n",
    "df['rest'] = col_name[52]\n",
    "df['score'] = col_name[53]\n",
    "score = df[df['rest'] == \"MK\"]\n",
    "score['score'].mean()"
   ]
  },
  {
   "cell_type": "markdown",
   "id": "ec90ae2e",
   "metadata": {},
   "source": [
    "# ท่านมักรับประทานสุกี้ในช่วงเวลาใด"
   ]
  },
  {
   "cell_type": "code",
   "execution_count": 50,
   "id": "b48338a2",
   "metadata": {},
   "outputs": [
    {
     "name": "stdout",
     "output_type": "stream",
     "text": [
      "{'11.00 - 14.00 น.': 35, '14.01 - 17.00 น.': 18, '17.01-21.00 น.': 142}\n"
     ]
    },
    {
     "data": {
      "text/plain": [
       "<BarContainer object of 3 artists>"
      ]
     },
     "execution_count": 50,
     "metadata": {},
     "output_type": "execute_result"
    },
    {
     "data": {
      "image/png": "[encoded data removed]",
      "text/plain": [
       "<Figure size 432x288 with 1 Axes>"
      ]
     },
     "metadata": {
      "needs_background": "light"
     },
     "output_type": "display_data"
    }
   ],
   "source": [
    "banch = {k: v  for k, v in col_name[51].value_counts().items() if v>1}\n",
    "banch = {k: v  for k, v in sorted(banch.items(), key=lambda item: item[0][:2])}\n",
    "print(banch)\n",
    "date = list(banch.keys())\n",
    "values = list(banch.values())\n",
    "  \n",
    "# fig = plt.figure(figsize = (10, 5))\n",
    " \n",
    "# creating the bar plot\n",
    "\n",
    "\n",
    "plt.bar(date, values, color ='maroon',\n",
    "        width = 0.6)\n"
   ]
  },
  {
   "cell_type": "code",
   "execution_count": null,
   "id": "874e9e94",
   "metadata": {},
   "outputs": [],
   "source": []
  },
  {
   "cell_type": "markdown",
   "id": "70c24642",
   "metadata": {},
   "source": [
    "# ท่านมักรับประทานอาหารนอกบ้านกับใคร"
   ]
  },
  {
   "cell_type": "code",
   "execution_count": 54,
   "id": "618d5a55",
   "metadata": {},
   "outputs": [
    {
     "name": "stdout",
     "output_type": "stream",
     "text": [
      "ครอบครัว     68\n",
      "เพื่อน       65\n",
      "แฟน          52\n",
      "คนเดียว      10\n",
      "คนใกล้ชิด     4\n",
      "Name: 8. ท่านมักรับประทานอาหารนอกบ้านกับใคร, dtype: int64\n"
     ]
    },
    {
     "data": {
      "text/plain": [
       "<BarContainer object of 5 artists>"
      ]
     },
     "execution_count": 54,
     "metadata": {},
     "output_type": "execute_result"
    },
    {
     "data": {
      "image/png": "[encoded data removed]",
      "text/plain": [
       "<Figure size 432x288 with 1 Axes>"
      ]
     },
     "metadata": {
      "needs_background": "light"
     },
     "output_type": "display_data"
    }
   ],
   "source": [
    "with_ = col_name[10].value_counts()\n",
    "print(with_)\n",
    "date = list(with_.index)\n",
    "values = list(with_.values)\n",
    "  \n",
    "# fig = plt.figure(figsize = (10, 5))\n",
    " \n",
    "# creating the bar plot\n",
    "\n",
    "\n",
    "plt.bar(date, values, color ='maroon',\n",
    "        width = 0.6)"
   ]
  },
  {
   "cell_type": "code",
   "execution_count": null,
   "id": "514df17a",
   "metadata": {},
   "outputs": [],
   "source": []
  },
  {
   "cell_type": "markdown",
   "id": "219d8632",
   "metadata": {},
   "source": [
    "# เมื่อท่านรับประทานอาหารนอกบ้าน ท่านมักรับประทานกันทั้งหมดกี่คน (รวมตัวท่าน"
   ]
  },
  {
   "cell_type": "code",
   "execution_count": 52,
   "id": "f3bd98f3",
   "metadata": {},
   "outputs": [
    {
     "name": "stdout",
     "output_type": "stream",
     "text": [
      "2-3 คน                124\n",
      "4-5 คน                 57\n",
      "มากกว่า 5 คนขึ้นไป      9\n",
      "1 คน                    9\n",
      "Name: 9. เมื่อท่านรับประทานอาหารนอกบ้าน ท่านมักรับประทานกันทั้งหมดกี่คน (รวมตัวท่าน), dtype: int64\n"
     ]
    },
    {
     "data": {
      "text/plain": [
       "<BarContainer object of 4 artists>"
      ]
     },
     "execution_count": 52,
     "metadata": {},
     "output_type": "execute_result"
    },
    {
     "data": {
      "image/png": "[encoded data removed]",
      "text/plain": [
       "<Figure size 432x288 with 1 Axes>"
      ]
     },
     "metadata": {
      "needs_background": "light"
     },
     "output_type": "display_data"
    }
   ],
   "source": [
    "many_with = col_name[11].value_counts()\n",
    "print(many_with)\n",
    "date = list(many_with.index)\n",
    "values = list(many_with.values)\n",
    "  \n",
    "# fig = plt.figure(figsize = (10, 5))\n",
    " \n",
    "# creating the bar plot\n",
    "\n",
    "\n",
    "plt.bar(date, values, color ='maroon',\n",
    "        width = 0.6)"
   ]
  },
  {
   "cell_type": "code",
   "execution_count": null,
   "id": "f2e33d5b",
   "metadata": {},
   "outputs": [],
   "source": []
  }
 ],
 "metadata": {
  "kernelspec": {
   "display_name": "Python 3 (ipykernel)",
   "language": "python",
   "name": "python3"
  },
  "language_info": {
   "codemirror_mode": {
    "name": "ipython",
    "version": 3
   },
   "file_extension": ".py",
   "mimetype": "text/x-python",
   "name": "python",
   "nbconvert_exporter": "python",
   "pygments_lexer": "ipython3",
   "version": "3.8.10"
  }
 },
 "nbformat": 4,
 "nbformat_minor": 5
}
