{
 "cells": [
  {
   "cell_type": "code",
   "execution_count": 1,
   "id": "d983bed8",
   "metadata": {},
   "outputs": [],
   "source": [
    "import pandas as pd\n",
    "import matplotlib.pyplot as plt\n",
    "import os\n",
    "from tqdm import tqdm\n",
    "import numpy as np\n",
    "import re"
   ]
  },
  {
   "cell_type": "code",
   "execution_count": 3,
   "id": "d67948f6",
   "metadata": {},
   "outputs": [],
   "source": [
    "from pythainlp.corpus.common import thai_stopwords\n",
    "from pythainlp import word_tokenize\n",
    "thai_stopwords = list(thai_stopwords())\n",
    "\n",
    "\n",
    "# def text_process(text):\n",
    "#     final = \"\".join(u for u in text if u not in (\",\",\"*\",\"?\", \".\", \";\", \":\", \"!\", \"(\",\")\",\"/\",\" \", \"ฯ\",\"-\",\"[\",\"]\",\"ๆ\")) #ๆ\n",
    "#     final = word_tokenize(final)\n",
    "#     final = \" \".join(word for word in final)\n",
    "#     final = \" \".join(word for word in final.split() \n",
    "#                      if word.lower not in thai_stopwords)\n",
    "#     return final"
   ]
  },
  {
   "cell_type": "code",
   "execution_count": 36,
   "id": "5baa6f4c",
   "metadata": {},
   "outputs": [],
   "source": [
    "df = pd.read_excel('dataset/MK Live_clean_Rev1.xlsm',sheet_name = 'MK Live_clean_Rev1',engine='openpyxl')"
   ]
  },
  {
   "cell_type": "code",
   "execution_count": 37,
   "id": "a2fcfa0f",
   "metadata": {},
   "outputs": [
    {
     "name": "stdout",
     "output_type": "stream",
     "text": [
      "<class 'pandas.core.frame.DataFrame'>\n",
      "RangeIndex: 199 entries, 0 to 198\n",
      "Data columns (total 91 columns):\n",
      " #   Column                                                                                                                                                                                                 Non-Null Count  Dtype         \n",
      "---  ------                                                                                                                                                                                                 --------------  -----         \n",
      " 0   ประทับเวลา                                                                                                                                                                                             199 non-null    datetime64[ns]\n",
      " 1   1. ปกติแล้วโดยส่วนใหญ่ ท่านรับประทานอาหาร นอกบ้าน หรือ ในบ้าน                                                                                                                                          199 non-null    object        \n",
      " 2   2. ท่านมักรับประทานอาหารนอกบ้าน คิดเป็นกี่เปอร์เซ็นต์                                                                                                                                                  199 non-null    object        \n",
      " 3   3.ท่านรับประทานอาหารนอกบ้าน บ่อยแค่ไหนใน 1 สัปดาห์                                                                                                                                                     199 non-null    object        \n",
      " 4   4.ท่านรับประทานอาหารนอกบ้านเนื่องในโอกาสใด (รบกวนตอบ 2 คำตอบ)                                                                                                                                          199 non-null    object        \n",
      " 5   5. ท่านมักรับประทานอาหารนอกบ้านในช่วงเวลาใด                                                                                                                                                            199 non-null    object        \n",
      " 6   6.เมื่อท่านรับประทานอาหารนอกบ้านส่วนใหญ่ ท่านเลือกรับประทานอาหารในรูปแบบใด                                                                                                                             199 non-null    object        \n",
      " 7   7.1 ท่านมักจะเลือกรับประทานอาหารนอกบ้านที่ใด (เลือก 2 อันดับแรก)  [อันดับที่ 1]                                                                                                                        199 non-null    object        \n",
      " 8   7.1 ท่านมักจะเลือกรับประทานอาหารนอกบ้านที่ใด (เลือก 2 อันดับแรก)  [อันดับที่ 2]                                                                                                                        199 non-null    object        \n",
      " 9   7.2 หากข้อ 7.1 ตอบอื่นๆ โปรดระบุคำตอบของท่าน                                                                                                                                                           6 non-null      object        \n",
      " 10  8. ท่านมักรับประทานอาหารนอกบ้านกับใคร                                                                                                                                                                  199 non-null    object        \n",
      " 11  9. เมื่อท่านรับประทานอาหารนอกบ้าน ท่านมักรับประทานกันทั้งหมดกี่คน (รวมตัวท่าน)                                                                                                                         199 non-null    object        \n",
      " 12  10.เมื่อท่านรับประทานอาหารนอกบ้าน มีค่าใช้จ่ายต่อคนอยู่ที่ประมาณเท่าใด                                                                                                                                 199 non-null    object        \n",
      " 13  11.เมื่อท่านรับประทานอาหารนอกบ้าน ท่านมักเลือกรับประทานอาหารสัญชาติใด                                                                                                                                  199 non-null    object        \n",
      " 14  12.เมื่อท่านรับประทานอาหารนอกบ้าน  ท่านมักเลือกรับประทานอาหารประเภทใด 3 ลำดับแรก (เช่น สุกี้ ชาบู หมูกะทะ ส้มตำ ยำ เป็นต้น)                                                                            199 non-null    object        \n",
      " 15  13. เมื่อท่านรับประทานอาหารนอกบ้าน  ท่านมักเลือกรับประทานที่ร้านอาหารใด 3 ลำดับแรก เช่น MK , KFC, BBQ Plaza, MoMo Paradise, Pizza Hut เป็นต้น                                                          199 non-null    object        \n",
      " 16  14.จาก 3 ร้านที่ท่านเลือก ในข้อก่อนหน้า โดยภาพรวมท่านมีความพึงพอใจในการเข้าใช้บริการและรับประทานอาหารที่ร้านหรือไม่ โปรดระบุระดับคะแนนความพึงพอใจของท่านจาก 1- 10 (1 พอใจน้อยที่สุด 10 พอใจมากที่สุด)  199 non-null    int64         \n",
      " 17  15.โปรดระบุเหตุผล ของระดับความพึงพอใจที่ท่านตอบในข้อก่อนหน้า                                                                                                                                           199 non-null    object        \n",
      " 18  1.1 ท่านให้ความสำคัญกับปัจจัยใดบ้างในการเลือกร้านอาหาร 3 ปัจจัยแรก [อันดับที่ 1]                                                                                                                       199 non-null    object        \n",
      " 19  1.1 ท่านให้ความสำคัญกับปัจจัยใดบ้างในการเลือกร้านอาหาร 3 ปัจจัยแรก [อันดับที่ 2]                                                                                                                       199 non-null    object        \n",
      " 20  1.1 ท่านให้ความสำคัญกับปัจจัยใดบ้างในการเลือกร้านอาหาร 3 ปัจจัยแรก [อันดับที่ 3]                                                                                                                       199 non-null    object        \n",
      " 21  1.2   หากข้อ 1.1 ตอบอื่นๆ โปรดระบุคำตอบของท่าน                                                                                                                                                         11 non-null     object        \n",
      " 22  2.1 ในด้านความคุ้มค่าต่อราคาที่จ่าย ปัจจัยใดมีอิทธิพลสูงที่สุด 3 ลำดับแรก [อันดับที่ 1]                                                                                                                199 non-null    object        \n",
      " 23  2.1 ในด้านความคุ้มค่าต่อราคาที่จ่าย ปัจจัยใดมีอิทธิพลสูงที่สุด 3 ลำดับแรก [อันดับที่ 2]                                                                                                                199 non-null    object        \n",
      " 24  2.1 ในด้านความคุ้มค่าต่อราคาที่จ่าย ปัจจัยใดมีอิทธิพลสูงที่สุด 3 ลำดับแรก [อันดับที่ 3]                                                                                                                199 non-null    object        \n",
      " 25  2.2   หากข้อ 2.1 ตอบอื่นๆ โปรดระบุคำตอบของท่าน                                                                                                                                                         14 non-null     object        \n",
      " 26  3.1 ในด้านความสะดวกสบายในการเดินทาง ปัจจัยใดมีอิทธิพลสูงที่สุด 3 ลำดับแรก [อันดับที่ 1]                                                                                                                199 non-null    object        \n",
      " 27  3.1 ในด้านความสะดวกสบายในการเดินทาง ปัจจัยใดมีอิทธิพลสูงที่สุด 3 ลำดับแรก [อันดับที่ 2]                                                                                                                199 non-null    object        \n",
      " 28  3.1 ในด้านความสะดวกสบายในการเดินทาง ปัจจัยใดมีอิทธิพลสูงที่สุด 3 ลำดับแรก [อันดับที่ 3]                                                                                                                199 non-null    object        \n",
      " 29  3.2   หากข้อ 3.1 ตอบอื่นๆ โปรดระบุคำตอบของท่าน                                                                                                                                                         4 non-null      object        \n",
      " 30  4.1 ในด้านคุณภาพและรสชาติของอาหาร ปัจจัยใดมีอิทธิพลสูงที่สุด 3 ลำดับแรก [อันดับที่ 1]                                                                                                                  199 non-null    object        \n",
      " 31  4.1 ในด้านคุณภาพและรสชาติของอาหาร ปัจจัยใดมีอิทธิพลสูงที่สุด 3 ลำดับแรก [อันดับที่ 2]                                                                                                                  199 non-null    object        \n",
      " 32  4.1 ในด้านคุณภาพและรสชาติของอาหาร ปัจจัยใดมีอิทธิพลสูงที่สุด 3 ลำดับแรก [อันดับที่ 3]                                                                                                                  199 non-null    object        \n",
      " 33  4.2   หากข้อ 4.1 ตอบอื่นๆ โปรดระบุคำตอบของท่าน                                                                                                                                                         8 non-null      object        \n",
      " 34  5.1 โปรโมชั่น เเละการส่งเสริมการตลาด ปัจจัยใดมีอิทธิพลสูงที่สุด 3 ลำดับแรก [อันดับที่ 1]                                                                                                               199 non-null    object        \n",
      " 35  5.1 โปรโมชั่น เเละการส่งเสริมการตลาด ปัจจัยใดมีอิทธิพลสูงที่สุด 3 ลำดับแรก [อันดับที่ 2]                                                                                                               199 non-null    object        \n",
      " 36  5.1 โปรโมชั่น เเละการส่งเสริมการตลาด ปัจจัยใดมีอิทธิพลสูงที่สุด 3 ลำดับแรก [อันดับที่ 3]                                                                                                               199 non-null    object        \n",
      " 37  5.2   หากข้อ 5.1 ตอบอื่นๆ โปรดระบุคำตอบของท่าน                                                                                                                                                         3 non-null      object        \n",
      " 38  6.1 บรรยากาศร้าน ปัจจัยใดมีอิทธิพลสูงที่สุด 3 ลำดับแรก [อันดับที่ 1]                                                                                                                                   199 non-null    object        \n",
      " 39  6.1 บรรยากาศร้าน ปัจจัยใดมีอิทธิพลสูงที่สุด 3 ลำดับแรก [อันดับที่ 2]                                                                                                                                   199 non-null    object        \n",
      " 40  6.1 บรรยากาศร้าน ปัจจัยใดมีอิทธิพลสูงที่สุด 3 ลำดับแรก [อันดับที่ 3]                                                                                                                                   199 non-null    object        \n",
      " 41  6.2   หากข้อ 6.1 ตอบอื่นๆ โปรดระบุคำตอบของท่าน                                                                                                                                                         9 non-null      object        \n",
      " 42  7.1 การบริการ และคุณภาพการบริการ ปัจจัยใดมีอิทธิพลสูงที่สุด 3 ลำดับแรก [อันดับ 1]                                                                                                                      199 non-null    object        \n",
      " 43  7.1 การบริการ และคุณภาพการบริการ ปัจจัยใดมีอิทธิพลสูงที่สุด 3 ลำดับแรก [อันดับ 2]                                                                                                                      199 non-null    object        \n",
      " 44  7.1 การบริการ และคุณภาพการบริการ ปัจจัยใดมีอิทธิพลสูงที่สุด 3 ลำดับแรก [อันดับ 3]                                                                                                                      199 non-null    object        \n",
      " 45  7.2   หากข้อ 7.1 ตอบอื่นๆ โปรดระบุคำตอบของท่าน                                                                                                                                                         2 non-null      object        \n",
      " 46  8. การบอกต่อจากบุคคลอ้างอิงที่มีอิทธิพลสูงที่สุด 3 ลำดับแรก [อันดับ 1]                                                                                                                                 199 non-null    object        \n",
      " 47  8. การบอกต่อจากบุคคลอ้างอิงที่มีอิทธิพลสูงที่สุด 3 ลำดับแรก [อันดับ 2]                                                                                                                                 199 non-null    object        \n",
      " 48  8. การบอกต่อจากบุคคลอ้างอิงที่มีอิทธิพลสูงที่สุด 3 ลำดับแรก [อันดับ 3]                                                                                                                                 199 non-null    object        \n",
      " 49  1. ท่านเคยรับประทานอาหารประเภทสุกี้หรือไม่                                                                                                                                                             199 non-null    object        \n",
      " 50  1. หากท่านรับประทานสุกี้ ท่านรับประทานสุกี้บ่อยเพียงใด                                                                                                                                                 197 non-null    object        \n",
      " 51  2. ท่านมักรับประทานสุกี้ในช่วงเวลาใด                                                                                                                                                                   197 non-null    object        \n",
      " 52  3. ท่านเลือกรับประทานสุกี้แบรนด์ใดบ่อยที่สุด                                                                                                                                                           197 non-null    object        \n",
      " 53  4. จากร้านที่ท่านเลือก ในข้อก่อนหน้า โดยภาพรวมท่านมีพึงพอใจในการเข้าใช้บริการและรับประทานหรือไม่ โปรดระบุระดับคะแนนความพึงพอใจของท่านจาก 1- 10 (1 พอใจน้อยที่สุด 10 พอใจมากที่สุด)                     197 non-null    float64       \n",
      " 54  5. ท่านเลือกรับประทานสุกี้แบรนด์ดังกล่าวในข้อก่อนหน้า เพราะเหตุใด                                                                                                                                      197 non-null    object        \n",
      " 55  6. หากไม่รับประทานสุกี้ ท่านจะเลือกรับประทานอาหารประเภทใด (เช่น หมูกระทะ ชาบู อาหารตามสั่ง ก๋วยเตี๋ยว ส้มตำ ซูชิ เป็นต้น) โปรดระบุ                                                                     197 non-null    object        \n",
      " 56  7. ราคาต่อหัว เมื่อท่านรับประทานสุกี้เป็นราคาประมาณเท่าใด                                                                                                                                              197 non-null    object        \n",
      " 57  8. วัตถุดิบประเภทใด ที่ท่านชื่นชอบมากที่สุดเมื่อรับประทานสุกี้                                                                                                                                         197 non-null    object        \n",
      " 58  9. อาหารอื่นๆที่ทานควบคู่กับการรับประทานสุกี้ประเภทใด ที่ท่านชื่นชอบมากที่สุด                                                                                                                          197 non-null    object        \n",
      " 59  1. ท่านรู้จัก MK Live หรือไม่                                                                                                                                                                          197 non-null    object        \n",
      " 60  2. ท่านเคยรับประทาน MK Live หรือไม่                                                                                                                                                                    197 non-null    object        \n",
      " 61  1. ท่านเคยรับประทาน MK Live ที่สาขาใดบ้าง (ตอบได้มากกว่า 1 คำตอบ)                                                                                                                                      94 non-null     object        \n",
      " 62  2. ในข้อก่อนหน้า โดยภาพรวมท่านมีพึงพอใจในการเข้าใช้บริการและรับประทานหรือไม่ โปรดระบุระดับคะแนนความพึงพอใจของท่านจาก 1- 10 (1 พอใจน้อยที่สุด 10 พอใจมากที่สุด)                                         94 non-null     float64       \n",
      " 63  3. ท่านรับประทาน MK Live บ่อยเพียงใด\n",
      "                                                                                                                                                                  94 non-null     object        \n",
      " 64  3. ท่านรับประทาน MK Live บ่อยเพียงใด(score)                                                                                                                                                            94 non-null     float64       \n",
      " 65  4.1 ท่านชอบ MK Live เพราะสาเหตุใด สูงที่สุด 3 ลำดับแรก [อันดับ 1]                                                                                                                                      94 non-null     object        \n",
      " 66  4.1 ท่านชอบ MK Live เพราะสาเหตุใด สูงที่สุด 3 ลำดับแรก [อันดับ 2]                                                                                                                                      94 non-null     object        \n",
      " 67  4.1 ท่านชอบ MK Live เพราะสาเหตุใด สูงที่สุด 3 ลำดับแรก [อันดับ 3]                                                                                                                                      94 non-null     object        \n",
      " 68  4.2 หากข้อ 4.1ตอบอื่นๆ โปรดระบุคำตอบของท่าน                                                                                                                                                            4 non-null      object        \n",
      " 69  5.1 ท่านคิดว่า MK Live ต่างจาก MK อย่างไร สูงที่สุด 3 ลำดับแรก [อันดับ 1]                                                                                                                              94 non-null     object        \n",
      " 70  5.1 ท่านคิดว่า MK Live ต่างจาก MK อย่างไร สูงที่สุด 3 ลำดับแรก [อันดับ 2]                                                                                                                              94 non-null     object        \n",
      " 71  5.1 ท่านคิดว่า MK Live ต่างจาก MK อย่างไร สูงที่สุด 3 ลำดับแรก [อันดับ 3]                                                                                                                              94 non-null     object        \n",
      " 72  5.2 หากข้อ 5.1ตอบอื่นๆ โปรดระบุคำตอบของท่าน                                                                                                                                                            3 non-null      object        \n",
      " 73  1. หากท่านไม่เคยรับประทาน MK Live ท่านสนใจจะลองรับประทานอาหารที่ MK Live หรือไม่                                                                                                                       103 non-null    object        \n",
      " 74  1. ปัจจัยที่สำคัญที่สุดปัจจัยใด ที่จะทำให้ท่านสนใจทดลองรับประทานอาหารที่ร้าน MK Live (เลือกได้ไม่เกิน 3 คำตอบ)\n",
      "                                                                                        84 non-null     object        \n",
      " 75  1. ท่านไม่สนใจที่จะรับประทานอาหารที่ MK Live เพราะสาเหตุใด (เลือกได้ไม่เกิน 3 คำตอบ)                                                                                                                   19 non-null     object        \n",
      " 76  1. หากไม่รับประทาน MK Live ท่านจะเลือกร้านสุกี้ แบรนด์ไหน                                                                                                                                              197 non-null    object        \n",
      " 77  2. หากไม่รับประทาน MK Live ท่านจะเลือกร้านอาหารประเภทอื่นๆ แบรนด์ไหน                                                                                                                                   197 non-null    object        \n",
      " 78  1. เพศ                                                                                                                                                                                                 197 non-null    object        \n",
      " 79  2. อายุ                                                                                                                                                                                                197 non-null    object        \n",
      " 80  3. ระดับการศึกษา                                                                                                                                                                                       197 non-null    object        \n",
      " 81  4. อาชีพ                                                                                                                                                                                               197 non-null    object        \n",
      " 82  5. รายได้ต่อเดือน                                                                                                                                                                                      197 non-null    object        \n",
      " 83  6. สถานภาพ                                                                                                                                                                                             197 non-null    object        \n",
      " 84  7. ในปัจจุบันสมาชิกที่อาศัยอยู่กับท่านมีกี่คน (รวมตัวท่านด้วย)                                                                                                                                         197 non-null    object        \n",
      " 85  รบกวนกรอก \"ชื่อ นามสกุล และที่อยู่\" ของท่าน เพื่อร่วมลุ้นรับบัตรเงินสดรับประทาน MK มูลค่า 100 บาท จำนวน 5 รางวัล  (หากไม่ต้องการให้ข้อมูลส่วนตัวและร่วมลุ้นรางวัลไม่จำเป็นต้องตอบในส่วนนี้)            90 non-null     object        \n",
      " 86  เบอร์ติดต่อหรือLine ID  (สำหรับติดต่อรับของรางวัล)                                                                                                                                                     103 non-null    object        \n",
      " 87  6.1 ท่านคิดว่า MK Live ควรปรับปรุงหรือพัฒนาในด้านใดมากที่สุด\n",
      " [อันดับ 1]                                                                                                                               92 non-null     object        \n",
      " 88  6.1 ท่านคิดว่า MK Live ควรปรับปรุงหรือพัฒนาในด้านใดมากที่สุด\n",
      " [อันดับ 2]                                                                                                                               92 non-null     object        \n",
      " 89  6.1 ท่านคิดว่า MK Live ควรปรับปรุงหรือพัฒนาในด้านใดมากที่สุด\n",
      " [อันดับ 3]                                                                                                                               92 non-null     object        \n",
      " 90  6.2 หากข้อ 6.1ตอบอื่นๆ โปรดระบุคำตอบของท่าน                                                                                                                                                            2 non-null      object        \n",
      "dtypes: datetime64[ns](1), float64(3), int64(1), object(86)\n",
      "memory usage: 141.6+ KB\n"
     ]
    }
   ],
   "source": [
    "df.info()"
   ]
  },
  {
   "cell_type": "code",
   "execution_count": 38,
   "id": "4712467a",
   "metadata": {
    "scrolled": true
   },
   "outputs": [
    {
     "data": {
      "text/plain": [
       "pandas.core.series.Series"
      ]
     },
     "execution_count": 38,
     "metadata": {},
     "output_type": "execute_result"
    }
   ],
   "source": [
    "type(df['1. ปกติแล้วโดยส่วนใหญ่ ท่านรับประทานอาหาร นอกบ้าน หรือ ในบ้าน '])"
   ]
  },
  {
   "cell_type": "code",
   "execution_count": 39,
   "id": "b70b241f",
   "metadata": {},
   "outputs": [],
   "source": [
    "col = list(df.columns)\n",
    "col_name = [df[i] for i in col]"
   ]
  },
  {
   "cell_type": "code",
   "execution_count": 40,
   "id": "1ad382ff",
   "metadata": {},
   "outputs": [
    {
     "data": {
      "text/plain": [
       "0     2022-10-19 08:22:34.358\n",
       "1     2022-10-08 10:48:39.554\n",
       "2     2022-10-06 21:32:34.274\n",
       "3     2022-10-07 07:13:11.765\n",
       "4     2022-10-06 21:14:20.876\n",
       "                ...          \n",
       "194   2022-10-06 22:51:13.631\n",
       "195   2022-10-21 20:22:57.651\n",
       "196   2022-10-18 23:19:28.422\n",
       "197   2022-10-07 09:16:52.225\n",
       "198   2022-10-10 10:31:36.889\n",
       "Name: ประทับเวลา, Length: 199, dtype: datetime64[ns]"
      ]
     },
     "execution_count": 40,
     "metadata": {},
     "output_type": "execute_result"
    }
   ],
   "source": [
    "col_name[0]"
   ]
  },
  {
   "cell_type": "code",
   "execution_count": 41,
   "id": "56165f0b",
   "metadata": {},
   "outputs": [
    {
     "data": {
      "text/plain": [
       "Timestamp('2022-10-19 08:22:34.358000')"
      ]
     },
     "execution_count": 41,
     "metadata": {},
     "output_type": "execute_result"
    }
   ],
   "source": [
    "col_name[0][0]"
   ]
  },
  {
   "cell_type": "markdown",
   "id": "d9abdf56",
   "metadata": {},
   "source": [
    "# Time"
   ]
  },
  {
   "cell_type": "code",
   "execution_count": 42,
   "id": "0104e344",
   "metadata": {},
   "outputs": [
    {
     "data": {
      "text/plain": [
       "0     2022-10-02 23:14:33.347\n",
       "1     2022-10-02 23:19:58.443\n",
       "2     2022-10-06 20:56:01.916\n",
       "3     2022-10-06 20:57:50.217\n",
       "4     2022-10-06 21:01:59.420\n",
       "                ...          \n",
       "194   2022-10-20 08:20:29.051\n",
       "195   2022-10-20 08:29:53.954\n",
       "196   2022-10-21 19:46:54.804\n",
       "197   2022-10-21 20:19:09.035\n",
       "198   2022-10-21 20:22:57.651\n",
       "Name: ประทับเวลา, Length: 199, dtype: datetime64[ns]"
      ]
     },
     "execution_count": 42,
     "metadata": {},
     "output_type": "execute_result"
    }
   ],
   "source": [
    "Timestamp = pd.to_datetime(col_name[0], format=\"%Y%m%d:%H:%M:%S.%f\").sort_values().reset_index(drop=True)\n",
    "Timestamp"
   ]
  },
  {
   "cell_type": "code",
   "execution_count": 43,
   "id": "5d063d60",
   "metadata": {},
   "outputs": [
    {
     "data": {
      "text/plain": [
       "0      2022-10-02\n",
       "1      2022-10-02\n",
       "2      2022-10-06\n",
       "3      2022-10-06\n",
       "4      2022-10-06\n",
       "          ...    \n",
       "194    2022-10-20\n",
       "195    2022-10-20\n",
       "196    2022-10-21\n",
       "197    2022-10-21\n",
       "198    2022-10-21\n",
       "Name: ประทับเวลา, Length: 199, dtype: object"
      ]
     },
     "execution_count": 43,
     "metadata": {},
     "output_type": "execute_result"
    }
   ],
   "source": [
    "Date = pd.to_datetime(col_name[0], format=\"%Y%m%d:%H:%M:%S.%f\").dt.date.sort_values().reset_index(drop=True)\n",
    "Date"
   ]
  },
  {
   "cell_type": "code",
   "execution_count": 44,
   "id": "671445c9",
   "metadata": {},
   "outputs": [
    {
     "data": {
      "text/plain": [
       "2022-10-02     2\n",
       "2022-10-06    56\n",
       "2022-10-07    61\n",
       "2022-10-08    10\n",
       "2022-10-09     8\n",
       "2022-10-10     3\n",
       "2022-10-17     2\n",
       "2022-10-18    32\n",
       "2022-10-19    19\n",
       "2022-10-20     3\n",
       "2022-10-21     3\n",
       "Name: ประทับเวลา, dtype: int64"
      ]
     },
     "execution_count": 44,
     "metadata": {},
     "output_type": "execute_result"
    }
   ],
   "source": [
    "Date = Date.value_counts().sort_index()\n",
    "Date"
   ]
  },
  {
   "cell_type": "code",
   "execution_count": 45,
   "id": "55aa5b3a",
   "metadata": {},
   "outputs": [
    {
     "data": {
      "text/plain": [
       "array([ 2, 56, 61, 10,  8,  3,  2, 32, 19,  3,  3])"
      ]
     },
     "execution_count": 45,
     "metadata": {},
     "output_type": "execute_result"
    }
   ],
   "source": [
    "Date.values"
   ]
  },
  {
   "cell_type": "code",
   "execution_count": 46,
   "id": "f3b78a2a",
   "metadata": {},
   "outputs": [
    {
     "data": {
      "image/png": "[encoded data removed]",
      "text/plain": [
       "<Figure size 432x288 with 1 Axes>"
      ]
     },
     "metadata": {
      "needs_background": "light"
     },
     "output_type": "display_data"
    }
   ],
   "source": [
    "date = list(Date.index)\n",
    "values = list(Date.values)\n",
    "  \n",
    "# fig = plt.figure(figsize = (10, 5))\n",
    " \n",
    "# creating the bar plot\n",
    "plt.bar(date, values, color ='maroon',\n",
    "        width = 0.6)\n",
    "\n",
    "plt.xlabel(\"Courses offered\")\n",
    "plt.ylabel(\"No. of students enrolled\")\n",
    "plt.title(\"Students enrolled in different courses\")\n",
    "plt.show()"
   ]
  },
  {
   "cell_type": "code",
   "execution_count": 47,
   "id": "05c7c7ed",
   "metadata": {},
   "outputs": [
    {
     "data": {
      "text/plain": [
       "0      00:02:39.081000\n",
       "1      00:04:11.482000\n",
       "2      00:05:41.321000\n",
       "3      00:10:05.425000\n",
       "4      00:21:06.790000\n",
       "            ...       \n",
       "194    23:44:08.191000\n",
       "195    23:51:57.979000\n",
       "196    23:53:01.449000\n",
       "197    23:53:26.913000\n",
       "198    23:59:58.897000\n",
       "Name: ประทับเวลา, Length: 199, dtype: object"
      ]
     },
     "execution_count": 47,
     "metadata": {},
     "output_type": "execute_result"
    }
   ],
   "source": [
    "Time = pd.to_datetime(col_name[0], format=\"%Y%m%d:%H:%M:%S.%f\").dt.time.sort_values().reset_index(drop=True)\n",
    "Time"
   ]
  },
  {
   "cell_type": "code",
   "execution_count": 48,
   "id": "37cbae82",
   "metadata": {},
   "outputs": [
    {
     "data": {
      "text/plain": [
       "0       0\n",
       "1       0\n",
       "2       0\n",
       "3       0\n",
       "4       0\n",
       "       ..\n",
       "194    23\n",
       "195    23\n",
       "196    23\n",
       "197    23\n",
       "198    23\n",
       "Name: ประทับเวลา, Length: 199, dtype: int64"
      ]
     },
     "execution_count": 48,
     "metadata": {},
     "output_type": "execute_result"
    }
   ],
   "source": [
    "Time = pd.to_datetime(col_name[0], format=\"%Y%m%d:%H:%M:%S.%f\").dt.hour.sort_values().reset_index(drop=True)\n",
    "Time"
   ]
  },
  {
   "cell_type": "code",
   "execution_count": null,
   "id": "ba9d3cb9",
   "metadata": {},
   "outputs": [],
   "source": []
  },
  {
   "cell_type": "markdown",
   "id": "3ad319dc",
   "metadata": {},
   "source": [
    "# 1. ปกติแล้วโดยส่วนใหญ่ ท่านรับประทานอาหาร นอกบ้าน หรือ ในบ้าน "
   ]
  },
  {
   "cell_type": "code",
   "execution_count": 49,
   "id": "9fa33fba",
   "metadata": {},
   "outputs": [
    {
     "data": {
      "text/plain": [
       "0      ทานนอกบ้าน\n",
       "1       ทานในบ้าน\n",
       "2       ทานในบ้าน\n",
       "3       ทานในบ้าน\n",
       "4       ทานในบ้าน\n",
       "          ...    \n",
       "194     ทานในบ้าน\n",
       "195     ทานในบ้าน\n",
       "196     ทานในบ้าน\n",
       "197     ทานในบ้าน\n",
       "198     ทานในบ้าน\n",
       "Name: 1. ปกติแล้วโดยส่วนใหญ่ ท่านรับประทานอาหาร นอกบ้าน หรือ ในบ้าน , Length: 199, dtype: object"
      ]
     },
     "execution_count": 49,
     "metadata": {},
     "output_type": "execute_result"
    }
   ],
   "source": [
    "col_name[1]"
   ]
  },
  {
   "cell_type": "code",
   "execution_count": 50,
   "id": "086839c0",
   "metadata": {},
   "outputs": [
    {
     "data": {
      "text/plain": [
       "ทานในบ้าน     114\n",
       "ทานนอกบ้าน     85\n",
       "Name: 1. ปกติแล้วโดยส่วนใหญ่ ท่านรับประทานอาหาร นอกบ้าน หรือ ในบ้าน , dtype: int64"
      ]
     },
     "execution_count": 50,
     "metadata": {},
     "output_type": "execute_result"
    }
   ],
   "source": [
    "eat_inout = col_name[1].value_counts()\n",
    "eat_inout"
   ]
  },
  {
   "cell_type": "code",
   "execution_count": 51,
   "id": "45beeea9",
   "metadata": {},
   "outputs": [
    {
     "data": {
      "text/plain": [
       "<BarContainer object of 2 artists>"
      ]
     },
     "execution_count": 51,
     "metadata": {},
     "output_type": "execute_result"
    },
    {
     "name": "stderr",
     "output_type": "stream",
     "text": [
      "/home/sun/anaconda3/envs/covid-19/lib/python3.8/site-packages/matplotlib/backends/backend_agg.py:240: RuntimeWarning: Glyph 3607 missing from current font.\n",
      "  font.set_text(s, 0.0, flags=flags)\n",
      "/home/sun/anaconda3/envs/covid-19/lib/python3.8/site-packages/matplotlib/backends/backend_agg.py:240: RuntimeWarning: Glyph 3634 missing from current font.\n",
      "  font.set_text(s, 0.0, flags=flags)\n",
      "/home/sun/anaconda3/envs/covid-19/lib/python3.8/site-packages/matplotlib/backends/backend_agg.py:240: RuntimeWarning: Glyph 3609 missing from current font.\n",
      "  font.set_text(s, 0.0, flags=flags)\n",
      "/home/sun/anaconda3/envs/covid-19/lib/python3.8/site-packages/matplotlib/backends/backend_agg.py:240: RuntimeWarning: Glyph 3651 missing from current font.\n",
      "  font.set_text(s, 0.0, flags=flags)\n",
      "/home/sun/anaconda3/envs/covid-19/lib/python3.8/site-packages/matplotlib/backends/backend_agg.py:240: RuntimeWarning: Glyph 3610 missing from current font.\n",
      "  font.set_text(s, 0.0, flags=flags)\n",
      "/home/sun/anaconda3/envs/covid-19/lib/python3.8/site-packages/matplotlib/backends/backend_agg.py:240: RuntimeWarning: Glyph 3657 missing from current font.\n",
      "  font.set_text(s, 0.0, flags=flags)\n",
      "/home/sun/anaconda3/envs/covid-19/lib/python3.8/site-packages/matplotlib/backends/backend_agg.py:240: RuntimeWarning: Glyph 3629 missing from current font.\n",
      "  font.set_text(s, 0.0, flags=flags)\n",
      "/home/sun/anaconda3/envs/covid-19/lib/python3.8/site-packages/matplotlib/backends/backend_agg.py:240: RuntimeWarning: Glyph 3585 missing from current font.\n",
      "  font.set_text(s, 0.0, flags=flags)\n",
      "/home/sun/anaconda3/envs/covid-19/lib/python3.8/site-packages/matplotlib/backends/backend_agg.py:203: RuntimeWarning: Glyph 3607 missing from current font.\n",
      "  font.set_text(s, 0, flags=flags)\n",
      "/home/sun/anaconda3/envs/covid-19/lib/python3.8/site-packages/matplotlib/backends/backend_agg.py:203: RuntimeWarning: Glyph 3634 missing from current font.\n",
      "  font.set_text(s, 0, flags=flags)\n",
      "/home/sun/anaconda3/envs/covid-19/lib/python3.8/site-packages/matplotlib/backends/backend_agg.py:203: RuntimeWarning: Glyph 3609 missing from current font.\n",
      "  font.set_text(s, 0, flags=flags)\n",
      "/home/sun/anaconda3/envs/covid-19/lib/python3.8/site-packages/matplotlib/backends/backend_agg.py:203: RuntimeWarning: Glyph 3651 missing from current font.\n",
      "  font.set_text(s, 0, flags=flags)\n",
      "/home/sun/anaconda3/envs/covid-19/lib/python3.8/site-packages/matplotlib/backends/backend_agg.py:203: RuntimeWarning: Glyph 3610 missing from current font.\n",
      "  font.set_text(s, 0, flags=flags)\n",
      "/home/sun/anaconda3/envs/covid-19/lib/python3.8/site-packages/matplotlib/backends/backend_agg.py:203: RuntimeWarning: Glyph 3657 missing from current font.\n",
      "  font.set_text(s, 0, flags=flags)\n",
      "/home/sun/anaconda3/envs/covid-19/lib/python3.8/site-packages/matplotlib/backends/backend_agg.py:203: RuntimeWarning: Glyph 3629 missing from current font.\n",
      "  font.set_text(s, 0, flags=flags)\n",
      "/home/sun/anaconda3/envs/covid-19/lib/python3.8/site-packages/matplotlib/backends/backend_agg.py:203: RuntimeWarning: Glyph 3585 missing from current font.\n",
      "  font.set_text(s, 0, flags=flags)\n"
     ]
    },
    {
     "data": {
      "image/png": "[encoded data removed]",
      "text/plain": [
       "<Figure size 432x288 with 1 Axes>"
      ]
     },
     "metadata": {
      "needs_background": "light"
     },
     "output_type": "display_data"
    }
   ],
   "source": [
    "date = list(eat_inout.index)\n",
    "values = list(eat_inout.values)\n",
    "  \n",
    "# fig = plt.figure(figsize = (10, 5))\n",
    " \n",
    "# creating the bar plot\n",
    "ax = plt.gca()\n",
    "\n",
    "plt.bar(date, values, color ='maroon',\n",
    "        width = 0.6)"
   ]
  },
  {
   "cell_type": "code",
   "execution_count": null,
   "id": "4087d119",
   "metadata": {},
   "outputs": [],
   "source": []
  },
  {
   "cell_type": "code",
   "execution_count": null,
   "id": "68ae0815",
   "metadata": {},
   "outputs": [],
   "source": []
  },
  {
   "cell_type": "markdown",
   "id": "b90ff960",
   "metadata": {},
   "source": [
    "# 2. ท่านมักรับประทานอาหารนอกบ้าน คิดเป็นกี่เปอร์เซ็นต์"
   ]
  },
  {
   "cell_type": "code",
   "execution_count": 52,
   "id": "0a373883",
   "metadata": {},
   "outputs": [
    {
     "data": {
      "text/plain": [
       "0            50-75%\n",
       "1            25-50%\n",
       "2            25-50%\n",
       "3            25-50%\n",
       "4            25-50%\n",
       "           ...     \n",
       "194          25-50%\n",
       "195          25-50%\n",
       "196    น้อยกว่า 25%\n",
       "197          25-50%\n",
       "198    น้อยกว่า 25%\n",
       "Name: 2. ท่านมักรับประทานอาหารนอกบ้าน คิดเป็นกี่เปอร์เซ็นต์, Length: 199, dtype: object"
      ]
     },
     "execution_count": 52,
     "metadata": {},
     "output_type": "execute_result"
    }
   ],
   "source": [
    "col_name[2]"
   ]
  },
  {
   "cell_type": "code",
   "execution_count": 53,
   "id": "e7d41f56",
   "metadata": {},
   "outputs": [
    {
     "data": {
      "text/plain": [
       "25-50%                84\n",
       "50-75%                50\n",
       "น้อยกว่า 25%          39\n",
       "มากกว่า 75% ขึ้นไป    26\n",
       "Name: 2. ท่านมักรับประทานอาหารนอกบ้าน คิดเป็นกี่เปอร์เซ็นต์, dtype: int64"
      ]
     },
     "execution_count": 53,
     "metadata": {},
     "output_type": "execute_result"
    }
   ],
   "source": [
    "per_out = col_name[2].value_counts()\n",
    "per_out"
   ]
  },
  {
   "cell_type": "code",
   "execution_count": 54,
   "id": "cf0fa844",
   "metadata": {},
   "outputs": [
    {
     "data": {
      "text/plain": [
       "<BarContainer object of 4 artists>"
      ]
     },
     "execution_count": 54,
     "metadata": {},
     "output_type": "execute_result"
    },
    {
     "name": "stderr",
     "output_type": "stream",
     "text": [
      "/home/sun/anaconda3/envs/covid-19/lib/python3.8/site-packages/matplotlib/backends/backend_agg.py:240: RuntimeWarning: Glyph 3618 missing from current font.\n",
      "  font.set_text(s, 0.0, flags=flags)\n",
      "/home/sun/anaconda3/envs/covid-19/lib/python3.8/site-packages/matplotlib/backends/backend_agg.py:240: RuntimeWarning: Glyph 3623 missing from current font.\n",
      "  font.set_text(s, 0.0, flags=flags)\n",
      "/home/sun/anaconda3/envs/covid-19/lib/python3.8/site-packages/matplotlib/backends/backend_agg.py:240: RuntimeWarning: Glyph 3656 missing from current font.\n",
      "  font.set_text(s, 0.0, flags=flags)\n",
      "/home/sun/anaconda3/envs/covid-19/lib/python3.8/site-packages/matplotlib/backends/backend_agg.py:240: RuntimeWarning: Glyph 3617 missing from current font.\n",
      "  font.set_text(s, 0.0, flags=flags)\n",
      "/home/sun/anaconda3/envs/covid-19/lib/python3.8/site-packages/matplotlib/backends/backend_agg.py:240: RuntimeWarning: Glyph 3586 missing from current font.\n",
      "  font.set_text(s, 0.0, flags=flags)\n",
      "/home/sun/anaconda3/envs/covid-19/lib/python3.8/site-packages/matplotlib/backends/backend_agg.py:240: RuntimeWarning: Glyph 3638 missing from current font.\n",
      "  font.set_text(s, 0.0, flags=flags)\n",
      "/home/sun/anaconda3/envs/covid-19/lib/python3.8/site-packages/matplotlib/backends/backend_agg.py:240: RuntimeWarning: Glyph 3652 missing from current font.\n",
      "  font.set_text(s, 0.0, flags=flags)\n",
      "/home/sun/anaconda3/envs/covid-19/lib/python3.8/site-packages/matplotlib/backends/backend_agg.py:240: RuntimeWarning: Glyph 3611 missing from current font.\n",
      "  font.set_text(s, 0.0, flags=flags)\n",
      "/home/sun/anaconda3/envs/covid-19/lib/python3.8/site-packages/matplotlib/backends/backend_agg.py:203: RuntimeWarning: Glyph 3618 missing from current font.\n",
      "  font.set_text(s, 0, flags=flags)\n",
      "/home/sun/anaconda3/envs/covid-19/lib/python3.8/site-packages/matplotlib/backends/backend_agg.py:203: RuntimeWarning: Glyph 3623 missing from current font.\n",
      "  font.set_text(s, 0, flags=flags)\n",
      "/home/sun/anaconda3/envs/covid-19/lib/python3.8/site-packages/matplotlib/backends/backend_agg.py:203: RuntimeWarning: Glyph 3656 missing from current font.\n",
      "  font.set_text(s, 0, flags=flags)\n",
      "/home/sun/anaconda3/envs/covid-19/lib/python3.8/site-packages/matplotlib/backends/backend_agg.py:203: RuntimeWarning: Glyph 3617 missing from current font.\n",
      "  font.set_text(s, 0, flags=flags)\n",
      "/home/sun/anaconda3/envs/covid-19/lib/python3.8/site-packages/matplotlib/backends/backend_agg.py:203: RuntimeWarning: Glyph 3586 missing from current font.\n",
      "  font.set_text(s, 0, flags=flags)\n",
      "/home/sun/anaconda3/envs/covid-19/lib/python3.8/site-packages/matplotlib/backends/backend_agg.py:203: RuntimeWarning: Glyph 3638 missing from current font.\n",
      "  font.set_text(s, 0, flags=flags)\n",
      "/home/sun/anaconda3/envs/covid-19/lib/python3.8/site-packages/matplotlib/backends/backend_agg.py:203: RuntimeWarning: Glyph 3652 missing from current font.\n",
      "  font.set_text(s, 0, flags=flags)\n",
      "/home/sun/anaconda3/envs/covid-19/lib/python3.8/site-packages/matplotlib/backends/backend_agg.py:203: RuntimeWarning: Glyph 3611 missing from current font.\n",
      "  font.set_text(s, 0, flags=flags)\n"
     ]
    },
    {
     "data": {
      "image/png": "[encoded data removed]",
      "text/plain": [
       "<Figure size 432x288 with 1 Axes>"
      ]
     },
     "metadata": {
      "needs_background": "light"
     },
     "output_type": "display_data"
    }
   ],
   "source": [
    "date = list(per_out.index)\n",
    "values = list(per_out.values)\n",
    "  \n",
    "# fig = plt.figure(figsize = (10, 5))\n",
    " \n",
    "# creating the bar plot\n",
    "\n",
    "\n",
    "plt.bar(date, values, color ='maroon',\n",
    "        width = 0.6)"
   ]
  },
  {
   "cell_type": "code",
   "execution_count": null,
   "id": "a81c064a",
   "metadata": {},
   "outputs": [],
   "source": []
  },
  {
   "cell_type": "markdown",
   "id": "f999d9d4",
   "metadata": {},
   "source": [
    "# 3.ท่านรับประทานอาหารนอกบ้าน บ่อยแค่ไหนใน 1 สัปดาห์"
   ]
  },
  {
   "cell_type": "code",
   "execution_count": 55,
   "id": "9ba69a96",
   "metadata": {},
   "outputs": [
    {
     "data": {
      "text/plain": [
       "0                  3-4 ครั้ง\n",
       "1                  1-2 ครั้ง\n",
       "2                  1-2 ครั้ง\n",
       "3                  1-2 ครั้ง\n",
       "4                  1-2 ครั้ง\n",
       "               ...          \n",
       "194                1-2 ครั้ง\n",
       "195                3-4 ครั้ง\n",
       "196    ไม่ทานอาหารนอกบ้านเลย\n",
       "197                3-4 ครั้ง\n",
       "198                1-2 ครั้ง\n",
       "Name: 3.ท่านรับประทานอาหารนอกบ้าน บ่อยแค่ไหนใน 1 สัปดาห์, Length: 199, dtype: object"
      ]
     },
     "execution_count": 55,
     "metadata": {},
     "output_type": "execute_result"
    }
   ],
   "source": [
    "col_name[3]"
   ]
  },
  {
   "cell_type": "code",
   "execution_count": 56,
   "id": "d3888f37",
   "metadata": {},
   "outputs": [
    {
     "data": {
      "text/plain": [
       "1-2 ครั้ง                94\n",
       "3-4 ครั้ง                56\n",
       "มากกว่า 5 ครั้ง          45\n",
       "ไม่ทานอาหารนอกบ้านเลย     4\n",
       "Name: 3.ท่านรับประทานอาหารนอกบ้าน บ่อยแค่ไหนใน 1 สัปดาห์, dtype: int64"
      ]
     },
     "execution_count": 56,
     "metadata": {},
     "output_type": "execute_result"
    }
   ],
   "source": [
    "often_out_1w = col_name[3].value_counts()\n",
    "often_out_1w"
   ]
  },
  {
   "cell_type": "code",
   "execution_count": 57,
   "id": "baf58ced",
   "metadata": {},
   "outputs": [
    {
     "data": {
      "text/plain": [
       "<BarContainer object of 4 artists>"
      ]
     },
     "execution_count": 57,
     "metadata": {},
     "output_type": "execute_result"
    },
    {
     "name": "stderr",
     "output_type": "stream",
     "text": [
      "/home/sun/anaconda3/envs/covid-19/lib/python3.8/site-packages/matplotlib/backends/backend_agg.py:240: RuntimeWarning: Glyph 3588 missing from current font.\n",
      "  font.set_text(s, 0.0, flags=flags)\n",
      "/home/sun/anaconda3/envs/covid-19/lib/python3.8/site-packages/matplotlib/backends/backend_agg.py:240: RuntimeWarning: Glyph 3619 missing from current font.\n",
      "  font.set_text(s, 0.0, flags=flags)\n",
      "/home/sun/anaconda3/envs/covid-19/lib/python3.8/site-packages/matplotlib/backends/backend_agg.py:240: RuntimeWarning: Glyph 3633 missing from current font.\n",
      "  font.set_text(s, 0.0, flags=flags)\n",
      "/home/sun/anaconda3/envs/covid-19/lib/python3.8/site-packages/matplotlib/backends/backend_agg.py:240: RuntimeWarning: Glyph 3591 missing from current font.\n",
      "  font.set_text(s, 0.0, flags=flags)\n",
      "/home/sun/anaconda3/envs/covid-19/lib/python3.8/site-packages/matplotlib/backends/backend_agg.py:240: RuntimeWarning: Glyph 3627 missing from current font.\n",
      "  font.set_text(s, 0.0, flags=flags)\n",
      "/home/sun/anaconda3/envs/covid-19/lib/python3.8/site-packages/matplotlib/backends/backend_agg.py:240: RuntimeWarning: Glyph 3648 missing from current font.\n",
      "  font.set_text(s, 0.0, flags=flags)\n",
      "/home/sun/anaconda3/envs/covid-19/lib/python3.8/site-packages/matplotlib/backends/backend_agg.py:240: RuntimeWarning: Glyph 3621 missing from current font.\n",
      "  font.set_text(s, 0.0, flags=flags)\n",
      "/home/sun/anaconda3/envs/covid-19/lib/python3.8/site-packages/matplotlib/backends/backend_agg.py:203: RuntimeWarning: Glyph 3588 missing from current font.\n",
      "  font.set_text(s, 0, flags=flags)\n",
      "/home/sun/anaconda3/envs/covid-19/lib/python3.8/site-packages/matplotlib/backends/backend_agg.py:203: RuntimeWarning: Glyph 3619 missing from current font.\n",
      "  font.set_text(s, 0, flags=flags)\n",
      "/home/sun/anaconda3/envs/covid-19/lib/python3.8/site-packages/matplotlib/backends/backend_agg.py:203: RuntimeWarning: Glyph 3633 missing from current font.\n",
      "  font.set_text(s, 0, flags=flags)\n",
      "/home/sun/anaconda3/envs/covid-19/lib/python3.8/site-packages/matplotlib/backends/backend_agg.py:203: RuntimeWarning: Glyph 3591 missing from current font.\n",
      "  font.set_text(s, 0, flags=flags)\n",
      "/home/sun/anaconda3/envs/covid-19/lib/python3.8/site-packages/matplotlib/backends/backend_agg.py:203: RuntimeWarning: Glyph 3627 missing from current font.\n",
      "  font.set_text(s, 0, flags=flags)\n",
      "/home/sun/anaconda3/envs/covid-19/lib/python3.8/site-packages/matplotlib/backends/backend_agg.py:203: RuntimeWarning: Glyph 3648 missing from current font.\n",
      "  font.set_text(s, 0, flags=flags)\n",
      "/home/sun/anaconda3/envs/covid-19/lib/python3.8/site-packages/matplotlib/backends/backend_agg.py:203: RuntimeWarning: Glyph 3621 missing from current font.\n",
      "  font.set_text(s, 0, flags=flags)\n"
     ]
    },
    {
     "data": {
      "image/png": "[encoded data removed]",
      "text/plain": [
       "<Figure size 432x288 with 1 Axes>"
      ]
     },
     "metadata": {
      "needs_background": "light"
     },
     "output_type": "display_data"
    }
   ],
   "source": [
    "date = list(often_out_1w.index)\n",
    "values = list(often_out_1w.values)\n",
    "  \n",
    "# fig = plt.figure(figsize = (10, 5))\n",
    " \n",
    "# creating the bar plot\n",
    "\n",
    "\n",
    "plt.bar(date, values, color ='maroon',\n",
    "        width = 0.6)"
   ]
  },
  {
   "cell_type": "code",
   "execution_count": null,
   "id": "80837a18",
   "metadata": {},
   "outputs": [],
   "source": []
  },
  {
   "cell_type": "markdown",
   "id": "d0b6c48c",
   "metadata": {},
   "source": [
    "# 4.ท่านรับประทานอาหารนอกบ้านเนื่องในโอกาสใด (รบกวนตอบ 2 คำตอบ)"
   ]
  },
  {
   "cell_type": "code",
   "execution_count": 58,
   "id": "ba0f4141",
   "metadata": {},
   "outputs": [
    {
     "data": {
      "text/plain": [
       "0                     รับประทานนอกบ้านเป็นปกติ, สังสรรค์\n",
       "1      ฉลองเนื่องในโอกาสสำคัญเช่น วันเกิด งานรับปริญญ...\n",
       "2      สังสรรค์, ฉลองเนื่องในโอกาสสำคัญเช่น วันเกิด ง...\n",
       "3                         ออกเดท, มีเวลาว่างหลังจากทำงาน\n",
       "4      สังสรรค์, ฉลองเนื่องในโอกาสสำคัญเช่น วันเกิด ง...\n",
       "                             ...                        \n",
       "194    สังสรรค์, ฉลองเนื่องในโอกาสสำคัญเช่น วันเกิด ง...\n",
       "195                   รับประทานนอกบ้านเป็นปกติ, สังสรรค์\n",
       "196    สังสรรค์, ไม่เกี่ยวกับโอกาสใดๆ แต่เป็นฟิลลิ่งอ...\n",
       "197               รับประทานนอกบ้านเป็นปกติ, รับรองลูกค้า\n",
       "198                                ออกเดท, แล้วแต่อารมณ์\n",
       "Name: 4.ท่านรับประทานอาหารนอกบ้านเนื่องในโอกาสใด (รบกวนตอบ 2 คำตอบ), Length: 199, dtype: object"
      ]
     },
     "execution_count": 58,
     "metadata": {},
     "output_type": "execute_result"
    }
   ],
   "source": [
    "col_name[4]"
   ]
  },
  {
   "cell_type": "code",
   "execution_count": 59,
   "id": "b366b612",
   "metadata": {
    "scrolled": true
   },
   "outputs": [
    {
     "data": {
      "text/plain": [
       "['รับประทานนอกบ้านเป็นปกติ', ' สังสรรค์']"
      ]
     },
     "execution_count": 59,
     "metadata": {},
     "output_type": "execute_result"
    }
   ],
   "source": [
    "col_name[4][0].split(',')"
   ]
  },
  {
   "cell_type": "code",
   "execution_count": 60,
   "id": "34f232f6",
   "metadata": {},
   "outputs": [],
   "source": [
    "occasion = [i.split(',')[j][1:] if j==1 else i.split(',')[j] for i in col_name[4] for j in range(len(i.split(',')))]"
   ]
  },
  {
   "cell_type": "code",
   "execution_count": 61,
   "id": "968de6c6",
   "metadata": {},
   "outputs": [
    {
     "data": {
      "text/plain": [
       "['รับประทานนอกบ้านเป็นปกติ',\n",
       " 'สังสรรค์',\n",
       " 'ฉลองเนื่องในโอกาสสำคัญเช่น วันเกิด งานรับปริญญา',\n",
       " 'รับรองลูกค้า',\n",
       " 'สังสรรค์',\n",
       " 'ฉลองเนื่องในโอกาสสำคัญเช่น วันเกิด งานรับปริญญา',\n",
       " 'ออกเดท',\n",
       " 'มีเวลาว่างหลังจากทำงาน',\n",
       " 'สังสรรค์',\n",
       " 'ฉลองเนื่องในโอกาสสำคัญเช่น วันเกิด งานรับปริญญา',\n",
       " 'สังสรรค์',\n",
       " 'เทศกาลสำคัญของประเทศไทย เช่น วันพ่อ ปีใหม่ ตรุษจีน',\n",
       " 'รับประทานนอกบ้านเป็นปกติ',\n",
       " 'งานเลี้ยงบริษัทฯ',\n",
       " 'รับประทานนอกบ้านเป็นปกติ',\n",
       " 'สังสรรค์',\n",
       " 'รับประทานนอกบ้านเป็นปกติ',\n",
       " 'สังสรรค์',\n",
       " 'สังสรรค์',\n",
       " 'ฉลองเนื่องในโอกาสสำคัญเช่น วันเกิด งานรับปริญญา',\n",
       " 'รับประทานนอกบ้านเป็นปกติ',\n",
       " 'เทศกาลสำคัญของประเทศไทย เช่น วันพ่อ ปีใหม่ ตรุษจีน',\n",
       " 'สังสรรค์',\n",
       " 'รับรองลูกค้า',\n",
       " 'รับประทานนอกบ้านเป็นปกติ',\n",
       " 'สังสรรค์',\n",
       " 'รับประทานนอกบ้านเป็นปกติ',\n",
       " 'สังสรรค์',\n",
       " 'รับประทานนอกบ้านเป็นปกติ',\n",
       " 'ออกเดท',\n",
       " 'รับประทานนอกบ้านเป็นปกติ',\n",
       " 'ฉลองเนื่องในโอกาสสำคัญเช่น วันเกิด งานรับปริญญา',\n",
       " 'สังสรรค์',\n",
       " 'ฉลองเนื่องในโอกาสสำคัญเช่น วันเกิด งานรับปริญญา',\n",
       " 'รับประทานนอกบ้านเป็นปกติ',\n",
       " 'สังสรรค์',\n",
       " 'รับประทานนอกบ้านเป็นปกติ',\n",
       " 'สังสรรค์',\n",
       " 'รับประทานนอกบ้านเป็นปกติ',\n",
       " 'สังสรรค์',\n",
       " 'รับประทานนอกบ้านเป็นปกติ',\n",
       " 'สังสรรค์',\n",
       " 'รับประทานนอกบ้านเป็นปกติ',\n",
       " 'ฉลองเนื่องในโอกาสสำคัญเช่น วันเกิด งานรับปริญญา',\n",
       " 'สังสรรค์',\n",
       " 'ฉลองเนื่องในโอกาสสำคัญเช่น วันเกิด งานรับปริญญา',\n",
       " 'สังสรรค์',\n",
       " 'ฉลองเนื่องในโอกาสสำคัญเช่น วันเกิด งานรับปริญญา',\n",
       " 'รับประทานนอกบ้านเป็นปกติ',\n",
       " 'ฉลองเนื่องในโอกาสสำคัญเช่น วันเกิด งานรับปริญญา',\n",
       " 'รับประทานนอกบ้านเป็นปกติ',\n",
       " 'ฉลองเนื่องในโอกาสสำคัญเช่น วันเกิด งานรับปริญญา',\n",
       " 'สังสรรค์',\n",
       " 'ฉลองเนื่องในโอกาสสำคัญเช่น วันเกิด งานรับปริญญา',\n",
       " 'รับประทานนอกบ้านเป็นปกติ',\n",
       " 'ฉลองเนื่องในโอกาสสำคัญเช่น วันเกิด งานรับปริญญา',\n",
       " 'รับประทานนอกบ้านเป็นปกติ',\n",
       " 'ออกเดท',\n",
       " 'งานเลี้ยงบริษัทฯ',\n",
       " 'อยากกิน',\n",
       " 'รับประทานนอกบ้านเป็นปกติ',\n",
       " 'ฉลองเนื่องในโอกาสสำคัญเช่น วันเกิด งานรับปริญญา',\n",
       " 'รับประทานนอกบ้านเป็นปกติ',\n",
       " 'เทศกาลสำคัญของประเทศไทย เช่น วันพ่อ ปีใหม่ ตรุษจีน',\n",
       " 'รับประทานนอกบ้านเป็นปกติ',\n",
       " 'เทศกาลสำคัญของประเทศไทย เช่น วันพ่อ ปีใหม่ ตรุษจีน',\n",
       " 'สังสรรค์',\n",
       " 'ฉลองเนื่องในโอกาสสำคัญเช่น วันเกิด งานรับปริญญา',\n",
       " 'สังสรรค์',\n",
       " 'ออกเดท',\n",
       " 'รับประทานนอกบ้านเป็นปกติ',\n",
       " 'สังสรรค์',\n",
       " 'ฉลองเนื่องในโอกาสสำคัญเช่น วันเกิด งานรับปริญญา',\n",
       " 'เทศกาลสำคัญของประเทศไทย เช่น วันพ่อ ปีใหม่ ตรุษจีน',\n",
       " 'สังสรรค์',\n",
       " 'เทศกาลสำคัญของประเทศไทย เช่น วันพ่อ ปีใหม่ ตรุษจีน',\n",
       " 'รับประทานนอกบ้านเป็นปกติ',\n",
       " 'ออกเดท',\n",
       " 'รับประทานนอกบ้านเป็นปกติ',\n",
       " 'ที่บ้านไม่มีให้กิน',\n",
       " 'รับประทานนอกบ้านเป็นปกติ',\n",
       " 'สังสรรค์',\n",
       " 'รับประทานนอกบ้านเป็นปกติ',\n",
       " 'สังสรรค์',\n",
       " 'สังสรรค์',\n",
       " 'ฉลองเนื่องในโอกาสสำคัญเช่น วันเกิด งานรับปริญญา',\n",
       " 'รับประทานนอกบ้านเป็นปกติ',\n",
       " 'งานเลี้ยงบริษัทฯ',\n",
       " 'รับประทานนอกบ้านเป็นปกติ',\n",
       " 'สังสรรค์',\n",
       " 'รับประทานนอกบ้านเป็นปกติ',\n",
       " 'ออกเดท',\n",
       " 'รับประทานนอกบ้านเป็นปกติ',\n",
       " 'เทศกาลสำคัญของประเทศไทย เช่น วันพ่อ ปีใหม่ ตรุษจีน',\n",
       " 'รับประทานนอกบ้านเป็นปกติ',\n",
       " 'ฉลองเนื่องในโอกาสสำคัญเช่น วันเกิด งานรับปริญญา',\n",
       " 'สังสรรค์',\n",
       " 'ฉลองเนื่องในโอกาสสำคัญเช่น วันเกิด งานรับปริญญา',\n",
       " 'รับประทานนอกบ้านเป็นปกติ',\n",
       " 'ออกเดท',\n",
       " 'รับประทานนอกบ้านเป็นปกติ',\n",
       " 'เทศกาลสำคัญของประเทศไทย เช่น วันพ่อ ปีใหม่ ตรุษจีน',\n",
       " 'สังสรรค์',\n",
       " 'ฉลองเนื่องในโอกาสสำคัญเช่น วันเกิด งานรับปริญญา',\n",
       " 'ฉลองเนื่องในโอกาสสำคัญเช่น วันเกิด งานรับปริญญา',\n",
       " 'เทศกาลสำคัญของประเทศไทย เช่น วันพ่อ ปีใหม่ ตรุษจีน',\n",
       " 'รับประทานนอกบ้านเป็นปกติ',\n",
       " 'เทศกาลสำคัญของประเทศไทย เช่น วันพ่อ ปีใหม่ ตรุษจีน',\n",
       " 'รับประทานนอกบ้านเป็นปกติ',\n",
       " 'สังสรรค์',\n",
       " 'สังสรรค์',\n",
       " 'ฉลองเนื่องในโอกาสสำคัญเช่น วันเกิด งานรับปริญญา',\n",
       " 'สังสรรค์',\n",
       " 'ฉลองเนื่องในโอกาสสำคัญเช่น วันเกิด งานรับปริญญา',\n",
       " 'รับประทานนอกบ้านเป็นปกติ',\n",
       " 'สังสรรค์',\n",
       " 'รับประทานนอกบ้านเป็นปกติ',\n",
       " 'สังสรรค์',\n",
       " 'รับประทานนอกบ้านเป็นปกติ',\n",
       " 'สังสรรค์',\n",
       " 'รับประทานนอกบ้านเป็นปกติ',\n",
       " 'สังสรรค์',\n",
       " 'รับประทานนอกบ้านเป็นปกติ',\n",
       " 'สังสรรค์',\n",
       " 'รับประทานนอกบ้านเป็นปกติ',\n",
       " 'สังสรรค์',\n",
       " 'สังสรรค์',\n",
       " 'ฉลองเนื่องในโอกาสสำคัญเช่น วันเกิด งานรับปริญญา',\n",
       " 'รับประทานนอกบ้านเป็นปกติ',\n",
       " 'สังสรรค์',\n",
       " 'รับประทานนอกบ้านเป็นปกติ',\n",
       " 'สังสรรค์',\n",
       " 'รับประทานนอกบ้านเป็นปกติ',\n",
       " 'สังสรรค์',\n",
       " 'รับประทานนอกบ้านเป็นปกติ',\n",
       " 'สังสรรค์',\n",
       " 'สังสรรค์',\n",
       " 'ออกเดท',\n",
       " 'รับประทานนอกบ้านเป็นปกติ',\n",
       " 'สังสรรค์',\n",
       " 'รับประทานนอกบ้านเป็นปกติ',\n",
       " 'ฉลองเนื่องในโอกาสสำคัญเช่น วันเกิด งานรับปริญญา',\n",
       " 'สังสรรค์',\n",
       " 'ฉลองเนื่องในโอกาสสำคัญเช่น วันเกิด งานรับปริญญา',\n",
       " 'รับประทานนอกบ้านเป็นปกติ',\n",
       " 'เทศกาลสำคัญของประเทศไทย เช่น วันพ่อ ปีใหม่ ตรุษจีน',\n",
       " 'สังสรรค์',\n",
       " 'ฉลองเนื่องในโอกาสสำคัญเช่น วันเกิด งานรับปริญญา',\n",
       " 'สังสรรค์',\n",
       " 'รับรองลูกค้า',\n",
       " 'รับประทานนอกบ้านเป็นปกติ',\n",
       " 'สังสรรค์',\n",
       " 'รับประทานนอกบ้านเป็นปกติ',\n",
       " 'สังสรรค์',\n",
       " 'รับประทานนอกบ้านเป็นปกติ',\n",
       " 'สังสรรค์',\n",
       " 'ฉลองเนื่องในโอกาสสำคัญเช่น วันเกิด งานรับปริญญา',\n",
       " 'เทศกาลสำคัญของประเทศไทย เช่น วันพ่อ ปีใหม่ ตรุษจีน',\n",
       " 'รับประทานนอกบ้านเป็นปกติ',\n",
       " 'เข้าออฟฟิส',\n",
       " 'รับประทานนอกบ้านเป็นปกติ',\n",
       " 'ออกเดท',\n",
       " 'รับประทานนอกบ้านเป็นปกติ',\n",
       " 'สังสรรค์',\n",
       " 'สังสรรค์',\n",
       " 'ฉลองเนื่องในโอกาสสำคัญเช่น วันเกิด งานรับปริญญา',\n",
       " 'รับประทานนอกบ้านเป็นปกติ',\n",
       " 'ฉลองเนื่องในโอกาสสำคัญเช่น วันเกิด งานรับปริญญา',\n",
       " 'รับประทานนอกบ้านเป็นปกติ',\n",
       " 'สังสรรค์',\n",
       " 'รับประทานนอกบ้านเป็นปกติ',\n",
       " 'สังสรรค์',\n",
       " 'งานเลี้ยงบริษัทฯ',\n",
       " 'เทศกาลสำคัญของประเทศไทย เช่น วันพ่อ ปีใหม่ ตรุษจีน',\n",
       " 'รับประทานนอกบ้านเป็นปกติ',\n",
       " 'ฉลองเนื่องในโอกาสสำคัญเช่น วันเกิด งานรับปริญญา',\n",
       " 'รับประทานนอกบ้านเป็นปกติ',\n",
       " 'ไปกับครอบครัว',\n",
       " 'รับประทานนอกบ้านเป็นปกติ',\n",
       " 'สังสรรค์',\n",
       " 'งานเลี้ยงบริษัทฯ',\n",
       " 'เทศกาลสำคัญของประเทศไทย เช่น วันพ่อ ปีใหม่ ตรุษจีน',\n",
       " 'รับประทานนอกบ้านเป็นปกติ',\n",
       " 'สังสรรค์',\n",
       " 'รับประทานนอกบ้านเป็นปกติ',\n",
       " 'สังสรรค์',\n",
       " 'รับประทานนอกบ้านเป็นปกติ',\n",
       " 'สังสรรค์',\n",
       " 'รับประทานนอกบ้านเป็นปกติ',\n",
       " 'สังสรรค์',\n",
       " 'สังสรรค์',\n",
       " 'ฉลองเนื่องในโอกาสสำคัญเช่น วันเกิด งานรับปริญญา',\n",
       " 'รับประทานนอกบ้านเป็นปกติ',\n",
       " 'ออกเดท',\n",
       " 'สังสรรค์',\n",
       " 'ออกเดท',\n",
       " 'สังสรรค์',\n",
       " 'พร้อมกับครอบครัว',\n",
       " 'สังสรรค์',\n",
       " 'เทศกาลสำคัญของประเทศไทย เช่น วันพ่อ ปีใหม่ ตรุษจีน',\n",
       " 'สังสรรค์',\n",
       " 'ฉลองเนื่องในโอกาสสำคัญเช่น วันเกิด งานรับปริญญา',\n",
       " 'รับประทานนอกบ้านเป็นปกติ',\n",
       " 'สังสรรค์',\n",
       " 'รับประทานนอกบ้านเป็นปกติ',\n",
       " 'เทศกาลสำคัญของประเทศไทย เช่น วันพ่อ ปีใหม่ ตรุษจีน',\n",
       " 'ฉลองเนื่องในโอกาสสำคัญเช่น วันเกิด งานรับปริญญา',\n",
       " 'เทศกาลสำคัญของประเทศไทย เช่น วันพ่อ ปีใหม่ ตรุษจีน',\n",
       " 'รับประทานนอกบ้านเป็นปกติ',\n",
       " 'สังสรรค์',\n",
       " 'สังสรรค์',\n",
       " 'พาพ่อแม่ทานข้าว',\n",
       " 'สังสรรค์',\n",
       " 'ออกเดท',\n",
       " 'รับประทานนอกบ้านเป็นปกติ',\n",
       " 'สังสรรค์',\n",
       " 'รับประทานนอกบ้านเป็นปกติ',\n",
       " 'สังสรรค์',\n",
       " 'สังสรรค์',\n",
       " 'ฉลองเนื่องในโอกาสสำคัญเช่น วันเกิด งานรับปริญญา',\n",
       " 'รับประทานนอกบ้านเป็นปกติ',\n",
       " 'ฉลองเนื่องในโอกาสสำคัญเช่น วันเกิด งานรับปริญญา',\n",
       " 'รับประทานนอกบ้านเป็นปกติ',\n",
       " 'สังสรรค์',\n",
       " 'รับประทานนอกบ้านเป็นปกติ',\n",
       " 'ออกเดท',\n",
       " 'รับประทานนอกบ้านเป็นปกติ',\n",
       " 'ออกเดท',\n",
       " 'รับประทานนอกบ้านเป็นปกติ',\n",
       " 'วันทำงาน',\n",
       " 'รับประทานนอกบ้านเป็นปกติ',\n",
       " 'สังสรรค์',\n",
       " 'ฉลองเนื่องในโอกาสสำคัญเช่น วันเกิด งานรับปริญญา',\n",
       " 'เทศกาลสำคัญของประเทศไทย เช่น วันพ่อ ปีใหม่ ตรุษจีน',\n",
       " 'รับประทานนอกบ้านเป็นปกติ',\n",
       " 'สังสรรค์',\n",
       " 'รับประทานนอกบ้านเป็นปกติ',\n",
       " 'ออกเดท',\n",
       " 'รับประทานนอกบ้านเป็นปกติ',\n",
       " 'เทศกาลสำคัญของประเทศไทย เช่น วันพ่อ ปีใหม่ ตรุษจีน',\n",
       " 'สังสรรค์',\n",
       " 'รับรองลูกค้า',\n",
       " 'รับประทานนอกบ้านเป็นปกติ',\n",
       " 'สังสรรค์',\n",
       " 'รับประทานนอกบ้านเป็นปกติ',\n",
       " 'สังสรรค์',\n",
       " 'รับประทานนอกบ้านเป็นปกติ',\n",
       " 'สังสรรค์',\n",
       " 'รับประทานนอกบ้านเป็นปกติ',\n",
       " 'สังสรรค์',\n",
       " 'สังสรรค์',\n",
       " 'ฉลองเนื่องในโอกาสสำคัญเช่น วันเกิด งานรับปริญญา',\n",
       " 'สังสรรค์',\n",
       " 'รับรองลูกค้า',\n",
       " 'รับประทานนอกบ้านเป็นปกติ',\n",
       " 'สังสรรค์',\n",
       " 'สังสรรค์',\n",
       " 'รับรองลูกค้า',\n",
       " 'ฉลองเนื่องในโอกาสสำคัญเช่น วันเกิด งานรับปริญญา',\n",
       " 'รับรองลูกค้า',\n",
       " 'ออกเดท',\n",
       " 'ออกไปห้าง หรือทำธุระนอกบ้าน',\n",
       " 'รับประทานนอกบ้านเป็นปกติ',\n",
       " 'รับรองลูกค้า',\n",
       " 'รับประทานนอกบ้านเป็นปกติ',\n",
       " 'ฉลองเนื่องในโอกาสสำคัญเช่น วันเกิด งานรับปริญญา',\n",
       " 'รับประทานนอกบ้านเป็นปกติ',\n",
       " 'สังสรรค์',\n",
       " 'รับประทานนอกบ้านเป็นปกติ',\n",
       " 'สังสรรค์',\n",
       " 'ฉลองเนื่องในโอกาสสำคัญเช่น วันเกิด งานรับปริญญา',\n",
       " 'เทศกาลสำคัญของประเทศไทย เช่น วันพ่อ ปีใหม่ ตรุษจีน',\n",
       " 'สังสรรค์',\n",
       " 'งานเลี้ยงบริษัทฯ',\n",
       " 'รับประทานนอกบ้านเป็นปกติ',\n",
       " 'สังสรรค์',\n",
       " 'สังสรรค์',\n",
       " 'ฉลองเนื่องในโอกาสสำคัญเช่น วันเกิด งานรับปริญญา',\n",
       " 'รับประทานนอกบ้านเป็นปกติ',\n",
       " 'สังสรรค์',\n",
       " 'สังสรรค์',\n",
       " 'ฉลองเนื่องในโอกาสสำคัญเช่น วันเกิด งานรับปริญญา',\n",
       " 'สังสรรค์',\n",
       " 'ฉลองเนื่องในโอกาสสำคัญเช่น วันเกิด งานรับปริญญา',\n",
       " 'สังสรรค์',\n",
       " 'ออกเดท',\n",
       " 'ฉลองเนื่องในโอกาสสำคัญเช่น วันเกิด งานรับปริญญา',\n",
       " 'ออกเดท',\n",
       " 'สังสรรค์',\n",
       " 'งานเลี้ยงบริษัทฯ',\n",
       " 'รับประทานนอกบ้านเป็นปกติ',\n",
       " 'สังสรรค์',\n",
       " 'รับประทานนอกบ้านเป็นปกติ',\n",
       " 'เทศกาลสำคัญของประเทศไทย เช่น วันพ่อ ปีใหม่ ตรุษจีน',\n",
       " 'รับประทานนอกบ้านเป็นปกติ',\n",
       " 'สังสรรค์',\n",
       " 'รับประทานนอกบ้านเป็นปกติ',\n",
       " 'สังสรรค์',\n",
       " 'ฉลองเนื่องในโอกาสสำคัญเช่น วันเกิด งานรับปริญญา',\n",
       " 'ที่ทำงาน',\n",
       " 'รับประทานนอกบ้านเป็นปกติ',\n",
       " 'ออกเดท',\n",
       " 'ออกเดท',\n",
       " 'เบื่ออาหารที่บ้าน สิ่งที่อยากกินต้องได้กิน',\n",
       " 'รับประทานนอกบ้านเป็นปกติ',\n",
       " 'ฉลองเนื่องในโอกาสสำคัญเช่น วันเกิด งานรับปริญญา',\n",
       " 'รับประทานนอกบ้านเป็นปกติ',\n",
       " 'สังสรรค์',\n",
       " 'ฉลองเนื่องในโอกาสสำคัญเช่น วันเกิด งานรับปริญญา',\n",
       " 'เทศกาลสำคัญของประเทศไทย เช่น วันพ่อ ปีใหม่ ตรุษจีน',\n",
       " 'สังสรรค์',\n",
       " 'เทศกาลสำคัญของประเทศไทย เช่น วันพ่อ ปีใหม่ ตรุษจีน',\n",
       " 'รับประทานนอกบ้านเป็นปกติ',\n",
       " 'สังสรรค์',\n",
       " 'รับประทานนอกบ้านเป็นปกติ',\n",
       " 'สังสรรค์',\n",
       " 'รับประทานนอกบ้านเป็นปกติ',\n",
       " 'ออกเดท',\n",
       " 'สังสรรค์',\n",
       " 'ฉลองเนื่องในโอกาสสำคัญเช่น วันเกิด งานรับปริญญา',\n",
       " 'สังสรรค์',\n",
       " 'เทศกาลสำคัญของประเทศไทย เช่น วันพ่อ ปีใหม่ ตรุษจีน',\n",
       " 'สังสรรค์',\n",
       " 'ฉลองเนื่องในโอกาสสำคัญเช่น วันเกิด งานรับปริญญา',\n",
       " 'รับประทานนอกบ้านเป็นปกติ',\n",
       " 'ฉลองเนื่องในโอกาสสำคัญเช่น วันเกิด งานรับปริญญา',\n",
       " 'รับประทานนอกบ้านเป็นปกติ',\n",
       " 'เทศกาลสำคัญของประเทศไทย เช่น วันพ่อ ปีใหม่ ตรุษจีน',\n",
       " 'สังสรรค์',\n",
       " 'ฉลองเนื่องในโอกาสสำคัญเช่น วันเกิด งานรับปริญญา',\n",
       " 'รับประทานนอกบ้านเป็นปกติ',\n",
       " 'ออกเดท',\n",
       " 'รับประทานนอกบ้านเป็นปกติ',\n",
       " 'สังสรรค์',\n",
       " 'รับประทานนอกบ้านเป็นปกติ',\n",
       " 'สังสรรค์',\n",
       " 'สังสรรค์',\n",
       " 'ฉลองเนื่องในโอกาสสำคัญเช่น วันเกิด งานรับปริญญา',\n",
       " 'รับประทานนอกบ้านเป็นปกติ',\n",
       " 'สังสรรค์',\n",
       " 'รับประทานนอกบ้านเป็นปกติ',\n",
       " 'เทศกาลสำคัญของประเทศไทย เช่น วันพ่อ ปีใหม่ ตรุษจีน',\n",
       " 'รับประทานนอกบ้านเป็นปกติ',\n",
       " 'รับรองลูกค้า',\n",
       " 'สังสรรค์',\n",
       " 'เทศกาลสำคัญของประเทศไทย เช่น วันพ่อ ปีใหม่ ตรุษจีน',\n",
       " 'รับประทานนอกบ้านเป็นปกติ',\n",
       " 'สังสรรค์',\n",
       " 'งานเลี้ยงบริษัทฯ',\n",
       " 'เทศกาลสำคัญของประเทศไทย เช่น วันพ่อ ปีใหม่ ตรุษจีน',\n",
       " 'รับประทานนอกบ้านเป็นปกติ',\n",
       " 'ฉลองเนื่องในโอกาสสำคัญเช่น วันเกิด งานรับปริญญา',\n",
       " 'รับประทานนอกบ้านเป็นปกติ',\n",
       " 'ทานข้าวกับเพื่อน',\n",
       " 'รับประทานนอกบ้านเป็นปกติ',\n",
       " 'สังสรรค์',\n",
       " 'รับประทานนอกบ้านเป็นปกติ',\n",
       " 'สังสรรค์',\n",
       " 'รับประทานนอกบ้านเป็นปกติ',\n",
       " 'สังสรรค์',\n",
       " 'รับประทานนอกบ้านเป็นปกติ',\n",
       " 'สังสรรค์',\n",
       " 'สังสรรค์',\n",
       " 'ฉลองเนื่องในโอกาสสำคัญเช่น วันเกิด งานรับปริญญา',\n",
       " 'รับประทานนอกบ้านเป็นปกติ',\n",
       " 'รับรองลูกค้า',\n",
       " 'ฉลองเนื่องในโอกาสสำคัญเช่น วันเกิด งานรับปริญญา',\n",
       " 'เทศกาลสำคัญของประเทศไทย เช่น วันพ่อ ปีใหม่ ตรุษจีน',\n",
       " 'สังสรรค์',\n",
       " 'เทศกาลสำคัญของประเทศไทย เช่น วันพ่อ ปีใหม่ ตรุษจีน',\n",
       " 'สังสรรค์',\n",
       " 'ฉลองเนื่องในโอกาสสำคัญเช่น วันเกิด งานรับปริญญา',\n",
       " 'รับประทานนอกบ้านเป็นปกติ',\n",
       " 'สังสรรค์',\n",
       " 'สังสรรค์',\n",
       " 'ออกเดท',\n",
       " 'ฉลองเนื่องในโอกาสสำคัญเช่น วันเกิด งานรับปริญญา',\n",
       " 'เทศกาลสำคัญของประเทศไทย เช่น วันพ่อ ปีใหม่ ตรุษจีน',\n",
       " 'รับประทานนอกบ้านเป็นปกติ',\n",
       " 'สังสรรค์',\n",
       " 'สังสรรค์',\n",
       " 'งานเลี้ยงบริษัทฯ',\n",
       " 'รับประทานนอกบ้านเป็นปกติ',\n",
       " 'เทศกาลสำคัญของประเทศไทย เช่น วันพ่อ ปีใหม่ ตรุษจีน',\n",
       " 'รับประทานนอกบ้านเป็นปกติ',\n",
       " 'สังสรรค์',\n",
       " 'รับประทานนอกบ้านเป็นปกติ',\n",
       " 'ปกตินัดรับประทานอาหารกับเพื่อนบ่อย',\n",
       " 'สังสรรค์',\n",
       " 'ฉลองเนื่องในโอกาสสำคัญเช่น วันเกิด งานรับปริญญา',\n",
       " 'รับประทานนอกบ้านเป็นปกติ',\n",
       " 'สังสรรค์',\n",
       " 'สังสรรค์',\n",
       " 'ไม่เกี่ยวกับโอกาสใดๆ แต่เป็นฟิลลิ่งอยากกินข้าวนอกบ้าง',\n",
       " 'รับประทานนอกบ้านเป็นปกติ',\n",
       " 'รับรองลูกค้า',\n",
       " 'ออกเดท',\n",
       " 'แล้วแต่อารมณ์']"
      ]
     },
     "execution_count": 61,
     "metadata": {},
     "output_type": "execute_result"
    }
   ],
   "source": [
    "occasion"
   ]
  },
  {
   "cell_type": "code",
   "execution_count": 62,
   "id": "772d67ca",
   "metadata": {},
   "outputs": [
    {
     "data": {
      "text/plain": [
       "{'สังสรรค์': 125,\n",
       " 'รับประทานนอกบ้านเป็นปกติ': 123,\n",
       " 'ฉลองเนื่องในโอกาสสำคัญเช่น วันเกิด งานรับปริญญา': 59,\n",
       " 'เทศกาลสำคัญของประเทศไทย เช่น วันพ่อ ปีใหม่ ตรุษจีน': 32,\n",
       " 'ออกเดท': 24,\n",
       " 'รับรองลูกค้า': 11,\n",
       " 'งานเลี้ยงบริษัทฯ': 9,\n",
       " 'มีเวลาว่างหลังจากทำงาน': 1,\n",
       " 'อยากกิน': 1,\n",
       " 'ที่บ้านไม่มีให้กิน': 1,\n",
       " 'เข้าออฟฟิส': 1,\n",
       " 'ไปกับครอบครัว': 1,\n",
       " 'พร้อมกับครอบครัว': 1,\n",
       " 'พาพ่อแม่ทานข้าว': 1,\n",
       " 'วันทำงาน': 1,\n",
       " 'ออกไปห้าง หรือทำธุระนอกบ้าน': 1,\n",
       " 'ที่ทำงาน': 1,\n",
       " 'เบื่ออาหารที่บ้าน สิ่งที่อยากกินต้องได้กิน': 1,\n",
       " 'ทานข้าวกับเพื่อน': 1,\n",
       " 'ปกตินัดรับประทานอาหารกับเพื่อนบ่อย': 1,\n",
       " 'ไม่เกี่ยวกับโอกาสใดๆ แต่เป็นฟิลลิ่งอยากกินข้าวนอกบ้าง': 1,\n",
       " 'แล้วแต่อารมณ์': 1}"
      ]
     },
     "execution_count": 62,
     "metadata": {},
     "output_type": "execute_result"
    }
   ],
   "source": [
    "occasion_count = {i:occasion.count(i) for i in occasion}\n",
    "occasion_count = {k: v for k, v in sorted(occasion_count.items(), key=lambda item: item[1],reverse=True)}\n",
    "occasion_count"
   ]
  },
  {
   "cell_type": "code",
   "execution_count": 63,
   "id": "90bc332b",
   "metadata": {},
   "outputs": [
    {
     "data": {
      "text/plain": [
       "['สังสรรค์',\n",
       " 'รับประทานนอกบ้านเป็นปกติ',\n",
       " 'ฉลองเนื่องในโอกาสสำคัญเช่น วันเกิด งานรับปริญญา',\n",
       " 'เทศกาลสำคัญของประเทศไทย เช่น วันพ่อ ปีใหม่ ตรุษจีน',\n",
       " 'ออกเดท',\n",
       " 'รับรองลูกค้า',\n",
       " 'งานเลี้ยงบริษัทฯ']"
      ]
     },
     "execution_count": 63,
     "metadata": {},
     "output_type": "execute_result"
    }
   ],
   "source": [
    "occasion_new = [k for k, v in occasion_count.items() if v!=1]\n",
    "occasion_new"
   ]
  },
  {
   "cell_type": "code",
   "execution_count": 64,
   "id": "8fdeab66",
   "metadata": {},
   "outputs": [
    {
     "data": {
      "text/plain": [
       "15"
      ]
     },
     "execution_count": 64,
     "metadata": {},
     "output_type": "execute_result"
    }
   ],
   "source": [
    "sum_other = sum([1 for k, v in occasion_count.items() if v==1])\n",
    "sum_other"
   ]
  },
  {
   "cell_type": "code",
   "execution_count": 65,
   "id": "b3c31970",
   "metadata": {},
   "outputs": [
    {
     "data": {
      "text/plain": [
       "{'สังสรรค์': 125,\n",
       " 'รับประทานนอกบ้านเป็นปกติ': 123,\n",
       " 'ฉลองเนื่องในโอกาสสำคัญเช่น วันเกิด งานรับปริญญา': 59,\n",
       " 'เทศกาลสำคัญของประเทศไทย เช่น วันพ่อ ปีใหม่ ตรุษจีน': 32,\n",
       " 'ออกเดท': 24,\n",
       " 'อื่นๆ': 15,\n",
       " 'รับรองลูกค้า': 11,\n",
       " 'งานเลี้ยงบริษัทฯ': 9}"
      ]
     },
     "execution_count": 65,
     "metadata": {},
     "output_type": "execute_result"
    }
   ],
   "source": [
    "occasion_count = {i:occasion.count(i) for i in occasion if i in occasion_new}\n",
    "occasion_count['อื่นๆ'] = sum_other\n",
    "occasion_count = {k: v for k, v in sorted(occasion_count.items(), key=lambda item: item[1],reverse=True)}\n",
    "occasion_count"
   ]
  },
  {
   "cell_type": "code",
   "execution_count": 66,
   "id": "a2d6bc00",
   "metadata": {},
   "outputs": [
    {
     "data": {
      "text/plain": [
       "<BarContainer object of 8 artists>"
      ]
     },
     "execution_count": 66,
     "metadata": {},
     "output_type": "execute_result"
    },
    {
     "name": "stderr",
     "output_type": "stream",
     "text": [
      "/home/sun/anaconda3/envs/covid-19/lib/python3.8/site-packages/matplotlib/backends/backend_agg.py:240: RuntimeWarning: Glyph 3626 missing from current font.\n",
      "  font.set_text(s, 0.0, flags=flags)\n",
      "/home/sun/anaconda3/envs/covid-19/lib/python3.8/site-packages/matplotlib/backends/backend_agg.py:240: RuntimeWarning: Glyph 3660 missing from current font.\n",
      "  font.set_text(s, 0.0, flags=flags)\n",
      "/home/sun/anaconda3/envs/covid-19/lib/python3.8/site-packages/matplotlib/backends/backend_agg.py:240: RuntimeWarning: Glyph 3632 missing from current font.\n",
      "  font.set_text(s, 0.0, flags=flags)\n",
      "/home/sun/anaconda3/envs/covid-19/lib/python3.8/site-packages/matplotlib/backends/backend_agg.py:240: RuntimeWarning: Glyph 3655 missing from current font.\n",
      "  font.set_text(s, 0.0, flags=flags)\n",
      "/home/sun/anaconda3/envs/covid-19/lib/python3.8/site-packages/matplotlib/backends/backend_agg.py:240: RuntimeWarning: Glyph 3605 missing from current font.\n",
      "  font.set_text(s, 0.0, flags=flags)\n",
      "/home/sun/anaconda3/envs/covid-19/lib/python3.8/site-packages/matplotlib/backends/backend_agg.py:240: RuntimeWarning: Glyph 3636 missing from current font.\n",
      "  font.set_text(s, 0.0, flags=flags)\n",
      "/home/sun/anaconda3/envs/covid-19/lib/python3.8/site-packages/matplotlib/backends/backend_agg.py:240: RuntimeWarning: Glyph 3593 missing from current font.\n",
      "  font.set_text(s, 0.0, flags=flags)\n",
      "/home/sun/anaconda3/envs/covid-19/lib/python3.8/site-packages/matplotlib/backends/backend_agg.py:240: RuntimeWarning: Glyph 3639 missing from current font.\n",
      "  font.set_text(s, 0.0, flags=flags)\n",
      "/home/sun/anaconda3/envs/covid-19/lib/python3.8/site-packages/matplotlib/backends/backend_agg.py:240: RuntimeWarning: Glyph 3650 missing from current font.\n",
      "  font.set_text(s, 0.0, flags=flags)\n",
      "/home/sun/anaconda3/envs/covid-19/lib/python3.8/site-packages/matplotlib/backends/backend_agg.py:240: RuntimeWarning: Glyph 3635 missing from current font.\n",
      "  font.set_text(s, 0.0, flags=flags)\n",
      "/home/sun/anaconda3/envs/covid-19/lib/python3.8/site-packages/matplotlib/backends/backend_agg.py:240: RuntimeWarning: Glyph 3597 missing from current font.\n",
      "  font.set_text(s, 0.0, flags=flags)\n",
      "/home/sun/anaconda3/envs/covid-19/lib/python3.8/site-packages/matplotlib/backends/backend_agg.py:240: RuntimeWarning: Glyph 3594 missing from current font.\n",
      "  font.set_text(s, 0.0, flags=flags)\n",
      "/home/sun/anaconda3/envs/covid-19/lib/python3.8/site-packages/matplotlib/backends/backend_agg.py:240: RuntimeWarning: Glyph 3604 missing from current font.\n",
      "  font.set_text(s, 0.0, flags=flags)\n",
      "/home/sun/anaconda3/envs/covid-19/lib/python3.8/site-packages/matplotlib/backends/backend_agg.py:240: RuntimeWarning: Glyph 3624 missing from current font.\n",
      "  font.set_text(s, 0.0, flags=flags)\n",
      "/home/sun/anaconda3/envs/covid-19/lib/python3.8/site-packages/matplotlib/backends/backend_agg.py:240: RuntimeWarning: Glyph 3614 missing from current font.\n",
      "  font.set_text(s, 0.0, flags=flags)\n",
      "/home/sun/anaconda3/envs/covid-19/lib/python3.8/site-packages/matplotlib/backends/backend_agg.py:240: RuntimeWarning: Glyph 3637 missing from current font.\n",
      "  font.set_text(s, 0.0, flags=flags)\n",
      "/home/sun/anaconda3/envs/covid-19/lib/python3.8/site-packages/matplotlib/backends/backend_agg.py:240: RuntimeWarning: Glyph 3640 missing from current font.\n",
      "  font.set_text(s, 0.0, flags=flags)\n",
      "/home/sun/anaconda3/envs/covid-19/lib/python3.8/site-packages/matplotlib/backends/backend_agg.py:240: RuntimeWarning: Glyph 3625 missing from current font.\n",
      "  font.set_text(s, 0.0, flags=flags)\n",
      "/home/sun/anaconda3/envs/covid-19/lib/python3.8/site-packages/matplotlib/backends/backend_agg.py:240: RuntimeWarning: Glyph 3592 missing from current font.\n",
      "  font.set_text(s, 0.0, flags=flags)\n",
      "/home/sun/anaconda3/envs/covid-19/lib/python3.8/site-packages/matplotlib/backends/backend_agg.py:240: RuntimeWarning: Glyph 3654 missing from current font.\n",
      "  font.set_text(s, 0.0, flags=flags)\n",
      "/home/sun/anaconda3/envs/covid-19/lib/python3.8/site-packages/matplotlib/backends/backend_agg.py:240: RuntimeWarning: Glyph 3641 missing from current font.\n",
      "  font.set_text(s, 0.0, flags=flags)\n",
      "/home/sun/anaconda3/envs/covid-19/lib/python3.8/site-packages/matplotlib/backends/backend_agg.py:240: RuntimeWarning: Glyph 3631 missing from current font.\n",
      "  font.set_text(s, 0.0, flags=flags)\n",
      "/home/sun/anaconda3/envs/covid-19/lib/python3.8/site-packages/matplotlib/backends/backend_agg.py:203: RuntimeWarning: Glyph 3626 missing from current font.\n",
      "  font.set_text(s, 0, flags=flags)\n",
      "/home/sun/anaconda3/envs/covid-19/lib/python3.8/site-packages/matplotlib/backends/backend_agg.py:203: RuntimeWarning: Glyph 3660 missing from current font.\n",
      "  font.set_text(s, 0, flags=flags)\n",
      "/home/sun/anaconda3/envs/covid-19/lib/python3.8/site-packages/matplotlib/backends/backend_agg.py:203: RuntimeWarning: Glyph 3632 missing from current font.\n",
      "  font.set_text(s, 0, flags=flags)\n",
      "/home/sun/anaconda3/envs/covid-19/lib/python3.8/site-packages/matplotlib/backends/backend_agg.py:203: RuntimeWarning: Glyph 3655 missing from current font.\n",
      "  font.set_text(s, 0, flags=flags)\n",
      "/home/sun/anaconda3/envs/covid-19/lib/python3.8/site-packages/matplotlib/backends/backend_agg.py:203: RuntimeWarning: Glyph 3605 missing from current font.\n",
      "  font.set_text(s, 0, flags=flags)\n",
      "/home/sun/anaconda3/envs/covid-19/lib/python3.8/site-packages/matplotlib/backends/backend_agg.py:203: RuntimeWarning: Glyph 3636 missing from current font.\n",
      "  font.set_text(s, 0, flags=flags)\n",
      "/home/sun/anaconda3/envs/covid-19/lib/python3.8/site-packages/matplotlib/backends/backend_agg.py:203: RuntimeWarning: Glyph 3593 missing from current font.\n",
      "  font.set_text(s, 0, flags=flags)\n",
      "/home/sun/anaconda3/envs/covid-19/lib/python3.8/site-packages/matplotlib/backends/backend_agg.py:203: RuntimeWarning: Glyph 3639 missing from current font.\n",
      "  font.set_text(s, 0, flags=flags)\n",
      "/home/sun/anaconda3/envs/covid-19/lib/python3.8/site-packages/matplotlib/backends/backend_agg.py:203: RuntimeWarning: Glyph 3650 missing from current font.\n",
      "  font.set_text(s, 0, flags=flags)\n",
      "/home/sun/anaconda3/envs/covid-19/lib/python3.8/site-packages/matplotlib/backends/backend_agg.py:203: RuntimeWarning: Glyph 3635 missing from current font.\n",
      "  font.set_text(s, 0, flags=flags)\n",
      "/home/sun/anaconda3/envs/covid-19/lib/python3.8/site-packages/matplotlib/backends/backend_agg.py:203: RuntimeWarning: Glyph 3597 missing from current font.\n",
      "  font.set_text(s, 0, flags=flags)\n",
      "/home/sun/anaconda3/envs/covid-19/lib/python3.8/site-packages/matplotlib/backends/backend_agg.py:203: RuntimeWarning: Glyph 3594 missing from current font.\n",
      "  font.set_text(s, 0, flags=flags)\n",
      "/home/sun/anaconda3/envs/covid-19/lib/python3.8/site-packages/matplotlib/backends/backend_agg.py:203: RuntimeWarning: Glyph 3604 missing from current font.\n",
      "  font.set_text(s, 0, flags=flags)\n",
      "/home/sun/anaconda3/envs/covid-19/lib/python3.8/site-packages/matplotlib/backends/backend_agg.py:203: RuntimeWarning: Glyph 3624 missing from current font.\n",
      "  font.set_text(s, 0, flags=flags)\n",
      "/home/sun/anaconda3/envs/covid-19/lib/python3.8/site-packages/matplotlib/backends/backend_agg.py:203: RuntimeWarning: Glyph 3614 missing from current font.\n",
      "  font.set_text(s, 0, flags=flags)\n",
      "/home/sun/anaconda3/envs/covid-19/lib/python3.8/site-packages/matplotlib/backends/backend_agg.py:203: RuntimeWarning: Glyph 3637 missing from current font.\n",
      "  font.set_text(s, 0, flags=flags)\n",
      "/home/sun/anaconda3/envs/covid-19/lib/python3.8/site-packages/matplotlib/backends/backend_agg.py:203: RuntimeWarning: Glyph 3640 missing from current font.\n",
      "  font.set_text(s, 0, flags=flags)\n",
      "/home/sun/anaconda3/envs/covid-19/lib/python3.8/site-packages/matplotlib/backends/backend_agg.py:203: RuntimeWarning: Glyph 3625 missing from current font.\n",
      "  font.set_text(s, 0, flags=flags)\n",
      "/home/sun/anaconda3/envs/covid-19/lib/python3.8/site-packages/matplotlib/backends/backend_agg.py:203: RuntimeWarning: Glyph 3592 missing from current font.\n",
      "  font.set_text(s, 0, flags=flags)\n",
      "/home/sun/anaconda3/envs/covid-19/lib/python3.8/site-packages/matplotlib/backends/backend_agg.py:203: RuntimeWarning: Glyph 3654 missing from current font.\n",
      "  font.set_text(s, 0, flags=flags)\n",
      "/home/sun/anaconda3/envs/covid-19/lib/python3.8/site-packages/matplotlib/backends/backend_agg.py:203: RuntimeWarning: Glyph 3641 missing from current font.\n",
      "  font.set_text(s, 0, flags=flags)\n",
      "/home/sun/anaconda3/envs/covid-19/lib/python3.8/site-packages/matplotlib/backends/backend_agg.py:203: RuntimeWarning: Glyph 3631 missing from current font.\n",
      "  font.set_text(s, 0, flags=flags)\n"
     ]
    },
    {
     "data": {
      "image/png": "[encoded data removed]",
      "text/plain": [
       "<Figure size 432x288 with 1 Axes>"
      ]
     },
     "metadata": {
      "needs_background": "light"
     },
     "output_type": "display_data"
    }
   ],
   "source": [
    "date = list(occasion_count.keys())\n",
    "values = list(occasion_count.values())\n",
    "  \n",
    "# fig = plt.figure(figsize = (10, 5))\n",
    " \n",
    "# creating the bar plot\n",
    "\n",
    "\n",
    "plt.bar(date, values, color ='maroon',\n",
    "        width = 0.6)"
   ]
  },
  {
   "cell_type": "code",
   "execution_count": null,
   "id": "8c9025ea",
   "metadata": {},
   "outputs": [],
   "source": []
  },
  {
   "cell_type": "markdown",
   "id": "0f5be099",
   "metadata": {},
   "source": [
    "# 5. ท่านมักรับประทานอาหารนอกบ้านในช่วงเวลาใด"
   ]
  },
  {
   "cell_type": "code",
   "execution_count": 67,
   "id": "78dcc1a1",
   "metadata": {},
   "outputs": [
    {
     "data": {
      "text/plain": [
       "0        17.00-21.00 น.\n",
       "1        17.00-21.00 น.\n",
       "2      11.00 - 14.00 น.\n",
       "3        17.00-21.00 น.\n",
       "4        17.00-21.00 น.\n",
       "             ...       \n",
       "194      17.00-21.00 น.\n",
       "195      17.00-21.00 น.\n",
       "196      17.00-21.00 น.\n",
       "197      17.00-21.00 น.\n",
       "198    14.00 - 17.00 น.\n",
       "Name: 5. ท่านมักรับประทานอาหารนอกบ้านในช่วงเวลาใด, Length: 199, dtype: object"
      ]
     },
     "execution_count": 67,
     "metadata": {},
     "output_type": "execute_result"
    }
   ],
   "source": [
    "col_name[5]"
   ]
  },
  {
   "cell_type": "code",
   "execution_count": 68,
   "id": "1a74d3d1",
   "metadata": {},
   "outputs": [
    {
     "data": {
      "text/plain": [
       "17.00-21.00 น.        139\n",
       "11.00 - 14.00 น.       35\n",
       "14.00 - 17.00 น.       23\n",
       "21.00 น. เป็นต้นไป      2\n",
       "Name: 5. ท่านมักรับประทานอาหารนอกบ้านในช่วงเวลาใด, dtype: int64"
      ]
     },
     "execution_count": 68,
     "metadata": {},
     "output_type": "execute_result"
    }
   ],
   "source": [
    "col_name[5].value_counts()"
   ]
  },
  {
   "cell_type": "code",
   "execution_count": 69,
   "id": "f44163e0",
   "metadata": {},
   "outputs": [
    {
     "data": {
      "text/plain": [
       "{'17.00-21.00 น.': 141, '11.00 - 14.00 น.': 35, '14.00 - 17.00 น.': 23}"
      ]
     },
     "execution_count": 69,
     "metadata": {},
     "output_type": "execute_result"
    }
   ],
   "source": [
    "period = {k:v for k,v in col_name[5].value_counts()[:-1].items()}\n",
    "period['17.00-21.00 น.'] = period['17.00-21.00 น.'] + col_name[5].value_counts()[-1]\n",
    "period"
   ]
  },
  {
   "cell_type": "code",
   "execution_count": 70,
   "id": "d18bc979",
   "metadata": {},
   "outputs": [
    {
     "data": {
      "text/plain": [
       "{'11.00 - 14.00 น.': 35, '14.00 - 17.00 น.': 23, '17.00-21.00 น.': 141}"
      ]
     },
     "execution_count": 70,
     "metadata": {},
     "output_type": "execute_result"
    }
   ],
   "source": [
    "period = {k: v for k, v in sorted(period.items(), key=lambda item: item[0][0:2])}\n",
    "period"
   ]
  },
  {
   "cell_type": "code",
   "execution_count": 71,
   "id": "c1103855",
   "metadata": {},
   "outputs": [
    {
     "data": {
      "text/plain": [
       "<BarContainer object of 3 artists>"
      ]
     },
     "execution_count": 71,
     "metadata": {},
     "output_type": "execute_result"
    },
    {
     "data": {
      "image/png": "[encoded data removed]",
      "text/plain": [
       "<Figure size 432x288 with 1 Axes>"
      ]
     },
     "metadata": {
      "needs_background": "light"
     },
     "output_type": "display_data"
    }
   ],
   "source": [
    "date = list(period.keys())\n",
    "values = list(period.values())\n",
    "  \n",
    "# fig = plt.figure(figsize = (10, 5))\n",
    " \n",
    "# creating the bar plot\n",
    "\n",
    "\n",
    "plt.bar(date, values, color ='maroon',\n",
    "        width = 0.6)"
   ]
  },
  {
   "cell_type": "code",
   "execution_count": null,
   "id": "5fbee719",
   "metadata": {},
   "outputs": [],
   "source": []
  },
  {
   "cell_type": "markdown",
   "id": "d191ccfb",
   "metadata": {},
   "source": [
    "# 6.เมื่อท่านรับประทานอาหารนอกบ้านส่วนใหญ่ ท่านเลือกรับประทานอาหารในรูปแบบใด"
   ]
  },
  {
   "cell_type": "code",
   "execution_count": 72,
   "id": "c04c9e66",
   "metadata": {},
   "outputs": [
    {
     "data": {
      "text/plain": [
       "0      A la cart\n",
       "1         Buffet\n",
       "2      A la cart\n",
       "3      A la cart\n",
       "4      A la cart\n",
       "         ...    \n",
       "194    A la cart\n",
       "195    A la cart\n",
       "196       Buffet\n",
       "197    A la cart\n",
       "198    A la cart\n",
       "Name: 6.เมื่อท่านรับประทานอาหารนอกบ้านส่วนใหญ่ ท่านเลือกรับประทานอาหารในรูปแบบใด, Length: 199, dtype: object"
      ]
     },
     "execution_count": 72,
     "metadata": {},
     "output_type": "execute_result"
    }
   ],
   "source": [
    "col_name[6]"
   ]
  },
  {
   "cell_type": "code",
   "execution_count": 73,
   "id": "fbab0e03",
   "metadata": {},
   "outputs": [
    {
     "data": {
      "text/plain": [
       "A la cart    161\n",
       "Buffet        38\n",
       "Name: 6.เมื่อท่านรับประทานอาหารนอกบ้านส่วนใหญ่ ท่านเลือกรับประทานอาหารในรูปแบบใด, dtype: int64"
      ]
     },
     "execution_count": 73,
     "metadata": {},
     "output_type": "execute_result"
    }
   ],
   "source": [
    "category  = col_name[6].value_counts()\n",
    "category"
   ]
  },
  {
   "cell_type": "code",
   "execution_count": 74,
   "id": "d74fcece",
   "metadata": {},
   "outputs": [
    {
     "data": {
      "text/plain": [
       "<BarContainer object of 2 artists>"
      ]
     },
     "execution_count": 74,
     "metadata": {},
     "output_type": "execute_result"
    },
    {
     "data": {
      "image/png": "[encoded data removed]",
      "text/plain": [
       "<Figure size 432x288 with 1 Axes>"
      ]
     },
     "metadata": {
      "needs_background": "light"
     },
     "output_type": "display_data"
    }
   ],
   "source": [
    "date = list(category.index)\n",
    "values = list(category.values)\n",
    "  \n",
    "# fig = plt.figure(figsize = (10, 5))\n",
    " \n",
    "# creating the bar plot\n",
    "\n",
    "\n",
    "plt.bar(date, values, color ='maroon',\n",
    "        width = 0.6)"
   ]
  },
  {
   "cell_type": "code",
   "execution_count": null,
   "id": "847f7032",
   "metadata": {},
   "outputs": [],
   "source": []
  },
  {
   "cell_type": "markdown",
   "id": "afcf5408",
   "metadata": {},
   "source": [
    "# 7.1 ท่านมักจะเลือกรับประทานอาหารนอกบ้านที่ใด (เลือก 2 อันดับแรก)  [อันดับที่ 1]"
   ]
  },
  {
   "cell_type": "code",
   "execution_count": 75,
   "id": "26bc2004",
   "metadata": {},
   "outputs": [
    {
     "data": {
      "text/plain": [
       "0      ห้างสรรพสินค้า หรือ Community Mall\n",
       "1                   ร้านอาหาร Stand Alone\n",
       "2      ห้างสรรพสินค้า หรือ Community Mall\n",
       "3      ห้างสรรพสินค้า หรือ Community Mall\n",
       "4      ห้างสรรพสินค้า หรือ Community Mall\n",
       "                      ...                \n",
       "194    ห้างสรรพสินค้า หรือ Community Mall\n",
       "195                 ร้านอาหาร Stand Alone\n",
       "196                 ร้านอาหาร Stand Alone\n",
       "197                 ร้านอาหาร Stand Alone\n",
       "198    ห้างสรรพสินค้า หรือ Community Mall\n",
       "Name: 7.1 ท่านมักจะเลือกรับประทานอาหารนอกบ้านที่ใด (เลือก 2 อันดับแรก)  [อันดับที่ 1], Length: 199, dtype: object"
      ]
     },
     "execution_count": 75,
     "metadata": {},
     "output_type": "execute_result"
    }
   ],
   "source": [
    "col_name[7]"
   ]
  },
  {
   "cell_type": "code",
   "execution_count": 76,
   "id": "354b7eb4",
   "metadata": {},
   "outputs": [
    {
     "data": {
      "text/plain": [
       "ห้างสรรพสินค้า หรือ Community Mall    142\n",
       "ร้านอาหาร Stand Alone                  56\n",
       "โรงแรม                                  1\n",
       "Name: 7.1 ท่านมักจะเลือกรับประทานอาหารนอกบ้านที่ใด (เลือก 2 อันดับแรก)  [อันดับที่ 1], dtype: int64"
      ]
     },
     "execution_count": 76,
     "metadata": {},
     "output_type": "execute_result"
    }
   ],
   "source": [
    "rank_1 = col_name[7].value_counts()\n",
    "rank_1"
   ]
  },
  {
   "cell_type": "code",
   "execution_count": 77,
   "id": "53d95afc",
   "metadata": {},
   "outputs": [
    {
     "data": {
      "text/plain": [
       "<BarContainer object of 3 artists>"
      ]
     },
     "execution_count": 77,
     "metadata": {},
     "output_type": "execute_result"
    },
    {
     "name": "stderr",
     "output_type": "stream",
     "text": [
      "/home/sun/anaconda3/envs/covid-19/lib/python3.8/site-packages/matplotlib/backends/backend_agg.py:240: RuntimeWarning: Glyph 3649 missing from current font.\n",
      "  font.set_text(s, 0.0, flags=flags)\n",
      "/home/sun/anaconda3/envs/covid-19/lib/python3.8/site-packages/matplotlib/backends/backend_agg.py:203: RuntimeWarning: Glyph 3649 missing from current font.\n",
      "  font.set_text(s, 0, flags=flags)\n"
     ]
    },
    {
     "data": {
      "image/png": "[encoded data removed]",
      "text/plain": [
       "<Figure size 432x288 with 1 Axes>"
      ]
     },
     "metadata": {
      "needs_background": "light"
     },
     "output_type": "display_data"
    }
   ],
   "source": [
    "date = list(rank_1.index)\n",
    "values = list(rank_1.values)\n",
    "  \n",
    "# fig = plt.figure(figsize = (10, 5))\n",
    " \n",
    "# creating the bar plot\n",
    "\n",
    "\n",
    "plt.bar(date, values, color ='maroon',\n",
    "        width = 0.6)"
   ]
  },
  {
   "cell_type": "code",
   "execution_count": null,
   "id": "c5cc972a",
   "metadata": {},
   "outputs": [],
   "source": []
  },
  {
   "cell_type": "markdown",
   "id": "0da524b2",
   "metadata": {},
   "source": [
    "# 7.1 ท่านมักจะเลือกรับประทานอาหารนอกบ้านที่ใด (เลือก 2 อันดับแรก)  [อันดับที่ 2]"
   ]
  },
  {
   "cell_type": "code",
   "execution_count": 78,
   "id": "a909eb18",
   "metadata": {},
   "outputs": [
    {
     "data": {
      "text/plain": [
       "0                   ร้านอาหาร Stand Alone\n",
       "1      ห้างสรรพสินค้า หรือ Community Mall\n",
       "2                   ร้านอาหาร Stand Alone\n",
       "3                   ร้านอาหาร Stand Alone\n",
       "4                   ร้านอาหาร Stand Alone\n",
       "                      ...                \n",
       "194                 ร้านอาหาร Stand Alone\n",
       "195    ห้างสรรพสินค้า หรือ Community Mall\n",
       "196    ห้างสรรพสินค้า หรือ Community Mall\n",
       "197    ห้างสรรพสินค้า หรือ Community Mall\n",
       "198                 ร้านอาหาร Stand Alone\n",
       "Name: 7.1 ท่านมักจะเลือกรับประทานอาหารนอกบ้านที่ใด (เลือก 2 อันดับแรก)  [อันดับที่ 2], Length: 199, dtype: object"
      ]
     },
     "execution_count": 78,
     "metadata": {},
     "output_type": "execute_result"
    }
   ],
   "source": [
    "col_name[8]"
   ]
  },
  {
   "cell_type": "code",
   "execution_count": 79,
   "id": "3f5a8139",
   "metadata": {},
   "outputs": [
    {
     "data": {
      "text/plain": [
       "ร้านอาหาร Stand Alone                 138\n",
       "ห้างสรรพสินค้า หรือ Community Mall     54\n",
       "โรงแรม                                  4\n",
       "อื่นๆ                                   3\n",
       "Name: 7.1 ท่านมักจะเลือกรับประทานอาหารนอกบ้านที่ใด (เลือก 2 อันดับแรก)  [อันดับที่ 2], dtype: int64"
      ]
     },
     "execution_count": 79,
     "metadata": {},
     "output_type": "execute_result"
    }
   ],
   "source": [
    "rank_2 = col_name[8].value_counts()\n",
    "rank_2"
   ]
  },
  {
   "cell_type": "code",
   "execution_count": 80,
   "id": "5dd93853",
   "metadata": {},
   "outputs": [
    {
     "data": {
      "text/plain": [
       "<BarContainer object of 4 artists>"
      ]
     },
     "execution_count": 80,
     "metadata": {},
     "output_type": "execute_result"
    },
    {
     "data": {
      "image/png": "[encoded data removed]",
      "text/plain": [
       "<Figure size 432x288 with 1 Axes>"
      ]
     },
     "metadata": {
      "needs_background": "light"
     },
     "output_type": "display_data"
    }
   ],
   "source": [
    "date = list(rank_2.index)\n",
    "values = list(rank_2.values)\n",
    "  \n",
    "# fig = plt.figure(figsize = (10, 5))\n",
    " \n",
    "# creating the bar plot\n",
    "\n",
    "\n",
    "plt.bar(date, values, color ='maroon',\n",
    "        width = 0.6)"
   ]
  },
  {
   "cell_type": "code",
   "execution_count": null,
   "id": "fba71594",
   "metadata": {},
   "outputs": [],
   "source": []
  },
  {
   "cell_type": "markdown",
   "id": "20ad8fb3",
   "metadata": {},
   "source": [
    "# 7.2 หากข้อ 7.1 ตอบอื่นๆ โปรดระบุคำตอบของท่าน"
   ]
  },
  {
   "cell_type": "code",
   "execution_count": 81,
   "id": "48cbf3e3",
   "metadata": {},
   "outputs": [
    {
     "data": {
      "text/plain": [
       "0      NaN\n",
       "1      NaN\n",
       "2      NaN\n",
       "3      NaN\n",
       "4      NaN\n",
       "      ... \n",
       "194    NaN\n",
       "195    NaN\n",
       "196    NaN\n",
       "197    NaN\n",
       "198    NaN\n",
       "Name: 7.2 หากข้อ 7.1 ตอบอื่นๆ โปรดระบุคำตอบของท่าน, Length: 199, dtype: object"
      ]
     },
     "execution_count": 81,
     "metadata": {},
     "output_type": "execute_result"
    }
   ],
   "source": [
    "col_name[9]"
   ]
  },
  {
   "cell_type": "code",
   "execution_count": 82,
   "id": "2f9dfc9d",
   "metadata": {},
   "outputs": [
    {
     "data": {
      "text/plain": [
       "ข้างทาง                              1\n",
       "ราคาพอเหมาะ                          1\n",
       "ห้างสรรพสินค้า                       1\n",
       "central                              1\n",
       "แหล่งของกินเช่น บรรทัดทอง เยาวราช    1\n",
       "-                                    1\n",
       "Name: 7.2 หากข้อ 7.1 ตอบอื่นๆ โปรดระบุคำตอบของท่าน, dtype: int64"
      ]
     },
     "execution_count": 82,
     "metadata": {},
     "output_type": "execute_result"
    }
   ],
   "source": [
    "col_name[9].value_counts()"
   ]
  },
  {
   "cell_type": "code",
   "execution_count": null,
   "id": "d435fad7",
   "metadata": {},
   "outputs": [],
   "source": []
  },
  {
   "cell_type": "markdown",
   "id": "fe5f2d6d",
   "metadata": {},
   "source": [
    "# 8. ท่านมักรับประทานอาหารนอกบ้านกับใคร"
   ]
  },
  {
   "cell_type": "code",
   "execution_count": 83,
   "id": "874a0fc2",
   "metadata": {},
   "outputs": [
    {
     "data": {
      "text/plain": [
       "0        เพื่อน\n",
       "1           แฟน\n",
       "2      ครอบครัว\n",
       "3           แฟน\n",
       "4        เพื่อน\n",
       "         ...   \n",
       "194    ครอบครัว\n",
       "195         แฟน\n",
       "196      เพื่อน\n",
       "197    ครอบครัว\n",
       "198         แฟน\n",
       "Name: 8. ท่านมักรับประทานอาหารนอกบ้านกับใคร, Length: 199, dtype: object"
      ]
     },
     "execution_count": 83,
     "metadata": {},
     "output_type": "execute_result"
    }
   ],
   "source": [
    "col_name[10]"
   ]
  },
  {
   "cell_type": "code",
   "execution_count": 84,
   "id": "d3b452f8",
   "metadata": {},
   "outputs": [
    {
     "data": {
      "text/plain": [
       "ครอบครัว     68\n",
       "เพื่อน       65\n",
       "แฟน          52\n",
       "คนเดียว      10\n",
       "คนใกล้ชิด     4\n",
       "Name: 8. ท่านมักรับประทานอาหารนอกบ้านกับใคร, dtype: int64"
      ]
     },
     "execution_count": 84,
     "metadata": {},
     "output_type": "execute_result"
    }
   ],
   "source": [
    "with_ = col_name[10].value_counts()\n",
    "with_"
   ]
  },
  {
   "cell_type": "code",
   "execution_count": 85,
   "id": "7f8a6513",
   "metadata": {},
   "outputs": [
    {
     "data": {
      "text/plain": [
       "<BarContainer object of 5 artists>"
      ]
     },
     "execution_count": 85,
     "metadata": {},
     "output_type": "execute_result"
    },
    {
     "name": "stderr",
     "output_type": "stream",
     "text": [
      "/home/sun/anaconda3/envs/covid-19/lib/python3.8/site-packages/matplotlib/backends/backend_agg.py:240: RuntimeWarning: Glyph 3615 missing from current font.\n",
      "  font.set_text(s, 0.0, flags=flags)\n",
      "/home/sun/anaconda3/envs/covid-19/lib/python3.8/site-packages/matplotlib/backends/backend_agg.py:203: RuntimeWarning: Glyph 3615 missing from current font.\n",
      "  font.set_text(s, 0, flags=flags)\n"
     ]
    },
    {
     "data": {
      "image/png": "[encoded data removed]",
      "text/plain": [
       "<Figure size 432x288 with 1 Axes>"
      ]
     },
     "metadata": {
      "needs_background": "light"
     },
     "output_type": "display_data"
    }
   ],
   "source": [
    "date = list(with_.index)\n",
    "values = list(with_.values)\n",
    "  \n",
    "# fig = plt.figure(figsize = (10, 5))\n",
    " \n",
    "# creating the bar plot\n",
    "\n",
    "\n",
    "plt.bar(date, values, color ='maroon',\n",
    "        width = 0.6)"
   ]
  },
  {
   "cell_type": "code",
   "execution_count": null,
   "id": "84cdb63f",
   "metadata": {},
   "outputs": [],
   "source": []
  },
  {
   "cell_type": "markdown",
   "id": "5031ed93",
   "metadata": {},
   "source": [
    "# 9. เมื่อท่านรับประทานอาหารนอกบ้าน ท่านมักรับประทานกันทั้งหมดกี่คน (รวมตัวท่าน)"
   ]
  },
  {
   "cell_type": "code",
   "execution_count": 86,
   "id": "f7056360",
   "metadata": {},
   "outputs": [
    {
     "data": {
      "text/plain": [
       "0                  4-5 คน\n",
       "1                  2-3 คน\n",
       "2                  2-3 คน\n",
       "3                  2-3 คน\n",
       "4      มากกว่า 5 คนขึ้นไป\n",
       "              ...        \n",
       "194                2-3 คน\n",
       "195                2-3 คน\n",
       "196                2-3 คน\n",
       "197                2-3 คน\n",
       "198                2-3 คน\n",
       "Name: 9. เมื่อท่านรับประทานอาหารนอกบ้าน ท่านมักรับประทานกันทั้งหมดกี่คน (รวมตัวท่าน), Length: 199, dtype: object"
      ]
     },
     "execution_count": 86,
     "metadata": {},
     "output_type": "execute_result"
    }
   ],
   "source": [
    "col_name[11]"
   ]
  },
  {
   "cell_type": "code",
   "execution_count": 87,
   "id": "90404257",
   "metadata": {},
   "outputs": [
    {
     "data": {
      "text/plain": [
       "2-3 คน                124\n",
       "4-5 คน                 57\n",
       "1 คน                    9\n",
       "มากกว่า 5 คนขึ้นไป      9\n",
       "Name: 9. เมื่อท่านรับประทานอาหารนอกบ้าน ท่านมักรับประทานกันทั้งหมดกี่คน (รวมตัวท่าน), dtype: int64"
      ]
     },
     "execution_count": 87,
     "metadata": {},
     "output_type": "execute_result"
    }
   ],
   "source": [
    "many_with = col_name[11].value_counts()\n",
    "many_with"
   ]
  },
  {
   "cell_type": "code",
   "execution_count": 88,
   "id": "14f8b3f0",
   "metadata": {},
   "outputs": [
    {
     "data": {
      "text/plain": [
       "<BarContainer object of 4 artists>"
      ]
     },
     "execution_count": 88,
     "metadata": {},
     "output_type": "execute_result"
    },
    {
     "data": {
      "image/png": "[encoded data removed]",
      "text/plain": [
       "<Figure size 432x288 with 1 Axes>"
      ]
     },
     "metadata": {
      "needs_background": "light"
     },
     "output_type": "display_data"
    }
   ],
   "source": [
    "date = list(many_with.index)\n",
    "values = list(many_with.values)\n",
    "  \n",
    "# fig = plt.figure(figsize = (10, 5))\n",
    " \n",
    "# creating the bar plot\n",
    "\n",
    "\n",
    "plt.bar(date, values, color ='maroon',\n",
    "        width = 0.6)"
   ]
  },
  {
   "cell_type": "code",
   "execution_count": null,
   "id": "76a11f53",
   "metadata": {},
   "outputs": [],
   "source": []
  },
  {
   "cell_type": "markdown",
   "id": "820b669c",
   "metadata": {},
   "source": [
    "# 10.เมื่อท่านรับประทานอาหารนอกบ้าน มีค่าใช้จ่ายต่อคนอยู่ที่ประมาณเท่าใด"
   ]
  },
  {
   "cell_type": "code",
   "execution_count": 89,
   "id": "80e80385",
   "metadata": {},
   "outputs": [
    {
     "data": {
      "text/plain": [
       "0           501-700 บาทต่อคน\n",
       "1           301-500 บาทต่อคน\n",
       "2           301-500 บาทต่อคน\n",
       "3         700-1,000 บาทต่อคน\n",
       "4         700-1,000 บาทต่อคน\n",
       "               ...          \n",
       "194         101-300 บาทต่อคน\n",
       "195         301-500 บาทต่อคน\n",
       "196         101-300 บาทต่อคน\n",
       "197         501-700 บาทต่อคน\n",
       "198    1,000 บาทต่อคน ขึ้นไป\n",
       "Name: 10.เมื่อท่านรับประทานอาหารนอกบ้าน มีค่าใช้จ่ายต่อคนอยู่ที่ประมาณเท่าใด, Length: 199, dtype: object"
      ]
     },
     "execution_count": 89,
     "metadata": {},
     "output_type": "execute_result"
    }
   ],
   "source": [
    "col_name[12]"
   ]
  },
  {
   "cell_type": "code",
   "execution_count": 90,
   "id": "bf0e52b1",
   "metadata": {},
   "outputs": [
    {
     "data": {
      "text/plain": [
       "301-500 บาทต่อคน         86\n",
       "501-700 บาทต่อคน         43\n",
       "101-300 บาทต่อคน         34\n",
       "700-1,000 บาทต่อคน       27\n",
       "1,000 บาทต่อคน ขึ้นไป     9\n",
       "Name: 10.เมื่อท่านรับประทานอาหารนอกบ้าน มีค่าใช้จ่ายต่อคนอยู่ที่ประมาณเท่าใด, dtype: int64"
      ]
     },
     "execution_count": 90,
     "metadata": {},
     "output_type": "execute_result"
    }
   ],
   "source": [
    "cost = col_name[12].value_counts()\n",
    "cost"
   ]
  },
  {
   "cell_type": "code",
   "execution_count": 91,
   "id": "bf12cf2e",
   "metadata": {},
   "outputs": [
    {
     "data": {
      "text/plain": [
       "<BarContainer object of 5 artists>"
      ]
     },
     "execution_count": 91,
     "metadata": {},
     "output_type": "execute_result"
    },
    {
     "data": {
      "image/png": "[encoded data removed]",
      "text/plain": [
       "<Figure size 432x288 with 1 Axes>"
      ]
     },
     "metadata": {
      "needs_background": "light"
     },
     "output_type": "display_data"
    }
   ],
   "source": [
    "date = list(cost.index)\n",
    "values = list(cost.values)\n",
    "  \n",
    "# fig = plt.figure(figsize = (10, 5))\n",
    " \n",
    "# creating the bar plot\n",
    "\n",
    "\n",
    "plt.bar(date, values, color ='maroon',\n",
    "        width = 0.6)"
   ]
  },
  {
   "cell_type": "code",
   "execution_count": null,
   "id": "fd653c56",
   "metadata": {},
   "outputs": [],
   "source": []
  },
  {
   "cell_type": "markdown",
   "id": "1cbf6504",
   "metadata": {},
   "source": [
    "# 11.เมื่อท่านรับประทานอาหารนอกบ้าน ท่านมักเลือกรับประทานอาหารสัญชาติใด"
   ]
  },
  {
   "cell_type": "code",
   "execution_count": 92,
   "id": "6f88a7dc",
   "metadata": {},
   "outputs": [
    {
     "data": {
      "text/plain": [
       "0      ญี่ปุ่น\n",
       "1      ญี่ปุ่น\n",
       "2          ไทย\n",
       "3      ญี่ปุ่น\n",
       "4      ญี่ปุ่น\n",
       "        ...   \n",
       "194        ไทย\n",
       "195    ญี่ปุ่น\n",
       "196        ไทย\n",
       "197    ญี่ปุ่น\n",
       "198    แล้วแต่\n",
       "Name: 11.เมื่อท่านรับประทานอาหารนอกบ้าน ท่านมักเลือกรับประทานอาหารสัญชาติใด, Length: 199, dtype: object"
      ]
     },
     "execution_count": 92,
     "metadata": {},
     "output_type": "execute_result"
    }
   ],
   "source": [
    "col_name[13]"
   ]
  },
  {
   "cell_type": "code",
   "execution_count": 93,
   "id": "ffc98719",
   "metadata": {},
   "outputs": [
    {
     "data": {
      "text/plain": [
       "ญี่ปุ่น                                        86\n",
       "ไทย                                            63\n",
       "เกาหลี                                         23\n",
       "จีน                                            13\n",
       "อิตาเลียน                                       6\n",
       "นานาชาติ                                        1\n",
       "แล้วแต่                                         1\n",
       "ชาบู                                            1\n",
       "สลับๆกันไป                                      1\n",
       "ทุกอย่าง                                        1\n",
       "อเมริกา                                         1\n",
       "สลับกันไปไม่หนักไปทางอันไหนเลย                  1\n",
       "บุฟเฟต์ต้ม-ปิ้งย่างทุกสัญชาติ แล้วแต่อารมณ์     1\n",
       "Name: 11.เมื่อท่านรับประทานอาหารนอกบ้าน ท่านมักเลือกรับประทานอาหารสัญชาติใด, dtype: int64"
      ]
     },
     "execution_count": 93,
     "metadata": {},
     "output_type": "execute_result"
    }
   ],
   "source": [
    "catc_nation = col_name[13].value_counts()\n",
    "catc_nation"
   ]
  },
  {
   "cell_type": "code",
   "execution_count": 94,
   "id": "6bde7fed",
   "metadata": {},
   "outputs": [
    {
     "data": {
      "text/plain": [
       "{'ญี่ปุ่น': 86,\n",
       " 'ไทย': 63,\n",
       " 'เกาหลี': 23,\n",
       " 'จีน': 13,\n",
       " 'อิตาเลียน': 6,\n",
       " 'นานาชาติ': 1,\n",
       " 'แล้วแต่': 1,\n",
       " 'ชาบู': 1,\n",
       " 'สลับๆกันไป': 1,\n",
       " 'ทุกอย่าง': 1,\n",
       " 'อเมริกา': 1,\n",
       " 'สลับกันไปไม่หนักไปทางอันไหนเลย': 1,\n",
       " 'บุฟเฟต์ต้ม-ปิ้งย่างทุกสัญชาติ แล้วแต่อารมณ์': 1}"
      ]
     },
     "execution_count": 94,
     "metadata": {},
     "output_type": "execute_result"
    }
   ],
   "source": [
    "catc_nation = {k:v for k,v in catc_nation.items()}\n",
    "catc_nation"
   ]
  },
  {
   "cell_type": "code",
   "execution_count": 95,
   "id": "0a6effae",
   "metadata": {},
   "outputs": [
    {
     "data": {
      "text/plain": [
       "8"
      ]
     },
     "execution_count": 95,
     "metadata": {},
     "output_type": "execute_result"
    }
   ],
   "source": [
    "catc_other = sum([v for k,v in catc_nation.items() if v == 1 ])\n",
    "catc_other"
   ]
  },
  {
   "cell_type": "code",
   "execution_count": 96,
   "id": "61a1962c",
   "metadata": {},
   "outputs": [
    {
     "data": {
      "text/plain": [
       "{'ญี่ปุ่น': 86, 'ไทย': 63, 'เกาหลี': 23, 'จีน': 13, 'อิตาเลียน': 6, 'อื่นๆ': 8}"
      ]
     },
     "execution_count": 96,
     "metadata": {},
     "output_type": "execute_result"
    }
   ],
   "source": [
    "catc_new = {k:v for k,v in catc_nation.items() if v != 1}\n",
    "catc_new['อื่นๆ']  = catc_other\n",
    "catc_new"
   ]
  },
  {
   "cell_type": "code",
   "execution_count": 97,
   "id": "a82e850f",
   "metadata": {},
   "outputs": [
    {
     "data": {
      "text/plain": [
       "{'อิตาเลียน': 6, 'อื่นๆ': 8, 'จีน': 13, 'เกาหลี': 23, 'ไทย': 63, 'ญี่ปุ่น': 86}"
      ]
     },
     "execution_count": 97,
     "metadata": {},
     "output_type": "execute_result"
    }
   ],
   "source": [
    "catc_new = {k: v for k, v in sorted(catc_new.items(), key=lambda item: item[1])}\n",
    "catc_new"
   ]
  },
  {
   "cell_type": "code",
   "execution_count": 98,
   "id": "f6d8e9fd",
   "metadata": {},
   "outputs": [
    {
     "data": {
      "text/plain": [
       "<BarContainer object of 6 artists>"
      ]
     },
     "execution_count": 98,
     "metadata": {},
     "output_type": "execute_result"
    },
    {
     "data": {
      "image/png": "[encoded data removed]",
      "text/plain": [
       "<Figure size 432x288 with 1 Axes>"
      ]
     },
     "metadata": {
      "needs_background": "light"
     },
     "output_type": "display_data"
    }
   ],
   "source": [
    "date = list(catc_new.keys())\n",
    "values = list(catc_new.values())\n",
    "  \n",
    "# fig = plt.figure(figsize = (10, 5))\n",
    " \n",
    "# creating the bar plot\n",
    "\n",
    "\n",
    "plt.bar(date, values, color ='maroon',\n",
    "        width = 0.6)"
   ]
  },
  {
   "cell_type": "code",
   "execution_count": null,
   "id": "7e415a59",
   "metadata": {},
   "outputs": [],
   "source": []
  },
  {
   "cell_type": "markdown",
   "id": "5cbdde04",
   "metadata": {},
   "source": [
    "# 12.เมื่อท่านรับประทานอาหารนอกบ้าน  ท่านมักเลือกรับประทานอาหารประเภทใด 3 ลำดับแรก (เช่น สุกี้ ชาบู หมูกะทะ ส้มตำ ยำ เป็นต้น)"
   ]
  },
  {
   "cell_type": "code",
   "execution_count": 108,
   "id": "80fbc36e",
   "metadata": {},
   "outputs": [
    {
     "data": {
      "text/plain": [
       "0           ชาบู ชูซิ ปิ้งย่าง\n",
       "1                         ชาบู\n",
       "2             สุกี้ สเต็ก ชาบู\n",
       "3             สุกี้ ชาบู ส้มตำ\n",
       "4           ชาบู ปิ้งย่าง ชุชิ\n",
       "                ...           \n",
       "194                    หมูกะทะ\n",
       "195        ญี่ปุ่น ส้มตำ สุกี้\n",
       "196         หมูกะทะ  ร้านอาหาร\n",
       "197    Steak ปิ้งย่าง อาหารไทย\n",
       "198                    แล้วแต่\n",
       "Name: 12.เมื่อท่านรับประทานอาหารนอกบ้าน  ท่านมักเลือกรับประทานอาหารประเภทใด 3 ลำดับแรก (เช่น สุกี้ ชาบู หมูกะทะ ส้มตำ ยำ เป็นต้น), Length: 199, dtype: object"
      ]
     },
     "execution_count": 108,
     "metadata": {},
     "output_type": "execute_result"
    }
   ],
   "source": [
    "col_name[14]"
   ]
  },
  {
   "cell_type": "code",
   "execution_count": 109,
   "id": "aebd4628",
   "metadata": {},
   "outputs": [
    {
     "data": {
      "text/plain": [
       "ชาบู                                  7\n",
       "ชาบู สุกี้ ปิ้งย่าง                   5\n",
       "สุกี้ ชาบู ส้มตำ                      4\n",
       "สุกี้                                 4\n",
       "ชาบู ปิ้งย่าง ส้มตำ                   3\n",
       "                                     ..\n",
       "pasta noodle                          1\n",
       "ปิ้งย่าง สุกี้ ชาบู                   1\n",
       "ตามสั่ง สเต๊ก สลัด                    1\n",
       "สุกี้ ชาบู อาหารไทย                   1\n",
       "ชาบู​ /ก๋วยเตี๋ยว​ ราเมน​/ หมูกะทะ    1\n",
       "Name: 12.เมื่อท่านรับประทานอาหารนอกบ้าน  ท่านมักเลือกรับประทานอาหารประเภทใด 3 ลำดับแรก (เช่น สุกี้ ชาบู หมูกะทะ ส้มตำ ยำ เป็นต้น), Length: 165, dtype: int64"
      ]
     },
     "execution_count": 109,
     "metadata": {},
     "output_type": "execute_result"
    }
   ],
   "source": [
    "col_name[14].value_counts()"
   ]
  },
  {
   "cell_type": "code",
   "execution_count": 209,
   "id": "2e1020bf",
   "metadata": {},
   "outputs": [
    {
     "data": {
      "text/plain": [
       "165"
      ]
     },
     "execution_count": 209,
     "metadata": {},
     "output_type": "execute_result"
    }
   ],
   "source": [
    "len(col_name[14].value_counts())"
   ]
  },
  {
   "cell_type": "code",
   "execution_count": 187,
   "id": "cadd9320",
   "metadata": {},
   "outputs": [
    {
     "data": {
      "text/plain": [
       "['ชาบู',\n",
       " 'ชาบู สุกี้ ปิ้งย่าง',\n",
       " 'สุกี้ ชาบู ส้มตำ',\n",
       " 'สุกี้',\n",
       " 'ชาบู ปิ้งย่าง ส้มตำ',\n",
       " 'ส้มตำ สุกี้ ชาบู',\n",
       " 'ชาบู หมูกะทะ ส้มตำ',\n",
       " 'ส้มตำ ก๋วยเตี๋ยว ชาบู ',\n",
       " 'ชาบู หมูกระทะ ส้มตำ',\n",
       " 'ปิ้งย่าง',\n",
       " 'ชาบู สุกี้ หมูกะทะ',\n",
       " 'ชาบู ปิ้งย่าง',\n",
       " 'สุกี้ ชาบู หมูกะทะ',\n",
       " 'ชาบู ปิ้งย่าง ราเมง',\n",
       " 'หมูกะทะ ชาบู ส้มตำ',\n",
       " 'ชาบู สุกี้ ส้มตำ',\n",
       " 'ส้มตำ ชาบู หมูกะทะ',\n",
       " 'ซูชิ',\n",
       " 'ชาบู สุกี้ หมูกระทะ',\n",
       " 'ข้าวตามสั่ง ก๋วยเตี๋ยว สลัด',\n",
       " 'สุกี้ ชาบู หมูกระทะ',\n",
       " 'ยำ ส้มตำ หมูกระทะ',\n",
       " 'ปิ้งย่าง สุกี้ อาหารไทย',\n",
       " '1.สุกี้ 2. ก๋วยเตี๋ยว 3. ซูชิ',\n",
       " 'ซูชิ เสต็ก สุกี้',\n",
       " 'สวนอาหาร คาเฟ่ อื่นๆ',\n",
       " 'ชาบู ญี่ปุ่น อิตาเลียน จีน ฝรั่งเศส',\n",
       " 'ราเมน แกงกะหรี่ ชาบู',\n",
       " 'อาหารญี่ปุ่น พวก ซูชิใดๆ > สุกี้ mk > ชาบู',\n",
       " 'กับข้าวปกติ ชาบู ปิ้งย่าง',\n",
       " 'ก๋วยเตี๋ยว สุกี้ ยำ',\n",
       " 'ชาบู อาหารอีสาน ',\n",
       " 'อาหารญี่ปุ่น',\n",
       " 'ชาบู ปิ้งย่าง สเต๊ก',\n",
       " 'Sushi, Sukiyaki-Shabu, Noodle',\n",
       " 'ชาบู/ หมูกระทะ/ อาหารญี่ปุ่น',\n",
       " 'ชาบู, อาหารจีน, อาหารญี่ปุ่น',\n",
       " 'ปลาดิบ ชาบู ส้มตำ ',\n",
       " 'ญี่ปุ่นซูชิ ส้มตำ อาหารไทย',\n",
       " 'ปิ้งย่าง ญี่ปุ่น จีน',\n",
       " 'Steak ปิ้งย่าง อาหารไทย',\n",
       " 'ปิ้งย่าง, ชาบู, ซีฟู้ด',\n",
       " 'ราเมน',\n",
       " 'สุกี้ ชาบู ปิ้งย่าง',\n",
       " 'ชาบู, ปิ้งย่าง, ส้มตำ',\n",
       " 'สุกี้ ชาบู ญี่ปุ่น',\n",
       " 'ซูชิ พิซซ่า ปิ้งย่าง',\n",
       " 'อาหารญี่ปุ่น,ปิ้งย่าง,ชาบู',\n",
       " 'สุกี้ หมูกะทะ ชาบู',\n",
       " 'ปิ้งย่าง ชาบู อาหารญี่ปุ่นทั่วไป',\n",
       " 'ชาบู ซูชิ ส้มตำ',\n",
       " 'ซูชิ ก๋วยเตี๋ยว ปิ้งย่าง',\n",
       " 'ชาบู ชูซิ ปิ้งย่าง',\n",
       " 'สุกี้ อาหารไทย สเต๊ก',\n",
       " 'สุกี้ สเต็ก ชาบู',\n",
       " 'ส้มตำ สุกี้ ยำ',\n",
       " 'ญี่ปุ่น ส้มตำ สุกี้',\n",
       " 'แล้วแต่',\n",
       " 'อาหารจานเดียว  ซูชิ ราเมน',\n",
       " 'ส้มตำ ชาบู ปิ้งย่าง',\n",
       " 'ส้มตำ ซีฟู้ด ราเมน ',\n",
       " 'หมูกะทะ ส้มตำ สปาเกตตี้',\n",
       " 'อาหารญี่ปุ่น ส้มตำ สุกี้ ',\n",
       " 'ซูชิ ซีฟู้ด ราเมง',\n",
       " 'อาหารญี่ปุ่น ชาบู อาหารเกาหลี',\n",
       " 'ราเมง ชาบู ปิ้งย่าง',\n",
       " 'ข้าวต้มกุ๊ย พิซซ่า ปิ้งย่างเกาหลี ',\n",
       " 'สุกี้ ปิ้งย่าง ร้านอาหารจานเดียว',\n",
       " 'ชาบู หมูกระทะส้มตำ',\n",
       " 'ปิ้งย่าง ราเม็ง แกงกะหรี่',\n",
       " 'หมูกะทะ สุกี้ ส้มตำ',\n",
       " 'ชาบู  pasta กับข้าว',\n",
       " 'อาหารจานเดียว พิซซ่า ไก่ทอด',\n",
       " 'ญี่ปุ่น หมูกะทะ ยำ',\n",
       " 'เบอร์เกอร์, ซูชิ, สุกี้',\n",
       " 'ส้มตำ ติ่มซำ อาหารฝรั่ง',\n",
       " 'ซีฟู้ด ฟาสท์ฟูด ไทย',\n",
       " 'ชาบู  , บุฟเฟต์นานาชาติ  , เพื่อสุขภาพ',\n",
       " 'สุกี้ ชาบู ไก่ทอด',\n",
       " 'ส้มตำ  สุกี้ ชาบู หมูกะทะ',\n",
       " 'พิซซ่า ซาชิมิ หมูกะทะ',\n",
       " 'ก๋วยเตี๋ยว ซูชิ ชาบู',\n",
       " 'สุกี้, ชาบู, อาหารฝรั่ง',\n",
       " 'ชาบู ซูชิ หม่าล่า',\n",
       " 'อาหารเซ็ทญี่ปุ่น ชาบู ตามสั่ง',\n",
       " 'Suki / ชาบู/ ส้มตำ',\n",
       " 'อาหารฝรั่ง อาหารญี่ปุ่น ',\n",
       " ' สุกี้ ก๋วยเตี๋ยว ไก่ทอด',\n",
       " 'ปิ้งย่าง,ชาบู,ซีฟู้ด',\n",
       " 'ปิ้งย่างเกาหลี ชาบู ส้มตำ',\n",
       " 'สุกี้ ชาบู ส้มตำ เสต็ก สลัด ',\n",
       " 'สุกี้ สเต็ก/สลัด ชาบู',\n",
       " 'สุกี้ ส้มตำ ยำ',\n",
       " 'สุกี้ ซีฟู๊ด อาหารไทย',\n",
       " 'สุกี้ หมูกระทะ ญี่ปุ่น',\n",
       " 'สุกี้ , สเต็ก , ส้มตำ',\n",
       " 'อาหารจานเดียว ส้มตำ ชาบู',\n",
       " 'ทอด ต้มยำ และยำ',\n",
       " 'ชาบู ปิ้งย่าง อาหารไทย',\n",
       " 'ชาบู / สุกี้ / ส้มตำ',\n",
       " 'ปิ้งย่าง ซูชิ ชาบู',\n",
       " 'หมูกะทะ',\n",
       " 'ชาบู ส้มตำ ซูชิ',\n",
       " 'สุกี้,พิซซ่า,ชูชิ',\n",
       " 'หมูกะทะ สุกี้ ชาบู',\n",
       " 'ชาบู สัมตำ พิซซ่า',\n",
       " 'อาหารทะเล, ชาบู, ยำ',\n",
       " 'สุกี้ ส้มตำ หมูกะทะ',\n",
       " 'ชาบู ปิ้งย่าง หมูทะ',\n",
       " 'ชาบู ปิ้งย่าง บุฟเฟ่ต์',\n",
       " 'ข้าวกระเพา สปาเก็ตตี้ ส้มตำ',\n",
       " 'ชาบู  ปิ้งย่าง ส้มยำ',\n",
       " 'ต้ม นึ่ง ย่าง',\n",
       " 'ส้มตำ สเต็ก เกาหลี',\n",
       " 'ร้านกับข้าวอาหารตามสั่ง ก๋วยเตี๋ยว ชาบู',\n",
       " 'ชาบู ส้มตำ อาหารญี่ปุ่น',\n",
       " 'ไทย ญี่ปุ่น เกาหลี',\n",
       " 'ชาบู ส้มตำ ยำ',\n",
       " 'ชาบู ปิ้งย่าง อาหารทะเล',\n",
       " 'ปิ้งย่าง ',\n",
       " 'ชาบู ส้มตำ ข้าวหน้าเนื้อ',\n",
       " 'ชาบู ปิ้งย่าง ชุชิ',\n",
       " 'ประเภทเส้น(ก๋วยเตี๋ยว อุด้ง ราเม็ง)  สุกี้   ข้าวราดแกง',\n",
       " 'ชาบู หมูทะ ส้มตำ',\n",
       " 'อาหารไทยปกติ อาหารเกาหลี หมูกะทะ',\n",
       " 'ฟัวกราส์ วากิวยากินิคุ ซูเฟล่',\n",
       " 'สุกี้ อาหารจีน อาหารญี่ปุ่น',\n",
       " 'อิตาเลียน ญี่ปุ่น ปิ้งย่าง',\n",
       " 'ปิ้งย่าง ซูชิ พาสต้า',\n",
       " 'อาหารตามสั่ง ปิ้งย่างชาบู ส้มตำ',\n",
       " 'หมูกะทะ  ร้านอาหาร',\n",
       " 'อาหารญี่ปุ่น ชาบู พิชช่า',\n",
       " 'ปิ้งย่าง , หมูกระทะ, ตามสั่ง',\n",
       " 'สเต็ก ชาบู อาหารไทย',\n",
       " 'สุกี้ หมูกระทะ ส้มตำ',\n",
       " 'ส้มตำ',\n",
       " 'ชาบู ปิ้งย่าง หม่าล่า',\n",
       " 'ชาบู ซูชิ ปิ้งย่าง',\n",
       " 'ชาบู ปิ้งย่าง สลัด',\n",
       " 'ส้มตำ สุกี้ หมูกะทะ',\n",
       " 'ก๋วยเตี๋ยว, ผัดข้าวต่างๆ, ข้าวราด',\n",
       " 'สุกี้ อาหารไทย ส้มตำ',\n",
       " 'อีสาน ปิ้งย่าง ชาบู',\n",
       " 'สุกี้ กับข้าว ส้มตำ',\n",
       " 'แกงส้ม ปลาทอด น้ำพริก',\n",
       " 'หมู\\u200bกะทะ\\u200b',\n",
       " 'ชาบูหม้อไฟ ส้มตำ ปิ้งย่าง ',\n",
       " 'อาหารไทย ปิ้งย่าง&ซูชิ ส้มตำ',\n",
       " 'อาหารประเภทเส้น ชาบู ปิ้งย่าง',\n",
       " 'ส้มตำ ชาบู สุกี้',\n",
       " 'ไก่ทอดเกาหลี ราเมง พาสต้า',\n",
       " 'หมูกะทะ ชาบู เคเอฟซี ',\n",
       " 'ส้มตำ ยำ ข้าวต่มสั่ง',\n",
       " 'ปิ้งย่าง ชาบู ญี่ปุ่น',\n",
       " 'ตามสั่ง, ก๋วยเตี๋ยว, ซูชิ',\n",
       " 'ชาบู หมูกระทะ',\n",
       " 'ปิ้งย่าง ชาบู ส้มตำ',\n",
       " 'สปาเก็ตตี้',\n",
       " 'ซูชิ, สุกี้-ชาบู, ส้มตำ',\n",
       " 'สุกี้ ส้มตำ ปิ้งย่าง',\n",
       " 'pasta noodle',\n",
       " 'ปิ้งย่าง สุกี้ ชาบู',\n",
       " 'ตามสั่ง สเต๊ก สลัด',\n",
       " 'สุกี้ ชาบู อาหารไทย',\n",
       " 'ชาบู\\u200b /ก๋วยเตี๋ยว\\u200b ราเมน\\u200b/ หมูกะทะ']"
      ]
     },
     "execution_count": 187,
     "metadata": {},
     "output_type": "execute_result"
    }
   ],
   "source": [
    "text_list = list(col_name[14].value_counts().index)\n",
    "text_list"
   ]
  },
  {
   "cell_type": "code",
   "execution_count": 189,
   "id": "56545052",
   "metadata": {},
   "outputs": [],
   "source": [
    "def check_non_ch(text_list):\n",
    "    non_ch = []\n",
    "    for text in text_list:\n",
    "        for index in text:\n",
    "            if not re.match(r\"[\\u0E00-\\u0E7Fa-zA-Z' ]\", index):\n",
    "                non_ch.append(index)\n",
    "    return list(set(non_ch))"
   ]
  },
  {
   "cell_type": "code",
   "execution_count": 190,
   "id": "b1deb7a1",
   "metadata": {},
   "outputs": [
    {
     "data": {
      "text/plain": [
       "['\\u200b', '2', '(', '>', '&', '1', ',', '-', ')', '/', '.', '3']"
      ]
     },
     "execution_count": 190,
     "metadata": {},
     "output_type": "execute_result"
    }
   ],
   "source": [
    "check_non_ch(text_list)"
   ]
  },
  {
   "cell_type": "code",
   "execution_count": 205,
   "id": "69132e41",
   "metadata": {},
   "outputs": [
    {
     "data": {
      "text/plain": [
       "['\\u200b', '2', '(', '>', '&', '1', ',', '-', ')', '/', '.', '3']"
      ]
     },
     "execution_count": 205,
     "metadata": {},
     "output_type": "execute_result"
    }
   ],
   "source": [
    "check_non_ch = [index for text in text_list for index in text if not re.match(r\"[\\u0E00-\\u0E7Fa-zA-Z' ]\", index)]\n",
    "check_non_ch = list(set(check_non_ch))\n",
    "check_non_ch"
   ]
  },
  {
   "cell_type": "code",
   "execution_count": 206,
   "id": "a908e8fd",
   "metadata": {},
   "outputs": [
    {
     "data": {
      "text/plain": [
       "['\\u200b', '2', '(', '>', '&', '1', ',', ')', '/', '.', '3']"
      ]
     },
     "execution_count": 206,
     "metadata": {},
     "output_type": "execute_result"
    }
   ],
   "source": [
    "check_non_ch.remove(\"-\")\n",
    "check_non_ch"
   ]
  },
  {
   "cell_type": "code",
   "execution_count": 207,
   "id": "3117aa80",
   "metadata": {},
   "outputs": [],
   "source": [
    "def text_process(text,check_non_ch):\n",
    "    for ch in check_non_ch:\n",
    "        if ch in text :\n",
    "            text = text.replace(ch,\" \")\n",
    "    return text\n",
    "        "
   ]
  },
  {
   "cell_type": "code",
   "execution_count": 215,
   "id": "a9578ce9",
   "metadata": {},
   "outputs": [
    {
     "data": {
      "text/plain": [
       "['Sushi', 'Sukiyaki-Shabu', 'Noodle']"
      ]
     },
     "execution_count": 215,
     "metadata": {},
     "output_type": "execute_result"
    }
   ],
   "source": [
    "text = 'Sushi, Sukiyaki-Shabu, Noodle'\n",
    "a = text_process(text,check_non_ch)\n",
    "\n",
    "re.split(\"\\s+\",a)"
   ]
  },
  {
   "cell_type": "code",
   "execution_count": 216,
   "id": "d66fe935",
   "metadata": {},
   "outputs": [
    {
     "data": {
      "text/plain": [
       "['อาหารญี่ปุ่น', 'พวก', 'ซูชิใดๆ', 'สุกี้', 'mk', 'ชาบู']"
      ]
     },
     "execution_count": 216,
     "metadata": {},
     "output_type": "execute_result"
    }
   ],
   "source": [
    "text = 'อาหารญี่ปุ่น พวก ซูชิใดๆ > สุกี้ mk > ชาบู'\n",
    "a = text_process(text,check_non_ch)\n",
    "\n",
    "re.split(\"\\s+\",a)"
   ]
  },
  {
   "cell_type": "code",
   "execution_count": 217,
   "id": "adeeb9d0",
   "metadata": {},
   "outputs": [],
   "source": [
    "pattern = \"\\s+\"\n",
    "split_ch = [re.split(pattern,text_process(text,check_non_ch)) for text in text_list]"
   ]
  },
  {
   "cell_type": "code",
   "execution_count": 218,
   "id": "6034b135",
   "metadata": {},
   "outputs": [
    {
     "data": {
      "text/plain": [
       "[['ชาบู'],\n",
       " ['ชาบู', 'สุกี้', 'ปิ้งย่าง'],\n",
       " ['สุกี้', 'ชาบู', 'ส้มตำ'],\n",
       " ['สุกี้'],\n",
       " ['ชาบู', 'ปิ้งย่าง', 'ส้มตำ'],\n",
       " ['ส้มตำ', 'สุกี้', 'ชาบู'],\n",
       " ['ชาบู', 'หมูกะทะ', 'ส้มตำ'],\n",
       " ['ส้มตำ', 'ก๋วยเตี๋ยว', 'ชาบู', ''],\n",
       " ['ชาบู', 'หมูกระทะ', 'ส้มตำ'],\n",
       " ['ปิ้งย่าง'],\n",
       " ['ชาบู', 'สุกี้', 'หมูกะทะ'],\n",
       " ['ชาบู', 'ปิ้งย่าง'],\n",
       " ['สุกี้', 'ชาบู', 'หมูกะทะ'],\n",
       " ['ชาบู', 'ปิ้งย่าง', 'ราเมง'],\n",
       " ['หมูกะทะ', 'ชาบู', 'ส้มตำ'],\n",
       " ['ชาบู', 'สุกี้', 'ส้มตำ'],\n",
       " ['ส้มตำ', 'ชาบู', 'หมูกะทะ'],\n",
       " ['ซูชิ'],\n",
       " ['ชาบู', 'สุกี้', 'หมูกระทะ'],\n",
       " ['ข้าวตามสั่ง', 'ก๋วยเตี๋ยว', 'สลัด'],\n",
       " ['สุกี้', 'ชาบู', 'หมูกระทะ'],\n",
       " ['ยำ', 'ส้มตำ', 'หมูกระทะ'],\n",
       " ['ปิ้งย่าง', 'สุกี้', 'อาหารไทย'],\n",
       " ['', 'สุกี้', 'ก๋วยเตี๋ยว', 'ซูชิ'],\n",
       " ['ซูชิ', 'เสต็ก', 'สุกี้'],\n",
       " ['สวนอาหาร', 'คาเฟ่', 'อื่นๆ'],\n",
       " ['ชาบู', 'ญี่ปุ่น', 'อิตาเลียน', 'จีน', 'ฝรั่งเศส'],\n",
       " ['ราเมน', 'แกงกะหรี่', 'ชาบู'],\n",
       " ['อาหารญี่ปุ่น', 'พวก', 'ซูชิใดๆ', 'สุกี้', 'mk', 'ชาบู'],\n",
       " ['กับข้าวปกติ', 'ชาบู', 'ปิ้งย่าง'],\n",
       " ['ก๋วยเตี๋ยว', 'สุกี้', 'ยำ'],\n",
       " ['ชาบู', 'อาหารอีสาน', ''],\n",
       " ['อาหารญี่ปุ่น'],\n",
       " ['ชาบู', 'ปิ้งย่าง', 'สเต๊ก'],\n",
       " ['Sushi', 'Sukiyaki-Shabu', 'Noodle'],\n",
       " ['ชาบู', 'หมูกระทะ', 'อาหารญี่ปุ่น'],\n",
       " ['ชาบู', 'อาหารจีน', 'อาหารญี่ปุ่น'],\n",
       " ['ปลาดิบ', 'ชาบู', 'ส้มตำ', ''],\n",
       " ['ญี่ปุ่นซูชิ', 'ส้มตำ', 'อาหารไทย'],\n",
       " ['ปิ้งย่าง', 'ญี่ปุ่น', 'จีน'],\n",
       " ['Steak', 'ปิ้งย่าง', 'อาหารไทย'],\n",
       " ['ปิ้งย่าง', 'ชาบู', 'ซีฟู้ด'],\n",
       " ['ราเมน'],\n",
       " ['สุกี้', 'ชาบู', 'ปิ้งย่าง'],\n",
       " ['ชาบู', 'ปิ้งย่าง', 'ส้มตำ'],\n",
       " ['สุกี้', 'ชาบู', 'ญี่ปุ่น'],\n",
       " ['ซูชิ', 'พิซซ่า', 'ปิ้งย่าง'],\n",
       " ['อาหารญี่ปุ่น', 'ปิ้งย่าง', 'ชาบู'],\n",
       " ['สุกี้', 'หมูกะทะ', 'ชาบู'],\n",
       " ['ปิ้งย่าง', 'ชาบู', 'อาหารญี่ปุ่นทั่วไป'],\n",
       " ['ชาบู', 'ซูชิ', 'ส้มตำ'],\n",
       " ['ซูชิ', 'ก๋วยเตี๋ยว', 'ปิ้งย่าง'],\n",
       " ['ชาบู', 'ชูซิ', 'ปิ้งย่าง'],\n",
       " ['สุกี้', 'อาหารไทย', 'สเต๊ก'],\n",
       " ['สุกี้', 'สเต็ก', 'ชาบู'],\n",
       " ['ส้มตำ', 'สุกี้', 'ยำ'],\n",
       " ['ญี่ปุ่น', 'ส้มตำ', 'สุกี้'],\n",
       " ['แล้วแต่'],\n",
       " ['อาหารจานเดียว', 'ซูชิ', 'ราเมน'],\n",
       " ['ส้มตำ', 'ชาบู', 'ปิ้งย่าง'],\n",
       " ['ส้มตำ', 'ซีฟู้ด', 'ราเมน', ''],\n",
       " ['หมูกะทะ', 'ส้มตำ', 'สปาเกตตี้'],\n",
       " ['อาหารญี่ปุ่น', 'ส้มตำ', 'สุกี้', ''],\n",
       " ['ซูชิ', 'ซีฟู้ด', 'ราเมง'],\n",
       " ['อาหารญี่ปุ่น', 'ชาบู', 'อาหารเกาหลี'],\n",
       " ['ราเมง', 'ชาบู', 'ปิ้งย่าง'],\n",
       " ['ข้าวต้มกุ๊ย', 'พิซซ่า', 'ปิ้งย่างเกาหลี', ''],\n",
       " ['สุกี้', 'ปิ้งย่าง', 'ร้านอาหารจานเดียว'],\n",
       " ['ชาบู', 'หมูกระทะส้มตำ'],\n",
       " ['ปิ้งย่าง', 'ราเม็ง', 'แกงกะหรี่'],\n",
       " ['หมูกะทะ', 'สุกี้', 'ส้มตำ'],\n",
       " ['ชาบู', 'pasta', 'กับข้าว'],\n",
       " ['อาหารจานเดียว', 'พิซซ่า', 'ไก่ทอด'],\n",
       " ['ญี่ปุ่น', 'หมูกะทะ', 'ยำ'],\n",
       " ['เบอร์เกอร์', 'ซูชิ', 'สุกี้'],\n",
       " ['ส้มตำ', 'ติ่มซำ', 'อาหารฝรั่ง'],\n",
       " ['ซีฟู้ด', 'ฟาสท์ฟูด', 'ไทย'],\n",
       " ['ชาบู', 'บุฟเฟต์นานาชาติ', 'เพื่อสุขภาพ'],\n",
       " ['สุกี้', 'ชาบู', 'ไก่ทอด'],\n",
       " ['ส้มตำ', 'สุกี้', 'ชาบู', 'หมูกะทะ'],\n",
       " ['พิซซ่า', 'ซาชิมิ', 'หมูกะทะ'],\n",
       " ['ก๋วยเตี๋ยว', 'ซูชิ', 'ชาบู'],\n",
       " ['สุกี้', 'ชาบู', 'อาหารฝรั่ง'],\n",
       " ['ชาบู', 'ซูชิ', 'หม่าล่า'],\n",
       " ['อาหารเซ็ทญี่ปุ่น', 'ชาบู', 'ตามสั่ง'],\n",
       " ['Suki', 'ชาบู', 'ส้มตำ'],\n",
       " ['อาหารฝรั่ง', 'อาหารญี่ปุ่น', ''],\n",
       " ['', 'สุกี้', 'ก๋วยเตี๋ยว', 'ไก่ทอด'],\n",
       " ['ปิ้งย่าง', 'ชาบู', 'ซีฟู้ด'],\n",
       " ['ปิ้งย่างเกาหลี', 'ชาบู', 'ส้มตำ'],\n",
       " ['สุกี้', 'ชาบู', 'ส้มตำ', 'เสต็ก', 'สลัด', ''],\n",
       " ['สุกี้', 'สเต็ก', 'สลัด', 'ชาบู'],\n",
       " ['สุกี้', 'ส้มตำ', 'ยำ'],\n",
       " ['สุกี้', 'ซีฟู๊ด', 'อาหารไทย'],\n",
       " ['สุกี้', 'หมูกระทะ', 'ญี่ปุ่น'],\n",
       " ['สุกี้', 'สเต็ก', 'ส้มตำ'],\n",
       " ['อาหารจานเดียว', 'ส้มตำ', 'ชาบู'],\n",
       " ['ทอด', 'ต้มยำ', 'และยำ'],\n",
       " ['ชาบู', 'ปิ้งย่าง', 'อาหารไทย'],\n",
       " ['ชาบู', 'สุกี้', 'ส้มตำ'],\n",
       " ['ปิ้งย่าง', 'ซูชิ', 'ชาบู'],\n",
       " ['หมูกะทะ'],\n",
       " ['ชาบู', 'ส้มตำ', 'ซูชิ'],\n",
       " ['สุกี้', 'พิซซ่า', 'ชูชิ'],\n",
       " ['หมูกะทะ', 'สุกี้', 'ชาบู'],\n",
       " ['ชาบู', 'สัมตำ', 'พิซซ่า'],\n",
       " ['อาหารทะเล', 'ชาบู', 'ยำ'],\n",
       " ['สุกี้', 'ส้มตำ', 'หมูกะทะ'],\n",
       " ['ชาบู', 'ปิ้งย่าง', 'หมูทะ'],\n",
       " ['ชาบู', 'ปิ้งย่าง', 'บุฟเฟ่ต์'],\n",
       " ['ข้าวกระเพา', 'สปาเก็ตตี้', 'ส้มตำ'],\n",
       " ['ชาบู', 'ปิ้งย่าง', 'ส้มยำ'],\n",
       " ['ต้ม', 'นึ่ง', 'ย่าง'],\n",
       " ['ส้มตำ', 'สเต็ก', 'เกาหลี'],\n",
       " ['ร้านกับข้าวอาหารตามสั่ง', 'ก๋วยเตี๋ยว', 'ชาบู'],\n",
       " ['ชาบู', 'ส้มตำ', 'อาหารญี่ปุ่น'],\n",
       " ['ไทย', 'ญี่ปุ่น', 'เกาหลี'],\n",
       " ['ชาบู', 'ส้มตำ', 'ยำ'],\n",
       " ['ชาบู', 'ปิ้งย่าง', 'อาหารทะเล'],\n",
       " ['ปิ้งย่าง', ''],\n",
       " ['ชาบู', 'ส้มตำ', 'ข้าวหน้าเนื้อ'],\n",
       " ['ชาบู', 'ปิ้งย่าง', 'ชุชิ'],\n",
       " ['ประเภทเส้น', 'ก๋วยเตี๋ยว', 'อุด้ง', 'ราเม็ง', 'สุกี้', 'ข้าวราดแกง'],\n",
       " ['ชาบู', 'หมูทะ', 'ส้มตำ'],\n",
       " ['อาหารไทยปกติ', 'อาหารเกาหลี', 'หมูกะทะ'],\n",
       " ['ฟัวกราส์', 'วากิวยากินิคุ', 'ซูเฟล่'],\n",
       " ['สุกี้', 'อาหารจีน', 'อาหารญี่ปุ่น'],\n",
       " ['อิตาเลียน', 'ญี่ปุ่น', 'ปิ้งย่าง'],\n",
       " ['ปิ้งย่าง', 'ซูชิ', 'พาสต้า'],\n",
       " ['อาหารตามสั่ง', 'ปิ้งย่างชาบู', 'ส้มตำ'],\n",
       " ['หมูกะทะ', 'ร้านอาหาร'],\n",
       " ['อาหารญี่ปุ่น', 'ชาบู', 'พิชช่า'],\n",
       " ['ปิ้งย่าง', 'หมูกระทะ', 'ตามสั่ง'],\n",
       " ['สเต็ก', 'ชาบู', 'อาหารไทย'],\n",
       " ['สุกี้', 'หมูกระทะ', 'ส้มตำ'],\n",
       " ['ส้มตำ'],\n",
       " ['ชาบู', 'ปิ้งย่าง', 'หม่าล่า'],\n",
       " ['ชาบู', 'ซูชิ', 'ปิ้งย่าง'],\n",
       " ['ชาบู', 'ปิ้งย่าง', 'สลัด'],\n",
       " ['ส้มตำ', 'สุกี้', 'หมูกะทะ'],\n",
       " ['ก๋วยเตี๋ยว', 'ผัดข้าวต่างๆ', 'ข้าวราด'],\n",
       " ['สุกี้', 'อาหารไทย', 'ส้มตำ'],\n",
       " ['อีสาน', 'ปิ้งย่าง', 'ชาบู'],\n",
       " ['สุกี้', 'กับข้าว', 'ส้มตำ'],\n",
       " ['แกงส้ม', 'ปลาทอด', 'น้ำพริก'],\n",
       " ['หมู', 'กะทะ', ''],\n",
       " ['ชาบูหม้อไฟ', 'ส้มตำ', 'ปิ้งย่าง', ''],\n",
       " ['อาหารไทย', 'ปิ้งย่าง', 'ซูชิ', 'ส้มตำ'],\n",
       " ['อาหารประเภทเส้น', 'ชาบู', 'ปิ้งย่าง'],\n",
       " ['ส้มตำ', 'ชาบู', 'สุกี้'],\n",
       " ['ไก่ทอดเกาหลี', 'ราเมง', 'พาสต้า'],\n",
       " ['หมูกะทะ', 'ชาบู', 'เคเอฟซี', ''],\n",
       " ['ส้มตำ', 'ยำ', 'ข้าวต่มสั่ง'],\n",
       " ['ปิ้งย่าง', 'ชาบู', 'ญี่ปุ่น'],\n",
       " ['ตามสั่ง', 'ก๋วยเตี๋ยว', 'ซูชิ'],\n",
       " ['ชาบู', 'หมูกระทะ'],\n",
       " ['ปิ้งย่าง', 'ชาบู', 'ส้มตำ'],\n",
       " ['สปาเก็ตตี้'],\n",
       " ['ซูชิ', 'สุกี้-ชาบู', 'ส้มตำ'],\n",
       " ['สุกี้', 'ส้มตำ', 'ปิ้งย่าง'],\n",
       " ['pasta', 'noodle'],\n",
       " ['ปิ้งย่าง', 'สุกี้', 'ชาบู'],\n",
       " ['ตามสั่ง', 'สเต๊ก', 'สลัด'],\n",
       " ['สุกี้', 'ชาบู', 'อาหารไทย'],\n",
       " ['ชาบู', 'ก๋วยเตี๋ยว', 'ราเมน', 'หมูกะทะ']]"
      ]
     },
     "execution_count": 218,
     "metadata": {},
     "output_type": "execute_result"
    }
   ],
   "source": [
    "split_ch"
   ]
  },
  {
   "cell_type": "code",
   "execution_count": 225,
   "id": "81c5d4d1",
   "metadata": {},
   "outputs": [
    {
     "data": {
      "text/plain": [
       "['ชาบู',\n",
       " 'ชาบู',\n",
       " 'สุกี้',\n",
       " 'ปิ้งย่าง',\n",
       " 'สุกี้',\n",
       " 'ชาบู',\n",
       " 'ส้มตำ',\n",
       " 'สุกี้',\n",
       " 'ชาบู',\n",
       " 'ปิ้งย่าง',\n",
       " 'ส้มตำ',\n",
       " 'ส้มตำ',\n",
       " 'สุกี้',\n",
       " 'ชาบู',\n",
       " 'ชาบู',\n",
       " 'หมูกะทะ',\n",
       " 'ส้มตำ',\n",
       " 'ส้มตำ',\n",
       " 'ก๋วยเตี๋ยว',\n",
       " 'ชาบู',\n",
       " '',\n",
       " 'ชาบู',\n",
       " 'หมูกระทะ',\n",
       " 'ส้มตำ',\n",
       " 'ปิ้งย่าง',\n",
       " 'ชาบู',\n",
       " 'สุกี้',\n",
       " 'หมูกะทะ',\n",
       " 'ชาบู',\n",
       " 'ปิ้งย่าง',\n",
       " 'สุกี้',\n",
       " 'ชาบู',\n",
       " 'หมูกะทะ',\n",
       " 'ชาบู',\n",
       " 'ปิ้งย่าง',\n",
       " 'ราเมง',\n",
       " 'หมูกะทะ',\n",
       " 'ชาบู',\n",
       " 'ส้มตำ',\n",
       " 'ชาบู',\n",
       " 'สุกี้',\n",
       " 'ส้มตำ',\n",
       " 'ส้มตำ',\n",
       " 'ชาบู',\n",
       " 'หมูกะทะ',\n",
       " 'ซูชิ',\n",
       " 'ชาบู',\n",
       " 'สุกี้',\n",
       " 'หมูกระทะ',\n",
       " 'ข้าวตามสั่ง',\n",
       " 'ก๋วยเตี๋ยว',\n",
       " 'สลัด',\n",
       " 'สุกี้',\n",
       " 'ชาบู',\n",
       " 'หมูกระทะ',\n",
       " 'ยำ',\n",
       " 'ส้มตำ',\n",
       " 'หมูกระทะ',\n",
       " 'ปิ้งย่าง',\n",
       " 'สุกี้',\n",
       " 'อาหารไทย',\n",
       " '',\n",
       " 'สุกี้',\n",
       " 'ก๋วยเตี๋ยว',\n",
       " 'ซูชิ',\n",
       " 'ซูชิ',\n",
       " 'เสต็ก',\n",
       " 'สุกี้',\n",
       " 'สวนอาหาร',\n",
       " 'คาเฟ่',\n",
       " 'อื่นๆ',\n",
       " 'ชาบู',\n",
       " 'ญี่ปุ่น',\n",
       " 'อิตาเลียน',\n",
       " 'จีน',\n",
       " 'ฝรั่งเศส',\n",
       " 'ราเมน',\n",
       " 'แกงกะหรี่',\n",
       " 'ชาบู',\n",
       " 'อาหารญี่ปุ่น',\n",
       " 'พวก',\n",
       " 'ซูชิใดๆ',\n",
       " 'สุกี้',\n",
       " 'mk',\n",
       " 'ชาบู',\n",
       " 'กับข้าวปกติ',\n",
       " 'ชาบู',\n",
       " 'ปิ้งย่าง',\n",
       " 'ก๋วยเตี๋ยว',\n",
       " 'สุกี้',\n",
       " 'ยำ',\n",
       " 'ชาบู',\n",
       " 'อาหารอีสาน',\n",
       " '',\n",
       " 'อาหารญี่ปุ่น',\n",
       " 'ชาบู',\n",
       " 'ปิ้งย่าง',\n",
       " 'สเต๊ก',\n",
       " 'Sushi',\n",
       " 'Sukiyaki-Shabu',\n",
       " 'Noodle',\n",
       " 'ชาบู',\n",
       " 'หมูกระทะ',\n",
       " 'อาหารญี่ปุ่น',\n",
       " 'ชาบู',\n",
       " 'อาหารจีน',\n",
       " 'อาหารญี่ปุ่น',\n",
       " 'ปลาดิบ',\n",
       " 'ชาบู',\n",
       " 'ส้มตำ',\n",
       " '',\n",
       " 'ญี่ปุ่นซูชิ',\n",
       " 'ส้มตำ',\n",
       " 'อาหารไทย',\n",
       " 'ปิ้งย่าง',\n",
       " 'ญี่ปุ่น',\n",
       " 'จีน',\n",
       " 'Steak',\n",
       " 'ปิ้งย่าง',\n",
       " 'อาหารไทย',\n",
       " 'ปิ้งย่าง',\n",
       " 'ชาบู',\n",
       " 'ซีฟู้ด',\n",
       " 'ราเมน',\n",
       " 'สุกี้',\n",
       " 'ชาบู',\n",
       " 'ปิ้งย่าง',\n",
       " 'ชาบู',\n",
       " 'ปิ้งย่าง',\n",
       " 'ส้มตำ',\n",
       " 'สุกี้',\n",
       " 'ชาบู',\n",
       " 'ญี่ปุ่น',\n",
       " 'ซูชิ',\n",
       " 'พิซซ่า',\n",
       " 'ปิ้งย่าง',\n",
       " 'อาหารญี่ปุ่น',\n",
       " 'ปิ้งย่าง',\n",
       " 'ชาบู',\n",
       " 'สุกี้',\n",
       " 'หมูกะทะ',\n",
       " 'ชาบู',\n",
       " 'ปิ้งย่าง',\n",
       " 'ชาบู',\n",
       " 'อาหารญี่ปุ่นทั่วไป',\n",
       " 'ชาบู',\n",
       " 'ซูชิ',\n",
       " 'ส้มตำ',\n",
       " 'ซูชิ',\n",
       " 'ก๋วยเตี๋ยว',\n",
       " 'ปิ้งย่าง',\n",
       " 'ชาบู',\n",
       " 'ชูซิ',\n",
       " 'ปิ้งย่าง',\n",
       " 'สุกี้',\n",
       " 'อาหารไทย',\n",
       " 'สเต๊ก',\n",
       " 'สุกี้',\n",
       " 'สเต็ก',\n",
       " 'ชาบู',\n",
       " 'ส้มตำ',\n",
       " 'สุกี้',\n",
       " 'ยำ',\n",
       " 'ญี่ปุ่น',\n",
       " 'ส้มตำ',\n",
       " 'สุกี้',\n",
       " 'แล้วแต่',\n",
       " 'อาหารจานเดียว',\n",
       " 'ซูชิ',\n",
       " 'ราเมน',\n",
       " 'ส้มตำ',\n",
       " 'ชาบู',\n",
       " 'ปิ้งย่าง',\n",
       " 'ส้มตำ',\n",
       " 'ซีฟู้ด',\n",
       " 'ราเมน',\n",
       " '',\n",
       " 'หมูกะทะ',\n",
       " 'ส้มตำ',\n",
       " 'สปาเกตตี้',\n",
       " 'อาหารญี่ปุ่น',\n",
       " 'ส้มตำ',\n",
       " 'สุกี้',\n",
       " '',\n",
       " 'ซูชิ',\n",
       " 'ซีฟู้ด',\n",
       " 'ราเมง',\n",
       " 'อาหารญี่ปุ่น',\n",
       " 'ชาบู',\n",
       " 'อาหารเกาหลี',\n",
       " 'ราเมง',\n",
       " 'ชาบู',\n",
       " 'ปิ้งย่าง',\n",
       " 'ข้าวต้มกุ๊ย',\n",
       " 'พิซซ่า',\n",
       " 'ปิ้งย่างเกาหลี',\n",
       " '',\n",
       " 'สุกี้',\n",
       " 'ปิ้งย่าง',\n",
       " 'ร้านอาหารจานเดียว',\n",
       " 'ชาบู',\n",
       " 'หมูกระทะส้มตำ',\n",
       " 'ปิ้งย่าง',\n",
       " 'ราเม็ง',\n",
       " 'แกงกะหรี่',\n",
       " 'หมูกะทะ',\n",
       " 'สุกี้',\n",
       " 'ส้มตำ',\n",
       " 'ชาบู',\n",
       " 'pasta',\n",
       " 'กับข้าว',\n",
       " 'อาหารจานเดียว',\n",
       " 'พิซซ่า',\n",
       " 'ไก่ทอด',\n",
       " 'ญี่ปุ่น',\n",
       " 'หมูกะทะ',\n",
       " 'ยำ',\n",
       " 'เบอร์เกอร์',\n",
       " 'ซูชิ',\n",
       " 'สุกี้',\n",
       " 'ส้มตำ',\n",
       " 'ติ่มซำ',\n",
       " 'อาหารฝรั่ง',\n",
       " 'ซีฟู้ด',\n",
       " 'ฟาสท์ฟูด',\n",
       " 'ไทย',\n",
       " 'ชาบู',\n",
       " 'บุฟเฟต์นานาชาติ',\n",
       " 'เพื่อสุขภาพ',\n",
       " 'สุกี้',\n",
       " 'ชาบู',\n",
       " 'ไก่ทอด',\n",
       " 'ส้มตำ',\n",
       " 'สุกี้',\n",
       " 'ชาบู',\n",
       " 'หมูกะทะ',\n",
       " 'พิซซ่า',\n",
       " 'ซาชิมิ',\n",
       " 'หมูกะทะ',\n",
       " 'ก๋วยเตี๋ยว',\n",
       " 'ซูชิ',\n",
       " 'ชาบู',\n",
       " 'สุกี้',\n",
       " 'ชาบู',\n",
       " 'อาหารฝรั่ง',\n",
       " 'ชาบู',\n",
       " 'ซูชิ',\n",
       " 'หม่าล่า',\n",
       " 'อาหารเซ็ทญี่ปุ่น',\n",
       " 'ชาบู',\n",
       " 'ตามสั่ง',\n",
       " 'Suki',\n",
       " 'ชาบู',\n",
       " 'ส้มตำ',\n",
       " 'อาหารฝรั่ง',\n",
       " 'อาหารญี่ปุ่น',\n",
       " '',\n",
       " '',\n",
       " 'สุกี้',\n",
       " 'ก๋วยเตี๋ยว',\n",
       " 'ไก่ทอด',\n",
       " 'ปิ้งย่าง',\n",
       " 'ชาบู',\n",
       " 'ซีฟู้ด',\n",
       " 'ปิ้งย่างเกาหลี',\n",
       " 'ชาบู',\n",
       " 'ส้มตำ',\n",
       " 'สุกี้',\n",
       " 'ชาบู',\n",
       " 'ส้มตำ',\n",
       " 'เสต็ก',\n",
       " 'สลัด',\n",
       " '',\n",
       " 'สุกี้',\n",
       " 'สเต็ก',\n",
       " 'สลัด',\n",
       " 'ชาบู',\n",
       " 'สุกี้',\n",
       " 'ส้มตำ',\n",
       " 'ยำ',\n",
       " 'สุกี้',\n",
       " 'ซีฟู๊ด',\n",
       " 'อาหารไทย',\n",
       " 'สุกี้',\n",
       " 'หมูกระทะ',\n",
       " 'ญี่ปุ่น',\n",
       " 'สุกี้',\n",
       " 'สเต็ก',\n",
       " 'ส้มตำ',\n",
       " 'อาหารจานเดียว',\n",
       " 'ส้มตำ',\n",
       " 'ชาบู',\n",
       " 'ทอด',\n",
       " 'ต้มยำ',\n",
       " 'และยำ',\n",
       " 'ชาบู',\n",
       " 'ปิ้งย่าง',\n",
       " 'อาหารไทย',\n",
       " 'ชาบู',\n",
       " 'สุกี้',\n",
       " 'ส้มตำ',\n",
       " 'ปิ้งย่าง',\n",
       " 'ซูชิ',\n",
       " 'ชาบู',\n",
       " 'หมูกะทะ',\n",
       " 'ชาบู',\n",
       " 'ส้มตำ',\n",
       " 'ซูชิ',\n",
       " 'สุกี้',\n",
       " 'พิซซ่า',\n",
       " 'ชูชิ',\n",
       " 'หมูกะทะ',\n",
       " 'สุกี้',\n",
       " 'ชาบู',\n",
       " 'ชาบู',\n",
       " 'สัมตำ',\n",
       " 'พิซซ่า',\n",
       " 'อาหารทะเล',\n",
       " 'ชาบู',\n",
       " 'ยำ',\n",
       " 'สุกี้',\n",
       " 'ส้มตำ',\n",
       " 'หมูกะทะ',\n",
       " 'ชาบู',\n",
       " 'ปิ้งย่าง',\n",
       " 'หมูทะ',\n",
       " 'ชาบู',\n",
       " 'ปิ้งย่าง',\n",
       " 'บุฟเฟ่ต์',\n",
       " 'ข้าวกระเพา',\n",
       " 'สปาเก็ตตี้',\n",
       " 'ส้มตำ',\n",
       " 'ชาบู',\n",
       " 'ปิ้งย่าง',\n",
       " 'ส้มยำ',\n",
       " 'ต้ม',\n",
       " 'นึ่ง',\n",
       " 'ย่าง',\n",
       " 'ส้มตำ',\n",
       " 'สเต็ก',\n",
       " 'เกาหลี',\n",
       " 'ร้านกับข้าวอาหารตามสั่ง',\n",
       " 'ก๋วยเตี๋ยว',\n",
       " 'ชาบู',\n",
       " 'ชาบู',\n",
       " 'ส้มตำ',\n",
       " 'อาหารญี่ปุ่น',\n",
       " 'ไทย',\n",
       " 'ญี่ปุ่น',\n",
       " 'เกาหลี',\n",
       " 'ชาบู',\n",
       " 'ส้มตำ',\n",
       " 'ยำ',\n",
       " 'ชาบู',\n",
       " 'ปิ้งย่าง',\n",
       " 'อาหารทะเล',\n",
       " 'ปิ้งย่าง',\n",
       " '',\n",
       " 'ชาบู',\n",
       " 'ส้มตำ',\n",
       " 'ข้าวหน้าเนื้อ',\n",
       " 'ชาบู',\n",
       " 'ปิ้งย่าง',\n",
       " 'ชุชิ',\n",
       " 'ประเภทเส้น',\n",
       " 'ก๋วยเตี๋ยว',\n",
       " 'อุด้ง',\n",
       " 'ราเม็ง',\n",
       " 'สุกี้',\n",
       " 'ข้าวราดแกง',\n",
       " 'ชาบู',\n",
       " 'หมูทะ',\n",
       " 'ส้มตำ',\n",
       " 'อาหารไทยปกติ',\n",
       " 'อาหารเกาหลี',\n",
       " 'หมูกะทะ',\n",
       " 'ฟัวกราส์',\n",
       " 'วากิวยากินิคุ',\n",
       " 'ซูเฟล่',\n",
       " 'สุกี้',\n",
       " 'อาหารจีน',\n",
       " 'อาหารญี่ปุ่น',\n",
       " 'อิตาเลียน',\n",
       " 'ญี่ปุ่น',\n",
       " 'ปิ้งย่าง',\n",
       " 'ปิ้งย่าง',\n",
       " 'ซูชิ',\n",
       " 'พาสต้า',\n",
       " 'อาหารตามสั่ง',\n",
       " 'ปิ้งย่างชาบู',\n",
       " 'ส้มตำ',\n",
       " 'หมูกะทะ',\n",
       " 'ร้านอาหาร',\n",
       " 'อาหารญี่ปุ่น',\n",
       " 'ชาบู',\n",
       " 'พิชช่า',\n",
       " 'ปิ้งย่าง',\n",
       " 'หมูกระทะ',\n",
       " 'ตามสั่ง',\n",
       " 'สเต็ก',\n",
       " 'ชาบู',\n",
       " 'อาหารไทย',\n",
       " 'สุกี้',\n",
       " 'หมูกระทะ',\n",
       " 'ส้มตำ',\n",
       " 'ส้มตำ',\n",
       " 'ชาบู',\n",
       " 'ปิ้งย่าง',\n",
       " 'หม่าล่า',\n",
       " 'ชาบู',\n",
       " 'ซูชิ',\n",
       " 'ปิ้งย่าง',\n",
       " 'ชาบู',\n",
       " 'ปิ้งย่าง',\n",
       " 'สลัด',\n",
       " 'ส้มตำ',\n",
       " 'สุกี้',\n",
       " 'หมูกะทะ',\n",
       " 'ก๋วยเตี๋ยว',\n",
       " 'ผัดข้าวต่างๆ',\n",
       " 'ข้าวราด',\n",
       " 'สุกี้',\n",
       " 'อาหารไทย',\n",
       " 'ส้มตำ',\n",
       " 'อีสาน',\n",
       " 'ปิ้งย่าง',\n",
       " 'ชาบู',\n",
       " 'สุกี้',\n",
       " 'กับข้าว',\n",
       " 'ส้มตำ',\n",
       " 'แกงส้ม',\n",
       " 'ปลาทอด',\n",
       " 'น้ำพริก',\n",
       " 'หมู',\n",
       " 'กะทะ',\n",
       " '',\n",
       " 'ชาบูหม้อไฟ',\n",
       " 'ส้มตำ',\n",
       " 'ปิ้งย่าง',\n",
       " '',\n",
       " 'อาหารไทย',\n",
       " 'ปิ้งย่าง',\n",
       " 'ซูชิ',\n",
       " 'ส้มตำ',\n",
       " 'อาหารประเภทเส้น',\n",
       " 'ชาบู',\n",
       " 'ปิ้งย่าง',\n",
       " 'ส้มตำ',\n",
       " 'ชาบู',\n",
       " 'สุกี้',\n",
       " 'ไก่ทอดเกาหลี',\n",
       " 'ราเมง',\n",
       " 'พาสต้า',\n",
       " 'หมูกะทะ',\n",
       " 'ชาบู',\n",
       " 'เคเอฟซี',\n",
       " '',\n",
       " 'ส้มตำ',\n",
       " 'ยำ',\n",
       " 'ข้าวต่มสั่ง',\n",
       " 'ปิ้งย่าง',\n",
       " 'ชาบู',\n",
       " 'ญี่ปุ่น',\n",
       " 'ตามสั่ง',\n",
       " 'ก๋วยเตี๋ยว',\n",
       " 'ซูชิ',\n",
       " 'ชาบู',\n",
       " 'หมูกระทะ',\n",
       " 'ปิ้งย่าง',\n",
       " 'ชาบู',\n",
       " 'ส้มตำ',\n",
       " 'สปาเก็ตตี้',\n",
       " 'ซูชิ',\n",
       " 'สุกี้-ชาบู',\n",
       " 'ส้มตำ',\n",
       " 'สุกี้',\n",
       " 'ส้มตำ',\n",
       " 'ปิ้งย่าง',\n",
       " 'pasta',\n",
       " 'noodle',\n",
       " 'ปิ้งย่าง',\n",
       " 'สุกี้',\n",
       " 'ชาบู',\n",
       " 'ตามสั่ง',\n",
       " 'สเต๊ก',\n",
       " 'สลัด',\n",
       " 'สุกี้',\n",
       " 'ชาบู',\n",
       " 'อาหารไทย',\n",
       " 'ชาบู',\n",
       " 'ก๋วยเตี๋ยว',\n",
       " 'ราเมน',\n",
       " 'หมูกะทะ']"
      ]
     },
     "execution_count": 225,
     "metadata": {},
     "output_type": "execute_result"
    }
   ],
   "source": [
    "sum_ch = []\n",
    "for i in split_ch:\n",
    "    sum_ch.extend(i)\n",
    "sum_ch"
   ]
  },
  {
   "cell_type": "code",
   "execution_count": 227,
   "id": "8d437b43",
   "metadata": {},
   "outputs": [
    {
     "data": {
      "text/plain": [
       "{'ชาบู': 86,\n",
       " 'สุกี้': 49,\n",
       " 'ปิ้งย่าง': 45,\n",
       " 'ส้มตำ': 51,\n",
       " 'หมูกะทะ': 19,\n",
       " 'ก๋วยเตี๋ยว': 12,\n",
       " '': 14,\n",
       " 'หมูกระทะ': 9,\n",
       " 'ราเมง': 4,\n",
       " 'ซูชิ': 18,\n",
       " 'ข้าวตามสั่ง': 1,\n",
       " 'สลัด': 5,\n",
       " 'ยำ': 8,\n",
       " 'อาหารไทย': 10,\n",
       " 'เสต็ก': 2,\n",
       " 'สวนอาหาร': 1,\n",
       " 'คาเฟ่': 1,\n",
       " 'อื่นๆ': 1,\n",
       " 'ญี่ปุ่น': 9,\n",
       " 'อิตาเลียน': 2,\n",
       " 'จีน': 2,\n",
       " 'ฝรั่งเศส': 1,\n",
       " 'ราเมน': 5,\n",
       " 'แกงกะหรี่': 2,\n",
       " 'อาหารญี่ปุ่น': 11,\n",
       " 'พวก': 1,\n",
       " 'ซูชิใดๆ': 1,\n",
       " 'mk': 1,\n",
       " 'กับข้าวปกติ': 1,\n",
       " 'อาหารอีสาน': 1,\n",
       " 'สเต๊ก': 3,\n",
       " 'Sushi': 1,\n",
       " 'Sukiyaki-Shabu': 1,\n",
       " 'Noodle': 1,\n",
       " 'อาหารจีน': 2,\n",
       " 'ปลาดิบ': 1,\n",
       " 'ญี่ปุ่นซูชิ': 1,\n",
       " 'Steak': 1,\n",
       " 'ซีฟู้ด': 5,\n",
       " 'พิซซ่า': 6,\n",
       " 'อาหารญี่ปุ่นทั่วไป': 1,\n",
       " 'ชูซิ': 1,\n",
       " 'สเต็ก': 5,\n",
       " 'แล้วแต่': 1,\n",
       " 'อาหารจานเดียว': 3,\n",
       " 'สปาเกตตี้': 1,\n",
       " 'อาหารเกาหลี': 2,\n",
       " 'ข้าวต้มกุ๊ย': 1,\n",
       " 'ปิ้งย่างเกาหลี': 2,\n",
       " 'ร้านอาหารจานเดียว': 1,\n",
       " 'หมูกระทะส้มตำ': 1,\n",
       " 'ราเม็ง': 2,\n",
       " 'pasta': 2,\n",
       " 'กับข้าว': 2,\n",
       " 'ไก่ทอด': 3,\n",
       " 'เบอร์เกอร์': 1,\n",
       " 'ติ่มซำ': 1,\n",
       " 'อาหารฝรั่ง': 3,\n",
       " 'ฟาสท์ฟูด': 1,\n",
       " 'ไทย': 2,\n",
       " 'บุฟเฟต์นานาชาติ': 1,\n",
       " 'เพื่อสุขภาพ': 1,\n",
       " 'ซาชิมิ': 1,\n",
       " 'หม่าล่า': 2,\n",
       " 'อาหารเซ็ทญี่ปุ่น': 1,\n",
       " 'ตามสั่ง': 4,\n",
       " 'Suki': 1,\n",
       " 'ซีฟู๊ด': 1,\n",
       " 'ทอด': 1,\n",
       " 'ต้มยำ': 1,\n",
       " 'และยำ': 1,\n",
       " 'ชูชิ': 1,\n",
       " 'สัมตำ': 1,\n",
       " 'อาหารทะเล': 2,\n",
       " 'หมูทะ': 2,\n",
       " 'บุฟเฟ่ต์': 1,\n",
       " 'ข้าวกระเพา': 1,\n",
       " 'สปาเก็ตตี้': 2,\n",
       " 'ส้มยำ': 1,\n",
       " 'ต้ม': 1,\n",
       " 'นึ่ง': 1,\n",
       " 'ย่าง': 1,\n",
       " 'เกาหลี': 2,\n",
       " 'ร้านกับข้าวอาหารตามสั่ง': 1,\n",
       " 'ข้าวหน้าเนื้อ': 1,\n",
       " 'ชุชิ': 1,\n",
       " 'ประเภทเส้น': 1,\n",
       " 'อุด้ง': 1,\n",
       " 'ข้าวราดแกง': 1,\n",
       " 'อาหารไทยปกติ': 1,\n",
       " 'ฟัวกราส์': 1,\n",
       " 'วากิวยากินิคุ': 1,\n",
       " 'ซูเฟล่': 1,\n",
       " 'พาสต้า': 2,\n",
       " 'อาหารตามสั่ง': 1,\n",
       " 'ปิ้งย่างชาบู': 1,\n",
       " 'ร้านอาหาร': 1,\n",
       " 'พิชช่า': 1,\n",
       " 'ผัดข้าวต่างๆ': 1,\n",
       " 'ข้าวราด': 1,\n",
       " 'อีสาน': 1,\n",
       " 'แกงส้ม': 1,\n",
       " 'ปลาทอด': 1,\n",
       " 'น้ำพริก': 1,\n",
       " 'หมู': 1,\n",
       " 'กะทะ': 1,\n",
       " 'ชาบูหม้อไฟ': 1,\n",
       " 'อาหารประเภทเส้น': 1,\n",
       " 'ไก่ทอดเกาหลี': 1,\n",
       " 'เคเอฟซี': 1,\n",
       " 'ข้าวต่มสั่ง': 1,\n",
       " 'สุกี้-ชาบู': 1,\n",
       " 'noodle': 1}"
      ]
     },
     "execution_count": 227,
     "metadata": {},
     "output_type": "execute_result"
    }
   ],
   "source": [
    "my_dict = {i:sum_ch.count(i) for i in sum_ch}\n",
    "my_dict"
   ]
  },
  {
   "cell_type": "code",
   "execution_count": null,
   "id": "ebdc663f",
   "metadata": {},
   "outputs": [],
   "source": []
  },
  {
   "cell_type": "code",
   "execution_count": null,
   "id": "63235471",
   "metadata": {},
   "outputs": [],
   "source": []
  },
  {
   "cell_type": "code",
   "execution_count": null,
   "id": "71d52df2",
   "metadata": {},
   "outputs": [],
   "source": []
  },
  {
   "cell_type": "code",
   "execution_count": null,
   "id": "6c83dba3",
   "metadata": {},
   "outputs": [],
   "source": []
  },
  {
   "cell_type": "code",
   "execution_count": null,
   "id": "df31a6f0",
   "metadata": {},
   "outputs": [],
   "source": []
  },
  {
   "cell_type": "code",
   "execution_count": null,
   "id": "aa6e6905",
   "metadata": {},
   "outputs": [],
   "source": []
  },
  {
   "cell_type": "code",
   "execution_count": null,
   "id": "bfd59c6d",
   "metadata": {},
   "outputs": [],
   "source": []
  },
  {
   "cell_type": "code",
   "execution_count": null,
   "id": "610961d7",
   "metadata": {},
   "outputs": [],
   "source": []
  },
  {
   "cell_type": "code",
   "execution_count": 197,
   "id": "a058bd92",
   "metadata": {},
   "outputs": [
    {
     "data": {
      "text/plain": [
       "'Sushi, Sukiyaki-Shabu, Noodle'"
      ]
     },
     "execution_count": 197,
     "metadata": {},
     "output_type": "execute_result"
    }
   ],
   "source": [
    "text"
   ]
  },
  {
   "cell_type": "code",
   "execution_count": 210,
   "id": "1b12ebda",
   "metadata": {},
   "outputs": [
    {
     "data": {
      "text/plain": [
       "['ชาบู',\n",
       " 'ชาบู สุกี้ ปิ้งย่าง',\n",
       " 'สุกี้ ชาบู ส้มตำ',\n",
       " 'สุกี้',\n",
       " 'ชาบู ปิ้งย่าง ส้มตำ',\n",
       " 'ส้มตำ สุกี้ ชาบู',\n",
       " 'ชาบู หมูกะทะ ส้มตำ',\n",
       " 'ส้มตำ ก๋วยเตี๋ยว ชาบู ',\n",
       " 'ชาบู หมูกระทะ ส้มตำ',\n",
       " 'ปิ้งย่าง',\n",
       " 'ชาบู สุกี้ หมูกะทะ',\n",
       " 'ชาบู ปิ้งย่าง',\n",
       " 'สุกี้ ชาบู หมูกะทะ',\n",
       " 'ชาบู ปิ้งย่าง ราเมง',\n",
       " 'หมูกะทะ ชาบู ส้มตำ',\n",
       " 'ชาบู สุกี้ ส้มตำ',\n",
       " 'ส้มตำ ชาบู หมูกะทะ',\n",
       " 'ซูชิ',\n",
       " 'ชาบู สุกี้ หมูกระทะ',\n",
       " 'ข้าวตามสั่ง ก๋วยเตี๋ยว สลัด',\n",
       " 'สุกี้ ชาบู หมูกระทะ',\n",
       " 'ยำ ส้มตำ หมูกระทะ',\n",
       " 'ปิ้งย่าง สุกี้ อาหารไทย',\n",
       " '1.สุกี้ 2. ก๋วยเตี๋ยว 3. ซูชิ',\n",
       " 'ซูชิ เสต็ก สุกี้',\n",
       " 'สวนอาหาร คาเฟ่ อื่นๆ',\n",
       " 'ชาบู ญี่ปุ่น อิตาเลียน จีน ฝรั่งเศส',\n",
       " 'ราเมน แกงกะหรี่ ชาบู',\n",
       " 'อาหารญี่ปุ่น พวก ซูชิใดๆ > สุกี้ mk > ชาบู',\n",
       " 'กับข้าวปกติ ชาบู ปิ้งย่าง',\n",
       " 'ก๋วยเตี๋ยว สุกี้ ยำ',\n",
       " 'ชาบู อาหารอีสาน ',\n",
       " 'อาหารญี่ปุ่น',\n",
       " 'ชาบู ปิ้งย่าง สเต๊ก',\n",
       " 'Sushi, Sukiyaki-Shabu, Noodle',\n",
       " 'ชาบู/ หมูกระทะ/ อาหารญี่ปุ่น',\n",
       " 'ชาบู, อาหารจีน, อาหารญี่ปุ่น',\n",
       " 'ปลาดิบ ชาบู ส้มตำ ',\n",
       " 'ญี่ปุ่นซูชิ ส้มตำ อาหารไทย',\n",
       " 'ปิ้งย่าง ญี่ปุ่น จีน',\n",
       " 'Steak ปิ้งย่าง อาหารไทย',\n",
       " 'ปิ้งย่าง, ชาบู, ซีฟู้ด',\n",
       " 'ราเมน',\n",
       " 'สุกี้ ชาบู ปิ้งย่าง',\n",
       " 'ชาบู, ปิ้งย่าง, ส้มตำ',\n",
       " 'สุกี้ ชาบู ญี่ปุ่น',\n",
       " 'ซูชิ พิซซ่า ปิ้งย่าง',\n",
       " 'อาหารญี่ปุ่น,ปิ้งย่าง,ชาบู',\n",
       " 'สุกี้ หมูกะทะ ชาบู',\n",
       " 'ปิ้งย่าง ชาบู อาหารญี่ปุ่นทั่วไป',\n",
       " 'ชาบู ซูชิ ส้มตำ',\n",
       " 'ซูชิ ก๋วยเตี๋ยว ปิ้งย่าง',\n",
       " 'ชาบู ชูซิ ปิ้งย่าง',\n",
       " 'สุกี้ อาหารไทย สเต๊ก',\n",
       " 'สุกี้ สเต็ก ชาบู',\n",
       " 'ส้มตำ สุกี้ ยำ',\n",
       " 'ญี่ปุ่น ส้มตำ สุกี้',\n",
       " 'แล้วแต่',\n",
       " 'อาหารจานเดียว  ซูชิ ราเมน',\n",
       " 'ส้มตำ ชาบู ปิ้งย่าง',\n",
       " 'ส้มตำ ซีฟู้ด ราเมน ',\n",
       " 'หมูกะทะ ส้มตำ สปาเกตตี้',\n",
       " 'อาหารญี่ปุ่น ส้มตำ สุกี้ ',\n",
       " 'ซูชิ ซีฟู้ด ราเมง',\n",
       " 'อาหารญี่ปุ่น ชาบู อาหารเกาหลี',\n",
       " 'ราเมง ชาบู ปิ้งย่าง',\n",
       " 'ข้าวต้มกุ๊ย พิซซ่า ปิ้งย่างเกาหลี ',\n",
       " 'สุกี้ ปิ้งย่าง ร้านอาหารจานเดียว',\n",
       " 'ชาบู หมูกระทะส้มตำ',\n",
       " 'ปิ้งย่าง ราเม็ง แกงกะหรี่',\n",
       " 'หมูกะทะ สุกี้ ส้มตำ',\n",
       " 'ชาบู  pasta กับข้าว',\n",
       " 'อาหารจานเดียว พิซซ่า ไก่ทอด',\n",
       " 'ญี่ปุ่น หมูกะทะ ยำ',\n",
       " 'เบอร์เกอร์, ซูชิ, สุกี้',\n",
       " 'ส้มตำ ติ่มซำ อาหารฝรั่ง',\n",
       " 'ซีฟู้ด ฟาสท์ฟูด ไทย',\n",
       " 'ชาบู  , บุฟเฟต์นานาชาติ  , เพื่อสุขภาพ',\n",
       " 'สุกี้ ชาบู ไก่ทอด',\n",
       " 'ส้มตำ  สุกี้ ชาบู หมูกะทะ',\n",
       " 'พิซซ่า ซาชิมิ หมูกะทะ',\n",
       " 'ก๋วยเตี๋ยว ซูชิ ชาบู',\n",
       " 'สุกี้, ชาบู, อาหารฝรั่ง',\n",
       " 'ชาบู ซูชิ หม่าล่า',\n",
       " 'อาหารเซ็ทญี่ปุ่น ชาบู ตามสั่ง',\n",
       " 'Suki / ชาบู/ ส้มตำ',\n",
       " 'อาหารฝรั่ง อาหารญี่ปุ่น ',\n",
       " ' สุกี้ ก๋วยเตี๋ยว ไก่ทอด',\n",
       " 'ปิ้งย่าง,ชาบู,ซีฟู้ด',\n",
       " 'ปิ้งย่างเกาหลี ชาบู ส้มตำ',\n",
       " 'สุกี้ ชาบู ส้มตำ เสต็ก สลัด ',\n",
       " 'สุกี้ สเต็ก/สลัด ชาบู',\n",
       " 'สุกี้ ส้มตำ ยำ',\n",
       " 'สุกี้ ซีฟู๊ด อาหารไทย',\n",
       " 'สุกี้ หมูกระทะ ญี่ปุ่น',\n",
       " 'สุกี้ , สเต็ก , ส้มตำ',\n",
       " 'อาหารจานเดียว ส้มตำ ชาบู',\n",
       " 'ทอด ต้มยำ และยำ',\n",
       " 'ชาบู ปิ้งย่าง อาหารไทย',\n",
       " 'ชาบู / สุกี้ / ส้มตำ',\n",
       " 'ปิ้งย่าง ซูชิ ชาบู',\n",
       " 'หมูกะทะ',\n",
       " 'ชาบู ส้มตำ ซูชิ',\n",
       " 'สุกี้,พิซซ่า,ชูชิ',\n",
       " 'หมูกะทะ สุกี้ ชาบู',\n",
       " 'ชาบู สัมตำ พิซซ่า',\n",
       " 'อาหารทะเล, ชาบู, ยำ',\n",
       " 'สุกี้ ส้มตำ หมูกะทะ',\n",
       " 'ชาบู ปิ้งย่าง หมูทะ',\n",
       " 'ชาบู ปิ้งย่าง บุฟเฟ่ต์',\n",
       " 'ข้าวกระเพา สปาเก็ตตี้ ส้มตำ',\n",
       " 'ชาบู  ปิ้งย่าง ส้มยำ',\n",
       " 'ต้ม นึ่ง ย่าง',\n",
       " 'ส้มตำ สเต็ก เกาหลี',\n",
       " 'ร้านกับข้าวอาหารตามสั่ง ก๋วยเตี๋ยว ชาบู',\n",
       " 'ชาบู ส้มตำ อาหารญี่ปุ่น',\n",
       " 'ไทย ญี่ปุ่น เกาหลี',\n",
       " 'ชาบู ส้มตำ ยำ',\n",
       " 'ชาบู ปิ้งย่าง อาหารทะเล',\n",
       " 'ปิ้งย่าง ',\n",
       " 'ชาบู ส้มตำ ข้าวหน้าเนื้อ',\n",
       " 'ชาบู ปิ้งย่าง ชุชิ',\n",
       " 'ประเภทเส้น(ก๋วยเตี๋ยว อุด้ง ราเม็ง)  สุกี้   ข้าวราดแกง',\n",
       " 'ชาบู หมูทะ ส้มตำ',\n",
       " 'อาหารไทยปกติ อาหารเกาหลี หมูกะทะ',\n",
       " 'ฟัวกราส์ วากิวยากินิคุ ซูเฟล่',\n",
       " 'สุกี้ อาหารจีน อาหารญี่ปุ่น',\n",
       " 'อิตาเลียน ญี่ปุ่น ปิ้งย่าง',\n",
       " 'ปิ้งย่าง ซูชิ พาสต้า',\n",
       " 'อาหารตามสั่ง ปิ้งย่างชาบู ส้มตำ',\n",
       " 'หมูกะทะ  ร้านอาหาร',\n",
       " 'อาหารญี่ปุ่น ชาบู พิชช่า',\n",
       " 'ปิ้งย่าง , หมูกระทะ, ตามสั่ง',\n",
       " 'สเต็ก ชาบู อาหารไทย',\n",
       " 'สุกี้ หมูกระทะ ส้มตำ',\n",
       " 'ส้มตำ',\n",
       " 'ชาบู ปิ้งย่าง หม่าล่า',\n",
       " 'ชาบู ซูชิ ปิ้งย่าง',\n",
       " 'ชาบู ปิ้งย่าง สลัด',\n",
       " 'ส้มตำ สุกี้ หมูกะทะ',\n",
       " 'ก๋วยเตี๋ยว, ผัดข้าวต่างๆ, ข้าวราด',\n",
       " 'สุกี้ อาหารไทย ส้มตำ',\n",
       " 'อีสาน ปิ้งย่าง ชาบู',\n",
       " 'สุกี้ กับข้าว ส้มตำ',\n",
       " 'แกงส้ม ปลาทอด น้ำพริก',\n",
       " 'หมู\\u200bกะทะ\\u200b',\n",
       " 'ชาบูหม้อไฟ ส้มตำ ปิ้งย่าง ',\n",
       " 'อาหารไทย ปิ้งย่าง&ซูชิ ส้มตำ',\n",
       " 'อาหารประเภทเส้น ชาบู ปิ้งย่าง',\n",
       " 'ส้มตำ ชาบู สุกี้',\n",
       " 'ไก่ทอดเกาหลี ราเมง พาสต้า',\n",
       " 'หมูกะทะ ชาบู เคเอฟซี ',\n",
       " 'ส้มตำ ยำ ข้าวต่มสั่ง',\n",
       " 'ปิ้งย่าง ชาบู ญี่ปุ่น',\n",
       " 'ตามสั่ง, ก๋วยเตี๋ยว, ซูชิ',\n",
       " 'ชาบู หมูกระทะ',\n",
       " 'ปิ้งย่าง ชาบู ส้มตำ',\n",
       " 'สปาเก็ตตี้',\n",
       " 'ซูชิ, สุกี้-ชาบู, ส้มตำ',\n",
       " 'สุกี้ ส้มตำ ปิ้งย่าง',\n",
       " 'pasta noodle',\n",
       " 'ปิ้งย่าง สุกี้ ชาบู',\n",
       " 'ตามสั่ง สเต๊ก สลัด',\n",
       " 'สุกี้ ชาบู อาหารไทย',\n",
       " 'ชาบู\\u200b /ก๋วยเตี๋ยว\\u200b ราเมน\\u200b/ หมูกะทะ']"
      ]
     },
     "execution_count": 210,
     "metadata": {},
     "output_type": "execute_result"
    }
   ],
   "source": [
    "text_list"
   ]
  },
  {
   "cell_type": "code",
   "execution_count": 212,
   "id": "a07f76b3",
   "metadata": {},
   "outputs": [
    {
     "data": {
      "text/plain": [
       "'Sushi Sukiyaki-Shabu Noodle'"
      ]
     },
     "execution_count": 212,
     "metadata": {},
     "output_type": "execute_result"
    }
   ],
   "source": [
    "newstr = 'Sushi, Sukiyaki-Shabu, Noodle'.replace(\",\", \"\")\n",
    "newstr"
   ]
  },
  {
   "cell_type": "code",
   "execution_count": 101,
   "id": "81a6e563",
   "metadata": {},
   "outputs": [
    {
     "data": {
      "text/plain": [
       "['ชาบู', 'สุกี้', 'ปิ้งย่าง']"
      ]
     },
     "execution_count": 101,
     "metadata": {},
     "output_type": "execute_result"
    }
   ],
   "source": [
    "index_ = list(col_name[14].value_counts().index)\n",
    "index_[1].split(' ')"
   ]
  },
  {
   "cell_type": "code",
   "execution_count": 102,
   "id": "18566279",
   "metadata": {},
   "outputs": [
    {
     "data": {
      "text/plain": [
       "165"
      ]
     },
     "execution_count": 102,
     "metadata": {},
     "output_type": "execute_result"
    }
   ],
   "source": [
    "len(index_)"
   ]
  },
  {
   "cell_type": "code",
   "execution_count": 103,
   "id": "9dbc2252",
   "metadata": {},
   "outputs": [
    {
     "data": {
      "text/plain": [
       "[['ชาบู'],\n",
       " ['ชาบู', 'สุกี้', 'ปิ้งย่าง'],\n",
       " ['สุกี้', 'ชาบู', 'ส้มตำ'],\n",
       " ['สุกี้'],\n",
       " ['ชาบู', 'ปิ้งย่าง', 'ส้มตำ'],\n",
       " ['ส้มตำ', 'สุกี้', 'ชาบู'],\n",
       " ['ชาบู', 'หมูกะทะ', 'ส้มตำ'],\n",
       " ['ส้มตำ', 'ก๋วยเตี๋ยว', 'ชาบู', ''],\n",
       " ['ชาบู', 'หมูกระทะ', 'ส้มตำ'],\n",
       " ['ปิ้งย่าง'],\n",
       " ['ชาบู', 'สุกี้', 'หมูกะทะ'],\n",
       " ['ชาบู', 'ปิ้งย่าง'],\n",
       " ['สุกี้', 'ชาบู', 'หมูกะทะ'],\n",
       " ['ชาบู', 'ปิ้งย่าง', 'ราเมง'],\n",
       " ['หมูกะทะ', 'ชาบู', 'ส้มตำ'],\n",
       " ['ชาบู', 'สุกี้', 'ส้มตำ'],\n",
       " ['ส้มตำ', 'ชาบู', 'หมูกะทะ'],\n",
       " ['ซูชิ'],\n",
       " ['ชาบู', 'สุกี้', 'หมูกระทะ'],\n",
       " ['ข้าวตามสั่ง', 'ก๋วยเตี๋ยว', 'สลัด'],\n",
       " ['สุกี้', 'ชาบู', 'หมูกระทะ'],\n",
       " ['ยำ', 'ส้มตำ', 'หมูกระทะ'],\n",
       " ['ปิ้งย่าง', 'สุกี้', 'อาหารไทย'],\n",
       " ['1', 'สุกี้', '2', 'ก๋วยเตี๋ยว', '3', 'ซูชิ'],\n",
       " ['ซูชิ', 'เสต็ก', 'สุกี้'],\n",
       " ['สวนอาหาร', 'คาเฟ่', 'อื่นๆ'],\n",
       " ['ชาบู', 'ญี่ปุ่น', 'อิตาเลียน', 'จีน', 'ฝรั่งเศส'],\n",
       " ['ราเมน', 'แกงกะหรี่', 'ชาบู'],\n",
       " ['อาหารญี่ปุ่น', 'พวก', 'ซูชิใดๆ', '>', 'สุกี้', 'mk', '>', 'ชาบู'],\n",
       " ['กับข้าวปกติ', 'ชาบู', 'ปิ้งย่าง'],\n",
       " ['ก๋วยเตี๋ยว', 'สุกี้', 'ยำ'],\n",
       " ['ชาบู', 'อาหารอีสาน', ''],\n",
       " ['อาหารญี่ปุ่น'],\n",
       " ['ชาบู', 'ปิ้งย่าง', 'สเต๊ก'],\n",
       " ['Sushi', 'Sukiyaki', 'Shabu', 'Noodle'],\n",
       " ['ชาบู/', 'หมูกระทะ/', 'อาหารญี่ปุ่น'],\n",
       " ['ชาบู', 'อาหารจีน', 'อาหารญี่ปุ่น'],\n",
       " ['ปลาดิบ', 'ชาบู', 'ส้มตำ', ''],\n",
       " ['ญี่ปุ่นซูชิ', 'ส้มตำ', 'อาหารไทย'],\n",
       " ['ปิ้งย่าง', 'ญี่ปุ่น', 'จีน'],\n",
       " ['Steak', 'ปิ้งย่าง', 'อาหารไทย'],\n",
       " ['ปิ้งย่าง', 'ชาบู', 'ซีฟู้ด'],\n",
       " ['ราเมน'],\n",
       " ['สุกี้', 'ชาบู', 'ปิ้งย่าง'],\n",
       " ['ชาบู', 'ปิ้งย่าง', 'ส้มตำ'],\n",
       " ['สุกี้', 'ชาบู', 'ญี่ปุ่น'],\n",
       " ['ซูชิ', 'พิซซ่า', 'ปิ้งย่าง'],\n",
       " ['อาหารญี่ปุ่น', 'ปิ้งย่าง', 'ชาบู'],\n",
       " ['สุกี้', 'หมูกะทะ', 'ชาบู'],\n",
       " ['ปิ้งย่าง', 'ชาบู', 'อาหารญี่ปุ่นทั่วไป'],\n",
       " ['ชาบู', 'ซูชิ', 'ส้มตำ'],\n",
       " ['ซูชิ', 'ก๋วยเตี๋ยว', 'ปิ้งย่าง'],\n",
       " ['ชาบู', 'ชูซิ', 'ปิ้งย่าง'],\n",
       " ['สุกี้', 'อาหารไทย', 'สเต๊ก'],\n",
       " ['สุกี้', 'สเต็ก', 'ชาบู'],\n",
       " ['ส้มตำ', 'สุกี้', 'ยำ'],\n",
       " ['ญี่ปุ่น', 'ส้มตำ', 'สุกี้'],\n",
       " ['แล้วแต่'],\n",
       " ['อาหารจานเดียว', 'ซูชิ', 'ราเมน'],\n",
       " ['ส้มตำ', 'ชาบู', 'ปิ้งย่าง'],\n",
       " ['ส้มตำ', 'ซีฟู้ด', 'ราเมน', ''],\n",
       " ['หมูกะทะ', 'ส้มตำ', 'สปาเกตตี้'],\n",
       " ['อาหารญี่ปุ่น', 'ส้มตำ', 'สุกี้', ''],\n",
       " ['ซูชิ', 'ซีฟู้ด', 'ราเมง'],\n",
       " ['อาหารญี่ปุ่น', 'ชาบู', 'อาหารเกาหลี'],\n",
       " ['ราเมง', 'ชาบู', 'ปิ้งย่าง'],\n",
       " ['ข้าวต้มกุ๊ย', 'พิซซ่า', 'ปิ้งย่างเกาหลี', ''],\n",
       " ['สุกี้', 'ปิ้งย่าง', 'ร้านอาหารจานเดียว'],\n",
       " ['ชาบู', 'หมูกระทะส้มตำ'],\n",
       " ['ปิ้งย่าง', 'ราเม็ง', 'แกงกะหรี่'],\n",
       " ['หมูกะทะ', 'สุกี้', 'ส้มตำ'],\n",
       " ['ชาบู', 'pasta', 'กับข้าว'],\n",
       " ['อาหารจานเดียว', 'พิซซ่า', 'ไก่ทอด'],\n",
       " ['ญี่ปุ่น', 'หมูกะทะ', 'ยำ'],\n",
       " ['เบอร์เกอร์', 'ซูชิ', 'สุกี้'],\n",
       " ['ส้มตำ', 'ติ่มซำ', 'อาหารฝรั่ง'],\n",
       " ['ซีฟู้ด', 'ฟาสท์ฟูด', 'ไทย'],\n",
       " ['ชาบู', '', 'บุฟเฟต์นานาชาติ', '', 'เพื่อสุขภาพ'],\n",
       " ['สุกี้', 'ชาบู', 'ไก่ทอด'],\n",
       " ['ส้มตำ', 'สุกี้', 'ชาบู', 'หมูกะทะ'],\n",
       " ['พิซซ่า', 'ซาชิมิ', 'หมูกะทะ'],\n",
       " ['ก๋วยเตี๋ยว', 'ซูชิ', 'ชาบู'],\n",
       " ['สุกี้', 'ชาบู', 'อาหารฝรั่ง'],\n",
       " ['ชาบู', 'ซูชิ', 'หม่าล่า'],\n",
       " ['อาหารเซ็ทญี่ปุ่น', 'ชาบู', 'ตามสั่ง'],\n",
       " ['Suki', '/', 'ชาบู/', 'ส้มตำ'],\n",
       " ['อาหารฝรั่ง', 'อาหารญี่ปุ่น', ''],\n",
       " ['', 'สุกี้', 'ก๋วยเตี๋ยว', 'ไก่ทอด'],\n",
       " ['ปิ้งย่าง', 'ชาบู', 'ซีฟู้ด'],\n",
       " ['ปิ้งย่างเกาหลี', 'ชาบู', 'ส้มตำ'],\n",
       " ['สุกี้', 'ชาบู', 'ส้มตำ', 'เสต็ก', 'สลัด', ''],\n",
       " ['สุกี้', 'สเต็ก/สลัด', 'ชาบู'],\n",
       " ['สุกี้', 'ส้มตำ', 'ยำ'],\n",
       " ['สุกี้', 'ซีฟู๊ด', 'อาหารไทย'],\n",
       " ['สุกี้', 'หมูกระทะ', 'ญี่ปุ่น'],\n",
       " ['สุกี้', '', 'สเต็ก', '', 'ส้มตำ'],\n",
       " ['อาหารจานเดียว', 'ส้มตำ', 'ชาบู'],\n",
       " ['ทอด', 'ต้มยำ', 'และยำ'],\n",
       " ['ชาบู', 'ปิ้งย่าง', 'อาหารไทย'],\n",
       " ['ชาบู', '/', 'สุกี้', '/', 'ส้มตำ'],\n",
       " ['ปิ้งย่าง', 'ซูชิ', 'ชาบู'],\n",
       " ['หมูกะทะ'],\n",
       " ['ชาบู', 'ส้มตำ', 'ซูชิ'],\n",
       " ['สุกี้', 'พิซซ่า', 'ชูชิ'],\n",
       " ['หมูกะทะ', 'สุกี้', 'ชาบู'],\n",
       " ['ชาบู', 'สัมตำ', 'พิซซ่า'],\n",
       " ['อาหารทะเล', 'ชาบู', 'ยำ'],\n",
       " ['สุกี้', 'ส้มตำ', 'หมูกะทะ'],\n",
       " ['ชาบู', 'ปิ้งย่าง', 'หมูทะ'],\n",
       " ['ชาบู', 'ปิ้งย่าง', 'บุฟเฟ่ต์'],\n",
       " ['ข้าวกระเพา', 'สปาเก็ตตี้', 'ส้มตำ'],\n",
       " ['ชาบู', 'ปิ้งย่าง', 'ส้มยำ'],\n",
       " ['ต้ม', 'นึ่ง', 'ย่าง'],\n",
       " ['ส้มตำ', 'สเต็ก', 'เกาหลี'],\n",
       " ['ร้านกับข้าวอาหารตามสั่ง', 'ก๋วยเตี๋ยว', 'ชาบู'],\n",
       " ['ชาบู', 'ส้มตำ', 'อาหารญี่ปุ่น'],\n",
       " ['ไทย', 'ญี่ปุ่น', 'เกาหลี'],\n",
       " ['ชาบู', 'ส้มตำ', 'ยำ'],\n",
       " ['ชาบู', 'ปิ้งย่าง', 'อาหารทะเล'],\n",
       " ['ปิ้งย่าง', ''],\n",
       " ['ชาบู', 'ส้มตำ', 'ข้าวหน้าเนื้อ'],\n",
       " ['ชาบู', 'ปิ้งย่าง', 'ชุชิ'],\n",
       " ['ประเภทเส้น(ก๋วยเตี๋ยว', 'อุด้ง', 'ราเม็ง)', 'สุกี้', 'ข้าวราดแกง'],\n",
       " ['ชาบู', 'หมูทะ', 'ส้มตำ'],\n",
       " ['อาหารไทยปกติ', 'อาหารเกาหลี', 'หมูกะทะ'],\n",
       " ['ฟัวกราส์', 'วากิวยากินิคุ', 'ซูเฟล่'],\n",
       " ['สุกี้', 'อาหารจีน', 'อาหารญี่ปุ่น'],\n",
       " ['อิตาเลียน', 'ญี่ปุ่น', 'ปิ้งย่าง'],\n",
       " ['ปิ้งย่าง', 'ซูชิ', 'พาสต้า'],\n",
       " ['อาหารตามสั่ง', 'ปิ้งย่างชาบู', 'ส้มตำ'],\n",
       " ['หมูกะทะ', 'ร้านอาหาร'],\n",
       " ['อาหารญี่ปุ่น', 'ชาบู', 'พิชช่า'],\n",
       " ['ปิ้งย่าง', '', 'หมูกระทะ', 'ตามสั่ง'],\n",
       " ['สเต็ก', 'ชาบู', 'อาหารไทย'],\n",
       " ['สุกี้', 'หมูกระทะ', 'ส้มตำ'],\n",
       " ['ส้มตำ'],\n",
       " ['ชาบู', 'ปิ้งย่าง', 'หม่าล่า'],\n",
       " ['ชาบู', 'ซูชิ', 'ปิ้งย่าง'],\n",
       " ['ชาบู', 'ปิ้งย่าง', 'สลัด'],\n",
       " ['ส้มตำ', 'สุกี้', 'หมูกะทะ'],\n",
       " ['ก๋วยเตี๋ยว', 'ผัดข้าวต่างๆ', 'ข้าวราด'],\n",
       " ['สุกี้', 'อาหารไทย', 'ส้มตำ'],\n",
       " ['อีสาน', 'ปิ้งย่าง', 'ชาบู'],\n",
       " ['สุกี้', 'กับข้าว', 'ส้มตำ'],\n",
       " ['แกงส้ม', 'ปลาทอด', 'น้ำพริก'],\n",
       " ['หมู\\u200bกะทะ\\u200b'],\n",
       " ['ชาบูหม้อไฟ', 'ส้มตำ', 'ปิ้งย่าง', ''],\n",
       " ['อาหารไทย', 'ปิ้งย่าง&ซูชิ', 'ส้มตำ'],\n",
       " ['อาหารประเภทเส้น', 'ชาบู', 'ปิ้งย่าง'],\n",
       " ['ส้มตำ', 'ชาบู', 'สุกี้'],\n",
       " ['ไก่ทอดเกาหลี', 'ราเมง', 'พาสต้า'],\n",
       " ['หมูกะทะ', 'ชาบู', 'เคเอฟซี', ''],\n",
       " ['ส้มตำ', 'ยำ', 'ข้าวต่มสั่ง'],\n",
       " ['ปิ้งย่าง', 'ชาบู', 'ญี่ปุ่น'],\n",
       " ['ตามสั่ง', 'ก๋วยเตี๋ยว', 'ซูชิ'],\n",
       " ['ชาบู', 'หมูกระทะ'],\n",
       " ['ปิ้งย่าง', 'ชาบู', 'ส้มตำ'],\n",
       " ['สปาเก็ตตี้'],\n",
       " ['ซูชิ', 'สุกี้', 'ชาบู', 'ส้มตำ'],\n",
       " ['สุกี้', 'ส้มตำ', 'ปิ้งย่าง'],\n",
       " ['pasta', 'noodle'],\n",
       " ['ปิ้งย่าง', 'สุกี้', 'ชาบู'],\n",
       " ['ตามสั่ง', 'สเต๊ก', 'สลัด'],\n",
       " ['สุกี้', 'ชาบู', 'อาหารไทย'],\n",
       " ['ชาบู\\u200b', '/ก๋วยเตี๋ยว\\u200b', 'ราเมน\\u200b/', 'หมูกะทะ']]"
      ]
     },
     "execution_count": 103,
     "metadata": {},
     "output_type": "execute_result"
    }
   ],
   "source": [
    "## split('')\n",
    "index_ = list(col_name[14].value_counts().index)\n",
    "spl_all = [re.split(r\"[-;,.\\s]\\s*\",i) for i in index_]\n",
    "spl_all"
   ]
  },
  {
   "cell_type": "code",
   "execution_count": 221,
   "id": "4f39663b",
   "metadata": {},
   "outputs": [
    {
     "data": {
      "text/plain": [
       "165"
      ]
     },
     "execution_count": 221,
     "metadata": {},
     "output_type": "execute_result"
    }
   ],
   "source": [
    "len(spl_all)"
   ]
  },
  {
   "cell_type": "code",
   "execution_count": null,
   "id": "889597c5",
   "metadata": {},
   "outputs": [],
   "source": []
  },
  {
   "cell_type": "code",
   "execution_count": null,
   "id": "f2531aa9",
   "metadata": {},
   "outputs": [],
   "source": []
  },
  {
   "cell_type": "code",
   "execution_count": null,
   "id": "84ab2e1f",
   "metadata": {},
   "outputs": [],
   "source": []
  },
  {
   "cell_type": "code",
   "execution_count": null,
   "id": "6916acc5",
   "metadata": {},
   "outputs": [],
   "source": []
  },
  {
   "cell_type": "code",
   "execution_count": null,
   "id": "2a7bc593",
   "metadata": {},
   "outputs": [],
   "source": []
  },
  {
   "cell_type": "code",
   "execution_count": null,
   "id": "0b91c2de",
   "metadata": {},
   "outputs": [],
   "source": []
  },
  {
   "cell_type": "code",
   "execution_count": null,
   "id": "e451e286",
   "metadata": {},
   "outputs": [],
   "source": []
  },
  {
   "cell_type": "code",
   "execution_count": 105,
   "id": "501526a1",
   "metadata": {},
   "outputs": [
    {
     "data": {
      "text/plain": [
       "[['ชาบู', 'สุกี้', 'ปิ้งย่าง'],\n",
       " ['สุกี้', 'ชาบู', 'ส้มตำ'],\n",
       " ['ชาบู', 'ปิ้งย่าง', 'ส้มตำ'],\n",
       " ['ส้มตำ', 'สุกี้', 'ชาบู'],\n",
       " ['ชาบู', 'หมูกะทะ', 'ส้มตำ'],\n",
       " ['ชาบู', 'หมูกระทะ', 'ส้มตำ'],\n",
       " ['ชาบู', 'สุกี้', 'หมูกะทะ'],\n",
       " ['สุกี้', 'ชาบู', 'หมูกะทะ'],\n",
       " ['ชาบู', 'ปิ้งย่าง', 'ราเมง'],\n",
       " ['หมูกะทะ', 'ชาบู', 'ส้มตำ'],\n",
       " ['ชาบู', 'สุกี้', 'ส้มตำ'],\n",
       " ['ส้มตำ', 'ชาบู', 'หมูกะทะ'],\n",
       " ['ชาบู', 'สุกี้', 'หมูกระทะ'],\n",
       " ['ข้าวตามสั่ง', 'ก๋วยเตี๋ยว', 'สลัด'],\n",
       " ['สุกี้', 'ชาบู', 'หมูกระทะ'],\n",
       " ['ยำ', 'ส้มตำ', 'หมูกระทะ'],\n",
       " ['ปิ้งย่าง', 'สุกี้', 'อาหารไทย'],\n",
       " ['ซูชิ', 'เสต็ก', 'สุกี้'],\n",
       " ['สวนอาหาร', 'คาเฟ่', 'อื่นๆ'],\n",
       " ['ราเมน', 'แกงกะหรี่', 'ชาบู'],\n",
       " ['กับข้าวปกติ', 'ชาบู', 'ปิ้งย่าง'],\n",
       " ['ก๋วยเตี๋ยว', 'สุกี้', 'ยำ'],\n",
       " ['ชาบู', 'อาหารอีสาน', ''],\n",
       " ['ชาบู', 'ปิ้งย่าง', 'สเต๊ก'],\n",
       " ['Sushi,', 'Sukiyaki-Shabu,', 'Noodle'],\n",
       " ['ชาบู', 'หมูกระทะ', 'อาหารญี่ปุ่น'],\n",
       " ['ชาบู,', 'อาหารจีน,', 'อาหารญี่ปุ่น'],\n",
       " ['ญี่ปุ่นซูชิ', 'ส้มตำ', 'อาหารไทย'],\n",
       " ['ปิ้งย่าง', 'ญี่ปุ่น', 'จีน'],\n",
       " ['Steak', 'ปิ้งย่าง', 'อาหารไทย'],\n",
       " ['ปิ้งย่าง,', 'ชาบู,', 'ซีฟู้ด'],\n",
       " ['สุกี้', 'ชาบู', 'ปิ้งย่าง'],\n",
       " ['ชาบู,', 'ปิ้งย่าง,', 'ส้มตำ'],\n",
       " ['สุกี้', 'ชาบู', 'ญี่ปุ่น'],\n",
       " ['ซูชิ', 'พิซซ่า', 'ปิ้งย่าง'],\n",
       " ['สุกี้', 'หมูกะทะ', 'ชาบู'],\n",
       " ['ปิ้งย่าง', 'ชาบู', 'อาหารญี่ปุ่นทั่วไป'],\n",
       " ['ชาบู', 'ซูชิ', 'ส้มตำ'],\n",
       " ['ซูชิ', 'ก๋วยเตี๋ยว', 'ปิ้งย่าง'],\n",
       " ['ชาบู', 'ชูซิ', 'ปิ้งย่าง'],\n",
       " ['สุกี้', 'อาหารไทย', 'สเต๊ก'],\n",
       " ['สุกี้', 'สเต็ก', 'ชาบู'],\n",
       " ['ส้มตำ', 'สุกี้', 'ยำ'],\n",
       " ['ญี่ปุ่น', 'ส้มตำ', 'สุกี้'],\n",
       " ['อาหารจานเดียว', 'ซูชิ', 'ราเมน'],\n",
       " ['ส้มตำ', 'ชาบู', 'ปิ้งย่าง'],\n",
       " ['หมูกะทะ', 'ส้มตำ', 'สปาเกตตี้'],\n",
       " ['ซูชิ', 'ซีฟู้ด', 'ราเมง'],\n",
       " ['อาหารญี่ปุ่น', 'ชาบู', 'อาหารเกาหลี'],\n",
       " ['ราเมง', 'ชาบู', 'ปิ้งย่าง'],\n",
       " ['สุกี้', 'ปิ้งย่าง', 'ร้านอาหารจานเดียว'],\n",
       " ['ปิ้งย่าง', 'ราเม็ง', 'แกงกะหรี่'],\n",
       " ['หมูกะทะ', 'สุกี้', 'ส้มตำ'],\n",
       " ['ชาบู', 'pasta', 'กับข้าว'],\n",
       " ['อาหารจานเดียว', 'พิซซ่า', 'ไก่ทอด'],\n",
       " ['ญี่ปุ่น', 'หมูกะทะ', 'ยำ'],\n",
       " ['เบอร์เกอร์,', 'ซูชิ,', 'สุกี้'],\n",
       " ['ส้มตำ', 'ติ่มซำ', 'อาหารฝรั่ง'],\n",
       " ['ซีฟู้ด', 'ฟาสท์ฟูด', 'ไทย'],\n",
       " ['สุกี้', 'ชาบู', 'ไก่ทอด'],\n",
       " ['พิซซ่า', 'ซาชิมิ', 'หมูกะทะ'],\n",
       " ['ก๋วยเตี๋ยว', 'ซูชิ', 'ชาบู'],\n",
       " ['สุกี้,', 'ชาบู,', 'อาหารฝรั่ง'],\n",
       " ['ชาบู', 'ซูชิ', 'หม่าล่า'],\n",
       " ['อาหารเซ็ทญี่ปุ่น', 'ชาบู', 'ตามสั่ง'],\n",
       " ['อาหารฝรั่ง', 'อาหารญี่ปุ่น', ''],\n",
       " ['ปิ้งย่างเกาหลี', 'ชาบู', 'ส้มตำ'],\n",
       " ['สุกี้', 'สเต็ก/สลัด', 'ชาบู'],\n",
       " ['สุกี้', 'ส้มตำ', 'ยำ'],\n",
       " ['สุกี้', 'ซีฟู๊ด', 'อาหารไทย'],\n",
       " ['สุกี้', 'หมูกระทะ', 'ญี่ปุ่น'],\n",
       " ['อาหารจานเดียว', 'ส้มตำ', 'ชาบู'],\n",
       " ['ทอด', 'ต้มยำ', 'และยำ'],\n",
       " ['ชาบู', 'ปิ้งย่าง', 'อาหารไทย'],\n",
       " ['ปิ้งย่าง', 'ซูชิ', 'ชาบู'],\n",
       " ['ชาบู', 'ส้มตำ', 'ซูชิ'],\n",
       " ['หมูกะทะ', 'สุกี้', 'ชาบู'],\n",
       " ['ชาบู', 'สัมตำ', 'พิซซ่า'],\n",
       " ['อาหารทะเล,', 'ชาบู,', 'ยำ'],\n",
       " ['สุกี้', 'ส้มตำ', 'หมูกะทะ'],\n",
       " ['ชาบู', 'ปิ้งย่าง', 'หมูทะ'],\n",
       " ['ชาบู', 'ปิ้งย่าง', 'บุฟเฟ่ต์'],\n",
       " ['ข้าวกระเพา', 'สปาเก็ตตี้', 'ส้มตำ'],\n",
       " ['ชาบู', 'ปิ้งย่าง', 'ส้มยำ'],\n",
       " ['ต้ม', 'นึ่ง', 'ย่าง'],\n",
       " ['ส้มตำ', 'สเต็ก', 'เกาหลี'],\n",
       " ['ร้านกับข้าวอาหารตามสั่ง', 'ก๋วยเตี๋ยว', 'ชาบู'],\n",
       " ['ชาบู', 'ส้มตำ', 'อาหารญี่ปุ่น'],\n",
       " ['ไทย', 'ญี่ปุ่น', 'เกาหลี'],\n",
       " ['ชาบู', 'ส้มตำ', 'ยำ'],\n",
       " ['ชาบู', 'ปิ้งย่าง', 'อาหารทะเล'],\n",
       " ['ชาบู', 'ส้มตำ', 'ข้าวหน้าเนื้อ'],\n",
       " ['ชาบู', 'ปิ้งย่าง', 'ชุชิ'],\n",
       " ['ชาบู', 'หมูทะ', 'ส้มตำ'],\n",
       " ['อาหารไทยปกติ', 'อาหารเกาหลี', 'หมูกะทะ'],\n",
       " ['ฟัวกราส์', 'วากิวยากินิคุ', 'ซูเฟล่'],\n",
       " ['สุกี้', 'อาหารจีน', 'อาหารญี่ปุ่น'],\n",
       " ['อิตาเลียน', 'ญี่ปุ่น', 'ปิ้งย่าง'],\n",
       " ['ปิ้งย่าง', 'ซูชิ', 'พาสต้า'],\n",
       " ['อาหารตามสั่ง', 'ปิ้งย่างชาบู', 'ส้มตำ'],\n",
       " ['อาหารญี่ปุ่น', 'ชาบู', 'พิชช่า'],\n",
       " ['สเต็ก', 'ชาบู', 'อาหารไทย'],\n",
       " ['สุกี้', 'หมูกระทะ', 'ส้มตำ'],\n",
       " ['ชาบู', 'ปิ้งย่าง', 'หม่าล่า'],\n",
       " ['ชาบู', 'ซูชิ', 'ปิ้งย่าง'],\n",
       " ['ชาบู', 'ปิ้งย่าง', 'สลัด'],\n",
       " ['ส้มตำ', 'สุกี้', 'หมูกะทะ'],\n",
       " ['ก๋วยเตี๋ยว,', 'ผัดข้าวต่างๆ,', 'ข้าวราด'],\n",
       " ['สุกี้', 'อาหารไทย', 'ส้มตำ'],\n",
       " ['อีสาน', 'ปิ้งย่าง', 'ชาบู'],\n",
       " ['สุกี้', 'กับข้าว', 'ส้มตำ'],\n",
       " ['แกงส้ม', 'ปลาทอด', 'น้ำพริก'],\n",
       " ['อาหารไทย', 'ปิ้งย่าง&ซูชิ', 'ส้มตำ'],\n",
       " ['อาหารประเภทเส้น', 'ชาบู', 'ปิ้งย่าง'],\n",
       " ['ส้มตำ', 'ชาบู', 'สุกี้'],\n",
       " ['ไก่ทอดเกาหลี', 'ราเมง', 'พาสต้า'],\n",
       " ['ส้มตำ', 'ยำ', 'ข้าวต่มสั่ง'],\n",
       " ['ปิ้งย่าง', 'ชาบู', 'ญี่ปุ่น'],\n",
       " ['ตามสั่ง,', 'ก๋วยเตี๋ยว,', 'ซูชิ'],\n",
       " ['ปิ้งย่าง', 'ชาบู', 'ส้มตำ'],\n",
       " ['ซูชิ,', 'สุกี้-ชาบู,', 'ส้มตำ'],\n",
       " ['สุกี้', 'ส้มตำ', 'ปิ้งย่าง'],\n",
       " ['ปิ้งย่าง', 'สุกี้', 'ชาบู'],\n",
       " ['ตามสั่ง', 'สเต๊ก', 'สลัด'],\n",
       " ['สุกี้', 'ชาบู', 'อาหารไทย']]"
      ]
     },
     "execution_count": 105,
     "metadata": {},
     "output_type": "execute_result"
    }
   ],
   "source": [
    "## split('')\n",
    "index_ = list(col_name[14].value_counts().index)\n",
    "spl_ = [re.split(\"/ |\\s+\",i) for i in index_ if len(re.split(\"/ |\\s+\",i))==3]\n",
    "spl_"
   ]
  },
  {
   "cell_type": "code",
   "execution_count": 220,
   "id": "2f6e30a3",
   "metadata": {},
   "outputs": [
    {
     "data": {
      "text/plain": [
       "125"
      ]
     },
     "execution_count": 220,
     "metadata": {},
     "output_type": "execute_result"
    }
   ],
   "source": [
    "len(spl_)"
   ]
  },
  {
   "cell_type": "code",
   "execution_count": null,
   "id": "13433a00",
   "metadata": {},
   "outputs": [],
   "source": []
  },
  {
   "cell_type": "code",
   "execution_count": null,
   "id": "f1f2d8f7",
   "metadata": {},
   "outputs": [],
   "source": []
  },
  {
   "cell_type": "code",
   "execution_count": 107,
   "id": "41eb385d",
   "metadata": {},
   "outputs": [
    {
     "ename": "NameError",
     "evalue": "name 'non_spl' is not defined",
     "output_type": "error",
     "traceback": [
      "\u001b[0;31m---------------------------------------------------------------------------\u001b[0m",
      "\u001b[0;31mNameError\u001b[0m                                 Traceback (most recent call last)",
      "\u001b[0;32m/tmp/ipykernel_70116/4099414319.py\u001b[0m in \u001b[0;36m<module>\u001b[0;34m\u001b[0m\n\u001b[0;32m----> 1\u001b[0;31m \u001b[0mnon_spl\u001b[0m\u001b[0;34m[\u001b[0m\u001b[0;36m2\u001b[0m\u001b[0;34m]\u001b[0m\u001b[0;34m[\u001b[0m\u001b[0;36m3\u001b[0m\u001b[0;34m]\u001b[0m\u001b[0;34m\u001b[0m\u001b[0;34m\u001b[0m\u001b[0m\n\u001b[0m",
      "\u001b[0;31mNameError\u001b[0m: name 'non_spl' is not defined"
     ]
    }
   ],
   "source": [
    "non_spl[2][3]"
   ]
  },
  {
   "cell_type": "code",
   "execution_count": null,
   "id": "e83403dd",
   "metadata": {},
   "outputs": [],
   "source": [
    "non_spl =   [re.split(\"''|, |/|\\u200b|\\s+\",i) for i in index_ if len(re.split(\"''|, |/|\\u200b|\\s+\",i))!=3]\n",
    "non_spl"
   ]
  },
  {
   "cell_type": "code",
   "execution_count": null,
   "id": "29829242",
   "metadata": {},
   "outputs": [],
   "source": [
    "len(non_spl)"
   ]
  },
  {
   "cell_type": "code",
   "execution_count": null,
   "id": "ea15834d",
   "metadata": {},
   "outputs": [],
   "source": [
    "non_spl =  [re.split(\"/\\s+\",i) for i in index_ if len(re.split(r\"/\\s+\",i))!=3]\n",
    "non_spl"
   ]
  },
  {
   "cell_type": "code",
   "execution_count": null,
   "id": "f9061ffa",
   "metadata": {},
   "outputs": [],
   "source": [
    "## split('')\n",
    "index_ = list(col_name[14].value_counts().index)\n",
    "spl_ = [re.split(r\"[\\u200b\\/&-;,.\\s]\\s*\",i) for i in index_ if len(re.split(r\"[\\u200b\\/&-;,.\\s]\\s*\",i))==3]\n",
    "spl_"
   ]
  },
  {
   "cell_type": "code",
   "execution_count": null,
   "id": "dfcc8a94",
   "metadata": {},
   "outputs": [],
   "source": [
    "len(spl_)"
   ]
  },
  {
   "cell_type": "code",
   "execution_count": null,
   "id": "874f64cb",
   "metadata": {},
   "outputs": [],
   "source": [
    "non_spl = [re.split(r\"[\\u200b\\/&-;,.\\s]\\s*\",i) for i in index_ if len(re.split(r\"[\\u200b\\/&-;,.\\s]\\s*\",i))!=3]\n",
    "non_spl"
   ]
  },
  {
   "cell_type": "code",
   "execution_count": null,
   "id": "3907c919",
   "metadata": {},
   "outputs": [],
   "source": [
    "len(non_spl)"
   ]
  },
  {
   "cell_type": "code",
   "execution_count": null,
   "id": "ae0fb2bf",
   "metadata": {
    "scrolled": true
   },
   "outputs": [],
   "source": [
    "## No split\n",
    "non_spl =  [i for i in index_ if i not in spl_]\n",
    "non_spl"
   ]
  },
  {
   "cell_type": "code",
   "execution_count": null,
   "id": "300c848d",
   "metadata": {},
   "outputs": [],
   "source": [
    "len(non_spl)"
   ]
  },
  {
   "cell_type": "code",
   "execution_count": 410,
   "id": "642c78ef",
   "metadata": {},
   "outputs": [
    {
     "data": {
      "text/plain": [
       "['ชาบู',\n",
       " 'สุกี้',\n",
       " 'ปิ้งย่าง',\n",
       " 'ซูชิ',\n",
       " 'แล้วแต่',\n",
       " 'หมู\\u200bกะทะ\\u200b',\n",
       " 'สปาเก็ตตี้',\n",
       " 'อาหารญี่ปุ่น,ปิ้งย่าง,ชาบู',\n",
       " 'ราเมน',\n",
       " 'ปิ้งย่าง,ชาบู,ซีฟู้ด',\n",
       " 'สุกี้,พิซซ่า,ชูชิ',\n",
       " 'ส้มตำ',\n",
       " 'อาหารญี่ปุ่น',\n",
       " 'หมูกะทะ']"
      ]
     },
     "execution_count": 410,
     "metadata": {},
     "output_type": "execute_result"
    }
   ],
   "source": [
    "## 1 cat\n",
    "spl_1_cat =  [i for i in index_ if i not in spl_ and len(i.split(' ')) == 1]\n",
    "spl_1_cat"
   ]
  },
  {
   "cell_type": "code",
   "execution_count": null,
   "id": "e6289f7d",
   "metadata": {},
   "outputs": [],
   "source": [
    "spl_1_cat = [i for i in spl_1_cat if len(i.split(' ')) == 1]"
   ]
  }
 ],
 "metadata": {
  "kernelspec": {
   "display_name": "Python 3 (ipykernel)",
   "language": "python",
   "name": "python3"
  },
  "language_info": {
   "codemirror_mode": {
    "name": "ipython",
    "version": 3
   },
   "file_extension": ".py",
   "mimetype": "text/x-python",
   "name": "python",
   "nbconvert_exporter": "python",
   "pygments_lexer": "ipython3",
   "version": "3.8.10"
  }
 },
 "nbformat": 4,
 "nbformat_minor": 5
}
