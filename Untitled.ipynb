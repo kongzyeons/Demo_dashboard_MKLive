{
 "cells": [
  {
   "cell_type": "code",
   "execution_count": 1,
   "id": "d983bed8",
   "metadata": {},
   "outputs": [],
   "source": [
    "import pandas as pd\n",
    "import matplotlib.pyplot as plt\n",
    "import os\n",
    "from tqdm import tqdm\n",
    "import numpy as np\n",
    "import re"
   ]
  },
  {
   "cell_type": "code",
   "execution_count": 2,
   "id": "d67948f6",
   "metadata": {},
   "outputs": [],
   "source": [
    "from pythainlp.corpus.common import thai_stopwords\n",
    "from pythainlp import word_tokenize\n",
    "thai_stopwords = list(thai_stopwords())\n",
    "\n",
    "\n",
    "# def text_process(text):\n",
    "#     final = \"\".join(u for u in text if u not in (\",\",\"*\",\"?\", \".\", \";\", \":\", \"!\", \"(\",\")\",\"/\",\" \", \"ฯ\",\"-\",\"[\",\"]\",\"ๆ\")) #ๆ\n",
    "#     final = word_tokenize(final)\n",
    "#     final = \" \".join(word for word in final)\n",
    "#     final = \" \".join(word for word in final.split() \n",
    "#                      if word.lower not in thai_stopwords)\n",
    "#     return final"
   ]
  },
  {
   "cell_type": "code",
   "execution_count": 3,
   "id": "5baa6f4c",
   "metadata": {},
   "outputs": [],
   "source": [
    "df = pd.read_excel('dataset/MK Live_clean_Rev1.xlsm',sheet_name = 'MK Live_clean_Rev1',engine='openpyxl')"
   ]
  },
  {
   "cell_type": "code",
   "execution_count": 4,
   "id": "a2fcfa0f",
   "metadata": {},
   "outputs": [
    {
     "name": "stdout",
     "output_type": "stream",
     "text": [
      "<class 'pandas.core.frame.DataFrame'>\n",
      "RangeIndex: 199 entries, 0 to 198\n",
      "Data columns (total 91 columns):\n",
      " #   Column                                                                                                                                                                                                 Non-Null Count  Dtype         \n",
      "---  ------                                                                                                                                                                                                 --------------  -----         \n",
      " 0   ประทับเวลา                                                                                                                                                                                             199 non-null    datetime64[ns]\n",
      " 1   1. ปกติแล้วโดยส่วนใหญ่ ท่านรับประทานอาหาร นอกบ้าน หรือ ในบ้าน                                                                                                                                          199 non-null    object        \n",
      " 2   2. ท่านมักรับประทานอาหารนอกบ้าน คิดเป็นกี่เปอร์เซ็นต์                                                                                                                                                  199 non-null    object        \n",
      " 3   3.ท่านรับประทานอาหารนอกบ้าน บ่อยแค่ไหนใน 1 สัปดาห์                                                                                                                                                     199 non-null    object        \n",
      " 4   4.ท่านรับประทานอาหารนอกบ้านเนื่องในโอกาสใด (รบกวนตอบ 2 คำตอบ)                                                                                                                                          199 non-null    object        \n",
      " 5   5. ท่านมักรับประทานอาหารนอกบ้านในช่วงเวลาใด                                                                                                                                                            199 non-null    object        \n",
      " 6   6.เมื่อท่านรับประทานอาหารนอกบ้านส่วนใหญ่ ท่านเลือกรับประทานอาหารในรูปแบบใด                                                                                                                             199 non-null    object        \n",
      " 7   7.1 ท่านมักจะเลือกรับประทานอาหารนอกบ้านที่ใด (เลือก 2 อันดับแรก)  [อันดับที่ 1]                                                                                                                        199 non-null    object        \n",
      " 8   7.1 ท่านมักจะเลือกรับประทานอาหารนอกบ้านที่ใด (เลือก 2 อันดับแรก)  [อันดับที่ 2]                                                                                                                        199 non-null    object        \n",
      " 9   7.2 หากข้อ 7.1 ตอบอื่นๆ โปรดระบุคำตอบของท่าน                                                                                                                                                           6 non-null      object        \n",
      " 10  8. ท่านมักรับประทานอาหารนอกบ้านกับใคร                                                                                                                                                                  199 non-null    object        \n",
      " 11  9. เมื่อท่านรับประทานอาหารนอกบ้าน ท่านมักรับประทานกันทั้งหมดกี่คน (รวมตัวท่าน)                                                                                                                         199 non-null    object        \n",
      " 12  10.เมื่อท่านรับประทานอาหารนอกบ้าน มีค่าใช้จ่ายต่อคนอยู่ที่ประมาณเท่าใด                                                                                                                                 199 non-null    object        \n",
      " 13  11.เมื่อท่านรับประทานอาหารนอกบ้าน ท่านมักเลือกรับประทานอาหารสัญชาติใด                                                                                                                                  199 non-null    object        \n",
      " 14  12.เมื่อท่านรับประทานอาหารนอกบ้าน  ท่านมักเลือกรับประทานอาหารประเภทใด 3 ลำดับแรก (เช่น สุกี้ ชาบู หมูกะทะ ส้มตำ ยำ เป็นต้น)                                                                            199 non-null    object        \n",
      " 15  13. เมื่อท่านรับประทานอาหารนอกบ้าน  ท่านมักเลือกรับประทานที่ร้านอาหารใด 3 ลำดับแรก เช่น MK , KFC, BBQ Plaza, MoMo Paradise, Pizza Hut เป็นต้น                                                          199 non-null    object        \n",
      " 16  14.จาก 3 ร้านที่ท่านเลือก ในข้อก่อนหน้า โดยภาพรวมท่านมีความพึงพอใจในการเข้าใช้บริการและรับประทานอาหารที่ร้านหรือไม่ โปรดระบุระดับคะแนนความพึงพอใจของท่านจาก 1- 10 (1 พอใจน้อยที่สุด 10 พอใจมากที่สุด)  199 non-null    int64         \n",
      " 17  15.โปรดระบุเหตุผล ของระดับความพึงพอใจที่ท่านตอบในข้อก่อนหน้า                                                                                                                                           199 non-null    object        \n",
      " 18  1.1 ท่านให้ความสำคัญกับปัจจัยใดบ้างในการเลือกร้านอาหาร 3 ปัจจัยแรก [อันดับที่ 1]                                                                                                                       199 non-null    object        \n",
      " 19  1.1 ท่านให้ความสำคัญกับปัจจัยใดบ้างในการเลือกร้านอาหาร 3 ปัจจัยแรก [อันดับที่ 2]                                                                                                                       199 non-null    object        \n",
      " 20  1.1 ท่านให้ความสำคัญกับปัจจัยใดบ้างในการเลือกร้านอาหาร 3 ปัจจัยแรก [อันดับที่ 3]                                                                                                                       199 non-null    object        \n",
      " 21  1.2   หากข้อ 1.1 ตอบอื่นๆ โปรดระบุคำตอบของท่าน                                                                                                                                                         11 non-null     object        \n",
      " 22  2.1 ในด้านความคุ้มค่าต่อราคาที่จ่าย ปัจจัยใดมีอิทธิพลสูงที่สุด 3 ลำดับแรก [อันดับที่ 1]                                                                                                                199 non-null    object        \n",
      " 23  2.1 ในด้านความคุ้มค่าต่อราคาที่จ่าย ปัจจัยใดมีอิทธิพลสูงที่สุด 3 ลำดับแรก [อันดับที่ 2]                                                                                                                199 non-null    object        \n",
      " 24  2.1 ในด้านความคุ้มค่าต่อราคาที่จ่าย ปัจจัยใดมีอิทธิพลสูงที่สุด 3 ลำดับแรก [อันดับที่ 3]                                                                                                                199 non-null    object        \n",
      " 25  2.2   หากข้อ 2.1 ตอบอื่นๆ โปรดระบุคำตอบของท่าน                                                                                                                                                         14 non-null     object        \n",
      " 26  3.1 ในด้านความสะดวกสบายในการเดินทาง ปัจจัยใดมีอิทธิพลสูงที่สุด 3 ลำดับแรก [อันดับที่ 1]                                                                                                                199 non-null    object        \n",
      " 27  3.1 ในด้านความสะดวกสบายในการเดินทาง ปัจจัยใดมีอิทธิพลสูงที่สุด 3 ลำดับแรก [อันดับที่ 2]                                                                                                                199 non-null    object        \n",
      " 28  3.1 ในด้านความสะดวกสบายในการเดินทาง ปัจจัยใดมีอิทธิพลสูงที่สุด 3 ลำดับแรก [อันดับที่ 3]                                                                                                                199 non-null    object        \n",
      " 29  3.2   หากข้อ 3.1 ตอบอื่นๆ โปรดระบุคำตอบของท่าน                                                                                                                                                         4 non-null      object        \n",
      " 30  4.1 ในด้านคุณภาพและรสชาติของอาหาร ปัจจัยใดมีอิทธิพลสูงที่สุด 3 ลำดับแรก [อันดับที่ 1]                                                                                                                  199 non-null    object        \n",
      " 31  4.1 ในด้านคุณภาพและรสชาติของอาหาร ปัจจัยใดมีอิทธิพลสูงที่สุด 3 ลำดับแรก [อันดับที่ 2]                                                                                                                  199 non-null    object        \n",
      " 32  4.1 ในด้านคุณภาพและรสชาติของอาหาร ปัจจัยใดมีอิทธิพลสูงที่สุด 3 ลำดับแรก [อันดับที่ 3]                                                                                                                  199 non-null    object        \n",
      " 33  4.2   หากข้อ 4.1 ตอบอื่นๆ โปรดระบุคำตอบของท่าน                                                                                                                                                         8 non-null      object        \n",
      " 34  5.1 โปรโมชั่น เเละการส่งเสริมการตลาด ปัจจัยใดมีอิทธิพลสูงที่สุด 3 ลำดับแรก [อันดับที่ 1]                                                                                                               199 non-null    object        \n",
      " 35  5.1 โปรโมชั่น เเละการส่งเสริมการตลาด ปัจจัยใดมีอิทธิพลสูงที่สุด 3 ลำดับแรก [อันดับที่ 2]                                                                                                               199 non-null    object        \n",
      " 36  5.1 โปรโมชั่น เเละการส่งเสริมการตลาด ปัจจัยใดมีอิทธิพลสูงที่สุด 3 ลำดับแรก [อันดับที่ 3]                                                                                                               199 non-null    object        \n",
      " 37  5.2   หากข้อ 5.1 ตอบอื่นๆ โปรดระบุคำตอบของท่าน                                                                                                                                                         3 non-null      object        \n",
      " 38  6.1 บรรยากาศร้าน ปัจจัยใดมีอิทธิพลสูงที่สุด 3 ลำดับแรก [อันดับที่ 1]                                                                                                                                   199 non-null    object        \n",
      " 39  6.1 บรรยากาศร้าน ปัจจัยใดมีอิทธิพลสูงที่สุด 3 ลำดับแรก [อันดับที่ 2]                                                                                                                                   199 non-null    object        \n",
      " 40  6.1 บรรยากาศร้าน ปัจจัยใดมีอิทธิพลสูงที่สุด 3 ลำดับแรก [อันดับที่ 3]                                                                                                                                   199 non-null    object        \n",
      " 41  6.2   หากข้อ 6.1 ตอบอื่นๆ โปรดระบุคำตอบของท่าน                                                                                                                                                         9 non-null      object        \n",
      " 42  7.1 การบริการ และคุณภาพการบริการ ปัจจัยใดมีอิทธิพลสูงที่สุด 3 ลำดับแรก [อันดับ 1]                                                                                                                      199 non-null    object        \n",
      " 43  7.1 การบริการ และคุณภาพการบริการ ปัจจัยใดมีอิทธิพลสูงที่สุด 3 ลำดับแรก [อันดับ 2]                                                                                                                      199 non-null    object        \n",
      " 44  7.1 การบริการ และคุณภาพการบริการ ปัจจัยใดมีอิทธิพลสูงที่สุด 3 ลำดับแรก [อันดับ 3]                                                                                                                      199 non-null    object        \n",
      " 45  7.2   หากข้อ 7.1 ตอบอื่นๆ โปรดระบุคำตอบของท่าน                                                                                                                                                         2 non-null      object        \n",
      " 46  8. การบอกต่อจากบุคคลอ้างอิงที่มีอิทธิพลสูงที่สุด 3 ลำดับแรก [อันดับ 1]                                                                                                                                 199 non-null    object        \n",
      " 47  8. การบอกต่อจากบุคคลอ้างอิงที่มีอิทธิพลสูงที่สุด 3 ลำดับแรก [อันดับ 2]                                                                                                                                 199 non-null    object        \n",
      " 48  8. การบอกต่อจากบุคคลอ้างอิงที่มีอิทธิพลสูงที่สุด 3 ลำดับแรก [อันดับ 3]                                                                                                                                 199 non-null    object        \n",
      " 49  1. ท่านเคยรับประทานอาหารประเภทสุกี้หรือไม่                                                                                                                                                             199 non-null    object        \n",
      " 50  1. หากท่านรับประทานสุกี้ ท่านรับประทานสุกี้บ่อยเพียงใด                                                                                                                                                 197 non-null    object        \n",
      " 51  2. ท่านมักรับประทานสุกี้ในช่วงเวลาใด                                                                                                                                                                   197 non-null    object        \n",
      " 52  3. ท่านเลือกรับประทานสุกี้แบรนด์ใดบ่อยที่สุด                                                                                                                                                           197 non-null    object        \n",
      " 53  4. จากร้านที่ท่านเลือก ในข้อก่อนหน้า โดยภาพรวมท่านมีพึงพอใจในการเข้าใช้บริการและรับประทานหรือไม่ โปรดระบุระดับคะแนนความพึงพอใจของท่านจาก 1- 10 (1 พอใจน้อยที่สุด 10 พอใจมากที่สุด)                     197 non-null    float64       \n",
      " 54  5. ท่านเลือกรับประทานสุกี้แบรนด์ดังกล่าวในข้อก่อนหน้า เพราะเหตุใด                                                                                                                                      197 non-null    object        \n",
      " 55  6. หากไม่รับประทานสุกี้ ท่านจะเลือกรับประทานอาหารประเภทใด (เช่น หมูกระทะ ชาบู อาหารตามสั่ง ก๋วยเตี๋ยว ส้มตำ ซูชิ เป็นต้น) โปรดระบุ                                                                     197 non-null    object        \n",
      " 56  7. ราคาต่อหัว เมื่อท่านรับประทานสุกี้เป็นราคาประมาณเท่าใด                                                                                                                                              197 non-null    object        \n",
      " 57  8. วัตถุดิบประเภทใด ที่ท่านชื่นชอบมากที่สุดเมื่อรับประทานสุกี้                                                                                                                                         197 non-null    object        \n",
      " 58  9. อาหารอื่นๆที่ทานควบคู่กับการรับประทานสุกี้ประเภทใด ที่ท่านชื่นชอบมากที่สุด                                                                                                                          197 non-null    object        \n",
      " 59  1. ท่านรู้จัก MK Live หรือไม่                                                                                                                                                                          197 non-null    object        \n",
      " 60  2. ท่านเคยรับประทาน MK Live หรือไม่                                                                                                                                                                    197 non-null    object        \n",
      " 61  1. ท่านเคยรับประทาน MK Live ที่สาขาใดบ้าง (ตอบได้มากกว่า 1 คำตอบ)                                                                                                                                      94 non-null     object        \n",
      " 62  2. ในข้อก่อนหน้า โดยภาพรวมท่านมีพึงพอใจในการเข้าใช้บริการและรับประทานหรือไม่ โปรดระบุระดับคะแนนความพึงพอใจของท่านจาก 1- 10 (1 พอใจน้อยที่สุด 10 พอใจมากที่สุด)                                         94 non-null     float64       \n",
      " 63  3. ท่านรับประทาน MK Live บ่อยเพียงใด\n",
      "                                                                                                                                                                  94 non-null     object        \n",
      " 64  3. ท่านรับประทาน MK Live บ่อยเพียงใด(score)                                                                                                                                                            94 non-null     float64       \n",
      " 65  4.1 ท่านชอบ MK Live เพราะสาเหตุใด สูงที่สุด 3 ลำดับแรก [อันดับ 1]                                                                                                                                      94 non-null     object        \n",
      " 66  4.1 ท่านชอบ MK Live เพราะสาเหตุใด สูงที่สุด 3 ลำดับแรก [อันดับ 2]                                                                                                                                      94 non-null     object        \n",
      " 67  4.1 ท่านชอบ MK Live เพราะสาเหตุใด สูงที่สุด 3 ลำดับแรก [อันดับ 3]                                                                                                                                      94 non-null     object        \n",
      " 68  4.2 หากข้อ 4.1ตอบอื่นๆ โปรดระบุคำตอบของท่าน                                                                                                                                                            4 non-null      object        \n",
      " 69  5.1 ท่านคิดว่า MK Live ต่างจาก MK อย่างไร สูงที่สุด 3 ลำดับแรก [อันดับ 1]                                                                                                                              94 non-null     object        \n",
      " 70  5.1 ท่านคิดว่า MK Live ต่างจาก MK อย่างไร สูงที่สุด 3 ลำดับแรก [อันดับ 2]                                                                                                                              94 non-null     object        \n",
      " 71  5.1 ท่านคิดว่า MK Live ต่างจาก MK อย่างไร สูงที่สุด 3 ลำดับแรก [อันดับ 3]                                                                                                                              94 non-null     object        \n",
      " 72  5.2 หากข้อ 5.1ตอบอื่นๆ โปรดระบุคำตอบของท่าน                                                                                                                                                            3 non-null      object        \n",
      " 73  1. หากท่านไม่เคยรับประทาน MK Live ท่านสนใจจะลองรับประทานอาหารที่ MK Live หรือไม่                                                                                                                       103 non-null    object        \n",
      " 74  1. ปัจจัยที่สำคัญที่สุดปัจจัยใด ที่จะทำให้ท่านสนใจทดลองรับประทานอาหารที่ร้าน MK Live (เลือกได้ไม่เกิน 3 คำตอบ)\n",
      "                                                                                        84 non-null     object        \n",
      " 75  1. ท่านไม่สนใจที่จะรับประทานอาหารที่ MK Live เพราะสาเหตุใด (เลือกได้ไม่เกิน 3 คำตอบ)                                                                                                                   19 non-null     object        \n",
      " 76  1. หากไม่รับประทาน MK Live ท่านจะเลือกร้านสุกี้ แบรนด์ไหน                                                                                                                                              197 non-null    object        \n",
      " 77  2. หากไม่รับประทาน MK Live ท่านจะเลือกร้านอาหารประเภทอื่นๆ แบรนด์ไหน                                                                                                                                   197 non-null    object        \n",
      " 78  1. เพศ                                                                                                                                                                                                 197 non-null    object        \n",
      " 79  2. อายุ                                                                                                                                                                                                197 non-null    object        \n",
      " 80  3. ระดับการศึกษา                                                                                                                                                                                       197 non-null    object        \n",
      " 81  4. อาชีพ                                                                                                                                                                                               197 non-null    object        \n",
      " 82  5. รายได้ต่อเดือน                                                                                                                                                                                      197 non-null    object        \n",
      " 83  6. สถานภาพ                                                                                                                                                                                             197 non-null    object        \n",
      " 84  7. ในปัจจุบันสมาชิกที่อาศัยอยู่กับท่านมีกี่คน (รวมตัวท่านด้วย)                                                                                                                                         197 non-null    object        \n",
      " 85  รบกวนกรอก \"ชื่อ นามสกุล และที่อยู่\" ของท่าน เพื่อร่วมลุ้นรับบัตรเงินสดรับประทาน MK มูลค่า 100 บาท จำนวน 5 รางวัล  (หากไม่ต้องการให้ข้อมูลส่วนตัวและร่วมลุ้นรางวัลไม่จำเป็นต้องตอบในส่วนนี้)            90 non-null     object        \n",
      " 86  เบอร์ติดต่อหรือLine ID  (สำหรับติดต่อรับของรางวัล)                                                                                                                                                     103 non-null    object        \n",
      " 87  6.1 ท่านคิดว่า MK Live ควรปรับปรุงหรือพัฒนาในด้านใดมากที่สุด\n",
      " [อันดับ 1]                                                                                                                               92 non-null     object        \n",
      " 88  6.1 ท่านคิดว่า MK Live ควรปรับปรุงหรือพัฒนาในด้านใดมากที่สุด\n",
      " [อันดับ 2]                                                                                                                               92 non-null     object        \n",
      " 89  6.1 ท่านคิดว่า MK Live ควรปรับปรุงหรือพัฒนาในด้านใดมากที่สุด\n",
      " [อันดับ 3]                                                                                                                               92 non-null     object        \n",
      " 90  6.2 หากข้อ 6.1ตอบอื่นๆ โปรดระบุคำตอบของท่าน                                                                                                                                                            2 non-null      object        \n",
      "dtypes: datetime64[ns](1), float64(3), int64(1), object(86)\n",
      "memory usage: 141.6+ KB\n"
     ]
    }
   ],
   "source": [
    "df.info()"
   ]
  },
  {
   "cell_type": "code",
   "execution_count": 5,
   "id": "4712467a",
   "metadata": {
    "scrolled": true
   },
   "outputs": [
    {
     "data": {
      "text/plain": [
       "pandas.core.series.Series"
      ]
     },
     "execution_count": 5,
     "metadata": {},
     "output_type": "execute_result"
    }
   ],
   "source": [
    "type(df['1. ปกติแล้วโดยส่วนใหญ่ ท่านรับประทานอาหาร นอกบ้าน หรือ ในบ้าน '])"
   ]
  },
  {
   "cell_type": "code",
   "execution_count": 6,
   "id": "b70b241f",
   "metadata": {},
   "outputs": [],
   "source": [
    "col = list(df.columns)\n",
    "col_name = [df[i] for i in col]"
   ]
  },
  {
   "cell_type": "code",
   "execution_count": 7,
   "id": "1ad382ff",
   "metadata": {},
   "outputs": [
    {
     "data": {
      "text/plain": [
       "0     2022-10-19 08:22:34.358\n",
       "1     2022-10-08 10:48:39.554\n",
       "2     2022-10-06 21:32:34.274\n",
       "3     2022-10-07 07:13:11.765\n",
       "4     2022-10-06 21:14:20.876\n",
       "                ...          \n",
       "194   2022-10-06 22:51:13.631\n",
       "195   2022-10-21 20:22:57.651\n",
       "196   2022-10-18 23:19:28.422\n",
       "197   2022-10-07 09:16:52.225\n",
       "198   2022-10-10 10:31:36.889\n",
       "Name: ประทับเวลา, Length: 199, dtype: datetime64[ns]"
      ]
     },
     "execution_count": 7,
     "metadata": {},
     "output_type": "execute_result"
    }
   ],
   "source": [
    "col_name[0]"
   ]
  },
  {
   "cell_type": "code",
   "execution_count": 8,
   "id": "56165f0b",
   "metadata": {},
   "outputs": [
    {
     "data": {
      "text/plain": [
       "Timestamp('2022-10-19 08:22:34.358000')"
      ]
     },
     "execution_count": 8,
     "metadata": {},
     "output_type": "execute_result"
    }
   ],
   "source": [
    "col_name[0][0]"
   ]
  },
  {
   "cell_type": "markdown",
   "id": "d9abdf56",
   "metadata": {},
   "source": [
    "# Time"
   ]
  },
  {
   "cell_type": "code",
   "execution_count": 9,
   "id": "0104e344",
   "metadata": {},
   "outputs": [
    {
     "data": {
      "text/plain": [
       "0     2022-10-02 23:14:33.347\n",
       "1     2022-10-02 23:19:58.443\n",
       "2     2022-10-06 20:56:01.916\n",
       "3     2022-10-06 20:57:50.217\n",
       "4     2022-10-06 21:01:59.420\n",
       "                ...          \n",
       "194   2022-10-20 08:20:29.051\n",
       "195   2022-10-20 08:29:53.954\n",
       "196   2022-10-21 19:46:54.804\n",
       "197   2022-10-21 20:19:09.035\n",
       "198   2022-10-21 20:22:57.651\n",
       "Name: ประทับเวลา, Length: 199, dtype: datetime64[ns]"
      ]
     },
     "execution_count": 9,
     "metadata": {},
     "output_type": "execute_result"
    }
   ],
   "source": [
    "Timestamp = pd.to_datetime(col_name[0], format=\"%Y%m%d:%H:%M:%S.%f\").sort_values().reset_index(drop=True)\n",
    "Timestamp"
   ]
  },
  {
   "cell_type": "code",
   "execution_count": 10,
   "id": "5d063d60",
   "metadata": {},
   "outputs": [
    {
     "data": {
      "text/plain": [
       "0      2022-10-02\n",
       "1      2022-10-02\n",
       "2      2022-10-06\n",
       "3      2022-10-06\n",
       "4      2022-10-06\n",
       "          ...    \n",
       "194    2022-10-20\n",
       "195    2022-10-20\n",
       "196    2022-10-21\n",
       "197    2022-10-21\n",
       "198    2022-10-21\n",
       "Name: ประทับเวลา, Length: 199, dtype: object"
      ]
     },
     "execution_count": 10,
     "metadata": {},
     "output_type": "execute_result"
    }
   ],
   "source": [
    "Date = pd.to_datetime(col_name[0], format=\"%Y%m%d:%H:%M:%S.%f\").dt.date.sort_values().reset_index(drop=True)\n",
    "Date"
   ]
  },
  {
   "cell_type": "code",
   "execution_count": 11,
   "id": "671445c9",
   "metadata": {},
   "outputs": [
    {
     "data": {
      "text/plain": [
       "2022-10-02     2\n",
       "2022-10-06    56\n",
       "2022-10-07    61\n",
       "2022-10-08    10\n",
       "2022-10-09     8\n",
       "2022-10-10     3\n",
       "2022-10-17     2\n",
       "2022-10-18    32\n",
       "2022-10-19    19\n",
       "2022-10-20     3\n",
       "2022-10-21     3\n",
       "Name: ประทับเวลา, dtype: int64"
      ]
     },
     "execution_count": 11,
     "metadata": {},
     "output_type": "execute_result"
    }
   ],
   "source": [
    "Date = Date.value_counts().sort_index()\n",
    "Date"
   ]
  },
  {
   "cell_type": "code",
   "execution_count": 12,
   "id": "55aa5b3a",
   "metadata": {},
   "outputs": [
    {
     "data": {
      "text/plain": [
       "array([ 2, 56, 61, 10,  8,  3,  2, 32, 19,  3,  3])"
      ]
     },
     "execution_count": 12,
     "metadata": {},
     "output_type": "execute_result"
    }
   ],
   "source": [
    "Date.values"
   ]
  },
  {
   "cell_type": "code",
   "execution_count": 13,
   "id": "f3b78a2a",
   "metadata": {},
   "outputs": [
    {
     "data": {
      "image/png": "[encoded data removed]",
      "text/plain": [
       "<Figure size 432x288 with 1 Axes>"
      ]
     },
     "metadata": {
      "needs_background": "light"
     },
     "output_type": "display_data"
    }
   ],
   "source": [
    "date = list(Date.index)\n",
    "values = list(Date.values)\n",
    "  \n",
    "# fig = plt.figure(figsize = (10, 5))\n",
    " \n",
    "# creating the bar plot\n",
    "plt.bar(date, values, color ='maroon',\n",
    "        width = 0.6)\n",
    "\n",
    "plt.xlabel(\"Courses offered\")\n",
    "plt.ylabel(\"No. of students enrolled\")\n",
    "plt.title(\"Students enrolled in different courses\")\n",
    "plt.show()"
   ]
  },
  {
   "cell_type": "code",
   "execution_count": 14,
   "id": "05c7c7ed",
   "metadata": {},
   "outputs": [
    {
     "data": {
      "text/plain": [
       "0      00:02:39.081000\n",
       "1      00:04:11.482000\n",
       "2      00:05:41.321000\n",
       "3      00:10:05.425000\n",
       "4      00:21:06.790000\n",
       "            ...       \n",
       "194    23:44:08.191000\n",
       "195    23:51:57.979000\n",
       "196    23:53:01.449000\n",
       "197    23:53:26.913000\n",
       "198    23:59:58.897000\n",
       "Name: ประทับเวลา, Length: 199, dtype: object"
      ]
     },
     "execution_count": 14,
     "metadata": {},
     "output_type": "execute_result"
    }
   ],
   "source": [
    "Time = pd.to_datetime(col_name[0], format=\"%Y%m%d:%H:%M:%S.%f\").dt.time.sort_values().reset_index(drop=True)\n",
    "Time"
   ]
  },
  {
   "cell_type": "code",
   "execution_count": 15,
   "id": "37cbae82",
   "metadata": {},
   "outputs": [
    {
     "data": {
      "text/plain": [
       "0       0\n",
       "1       0\n",
       "2       0\n",
       "3       0\n",
       "4       0\n",
       "       ..\n",
       "194    23\n",
       "195    23\n",
       "196    23\n",
       "197    23\n",
       "198    23\n",
       "Name: ประทับเวลา, Length: 199, dtype: int64"
      ]
     },
     "execution_count": 15,
     "metadata": {},
     "output_type": "execute_result"
    }
   ],
   "source": [
    "Time = pd.to_datetime(col_name[0], format=\"%Y%m%d:%H:%M:%S.%f\").dt.hour.sort_values().reset_index(drop=True)\n",
    "Time"
   ]
  },
  {
   "cell_type": "code",
   "execution_count": null,
   "id": "ba9d3cb9",
   "metadata": {},
   "outputs": [],
   "source": []
  },
  {
   "cell_type": "markdown",
   "id": "3ad319dc",
   "metadata": {},
   "source": [
    "# 1. ปกติแล้วโดยส่วนใหญ่ ท่านรับประทานอาหาร นอกบ้าน หรือ ในบ้าน "
   ]
  },
  {
   "cell_type": "code",
   "execution_count": 16,
   "id": "9fa33fba",
   "metadata": {},
   "outputs": [
    {
     "data": {
      "text/plain": [
       "0      ทานนอกบ้าน\n",
       "1       ทานในบ้าน\n",
       "2       ทานในบ้าน\n",
       "3       ทานในบ้าน\n",
       "4       ทานในบ้าน\n",
       "          ...    \n",
       "194     ทานในบ้าน\n",
       "195     ทานในบ้าน\n",
       "196     ทานในบ้าน\n",
       "197     ทานในบ้าน\n",
       "198     ทานในบ้าน\n",
       "Name: 1. ปกติแล้วโดยส่วนใหญ่ ท่านรับประทานอาหาร นอกบ้าน หรือ ในบ้าน , Length: 199, dtype: object"
      ]
     },
     "execution_count": 16,
     "metadata": {},
     "output_type": "execute_result"
    }
   ],
   "source": [
    "col_name[1]"
   ]
  },
  {
   "cell_type": "code",
   "execution_count": 17,
   "id": "086839c0",
   "metadata": {},
   "outputs": [
    {
     "data": {
      "text/plain": [
       "ทานในบ้าน     114\n",
       "ทานนอกบ้าน     85\n",
       "Name: 1. ปกติแล้วโดยส่วนใหญ่ ท่านรับประทานอาหาร นอกบ้าน หรือ ในบ้าน , dtype: int64"
      ]
     },
     "execution_count": 17,
     "metadata": {},
     "output_type": "execute_result"
    }
   ],
   "source": [
    "eat_inout = col_name[1].value_counts()\n",
    "eat_inout"
   ]
  },
  {
   "cell_type": "code",
   "execution_count": 18,
   "id": "45beeea9",
   "metadata": {},
   "outputs": [
    {
     "data": {
      "text/plain": [
       "<BarContainer object of 2 artists>"
      ]
     },
     "execution_count": 18,
     "metadata": {},
     "output_type": "execute_result"
    },
    {
     "name": "stderr",
     "output_type": "stream",
     "text": [
      "/home/sun/anaconda3/envs/covid-19/lib/python3.8/site-packages/matplotlib/backends/backend_agg.py:240: RuntimeWarning: Glyph 3607 missing from current font.\n",
      "  font.set_text(s, 0.0, flags=flags)\n",
      "/home/sun/anaconda3/envs/covid-19/lib/python3.8/site-packages/matplotlib/backends/backend_agg.py:240: RuntimeWarning: Glyph 3634 missing from current font.\n",
      "  font.set_text(s, 0.0, flags=flags)\n",
      "/home/sun/anaconda3/envs/covid-19/lib/python3.8/site-packages/matplotlib/backends/backend_agg.py:240: RuntimeWarning: Glyph 3609 missing from current font.\n",
      "  font.set_text(s, 0.0, flags=flags)\n",
      "/home/sun/anaconda3/envs/covid-19/lib/python3.8/site-packages/matplotlib/backends/backend_agg.py:240: RuntimeWarning: Glyph 3651 missing from current font.\n",
      "  font.set_text(s, 0.0, flags=flags)\n",
      "/home/sun/anaconda3/envs/covid-19/lib/python3.8/site-packages/matplotlib/backends/backend_agg.py:240: RuntimeWarning: Glyph 3610 missing from current font.\n",
      "  font.set_text(s, 0.0, flags=flags)\n",
      "/home/sun/anaconda3/envs/covid-19/lib/python3.8/site-packages/matplotlib/backends/backend_agg.py:240: RuntimeWarning: Glyph 3657 missing from current font.\n",
      "  font.set_text(s, 0.0, flags=flags)\n",
      "/home/sun/anaconda3/envs/covid-19/lib/python3.8/site-packages/matplotlib/backends/backend_agg.py:240: RuntimeWarning: Glyph 3629 missing from current font.\n",
      "  font.set_text(s, 0.0, flags=flags)\n",
      "/home/sun/anaconda3/envs/covid-19/lib/python3.8/site-packages/matplotlib/backends/backend_agg.py:240: RuntimeWarning: Glyph 3585 missing from current font.\n",
      "  font.set_text(s, 0.0, flags=flags)\n",
      "/home/sun/anaconda3/envs/covid-19/lib/python3.8/site-packages/matplotlib/backends/backend_agg.py:203: RuntimeWarning: Glyph 3607 missing from current font.\n",
      "  font.set_text(s, 0, flags=flags)\n",
      "/home/sun/anaconda3/envs/covid-19/lib/python3.8/site-packages/matplotlib/backends/backend_agg.py:203: RuntimeWarning: Glyph 3634 missing from current font.\n",
      "  font.set_text(s, 0, flags=flags)\n",
      "/home/sun/anaconda3/envs/covid-19/lib/python3.8/site-packages/matplotlib/backends/backend_agg.py:203: RuntimeWarning: Glyph 3609 missing from current font.\n",
      "  font.set_text(s, 0, flags=flags)\n",
      "/home/sun/anaconda3/envs/covid-19/lib/python3.8/site-packages/matplotlib/backends/backend_agg.py:203: RuntimeWarning: Glyph 3651 missing from current font.\n",
      "  font.set_text(s, 0, flags=flags)\n",
      "/home/sun/anaconda3/envs/covid-19/lib/python3.8/site-packages/matplotlib/backends/backend_agg.py:203: RuntimeWarning: Glyph 3610 missing from current font.\n",
      "  font.set_text(s, 0, flags=flags)\n",
      "/home/sun/anaconda3/envs/covid-19/lib/python3.8/site-packages/matplotlib/backends/backend_agg.py:203: RuntimeWarning: Glyph 3657 missing from current font.\n",
      "  font.set_text(s, 0, flags=flags)\n",
      "/home/sun/anaconda3/envs/covid-19/lib/python3.8/site-packages/matplotlib/backends/backend_agg.py:203: RuntimeWarning: Glyph 3629 missing from current font.\n",
      "  font.set_text(s, 0, flags=flags)\n",
      "/home/sun/anaconda3/envs/covid-19/lib/python3.8/site-packages/matplotlib/backends/backend_agg.py:203: RuntimeWarning: Glyph 3585 missing from current font.\n",
      "  font.set_text(s, 0, flags=flags)\n"
     ]
    },
    {
     "data": {
      "image/png": "[encoded data removed]",
      "text/plain": [
       "<Figure size 432x288 with 1 Axes>"
      ]
     },
     "metadata": {
      "needs_background": "light"
     },
     "output_type": "display_data"
    }
   ],
   "source": [
    "date = list(eat_inout.index)\n",
    "values = list(eat_inout.values)\n",
    "  \n",
    "# fig = plt.figure(figsize = (10, 5))\n",
    " \n",
    "# creating the bar plot\n",
    "ax = plt.gca()\n",
    "\n",
    "plt.bar(date, values, color ='maroon',\n",
    "        width = 0.6)"
   ]
  },
  {
   "cell_type": "code",
   "execution_count": null,
   "id": "4087d119",
   "metadata": {},
   "outputs": [],
   "source": []
  },
  {
   "cell_type": "code",
   "execution_count": null,
   "id": "68ae0815",
   "metadata": {},
   "outputs": [],
   "source": []
  },
  {
   "cell_type": "markdown",
   "id": "b90ff960",
   "metadata": {},
   "source": [
    "# 2. ท่านมักรับประทานอาหารนอกบ้าน คิดเป็นกี่เปอร์เซ็นต์"
   ]
  },
  {
   "cell_type": "code",
   "execution_count": 19,
   "id": "0a373883",
   "metadata": {},
   "outputs": [
    {
     "data": {
      "text/plain": [
       "0            50-75%\n",
       "1            25-50%\n",
       "2            25-50%\n",
       "3            25-50%\n",
       "4            25-50%\n",
       "           ...     \n",
       "194          25-50%\n",
       "195          25-50%\n",
       "196    น้อยกว่า 25%\n",
       "197          25-50%\n",
       "198    น้อยกว่า 25%\n",
       "Name: 2. ท่านมักรับประทานอาหารนอกบ้าน คิดเป็นกี่เปอร์เซ็นต์, Length: 199, dtype: object"
      ]
     },
     "execution_count": 19,
     "metadata": {},
     "output_type": "execute_result"
    }
   ],
   "source": [
    "col_name[2]"
   ]
  },
  {
   "cell_type": "code",
   "execution_count": 20,
   "id": "e7d41f56",
   "metadata": {},
   "outputs": [
    {
     "data": {
      "text/plain": [
       "25-50%                84\n",
       "50-75%                50\n",
       "น้อยกว่า 25%          39\n",
       "มากกว่า 75% ขึ้นไป    26\n",
       "Name: 2. ท่านมักรับประทานอาหารนอกบ้าน คิดเป็นกี่เปอร์เซ็นต์, dtype: int64"
      ]
     },
     "execution_count": 20,
     "metadata": {},
     "output_type": "execute_result"
    }
   ],
   "source": [
    "per_out = col_name[2].value_counts()\n",
    "per_out"
   ]
  },
  {
   "cell_type": "code",
   "execution_count": 21,
   "id": "cf0fa844",
   "metadata": {},
   "outputs": [
    {
     "data": {
      "text/plain": [
       "<BarContainer object of 4 artists>"
      ]
     },
     "execution_count": 21,
     "metadata": {},
     "output_type": "execute_result"
    },
    {
     "name": "stderr",
     "output_type": "stream",
     "text": [
      "/home/sun/anaconda3/envs/covid-19/lib/python3.8/site-packages/matplotlib/backends/backend_agg.py:240: RuntimeWarning: Glyph 3618 missing from current font.\n",
      "  font.set_text(s, 0.0, flags=flags)\n",
      "/home/sun/anaconda3/envs/covid-19/lib/python3.8/site-packages/matplotlib/backends/backend_agg.py:240: RuntimeWarning: Glyph 3623 missing from current font.\n",
      "  font.set_text(s, 0.0, flags=flags)\n",
      "/home/sun/anaconda3/envs/covid-19/lib/python3.8/site-packages/matplotlib/backends/backend_agg.py:240: RuntimeWarning: Glyph 3656 missing from current font.\n",
      "  font.set_text(s, 0.0, flags=flags)\n",
      "/home/sun/anaconda3/envs/covid-19/lib/python3.8/site-packages/matplotlib/backends/backend_agg.py:240: RuntimeWarning: Glyph 3617 missing from current font.\n",
      "  font.set_text(s, 0.0, flags=flags)\n",
      "/home/sun/anaconda3/envs/covid-19/lib/python3.8/site-packages/matplotlib/backends/backend_agg.py:240: RuntimeWarning: Glyph 3586 missing from current font.\n",
      "  font.set_text(s, 0.0, flags=flags)\n",
      "/home/sun/anaconda3/envs/covid-19/lib/python3.8/site-packages/matplotlib/backends/backend_agg.py:240: RuntimeWarning: Glyph 3638 missing from current font.\n",
      "  font.set_text(s, 0.0, flags=flags)\n",
      "/home/sun/anaconda3/envs/covid-19/lib/python3.8/site-packages/matplotlib/backends/backend_agg.py:240: RuntimeWarning: Glyph 3652 missing from current font.\n",
      "  font.set_text(s, 0.0, flags=flags)\n",
      "/home/sun/anaconda3/envs/covid-19/lib/python3.8/site-packages/matplotlib/backends/backend_agg.py:240: RuntimeWarning: Glyph 3611 missing from current font.\n",
      "  font.set_text(s, 0.0, flags=flags)\n",
      "/home/sun/anaconda3/envs/covid-19/lib/python3.8/site-packages/matplotlib/backends/backend_agg.py:203: RuntimeWarning: Glyph 3618 missing from current font.\n",
      "  font.set_text(s, 0, flags=flags)\n",
      "/home/sun/anaconda3/envs/covid-19/lib/python3.8/site-packages/matplotlib/backends/backend_agg.py:203: RuntimeWarning: Glyph 3623 missing from current font.\n",
      "  font.set_text(s, 0, flags=flags)\n",
      "/home/sun/anaconda3/envs/covid-19/lib/python3.8/site-packages/matplotlib/backends/backend_agg.py:203: RuntimeWarning: Glyph 3656 missing from current font.\n",
      "  font.set_text(s, 0, flags=flags)\n",
      "/home/sun/anaconda3/envs/covid-19/lib/python3.8/site-packages/matplotlib/backends/backend_agg.py:203: RuntimeWarning: Glyph 3617 missing from current font.\n",
      "  font.set_text(s, 0, flags=flags)\n",
      "/home/sun/anaconda3/envs/covid-19/lib/python3.8/site-packages/matplotlib/backends/backend_agg.py:203: RuntimeWarning: Glyph 3586 missing from current font.\n",
      "  font.set_text(s, 0, flags=flags)\n",
      "/home/sun/anaconda3/envs/covid-19/lib/python3.8/site-packages/matplotlib/backends/backend_agg.py:203: RuntimeWarning: Glyph 3638 missing from current font.\n",
      "  font.set_text(s, 0, flags=flags)\n",
      "/home/sun/anaconda3/envs/covid-19/lib/python3.8/site-packages/matplotlib/backends/backend_agg.py:203: RuntimeWarning: Glyph 3652 missing from current font.\n",
      "  font.set_text(s, 0, flags=flags)\n",
      "/home/sun/anaconda3/envs/covid-19/lib/python3.8/site-packages/matplotlib/backends/backend_agg.py:203: RuntimeWarning: Glyph 3611 missing from current font.\n",
      "  font.set_text(s, 0, flags=flags)\n"
     ]
    },
    {
     "data": {
      "image/png": "[encoded data removed]",
      "text/plain": [
       "<Figure size 432x288 with 1 Axes>"
      ]
     },
     "metadata": {
      "needs_background": "light"
     },
     "output_type": "display_data"
    }
   ],
   "source": [
    "date = list(per_out.index)\n",
    "values = list(per_out.values)\n",
    "  \n",
    "# fig = plt.figure(figsize = (10, 5))\n",
    " \n",
    "# creating the bar plot\n",
    "\n",
    "\n",
    "plt.bar(date, values, color ='maroon',\n",
    "        width = 0.6)"
   ]
  },
  {
   "cell_type": "code",
   "execution_count": null,
   "id": "a81c064a",
   "metadata": {},
   "outputs": [],
   "source": []
  },
  {
   "cell_type": "markdown",
   "id": "f999d9d4",
   "metadata": {},
   "source": [
    "# 3.ท่านรับประทานอาหารนอกบ้าน บ่อยแค่ไหนใน 1 สัปดาห์"
   ]
  },
  {
   "cell_type": "code",
   "execution_count": 22,
   "id": "9ba69a96",
   "metadata": {},
   "outputs": [
    {
     "data": {
      "text/plain": [
       "0                  3-4 ครั้ง\n",
       "1                  1-2 ครั้ง\n",
       "2                  1-2 ครั้ง\n",
       "3                  1-2 ครั้ง\n",
       "4                  1-2 ครั้ง\n",
       "               ...          \n",
       "194                1-2 ครั้ง\n",
       "195                3-4 ครั้ง\n",
       "196    ไม่ทานอาหารนอกบ้านเลย\n",
       "197                3-4 ครั้ง\n",
       "198                1-2 ครั้ง\n",
       "Name: 3.ท่านรับประทานอาหารนอกบ้าน บ่อยแค่ไหนใน 1 สัปดาห์, Length: 199, dtype: object"
      ]
     },
     "execution_count": 22,
     "metadata": {},
     "output_type": "execute_result"
    }
   ],
   "source": [
    "col_name[3]"
   ]
  },
  {
   "cell_type": "code",
   "execution_count": 23,
   "id": "d3888f37",
   "metadata": {},
   "outputs": [
    {
     "data": {
      "text/plain": [
       "1-2 ครั้ง                94\n",
       "3-4 ครั้ง                56\n",
       "มากกว่า 5 ครั้ง          45\n",
       "ไม่ทานอาหารนอกบ้านเลย     4\n",
       "Name: 3.ท่านรับประทานอาหารนอกบ้าน บ่อยแค่ไหนใน 1 สัปดาห์, dtype: int64"
      ]
     },
     "execution_count": 23,
     "metadata": {},
     "output_type": "execute_result"
    }
   ],
   "source": [
    "often_out_1w = col_name[3].value_counts()\n",
    "often_out_1w"
   ]
  },
  {
   "cell_type": "code",
   "execution_count": 24,
   "id": "baf58ced",
   "metadata": {},
   "outputs": [
    {
     "data": {
      "text/plain": [
       "<BarContainer object of 4 artists>"
      ]
     },
     "execution_count": 24,
     "metadata": {},
     "output_type": "execute_result"
    },
    {
     "name": "stderr",
     "output_type": "stream",
     "text": [
      "/home/sun/anaconda3/envs/covid-19/lib/python3.8/site-packages/matplotlib/backends/backend_agg.py:240: RuntimeWarning: Glyph 3588 missing from current font.\n",
      "  font.set_text(s, 0.0, flags=flags)\n",
      "/home/sun/anaconda3/envs/covid-19/lib/python3.8/site-packages/matplotlib/backends/backend_agg.py:240: RuntimeWarning: Glyph 3619 missing from current font.\n",
      "  font.set_text(s, 0.0, flags=flags)\n",
      "/home/sun/anaconda3/envs/covid-19/lib/python3.8/site-packages/matplotlib/backends/backend_agg.py:240: RuntimeWarning: Glyph 3633 missing from current font.\n",
      "  font.set_text(s, 0.0, flags=flags)\n",
      "/home/sun/anaconda3/envs/covid-19/lib/python3.8/site-packages/matplotlib/backends/backend_agg.py:240: RuntimeWarning: Glyph 3591 missing from current font.\n",
      "  font.set_text(s, 0.0, flags=flags)\n",
      "/home/sun/anaconda3/envs/covid-19/lib/python3.8/site-packages/matplotlib/backends/backend_agg.py:240: RuntimeWarning: Glyph 3627 missing from current font.\n",
      "  font.set_text(s, 0.0, flags=flags)\n",
      "/home/sun/anaconda3/envs/covid-19/lib/python3.8/site-packages/matplotlib/backends/backend_agg.py:240: RuntimeWarning: Glyph 3648 missing from current font.\n",
      "  font.set_text(s, 0.0, flags=flags)\n",
      "/home/sun/anaconda3/envs/covid-19/lib/python3.8/site-packages/matplotlib/backends/backend_agg.py:240: RuntimeWarning: Glyph 3621 missing from current font.\n",
      "  font.set_text(s, 0.0, flags=flags)\n",
      "/home/sun/anaconda3/envs/covid-19/lib/python3.8/site-packages/matplotlib/backends/backend_agg.py:203: RuntimeWarning: Glyph 3588 missing from current font.\n",
      "  font.set_text(s, 0, flags=flags)\n",
      "/home/sun/anaconda3/envs/covid-19/lib/python3.8/site-packages/matplotlib/backends/backend_agg.py:203: RuntimeWarning: Glyph 3619 missing from current font.\n",
      "  font.set_text(s, 0, flags=flags)\n",
      "/home/sun/anaconda3/envs/covid-19/lib/python3.8/site-packages/matplotlib/backends/backend_agg.py:203: RuntimeWarning: Glyph 3633 missing from current font.\n",
      "  font.set_text(s, 0, flags=flags)\n",
      "/home/sun/anaconda3/envs/covid-19/lib/python3.8/site-packages/matplotlib/backends/backend_agg.py:203: RuntimeWarning: Glyph 3591 missing from current font.\n",
      "  font.set_text(s, 0, flags=flags)\n",
      "/home/sun/anaconda3/envs/covid-19/lib/python3.8/site-packages/matplotlib/backends/backend_agg.py:203: RuntimeWarning: Glyph 3627 missing from current font.\n",
      "  font.set_text(s, 0, flags=flags)\n",
      "/home/sun/anaconda3/envs/covid-19/lib/python3.8/site-packages/matplotlib/backends/backend_agg.py:203: RuntimeWarning: Glyph 3648 missing from current font.\n",
      "  font.set_text(s, 0, flags=flags)\n",
      "/home/sun/anaconda3/envs/covid-19/lib/python3.8/site-packages/matplotlib/backends/backend_agg.py:203: RuntimeWarning: Glyph 3621 missing from current font.\n",
      "  font.set_text(s, 0, flags=flags)\n"
     ]
    },
    {
     "data": {
      "image/png": "[encoded data removed]",
      "text/plain": [
       "<Figure size 432x288 with 1 Axes>"
      ]
     },
     "metadata": {
      "needs_background": "light"
     },
     "output_type": "display_data"
    }
   ],
   "source": [
    "date = list(often_out_1w.index)\n",
    "values = list(often_out_1w.values)\n",
    "  \n",
    "# fig = plt.figure(figsize = (10, 5))\n",
    " \n",
    "# creating the bar plot\n",
    "\n",
    "\n",
    "plt.bar(date, values, color ='maroon',\n",
    "        width = 0.6)"
   ]
  },
  {
   "cell_type": "code",
   "execution_count": null,
   "id": "80837a18",
   "metadata": {},
   "outputs": [],
   "source": []
  },
  {
   "cell_type": "markdown",
   "id": "d0b6c48c",
   "metadata": {},
   "source": [
    "# 4.ท่านรับประทานอาหารนอกบ้านเนื่องในโอกาสใด (รบกวนตอบ 2 คำตอบ)"
   ]
  },
  {
   "cell_type": "code",
   "execution_count": 25,
   "id": "ba0f4141",
   "metadata": {},
   "outputs": [
    {
     "data": {
      "text/plain": [
       "0                     รับประทานนอกบ้านเป็นปกติ, สังสรรค์\n",
       "1      ฉลองเนื่องในโอกาสสำคัญเช่น วันเกิด งานรับปริญญ...\n",
       "2      สังสรรค์, ฉลองเนื่องในโอกาสสำคัญเช่น วันเกิด ง...\n",
       "3                         ออกเดท, มีเวลาว่างหลังจากทำงาน\n",
       "4      สังสรรค์, ฉลองเนื่องในโอกาสสำคัญเช่น วันเกิด ง...\n",
       "                             ...                        \n",
       "194    สังสรรค์, ฉลองเนื่องในโอกาสสำคัญเช่น วันเกิด ง...\n",
       "195                   รับประทานนอกบ้านเป็นปกติ, สังสรรค์\n",
       "196    สังสรรค์, ไม่เกี่ยวกับโอกาสใดๆ แต่เป็นฟิลลิ่งอ...\n",
       "197               รับประทานนอกบ้านเป็นปกติ, รับรองลูกค้า\n",
       "198                                ออกเดท, แล้วแต่อารมณ์\n",
       "Name: 4.ท่านรับประทานอาหารนอกบ้านเนื่องในโอกาสใด (รบกวนตอบ 2 คำตอบ), Length: 199, dtype: object"
      ]
     },
     "execution_count": 25,
     "metadata": {},
     "output_type": "execute_result"
    }
   ],
   "source": [
    "col_name[4]"
   ]
  },
  {
   "cell_type": "code",
   "execution_count": 26,
   "id": "b366b612",
   "metadata": {
    "scrolled": true
   },
   "outputs": [
    {
     "data": {
      "text/plain": [
       "['รับประทานนอกบ้านเป็นปกติ', ' สังสรรค์']"
      ]
     },
     "execution_count": 26,
     "metadata": {},
     "output_type": "execute_result"
    }
   ],
   "source": [
    "col_name[4][0].split(',')"
   ]
  },
  {
   "cell_type": "code",
   "execution_count": 27,
   "id": "34f232f6",
   "metadata": {},
   "outputs": [],
   "source": [
    "occasion = [i.split(',')[j][1:] if j==1 else i.split(',')[j] for i in col_name[4] for j in range(len(i.split(',')))]"
   ]
  },
  {
   "cell_type": "code",
   "execution_count": 28,
   "id": "968de6c6",
   "metadata": {},
   "outputs": [
    {
     "data": {
      "text/plain": [
       "['รับประทานนอกบ้านเป็นปกติ',\n",
       " 'สังสรรค์',\n",
       " 'ฉลองเนื่องในโอกาสสำคัญเช่น วันเกิด งานรับปริญญา',\n",
       " 'รับรองลูกค้า',\n",
       " 'สังสรรค์',\n",
       " 'ฉลองเนื่องในโอกาสสำคัญเช่น วันเกิด งานรับปริญญา',\n",
       " 'ออกเดท',\n",
       " 'มีเวลาว่างหลังจากทำงาน',\n",
       " 'สังสรรค์',\n",
       " 'ฉลองเนื่องในโอกาสสำคัญเช่น วันเกิด งานรับปริญญา',\n",
       " 'สังสรรค์',\n",
       " 'เทศกาลสำคัญของประเทศไทย เช่น วันพ่อ ปีใหม่ ตรุษจีน',\n",
       " 'รับประทานนอกบ้านเป็นปกติ',\n",
       " 'งานเลี้ยงบริษัทฯ',\n",
       " 'รับประทานนอกบ้านเป็นปกติ',\n",
       " 'สังสรรค์',\n",
       " 'รับประทานนอกบ้านเป็นปกติ',\n",
       " 'สังสรรค์',\n",
       " 'สังสรรค์',\n",
       " 'ฉลองเนื่องในโอกาสสำคัญเช่น วันเกิด งานรับปริญญา',\n",
       " 'รับประทานนอกบ้านเป็นปกติ',\n",
       " 'เทศกาลสำคัญของประเทศไทย เช่น วันพ่อ ปีใหม่ ตรุษจีน',\n",
       " 'สังสรรค์',\n",
       " 'รับรองลูกค้า',\n",
       " 'รับประทานนอกบ้านเป็นปกติ',\n",
       " 'สังสรรค์',\n",
       " 'รับประทานนอกบ้านเป็นปกติ',\n",
       " 'สังสรรค์',\n",
       " 'รับประทานนอกบ้านเป็นปกติ',\n",
       " 'ออกเดท',\n",
       " 'รับประทานนอกบ้านเป็นปกติ',\n",
       " 'ฉลองเนื่องในโอกาสสำคัญเช่น วันเกิด งานรับปริญญา',\n",
       " 'สังสรรค์',\n",
       " 'ฉลองเนื่องในโอกาสสำคัญเช่น วันเกิด งานรับปริญญา',\n",
       " 'รับประทานนอกบ้านเป็นปกติ',\n",
       " 'สังสรรค์',\n",
       " 'รับประทานนอกบ้านเป็นปกติ',\n",
       " 'สังสรรค์',\n",
       " 'รับประทานนอกบ้านเป็นปกติ',\n",
       " 'สังสรรค์',\n",
       " 'รับประทานนอกบ้านเป็นปกติ',\n",
       " 'สังสรรค์',\n",
       " 'รับประทานนอกบ้านเป็นปกติ',\n",
       " 'ฉลองเนื่องในโอกาสสำคัญเช่น วันเกิด งานรับปริญญา',\n",
       " 'สังสรรค์',\n",
       " 'ฉลองเนื่องในโอกาสสำคัญเช่น วันเกิด งานรับปริญญา',\n",
       " 'สังสรรค์',\n",
       " 'ฉลองเนื่องในโอกาสสำคัญเช่น วันเกิด งานรับปริญญา',\n",
       " 'รับประทานนอกบ้านเป็นปกติ',\n",
       " 'ฉลองเนื่องในโอกาสสำคัญเช่น วันเกิด งานรับปริญญา',\n",
       " 'รับประทานนอกบ้านเป็นปกติ',\n",
       " 'ฉลองเนื่องในโอกาสสำคัญเช่น วันเกิด งานรับปริญญา',\n",
       " 'สังสรรค์',\n",
       " 'ฉลองเนื่องในโอกาสสำคัญเช่น วันเกิด งานรับปริญญา',\n",
       " 'รับประทานนอกบ้านเป็นปกติ',\n",
       " 'ฉลองเนื่องในโอกาสสำคัญเช่น วันเกิด งานรับปริญญา',\n",
       " 'รับประทานนอกบ้านเป็นปกติ',\n",
       " 'ออกเดท',\n",
       " 'งานเลี้ยงบริษัทฯ',\n",
       " 'อยากกิน',\n",
       " 'รับประทานนอกบ้านเป็นปกติ',\n",
       " 'ฉลองเนื่องในโอกาสสำคัญเช่น วันเกิด งานรับปริญญา',\n",
       " 'รับประทานนอกบ้านเป็นปกติ',\n",
       " 'เทศกาลสำคัญของประเทศไทย เช่น วันพ่อ ปีใหม่ ตรุษจีน',\n",
       " 'รับประทานนอกบ้านเป็นปกติ',\n",
       " 'เทศกาลสำคัญของประเทศไทย เช่น วันพ่อ ปีใหม่ ตรุษจีน',\n",
       " 'สังสรรค์',\n",
       " 'ฉลองเนื่องในโอกาสสำคัญเช่น วันเกิด งานรับปริญญา',\n",
       " 'สังสรรค์',\n",
       " 'ออกเดท',\n",
       " 'รับประทานนอกบ้านเป็นปกติ',\n",
       " 'สังสรรค์',\n",
       " 'ฉลองเนื่องในโอกาสสำคัญเช่น วันเกิด งานรับปริญญา',\n",
       " 'เทศกาลสำคัญของประเทศไทย เช่น วันพ่อ ปีใหม่ ตรุษจีน',\n",
       " 'สังสรรค์',\n",
       " 'เทศกาลสำคัญของประเทศไทย เช่น วันพ่อ ปีใหม่ ตรุษจีน',\n",
       " 'รับประทานนอกบ้านเป็นปกติ',\n",
       " 'ออกเดท',\n",
       " 'รับประทานนอกบ้านเป็นปกติ',\n",
       " 'ที่บ้านไม่มีให้กิน',\n",
       " 'รับประทานนอกบ้านเป็นปกติ',\n",
       " 'สังสรรค์',\n",
       " 'รับประทานนอกบ้านเป็นปกติ',\n",
       " 'สังสรรค์',\n",
       " 'สังสรรค์',\n",
       " 'ฉลองเนื่องในโอกาสสำคัญเช่น วันเกิด งานรับปริญญา',\n",
       " 'รับประทานนอกบ้านเป็นปกติ',\n",
       " 'งานเลี้ยงบริษัทฯ',\n",
       " 'รับประทานนอกบ้านเป็นปกติ',\n",
       " 'สังสรรค์',\n",
       " 'รับประทานนอกบ้านเป็นปกติ',\n",
       " 'ออกเดท',\n",
       " 'รับประทานนอกบ้านเป็นปกติ',\n",
       " 'เทศกาลสำคัญของประเทศไทย เช่น วันพ่อ ปีใหม่ ตรุษจีน',\n",
       " 'รับประทานนอกบ้านเป็นปกติ',\n",
       " 'ฉลองเนื่องในโอกาสสำคัญเช่น วันเกิด งานรับปริญญา',\n",
       " 'สังสรรค์',\n",
       " 'ฉลองเนื่องในโอกาสสำคัญเช่น วันเกิด งานรับปริญญา',\n",
       " 'รับประทานนอกบ้านเป็นปกติ',\n",
       " 'ออกเดท',\n",
       " 'รับประทานนอกบ้านเป็นปกติ',\n",
       " 'เทศกาลสำคัญของประเทศไทย เช่น วันพ่อ ปีใหม่ ตรุษจีน',\n",
       " 'สังสรรค์',\n",
       " 'ฉลองเนื่องในโอกาสสำคัญเช่น วันเกิด งานรับปริญญา',\n",
       " 'ฉลองเนื่องในโอกาสสำคัญเช่น วันเกิด งานรับปริญญา',\n",
       " 'เทศกาลสำคัญของประเทศไทย เช่น วันพ่อ ปีใหม่ ตรุษจีน',\n",
       " 'รับประทานนอกบ้านเป็นปกติ',\n",
       " 'เทศกาลสำคัญของประเทศไทย เช่น วันพ่อ ปีใหม่ ตรุษจีน',\n",
       " 'รับประทานนอกบ้านเป็นปกติ',\n",
       " 'สังสรรค์',\n",
       " 'สังสรรค์',\n",
       " 'ฉลองเนื่องในโอกาสสำคัญเช่น วันเกิด งานรับปริญญา',\n",
       " 'สังสรรค์',\n",
       " 'ฉลองเนื่องในโอกาสสำคัญเช่น วันเกิด งานรับปริญญา',\n",
       " 'รับประทานนอกบ้านเป็นปกติ',\n",
       " 'สังสรรค์',\n",
       " 'รับประทานนอกบ้านเป็นปกติ',\n",
       " 'สังสรรค์',\n",
       " 'รับประทานนอกบ้านเป็นปกติ',\n",
       " 'สังสรรค์',\n",
       " 'รับประทานนอกบ้านเป็นปกติ',\n",
       " 'สังสรรค์',\n",
       " 'รับประทานนอกบ้านเป็นปกติ',\n",
       " 'สังสรรค์',\n",
       " 'รับประทานนอกบ้านเป็นปกติ',\n",
       " 'สังสรรค์',\n",
       " 'สังสรรค์',\n",
       " 'ฉลองเนื่องในโอกาสสำคัญเช่น วันเกิด งานรับปริญญา',\n",
       " 'รับประทานนอกบ้านเป็นปกติ',\n",
       " 'สังสรรค์',\n",
       " 'รับประทานนอกบ้านเป็นปกติ',\n",
       " 'สังสรรค์',\n",
       " 'รับประทานนอกบ้านเป็นปกติ',\n",
       " 'สังสรรค์',\n",
       " 'รับประทานนอกบ้านเป็นปกติ',\n",
       " 'สังสรรค์',\n",
       " 'สังสรรค์',\n",
       " 'ออกเดท',\n",
       " 'รับประทานนอกบ้านเป็นปกติ',\n",
       " 'สังสรรค์',\n",
       " 'รับประทานนอกบ้านเป็นปกติ',\n",
       " 'ฉลองเนื่องในโอกาสสำคัญเช่น วันเกิด งานรับปริญญา',\n",
       " 'สังสรรค์',\n",
       " 'ฉลองเนื่องในโอกาสสำคัญเช่น วันเกิด งานรับปริญญา',\n",
       " 'รับประทานนอกบ้านเป็นปกติ',\n",
       " 'เทศกาลสำคัญของประเทศไทย เช่น วันพ่อ ปีใหม่ ตรุษจีน',\n",
       " 'สังสรรค์',\n",
       " 'ฉลองเนื่องในโอกาสสำคัญเช่น วันเกิด งานรับปริญญา',\n",
       " 'สังสรรค์',\n",
       " 'รับรองลูกค้า',\n",
       " 'รับประทานนอกบ้านเป็นปกติ',\n",
       " 'สังสรรค์',\n",
       " 'รับประทานนอกบ้านเป็นปกติ',\n",
       " 'สังสรรค์',\n",
       " 'รับประทานนอกบ้านเป็นปกติ',\n",
       " 'สังสรรค์',\n",
       " 'ฉลองเนื่องในโอกาสสำคัญเช่น วันเกิด งานรับปริญญา',\n",
       " 'เทศกาลสำคัญของประเทศไทย เช่น วันพ่อ ปีใหม่ ตรุษจีน',\n",
       " 'รับประทานนอกบ้านเป็นปกติ',\n",
       " 'เข้าออฟฟิส',\n",
       " 'รับประทานนอกบ้านเป็นปกติ',\n",
       " 'ออกเดท',\n",
       " 'รับประทานนอกบ้านเป็นปกติ',\n",
       " 'สังสรรค์',\n",
       " 'สังสรรค์',\n",
       " 'ฉลองเนื่องในโอกาสสำคัญเช่น วันเกิด งานรับปริญญา',\n",
       " 'รับประทานนอกบ้านเป็นปกติ',\n",
       " 'ฉลองเนื่องในโอกาสสำคัญเช่น วันเกิด งานรับปริญญา',\n",
       " 'รับประทานนอกบ้านเป็นปกติ',\n",
       " 'สังสรรค์',\n",
       " 'รับประทานนอกบ้านเป็นปกติ',\n",
       " 'สังสรรค์',\n",
       " 'งานเลี้ยงบริษัทฯ',\n",
       " 'เทศกาลสำคัญของประเทศไทย เช่น วันพ่อ ปีใหม่ ตรุษจีน',\n",
       " 'รับประทานนอกบ้านเป็นปกติ',\n",
       " 'ฉลองเนื่องในโอกาสสำคัญเช่น วันเกิด งานรับปริญญา',\n",
       " 'รับประทานนอกบ้านเป็นปกติ',\n",
       " 'ไปกับครอบครัว',\n",
       " 'รับประทานนอกบ้านเป็นปกติ',\n",
       " 'สังสรรค์',\n",
       " 'งานเลี้ยงบริษัทฯ',\n",
       " 'เทศกาลสำคัญของประเทศไทย เช่น วันพ่อ ปีใหม่ ตรุษจีน',\n",
       " 'รับประทานนอกบ้านเป็นปกติ',\n",
       " 'สังสรรค์',\n",
       " 'รับประทานนอกบ้านเป็นปกติ',\n",
       " 'สังสรรค์',\n",
       " 'รับประทานนอกบ้านเป็นปกติ',\n",
       " 'สังสรรค์',\n",
       " 'รับประทานนอกบ้านเป็นปกติ',\n",
       " 'สังสรรค์',\n",
       " 'สังสรรค์',\n",
       " 'ฉลองเนื่องในโอกาสสำคัญเช่น วันเกิด งานรับปริญญา',\n",
       " 'รับประทานนอกบ้านเป็นปกติ',\n",
       " 'ออกเดท',\n",
       " 'สังสรรค์',\n",
       " 'ออกเดท',\n",
       " 'สังสรรค์',\n",
       " 'พร้อมกับครอบครัว',\n",
       " 'สังสรรค์',\n",
       " 'เทศกาลสำคัญของประเทศไทย เช่น วันพ่อ ปีใหม่ ตรุษจีน',\n",
       " 'สังสรรค์',\n",
       " 'ฉลองเนื่องในโอกาสสำคัญเช่น วันเกิด งานรับปริญญา',\n",
       " 'รับประทานนอกบ้านเป็นปกติ',\n",
       " 'สังสรรค์',\n",
       " 'รับประทานนอกบ้านเป็นปกติ',\n",
       " 'เทศกาลสำคัญของประเทศไทย เช่น วันพ่อ ปีใหม่ ตรุษจีน',\n",
       " 'ฉลองเนื่องในโอกาสสำคัญเช่น วันเกิด งานรับปริญญา',\n",
       " 'เทศกาลสำคัญของประเทศไทย เช่น วันพ่อ ปีใหม่ ตรุษจีน',\n",
       " 'รับประทานนอกบ้านเป็นปกติ',\n",
       " 'สังสรรค์',\n",
       " 'สังสรรค์',\n",
       " 'พาพ่อแม่ทานข้าว',\n",
       " 'สังสรรค์',\n",
       " 'ออกเดท',\n",
       " 'รับประทานนอกบ้านเป็นปกติ',\n",
       " 'สังสรรค์',\n",
       " 'รับประทานนอกบ้านเป็นปกติ',\n",
       " 'สังสรรค์',\n",
       " 'สังสรรค์',\n",
       " 'ฉลองเนื่องในโอกาสสำคัญเช่น วันเกิด งานรับปริญญา',\n",
       " 'รับประทานนอกบ้านเป็นปกติ',\n",
       " 'ฉลองเนื่องในโอกาสสำคัญเช่น วันเกิด งานรับปริญญา',\n",
       " 'รับประทานนอกบ้านเป็นปกติ',\n",
       " 'สังสรรค์',\n",
       " 'รับประทานนอกบ้านเป็นปกติ',\n",
       " 'ออกเดท',\n",
       " 'รับประทานนอกบ้านเป็นปกติ',\n",
       " 'ออกเดท',\n",
       " 'รับประทานนอกบ้านเป็นปกติ',\n",
       " 'วันทำงาน',\n",
       " 'รับประทานนอกบ้านเป็นปกติ',\n",
       " 'สังสรรค์',\n",
       " 'ฉลองเนื่องในโอกาสสำคัญเช่น วันเกิด งานรับปริญญา',\n",
       " 'เทศกาลสำคัญของประเทศไทย เช่น วันพ่อ ปีใหม่ ตรุษจีน',\n",
       " 'รับประทานนอกบ้านเป็นปกติ',\n",
       " 'สังสรรค์',\n",
       " 'รับประทานนอกบ้านเป็นปกติ',\n",
       " 'ออกเดท',\n",
       " 'รับประทานนอกบ้านเป็นปกติ',\n",
       " 'เทศกาลสำคัญของประเทศไทย เช่น วันพ่อ ปีใหม่ ตรุษจีน',\n",
       " 'สังสรรค์',\n",
       " 'รับรองลูกค้า',\n",
       " 'รับประทานนอกบ้านเป็นปกติ',\n",
       " 'สังสรรค์',\n",
       " 'รับประทานนอกบ้านเป็นปกติ',\n",
       " 'สังสรรค์',\n",
       " 'รับประทานนอกบ้านเป็นปกติ',\n",
       " 'สังสรรค์',\n",
       " 'รับประทานนอกบ้านเป็นปกติ',\n",
       " 'สังสรรค์',\n",
       " 'สังสรรค์',\n",
       " 'ฉลองเนื่องในโอกาสสำคัญเช่น วันเกิด งานรับปริญญา',\n",
       " 'สังสรรค์',\n",
       " 'รับรองลูกค้า',\n",
       " 'รับประทานนอกบ้านเป็นปกติ',\n",
       " 'สังสรรค์',\n",
       " 'สังสรรค์',\n",
       " 'รับรองลูกค้า',\n",
       " 'ฉลองเนื่องในโอกาสสำคัญเช่น วันเกิด งานรับปริญญา',\n",
       " 'รับรองลูกค้า',\n",
       " 'ออกเดท',\n",
       " 'ออกไปห้าง หรือทำธุระนอกบ้าน',\n",
       " 'รับประทานนอกบ้านเป็นปกติ',\n",
       " 'รับรองลูกค้า',\n",
       " 'รับประทานนอกบ้านเป็นปกติ',\n",
       " 'ฉลองเนื่องในโอกาสสำคัญเช่น วันเกิด งานรับปริญญา',\n",
       " 'รับประทานนอกบ้านเป็นปกติ',\n",
       " 'สังสรรค์',\n",
       " 'รับประทานนอกบ้านเป็นปกติ',\n",
       " 'สังสรรค์',\n",
       " 'ฉลองเนื่องในโอกาสสำคัญเช่น วันเกิด งานรับปริญญา',\n",
       " 'เทศกาลสำคัญของประเทศไทย เช่น วันพ่อ ปีใหม่ ตรุษจีน',\n",
       " 'สังสรรค์',\n",
       " 'งานเลี้ยงบริษัทฯ',\n",
       " 'รับประทานนอกบ้านเป็นปกติ',\n",
       " 'สังสรรค์',\n",
       " 'สังสรรค์',\n",
       " 'ฉลองเนื่องในโอกาสสำคัญเช่น วันเกิด งานรับปริญญา',\n",
       " 'รับประทานนอกบ้านเป็นปกติ',\n",
       " 'สังสรรค์',\n",
       " 'สังสรรค์',\n",
       " 'ฉลองเนื่องในโอกาสสำคัญเช่น วันเกิด งานรับปริญญา',\n",
       " 'สังสรรค์',\n",
       " 'ฉลองเนื่องในโอกาสสำคัญเช่น วันเกิด งานรับปริญญา',\n",
       " 'สังสรรค์',\n",
       " 'ออกเดท',\n",
       " 'ฉลองเนื่องในโอกาสสำคัญเช่น วันเกิด งานรับปริญญา',\n",
       " 'ออกเดท',\n",
       " 'สังสรรค์',\n",
       " 'งานเลี้ยงบริษัทฯ',\n",
       " 'รับประทานนอกบ้านเป็นปกติ',\n",
       " 'สังสรรค์',\n",
       " 'รับประทานนอกบ้านเป็นปกติ',\n",
       " 'เทศกาลสำคัญของประเทศไทย เช่น วันพ่อ ปีใหม่ ตรุษจีน',\n",
       " 'รับประทานนอกบ้านเป็นปกติ',\n",
       " 'สังสรรค์',\n",
       " 'รับประทานนอกบ้านเป็นปกติ',\n",
       " 'สังสรรค์',\n",
       " 'ฉลองเนื่องในโอกาสสำคัญเช่น วันเกิด งานรับปริญญา',\n",
       " 'ที่ทำงาน',\n",
       " 'รับประทานนอกบ้านเป็นปกติ',\n",
       " 'ออกเดท',\n",
       " 'ออกเดท',\n",
       " 'เบื่ออาหารที่บ้าน สิ่งที่อยากกินต้องได้กิน',\n",
       " 'รับประทานนอกบ้านเป็นปกติ',\n",
       " 'ฉลองเนื่องในโอกาสสำคัญเช่น วันเกิด งานรับปริญญา',\n",
       " 'รับประทานนอกบ้านเป็นปกติ',\n",
       " 'สังสรรค์',\n",
       " 'ฉลองเนื่องในโอกาสสำคัญเช่น วันเกิด งานรับปริญญา',\n",
       " 'เทศกาลสำคัญของประเทศไทย เช่น วันพ่อ ปีใหม่ ตรุษจีน',\n",
       " 'สังสรรค์',\n",
       " 'เทศกาลสำคัญของประเทศไทย เช่น วันพ่อ ปีใหม่ ตรุษจีน',\n",
       " 'รับประทานนอกบ้านเป็นปกติ',\n",
       " 'สังสรรค์',\n",
       " 'รับประทานนอกบ้านเป็นปกติ',\n",
       " 'สังสรรค์',\n",
       " 'รับประทานนอกบ้านเป็นปกติ',\n",
       " 'ออกเดท',\n",
       " 'สังสรรค์',\n",
       " 'ฉลองเนื่องในโอกาสสำคัญเช่น วันเกิด งานรับปริญญา',\n",
       " 'สังสรรค์',\n",
       " 'เทศกาลสำคัญของประเทศไทย เช่น วันพ่อ ปีใหม่ ตรุษจีน',\n",
       " 'สังสรรค์',\n",
       " 'ฉลองเนื่องในโอกาสสำคัญเช่น วันเกิด งานรับปริญญา',\n",
       " 'รับประทานนอกบ้านเป็นปกติ',\n",
       " 'ฉลองเนื่องในโอกาสสำคัญเช่น วันเกิด งานรับปริญญา',\n",
       " 'รับประทานนอกบ้านเป็นปกติ',\n",
       " 'เทศกาลสำคัญของประเทศไทย เช่น วันพ่อ ปีใหม่ ตรุษจีน',\n",
       " 'สังสรรค์',\n",
       " 'ฉลองเนื่องในโอกาสสำคัญเช่น วันเกิด งานรับปริญญา',\n",
       " 'รับประทานนอกบ้านเป็นปกติ',\n",
       " 'ออกเดท',\n",
       " 'รับประทานนอกบ้านเป็นปกติ',\n",
       " 'สังสรรค์',\n",
       " 'รับประทานนอกบ้านเป็นปกติ',\n",
       " 'สังสรรค์',\n",
       " 'สังสรรค์',\n",
       " 'ฉลองเนื่องในโอกาสสำคัญเช่น วันเกิด งานรับปริญญา',\n",
       " 'รับประทานนอกบ้านเป็นปกติ',\n",
       " 'สังสรรค์',\n",
       " 'รับประทานนอกบ้านเป็นปกติ',\n",
       " 'เทศกาลสำคัญของประเทศไทย เช่น วันพ่อ ปีใหม่ ตรุษจีน',\n",
       " 'รับประทานนอกบ้านเป็นปกติ',\n",
       " 'รับรองลูกค้า',\n",
       " 'สังสรรค์',\n",
       " 'เทศกาลสำคัญของประเทศไทย เช่น วันพ่อ ปีใหม่ ตรุษจีน',\n",
       " 'รับประทานนอกบ้านเป็นปกติ',\n",
       " 'สังสรรค์',\n",
       " 'งานเลี้ยงบริษัทฯ',\n",
       " 'เทศกาลสำคัญของประเทศไทย เช่น วันพ่อ ปีใหม่ ตรุษจีน',\n",
       " 'รับประทานนอกบ้านเป็นปกติ',\n",
       " 'ฉลองเนื่องในโอกาสสำคัญเช่น วันเกิด งานรับปริญญา',\n",
       " 'รับประทานนอกบ้านเป็นปกติ',\n",
       " 'ทานข้าวกับเพื่อน',\n",
       " 'รับประทานนอกบ้านเป็นปกติ',\n",
       " 'สังสรรค์',\n",
       " 'รับประทานนอกบ้านเป็นปกติ',\n",
       " 'สังสรรค์',\n",
       " 'รับประทานนอกบ้านเป็นปกติ',\n",
       " 'สังสรรค์',\n",
       " 'รับประทานนอกบ้านเป็นปกติ',\n",
       " 'สังสรรค์',\n",
       " 'สังสรรค์',\n",
       " 'ฉลองเนื่องในโอกาสสำคัญเช่น วันเกิด งานรับปริญญา',\n",
       " 'รับประทานนอกบ้านเป็นปกติ',\n",
       " 'รับรองลูกค้า',\n",
       " 'ฉลองเนื่องในโอกาสสำคัญเช่น วันเกิด งานรับปริญญา',\n",
       " 'เทศกาลสำคัญของประเทศไทย เช่น วันพ่อ ปีใหม่ ตรุษจีน',\n",
       " 'สังสรรค์',\n",
       " 'เทศกาลสำคัญของประเทศไทย เช่น วันพ่อ ปีใหม่ ตรุษจีน',\n",
       " 'สังสรรค์',\n",
       " 'ฉลองเนื่องในโอกาสสำคัญเช่น วันเกิด งานรับปริญญา',\n",
       " 'รับประทานนอกบ้านเป็นปกติ',\n",
       " 'สังสรรค์',\n",
       " 'สังสรรค์',\n",
       " 'ออกเดท',\n",
       " 'ฉลองเนื่องในโอกาสสำคัญเช่น วันเกิด งานรับปริญญา',\n",
       " 'เทศกาลสำคัญของประเทศไทย เช่น วันพ่อ ปีใหม่ ตรุษจีน',\n",
       " 'รับประทานนอกบ้านเป็นปกติ',\n",
       " 'สังสรรค์',\n",
       " 'สังสรรค์',\n",
       " 'งานเลี้ยงบริษัทฯ',\n",
       " 'รับประทานนอกบ้านเป็นปกติ',\n",
       " 'เทศกาลสำคัญของประเทศไทย เช่น วันพ่อ ปีใหม่ ตรุษจีน',\n",
       " 'รับประทานนอกบ้านเป็นปกติ',\n",
       " 'สังสรรค์',\n",
       " 'รับประทานนอกบ้านเป็นปกติ',\n",
       " 'ปกตินัดรับประทานอาหารกับเพื่อนบ่อย',\n",
       " 'สังสรรค์',\n",
       " 'ฉลองเนื่องในโอกาสสำคัญเช่น วันเกิด งานรับปริญญา',\n",
       " 'รับประทานนอกบ้านเป็นปกติ',\n",
       " 'สังสรรค์',\n",
       " 'สังสรรค์',\n",
       " 'ไม่เกี่ยวกับโอกาสใดๆ แต่เป็นฟิลลิ่งอยากกินข้าวนอกบ้าง',\n",
       " 'รับประทานนอกบ้านเป็นปกติ',\n",
       " 'รับรองลูกค้า',\n",
       " 'ออกเดท',\n",
       " 'แล้วแต่อารมณ์']"
      ]
     },
     "execution_count": 28,
     "metadata": {},
     "output_type": "execute_result"
    }
   ],
   "source": [
    "occasion"
   ]
  },
  {
   "cell_type": "code",
   "execution_count": 29,
   "id": "772d67ca",
   "metadata": {},
   "outputs": [
    {
     "data": {
      "text/plain": [
       "{'สังสรรค์': 125,\n",
       " 'รับประทานนอกบ้านเป็นปกติ': 123,\n",
       " 'ฉลองเนื่องในโอกาสสำคัญเช่น วันเกิด งานรับปริญญา': 59,\n",
       " 'เทศกาลสำคัญของประเทศไทย เช่น วันพ่อ ปีใหม่ ตรุษจีน': 32,\n",
       " 'ออกเดท': 24,\n",
       " 'รับรองลูกค้า': 11,\n",
       " 'งานเลี้ยงบริษัทฯ': 9,\n",
       " 'มีเวลาว่างหลังจากทำงาน': 1,\n",
       " 'อยากกิน': 1,\n",
       " 'ที่บ้านไม่มีให้กิน': 1,\n",
       " 'เข้าออฟฟิส': 1,\n",
       " 'ไปกับครอบครัว': 1,\n",
       " 'พร้อมกับครอบครัว': 1,\n",
       " 'พาพ่อแม่ทานข้าว': 1,\n",
       " 'วันทำงาน': 1,\n",
       " 'ออกไปห้าง หรือทำธุระนอกบ้าน': 1,\n",
       " 'ที่ทำงาน': 1,\n",
       " 'เบื่ออาหารที่บ้าน สิ่งที่อยากกินต้องได้กิน': 1,\n",
       " 'ทานข้าวกับเพื่อน': 1,\n",
       " 'ปกตินัดรับประทานอาหารกับเพื่อนบ่อย': 1,\n",
       " 'ไม่เกี่ยวกับโอกาสใดๆ แต่เป็นฟิลลิ่งอยากกินข้าวนอกบ้าง': 1,\n",
       " 'แล้วแต่อารมณ์': 1}"
      ]
     },
     "execution_count": 29,
     "metadata": {},
     "output_type": "execute_result"
    }
   ],
   "source": [
    "occasion_count = {i:occasion.count(i) for i in occasion}\n",
    "occasion_count = {k: v for k, v in sorted(occasion_count.items(), key=lambda item: item[1],reverse=True)}\n",
    "occasion_count"
   ]
  },
  {
   "cell_type": "code",
   "execution_count": 30,
   "id": "90bc332b",
   "metadata": {},
   "outputs": [
    {
     "data": {
      "text/plain": [
       "['สังสรรค์',\n",
       " 'รับประทานนอกบ้านเป็นปกติ',\n",
       " 'ฉลองเนื่องในโอกาสสำคัญเช่น วันเกิด งานรับปริญญา',\n",
       " 'เทศกาลสำคัญของประเทศไทย เช่น วันพ่อ ปีใหม่ ตรุษจีน',\n",
       " 'ออกเดท',\n",
       " 'รับรองลูกค้า',\n",
       " 'งานเลี้ยงบริษัทฯ']"
      ]
     },
     "execution_count": 30,
     "metadata": {},
     "output_type": "execute_result"
    }
   ],
   "source": [
    "occasion_new = [k for k, v in occasion_count.items() if v!=1]\n",
    "occasion_new"
   ]
  },
  {
   "cell_type": "code",
   "execution_count": 31,
   "id": "8fdeab66",
   "metadata": {},
   "outputs": [
    {
     "data": {
      "text/plain": [
       "15"
      ]
     },
     "execution_count": 31,
     "metadata": {},
     "output_type": "execute_result"
    }
   ],
   "source": [
    "sum_other = sum([1 for k, v in occasion_count.items() if v==1])\n",
    "sum_other"
   ]
  },
  {
   "cell_type": "code",
   "execution_count": 32,
   "id": "b3c31970",
   "metadata": {},
   "outputs": [
    {
     "data": {
      "text/plain": [
       "{'สังสรรค์': 125,\n",
       " 'รับประทานนอกบ้านเป็นปกติ': 123,\n",
       " 'ฉลองเนื่องในโอกาสสำคัญเช่น วันเกิด งานรับปริญญา': 59,\n",
       " 'เทศกาลสำคัญของประเทศไทย เช่น วันพ่อ ปีใหม่ ตรุษจีน': 32,\n",
       " 'ออกเดท': 24,\n",
       " 'อื่นๆ': 15,\n",
       " 'รับรองลูกค้า': 11,\n",
       " 'งานเลี้ยงบริษัทฯ': 9}"
      ]
     },
     "execution_count": 32,
     "metadata": {},
     "output_type": "execute_result"
    }
   ],
   "source": [
    "occasion_count = {i:occasion.count(i) for i in occasion if i in occasion_new}\n",
    "occasion_count['อื่นๆ'] = sum_other\n",
    "occasion_count = {k: v for k, v in sorted(occasion_count.items(), key=lambda item: item[1],reverse=True)}\n",
    "occasion_count"
   ]
  },
  {
   "cell_type": "code",
   "execution_count": 33,
   "id": "a2d6bc00",
   "metadata": {},
   "outputs": [
    {
     "data": {
      "text/plain": [
       "<BarContainer object of 8 artists>"
      ]
     },
     "execution_count": 33,
     "metadata": {},
     "output_type": "execute_result"
    },
    {
     "name": "stderr",
     "output_type": "stream",
     "text": [
      "/home/sun/anaconda3/envs/covid-19/lib/python3.8/site-packages/matplotlib/backends/backend_agg.py:240: RuntimeWarning: Glyph 3626 missing from current font.\n",
      "  font.set_text(s, 0.0, flags=flags)\n",
      "/home/sun/anaconda3/envs/covid-19/lib/python3.8/site-packages/matplotlib/backends/backend_agg.py:240: RuntimeWarning: Glyph 3660 missing from current font.\n",
      "  font.set_text(s, 0.0, flags=flags)\n",
      "/home/sun/anaconda3/envs/covid-19/lib/python3.8/site-packages/matplotlib/backends/backend_agg.py:240: RuntimeWarning: Glyph 3632 missing from current font.\n",
      "  font.set_text(s, 0.0, flags=flags)\n",
      "/home/sun/anaconda3/envs/covid-19/lib/python3.8/site-packages/matplotlib/backends/backend_agg.py:240: RuntimeWarning: Glyph 3655 missing from current font.\n",
      "  font.set_text(s, 0.0, flags=flags)\n",
      "/home/sun/anaconda3/envs/covid-19/lib/python3.8/site-packages/matplotlib/backends/backend_agg.py:240: RuntimeWarning: Glyph 3605 missing from current font.\n",
      "  font.set_text(s, 0.0, flags=flags)\n",
      "/home/sun/anaconda3/envs/covid-19/lib/python3.8/site-packages/matplotlib/backends/backend_agg.py:240: RuntimeWarning: Glyph 3636 missing from current font.\n",
      "  font.set_text(s, 0.0, flags=flags)\n",
      "/home/sun/anaconda3/envs/covid-19/lib/python3.8/site-packages/matplotlib/backends/backend_agg.py:240: RuntimeWarning: Glyph 3593 missing from current font.\n",
      "  font.set_text(s, 0.0, flags=flags)\n",
      "/home/sun/anaconda3/envs/covid-19/lib/python3.8/site-packages/matplotlib/backends/backend_agg.py:240: RuntimeWarning: Glyph 3639 missing from current font.\n",
      "  font.set_text(s, 0.0, flags=flags)\n",
      "/home/sun/anaconda3/envs/covid-19/lib/python3.8/site-packages/matplotlib/backends/backend_agg.py:240: RuntimeWarning: Glyph 3650 missing from current font.\n",
      "  font.set_text(s, 0.0, flags=flags)\n",
      "/home/sun/anaconda3/envs/covid-19/lib/python3.8/site-packages/matplotlib/backends/backend_agg.py:240: RuntimeWarning: Glyph 3635 missing from current font.\n",
      "  font.set_text(s, 0.0, flags=flags)\n",
      "/home/sun/anaconda3/envs/covid-19/lib/python3.8/site-packages/matplotlib/backends/backend_agg.py:240: RuntimeWarning: Glyph 3597 missing from current font.\n",
      "  font.set_text(s, 0.0, flags=flags)\n",
      "/home/sun/anaconda3/envs/covid-19/lib/python3.8/site-packages/matplotlib/backends/backend_agg.py:240: RuntimeWarning: Glyph 3594 missing from current font.\n",
      "  font.set_text(s, 0.0, flags=flags)\n",
      "/home/sun/anaconda3/envs/covid-19/lib/python3.8/site-packages/matplotlib/backends/backend_agg.py:240: RuntimeWarning: Glyph 3604 missing from current font.\n",
      "  font.set_text(s, 0.0, flags=flags)\n",
      "/home/sun/anaconda3/envs/covid-19/lib/python3.8/site-packages/matplotlib/backends/backend_agg.py:240: RuntimeWarning: Glyph 3624 missing from current font.\n",
      "  font.set_text(s, 0.0, flags=flags)\n",
      "/home/sun/anaconda3/envs/covid-19/lib/python3.8/site-packages/matplotlib/backends/backend_agg.py:240: RuntimeWarning: Glyph 3614 missing from current font.\n",
      "  font.set_text(s, 0.0, flags=flags)\n",
      "/home/sun/anaconda3/envs/covid-19/lib/python3.8/site-packages/matplotlib/backends/backend_agg.py:240: RuntimeWarning: Glyph 3637 missing from current font.\n",
      "  font.set_text(s, 0.0, flags=flags)\n",
      "/home/sun/anaconda3/envs/covid-19/lib/python3.8/site-packages/matplotlib/backends/backend_agg.py:240: RuntimeWarning: Glyph 3640 missing from current font.\n",
      "  font.set_text(s, 0.0, flags=flags)\n",
      "/home/sun/anaconda3/envs/covid-19/lib/python3.8/site-packages/matplotlib/backends/backend_agg.py:240: RuntimeWarning: Glyph 3625 missing from current font.\n",
      "  font.set_text(s, 0.0, flags=flags)\n",
      "/home/sun/anaconda3/envs/covid-19/lib/python3.8/site-packages/matplotlib/backends/backend_agg.py:240: RuntimeWarning: Glyph 3592 missing from current font.\n",
      "  font.set_text(s, 0.0, flags=flags)\n",
      "/home/sun/anaconda3/envs/covid-19/lib/python3.8/site-packages/matplotlib/backends/backend_agg.py:240: RuntimeWarning: Glyph 3654 missing from current font.\n",
      "  font.set_text(s, 0.0, flags=flags)\n",
      "/home/sun/anaconda3/envs/covid-19/lib/python3.8/site-packages/matplotlib/backends/backend_agg.py:240: RuntimeWarning: Glyph 3641 missing from current font.\n",
      "  font.set_text(s, 0.0, flags=flags)\n",
      "/home/sun/anaconda3/envs/covid-19/lib/python3.8/site-packages/matplotlib/backends/backend_agg.py:240: RuntimeWarning: Glyph 3631 missing from current font.\n",
      "  font.set_text(s, 0.0, flags=flags)\n",
      "/home/sun/anaconda3/envs/covid-19/lib/python3.8/site-packages/matplotlib/backends/backend_agg.py:203: RuntimeWarning: Glyph 3626 missing from current font.\n",
      "  font.set_text(s, 0, flags=flags)\n",
      "/home/sun/anaconda3/envs/covid-19/lib/python3.8/site-packages/matplotlib/backends/backend_agg.py:203: RuntimeWarning: Glyph 3660 missing from current font.\n",
      "  font.set_text(s, 0, flags=flags)\n",
      "/home/sun/anaconda3/envs/covid-19/lib/python3.8/site-packages/matplotlib/backends/backend_agg.py:203: RuntimeWarning: Glyph 3632 missing from current font.\n",
      "  font.set_text(s, 0, flags=flags)\n",
      "/home/sun/anaconda3/envs/covid-19/lib/python3.8/site-packages/matplotlib/backends/backend_agg.py:203: RuntimeWarning: Glyph 3655 missing from current font.\n",
      "  font.set_text(s, 0, flags=flags)\n",
      "/home/sun/anaconda3/envs/covid-19/lib/python3.8/site-packages/matplotlib/backends/backend_agg.py:203: RuntimeWarning: Glyph 3605 missing from current font.\n",
      "  font.set_text(s, 0, flags=flags)\n",
      "/home/sun/anaconda3/envs/covid-19/lib/python3.8/site-packages/matplotlib/backends/backend_agg.py:203: RuntimeWarning: Glyph 3636 missing from current font.\n",
      "  font.set_text(s, 0, flags=flags)\n",
      "/home/sun/anaconda3/envs/covid-19/lib/python3.8/site-packages/matplotlib/backends/backend_agg.py:203: RuntimeWarning: Glyph 3593 missing from current font.\n",
      "  font.set_text(s, 0, flags=flags)\n",
      "/home/sun/anaconda3/envs/covid-19/lib/python3.8/site-packages/matplotlib/backends/backend_agg.py:203: RuntimeWarning: Glyph 3639 missing from current font.\n",
      "  font.set_text(s, 0, flags=flags)\n",
      "/home/sun/anaconda3/envs/covid-19/lib/python3.8/site-packages/matplotlib/backends/backend_agg.py:203: RuntimeWarning: Glyph 3650 missing from current font.\n",
      "  font.set_text(s, 0, flags=flags)\n",
      "/home/sun/anaconda3/envs/covid-19/lib/python3.8/site-packages/matplotlib/backends/backend_agg.py:203: RuntimeWarning: Glyph 3635 missing from current font.\n",
      "  font.set_text(s, 0, flags=flags)\n",
      "/home/sun/anaconda3/envs/covid-19/lib/python3.8/site-packages/matplotlib/backends/backend_agg.py:203: RuntimeWarning: Glyph 3597 missing from current font.\n",
      "  font.set_text(s, 0, flags=flags)\n",
      "/home/sun/anaconda3/envs/covid-19/lib/python3.8/site-packages/matplotlib/backends/backend_agg.py:203: RuntimeWarning: Glyph 3594 missing from current font.\n",
      "  font.set_text(s, 0, flags=flags)\n",
      "/home/sun/anaconda3/envs/covid-19/lib/python3.8/site-packages/matplotlib/backends/backend_agg.py:203: RuntimeWarning: Glyph 3604 missing from current font.\n",
      "  font.set_text(s, 0, flags=flags)\n",
      "/home/sun/anaconda3/envs/covid-19/lib/python3.8/site-packages/matplotlib/backends/backend_agg.py:203: RuntimeWarning: Glyph 3624 missing from current font.\n",
      "  font.set_text(s, 0, flags=flags)\n",
      "/home/sun/anaconda3/envs/covid-19/lib/python3.8/site-packages/matplotlib/backends/backend_agg.py:203: RuntimeWarning: Glyph 3614 missing from current font.\n",
      "  font.set_text(s, 0, flags=flags)\n",
      "/home/sun/anaconda3/envs/covid-19/lib/python3.8/site-packages/matplotlib/backends/backend_agg.py:203: RuntimeWarning: Glyph 3637 missing from current font.\n",
      "  font.set_text(s, 0, flags=flags)\n",
      "/home/sun/anaconda3/envs/covid-19/lib/python3.8/site-packages/matplotlib/backends/backend_agg.py:203: RuntimeWarning: Glyph 3640 missing from current font.\n",
      "  font.set_text(s, 0, flags=flags)\n",
      "/home/sun/anaconda3/envs/covid-19/lib/python3.8/site-packages/matplotlib/backends/backend_agg.py:203: RuntimeWarning: Glyph 3625 missing from current font.\n",
      "  font.set_text(s, 0, flags=flags)\n",
      "/home/sun/anaconda3/envs/covid-19/lib/python3.8/site-packages/matplotlib/backends/backend_agg.py:203: RuntimeWarning: Glyph 3592 missing from current font.\n",
      "  font.set_text(s, 0, flags=flags)\n",
      "/home/sun/anaconda3/envs/covid-19/lib/python3.8/site-packages/matplotlib/backends/backend_agg.py:203: RuntimeWarning: Glyph 3654 missing from current font.\n",
      "  font.set_text(s, 0, flags=flags)\n",
      "/home/sun/anaconda3/envs/covid-19/lib/python3.8/site-packages/matplotlib/backends/backend_agg.py:203: RuntimeWarning: Glyph 3641 missing from current font.\n",
      "  font.set_text(s, 0, flags=flags)\n",
      "/home/sun/anaconda3/envs/covid-19/lib/python3.8/site-packages/matplotlib/backends/backend_agg.py:203: RuntimeWarning: Glyph 3631 missing from current font.\n",
      "  font.set_text(s, 0, flags=flags)\n"
     ]
    },
    {
     "data": {
      "image/png": "[encoded data removed]",
      "text/plain": [
       "<Figure size 432x288 with 1 Axes>"
      ]
     },
     "metadata": {
      "needs_background": "light"
     },
     "output_type": "display_data"
    }
   ],
   "source": [
    "date = list(occasion_count.keys())\n",
    "values = list(occasion_count.values())\n",
    "  \n",
    "# fig = plt.figure(figsize = (10, 5))\n",
    " \n",
    "# creating the bar plot\n",
    "\n",
    "\n",
    "plt.bar(date, values, color ='maroon',\n",
    "        width = 0.6)"
   ]
  },
  {
   "cell_type": "code",
   "execution_count": null,
   "id": "8c9025ea",
   "metadata": {},
   "outputs": [],
   "source": []
  },
  {
   "cell_type": "markdown",
   "id": "0f5be099",
   "metadata": {},
   "source": [
    "# 5. ท่านมักรับประทานอาหารนอกบ้านในช่วงเวลาใด"
   ]
  },
  {
   "cell_type": "code",
   "execution_count": 34,
   "id": "78dcc1a1",
   "metadata": {},
   "outputs": [
    {
     "data": {
      "text/plain": [
       "0        17.00-21.00 น.\n",
       "1        17.00-21.00 น.\n",
       "2      11.00 - 14.00 น.\n",
       "3        17.00-21.00 น.\n",
       "4        17.00-21.00 น.\n",
       "             ...       \n",
       "194      17.00-21.00 น.\n",
       "195      17.00-21.00 น.\n",
       "196      17.00-21.00 น.\n",
       "197      17.00-21.00 น.\n",
       "198    14.00 - 17.00 น.\n",
       "Name: 5. ท่านมักรับประทานอาหารนอกบ้านในช่วงเวลาใด, Length: 199, dtype: object"
      ]
     },
     "execution_count": 34,
     "metadata": {},
     "output_type": "execute_result"
    }
   ],
   "source": [
    "col_name[5]"
   ]
  },
  {
   "cell_type": "code",
   "execution_count": 35,
   "id": "1a74d3d1",
   "metadata": {},
   "outputs": [
    {
     "data": {
      "text/plain": [
       "17.00-21.00 น.        139\n",
       "11.00 - 14.00 น.       35\n",
       "14.00 - 17.00 น.       23\n",
       "21.00 น. เป็นต้นไป      2\n",
       "Name: 5. ท่านมักรับประทานอาหารนอกบ้านในช่วงเวลาใด, dtype: int64"
      ]
     },
     "execution_count": 35,
     "metadata": {},
     "output_type": "execute_result"
    }
   ],
   "source": [
    "col_name[5].value_counts()"
   ]
  },
  {
   "cell_type": "code",
   "execution_count": 36,
   "id": "f44163e0",
   "metadata": {},
   "outputs": [
    {
     "data": {
      "text/plain": [
       "{'17.00-21.00 น.': 141, '11.00 - 14.00 น.': 35, '14.00 - 17.00 น.': 23}"
      ]
     },
     "execution_count": 36,
     "metadata": {},
     "output_type": "execute_result"
    }
   ],
   "source": [
    "period = {k:v for k,v in col_name[5].value_counts()[:-1].items()}\n",
    "period['17.00-21.00 น.'] = period['17.00-21.00 น.'] + col_name[5].value_counts()[-1]\n",
    "period"
   ]
  },
  {
   "cell_type": "code",
   "execution_count": 37,
   "id": "d18bc979",
   "metadata": {},
   "outputs": [
    {
     "data": {
      "text/plain": [
       "{'11.00 - 14.00 น.': 35, '14.00 - 17.00 น.': 23, '17.00-21.00 น.': 141}"
      ]
     },
     "execution_count": 37,
     "metadata": {},
     "output_type": "execute_result"
    }
   ],
   "source": [
    "period = {k: v for k, v in sorted(period.items(), key=lambda item: item[0][0:2])}\n",
    "period"
   ]
  },
  {
   "cell_type": "code",
   "execution_count": 38,
   "id": "c1103855",
   "metadata": {},
   "outputs": [
    {
     "data": {
      "text/plain": [
       "<BarContainer object of 3 artists>"
      ]
     },
     "execution_count": 38,
     "metadata": {},
     "output_type": "execute_result"
    },
    {
     "data": {
      "image/png": "[encoded data removed]",
      "text/plain": [
       "<Figure size 432x288 with 1 Axes>"
      ]
     },
     "metadata": {
      "needs_background": "light"
     },
     "output_type": "display_data"
    }
   ],
   "source": [
    "date = list(period.keys())\n",
    "values = list(period.values())\n",
    "  \n",
    "# fig = plt.figure(figsize = (10, 5))\n",
    " \n",
    "# creating the bar plot\n",
    "\n",
    "\n",
    "plt.bar(date, values, color ='maroon',\n",
    "        width = 0.6)"
   ]
  },
  {
   "cell_type": "code",
   "execution_count": null,
   "id": "5fbee719",
   "metadata": {},
   "outputs": [],
   "source": []
  },
  {
   "cell_type": "markdown",
   "id": "d191ccfb",
   "metadata": {},
   "source": [
    "# 6.เมื่อท่านรับประทานอาหารนอกบ้านส่วนใหญ่ ท่านเลือกรับประทานอาหารในรูปแบบใด"
   ]
  },
  {
   "cell_type": "code",
   "execution_count": 39,
   "id": "c04c9e66",
   "metadata": {},
   "outputs": [
    {
     "data": {
      "text/plain": [
       "0      A la cart\n",
       "1         Buffet\n",
       "2      A la cart\n",
       "3      A la cart\n",
       "4      A la cart\n",
       "         ...    \n",
       "194    A la cart\n",
       "195    A la cart\n",
       "196       Buffet\n",
       "197    A la cart\n",
       "198    A la cart\n",
       "Name: 6.เมื่อท่านรับประทานอาหารนอกบ้านส่วนใหญ่ ท่านเลือกรับประทานอาหารในรูปแบบใด, Length: 199, dtype: object"
      ]
     },
     "execution_count": 39,
     "metadata": {},
     "output_type": "execute_result"
    }
   ],
   "source": [
    "col_name[6]"
   ]
  },
  {
   "cell_type": "code",
   "execution_count": 40,
   "id": "fbab0e03",
   "metadata": {},
   "outputs": [
    {
     "data": {
      "text/plain": [
       "A la cart    161\n",
       "Buffet        38\n",
       "Name: 6.เมื่อท่านรับประทานอาหารนอกบ้านส่วนใหญ่ ท่านเลือกรับประทานอาหารในรูปแบบใด, dtype: int64"
      ]
     },
     "execution_count": 40,
     "metadata": {},
     "output_type": "execute_result"
    }
   ],
   "source": [
    "category  = col_name[6].value_counts()\n",
    "category"
   ]
  },
  {
   "cell_type": "code",
   "execution_count": 41,
   "id": "d74fcece",
   "metadata": {},
   "outputs": [
    {
     "data": {
      "text/plain": [
       "<BarContainer object of 2 artists>"
      ]
     },
     "execution_count": 41,
     "metadata": {},
     "output_type": "execute_result"
    },
    {
     "data": {
      "image/png": "[encoded data removed]",
      "text/plain": [
       "<Figure size 432x288 with 1 Axes>"
      ]
     },
     "metadata": {
      "needs_background": "light"
     },
     "output_type": "display_data"
    }
   ],
   "source": [
    "date = list(category.index)\n",
    "values = list(category.values)\n",
    "  \n",
    "# fig = plt.figure(figsize = (10, 5))\n",
    " \n",
    "# creating the bar plot\n",
    "\n",
    "\n",
    "plt.bar(date, values, color ='maroon',\n",
    "        width = 0.6)"
   ]
  },
  {
   "cell_type": "code",
   "execution_count": null,
   "id": "847f7032",
   "metadata": {},
   "outputs": [],
   "source": []
  },
  {
   "cell_type": "markdown",
   "id": "afcf5408",
   "metadata": {},
   "source": [
    "# 7.1 ท่านมักจะเลือกรับประทานอาหารนอกบ้านที่ใด (เลือก 2 อันดับแรก)  [อันดับที่ 1]"
   ]
  },
  {
   "cell_type": "code",
   "execution_count": 42,
   "id": "26bc2004",
   "metadata": {},
   "outputs": [
    {
     "data": {
      "text/plain": [
       "0      ห้างสรรพสินค้า หรือ Community Mall\n",
       "1                   ร้านอาหาร Stand Alone\n",
       "2      ห้างสรรพสินค้า หรือ Community Mall\n",
       "3      ห้างสรรพสินค้า หรือ Community Mall\n",
       "4      ห้างสรรพสินค้า หรือ Community Mall\n",
       "                      ...                \n",
       "194    ห้างสรรพสินค้า หรือ Community Mall\n",
       "195                 ร้านอาหาร Stand Alone\n",
       "196                 ร้านอาหาร Stand Alone\n",
       "197                 ร้านอาหาร Stand Alone\n",
       "198    ห้างสรรพสินค้า หรือ Community Mall\n",
       "Name: 7.1 ท่านมักจะเลือกรับประทานอาหารนอกบ้านที่ใด (เลือก 2 อันดับแรก)  [อันดับที่ 1], Length: 199, dtype: object"
      ]
     },
     "execution_count": 42,
     "metadata": {},
     "output_type": "execute_result"
    }
   ],
   "source": [
    "col_name[7]"
   ]
  },
  {
   "cell_type": "code",
   "execution_count": 43,
   "id": "354b7eb4",
   "metadata": {},
   "outputs": [
    {
     "data": {
      "text/plain": [
       "ห้างสรรพสินค้า หรือ Community Mall    142\n",
       "ร้านอาหาร Stand Alone                  56\n",
       "โรงแรม                                  1\n",
       "Name: 7.1 ท่านมักจะเลือกรับประทานอาหารนอกบ้านที่ใด (เลือก 2 อันดับแรก)  [อันดับที่ 1], dtype: int64"
      ]
     },
     "execution_count": 43,
     "metadata": {},
     "output_type": "execute_result"
    }
   ],
   "source": [
    "rank_1 = col_name[7].value_counts()\n",
    "rank_1"
   ]
  },
  {
   "cell_type": "code",
   "execution_count": 44,
   "id": "53d95afc",
   "metadata": {},
   "outputs": [
    {
     "data": {
      "text/plain": [
       "<BarContainer object of 3 artists>"
      ]
     },
     "execution_count": 44,
     "metadata": {},
     "output_type": "execute_result"
    },
    {
     "name": "stderr",
     "output_type": "stream",
     "text": [
      "/home/sun/anaconda3/envs/covid-19/lib/python3.8/site-packages/matplotlib/backends/backend_agg.py:240: RuntimeWarning: Glyph 3649 missing from current font.\n",
      "  font.set_text(s, 0.0, flags=flags)\n",
      "/home/sun/anaconda3/envs/covid-19/lib/python3.8/site-packages/matplotlib/backends/backend_agg.py:203: RuntimeWarning: Glyph 3649 missing from current font.\n",
      "  font.set_text(s, 0, flags=flags)\n"
     ]
    },
    {
     "data": {
      "image/png": "[encoded data removed]",
      "text/plain": [
       "<Figure size 432x288 with 1 Axes>"
      ]
     },
     "metadata": {
      "needs_background": "light"
     },
     "output_type": "display_data"
    }
   ],
   "source": [
    "date = list(rank_1.index)\n",
    "values = list(rank_1.values)\n",
    "  \n",
    "# fig = plt.figure(figsize = (10, 5))\n",
    " \n",
    "# creating the bar plot\n",
    "\n",
    "\n",
    "plt.bar(date, values, color ='maroon',\n",
    "        width = 0.6)"
   ]
  },
  {
   "cell_type": "code",
   "execution_count": null,
   "id": "c5cc972a",
   "metadata": {},
   "outputs": [],
   "source": []
  },
  {
   "cell_type": "markdown",
   "id": "0da524b2",
   "metadata": {},
   "source": [
    "# 7.1 ท่านมักจะเลือกรับประทานอาหารนอกบ้านที่ใด (เลือก 2 อันดับแรก)  [อันดับที่ 2]"
   ]
  },
  {
   "cell_type": "code",
   "execution_count": 45,
   "id": "a909eb18",
   "metadata": {},
   "outputs": [
    {
     "data": {
      "text/plain": [
       "0                   ร้านอาหาร Stand Alone\n",
       "1      ห้างสรรพสินค้า หรือ Community Mall\n",
       "2                   ร้านอาหาร Stand Alone\n",
       "3                   ร้านอาหาร Stand Alone\n",
       "4                   ร้านอาหาร Stand Alone\n",
       "                      ...                \n",
       "194                 ร้านอาหาร Stand Alone\n",
       "195    ห้างสรรพสินค้า หรือ Community Mall\n",
       "196    ห้างสรรพสินค้า หรือ Community Mall\n",
       "197    ห้างสรรพสินค้า หรือ Community Mall\n",
       "198                 ร้านอาหาร Stand Alone\n",
       "Name: 7.1 ท่านมักจะเลือกรับประทานอาหารนอกบ้านที่ใด (เลือก 2 อันดับแรก)  [อันดับที่ 2], Length: 199, dtype: object"
      ]
     },
     "execution_count": 45,
     "metadata": {},
     "output_type": "execute_result"
    }
   ],
   "source": [
    "col_name[8]"
   ]
  },
  {
   "cell_type": "code",
   "execution_count": 46,
   "id": "3f5a8139",
   "metadata": {},
   "outputs": [
    {
     "data": {
      "text/plain": [
       "ร้านอาหาร Stand Alone                 138\n",
       "ห้างสรรพสินค้า หรือ Community Mall     54\n",
       "โรงแรม                                  4\n",
       "อื่นๆ                                   3\n",
       "Name: 7.1 ท่านมักจะเลือกรับประทานอาหารนอกบ้านที่ใด (เลือก 2 อันดับแรก)  [อันดับที่ 2], dtype: int64"
      ]
     },
     "execution_count": 46,
     "metadata": {},
     "output_type": "execute_result"
    }
   ],
   "source": [
    "rank_2 = col_name[8].value_counts()\n",
    "rank_2"
   ]
  },
  {
   "cell_type": "code",
   "execution_count": 47,
   "id": "5dd93853",
   "metadata": {},
   "outputs": [
    {
     "data": {
      "text/plain": [
       "<BarContainer object of 4 artists>"
      ]
     },
     "execution_count": 47,
     "metadata": {},
     "output_type": "execute_result"
    },
    {
     "data": {
      "image/png": "[encoded data removed]",
      "text/plain": [
       "<Figure size 432x288 with 1 Axes>"
      ]
     },
     "metadata": {
      "needs_background": "light"
     },
     "output_type": "display_data"
    }
   ],
   "source": [
    "date = list(rank_2.index)\n",
    "values = list(rank_2.values)\n",
    "  \n",
    "# fig = plt.figure(figsize = (10, 5))\n",
    " \n",
    "# creating the bar plot\n",
    "\n",
    "\n",
    "plt.bar(date, values, color ='maroon',\n",
    "        width = 0.6)"
   ]
  },
  {
   "cell_type": "code",
   "execution_count": null,
   "id": "fba71594",
   "metadata": {},
   "outputs": [],
   "source": []
  },
  {
   "cell_type": "markdown",
   "id": "20ad8fb3",
   "metadata": {},
   "source": [
    "# 7.2 หากข้อ 7.1 ตอบอื่นๆ โปรดระบุคำตอบของท่าน"
   ]
  },
  {
   "cell_type": "code",
   "execution_count": 48,
   "id": "48cbf3e3",
   "metadata": {},
   "outputs": [
    {
     "data": {
      "text/plain": [
       "0      NaN\n",
       "1      NaN\n",
       "2      NaN\n",
       "3      NaN\n",
       "4      NaN\n",
       "      ... \n",
       "194    NaN\n",
       "195    NaN\n",
       "196    NaN\n",
       "197    NaN\n",
       "198    NaN\n",
       "Name: 7.2 หากข้อ 7.1 ตอบอื่นๆ โปรดระบุคำตอบของท่าน, Length: 199, dtype: object"
      ]
     },
     "execution_count": 48,
     "metadata": {},
     "output_type": "execute_result"
    }
   ],
   "source": [
    "col_name[9]"
   ]
  },
  {
   "cell_type": "code",
   "execution_count": 49,
   "id": "2f9dfc9d",
   "metadata": {},
   "outputs": [
    {
     "data": {
      "text/plain": [
       "central                              1\n",
       "ข้างทาง                              1\n",
       "แหล่งของกินเช่น บรรทัดทอง เยาวราช    1\n",
       "ห้างสรรพสินค้า                       1\n",
       "ราคาพอเหมาะ                          1\n",
       "-                                    1\n",
       "Name: 7.2 หากข้อ 7.1 ตอบอื่นๆ โปรดระบุคำตอบของท่าน, dtype: int64"
      ]
     },
     "execution_count": 49,
     "metadata": {},
     "output_type": "execute_result"
    }
   ],
   "source": [
    "col_name[9].value_counts()"
   ]
  },
  {
   "cell_type": "code",
   "execution_count": null,
   "id": "d435fad7",
   "metadata": {},
   "outputs": [],
   "source": []
  },
  {
   "cell_type": "markdown",
   "id": "fe5f2d6d",
   "metadata": {},
   "source": [
    "# 8. ท่านมักรับประทานอาหารนอกบ้านกับใคร"
   ]
  },
  {
   "cell_type": "code",
   "execution_count": 50,
   "id": "874a0fc2",
   "metadata": {},
   "outputs": [
    {
     "data": {
      "text/plain": [
       "0        เพื่อน\n",
       "1           แฟน\n",
       "2      ครอบครัว\n",
       "3           แฟน\n",
       "4        เพื่อน\n",
       "         ...   \n",
       "194    ครอบครัว\n",
       "195         แฟน\n",
       "196      เพื่อน\n",
       "197    ครอบครัว\n",
       "198         แฟน\n",
       "Name: 8. ท่านมักรับประทานอาหารนอกบ้านกับใคร, Length: 199, dtype: object"
      ]
     },
     "execution_count": 50,
     "metadata": {},
     "output_type": "execute_result"
    }
   ],
   "source": [
    "col_name[10]"
   ]
  },
  {
   "cell_type": "code",
   "execution_count": 51,
   "id": "d3b452f8",
   "metadata": {},
   "outputs": [
    {
     "data": {
      "text/plain": [
       "ครอบครัว     68\n",
       "เพื่อน       65\n",
       "แฟน          52\n",
       "คนเดียว      10\n",
       "คนใกล้ชิด     4\n",
       "Name: 8. ท่านมักรับประทานอาหารนอกบ้านกับใคร, dtype: int64"
      ]
     },
     "execution_count": 51,
     "metadata": {},
     "output_type": "execute_result"
    }
   ],
   "source": [
    "with_ = col_name[10].value_counts()\n",
    "with_"
   ]
  },
  {
   "cell_type": "code",
   "execution_count": 52,
   "id": "7f8a6513",
   "metadata": {},
   "outputs": [
    {
     "data": {
      "text/plain": [
       "<BarContainer object of 5 artists>"
      ]
     },
     "execution_count": 52,
     "metadata": {},
     "output_type": "execute_result"
    },
    {
     "name": "stderr",
     "output_type": "stream",
     "text": [
      "/home/sun/anaconda3/envs/covid-19/lib/python3.8/site-packages/matplotlib/backends/backend_agg.py:240: RuntimeWarning: Glyph 3615 missing from current font.\n",
      "  font.set_text(s, 0.0, flags=flags)\n",
      "/home/sun/anaconda3/envs/covid-19/lib/python3.8/site-packages/matplotlib/backends/backend_agg.py:203: RuntimeWarning: Glyph 3615 missing from current font.\n",
      "  font.set_text(s, 0, flags=flags)\n"
     ]
    },
    {
     "data": {
      "image/png": "[encoded data removed]",
      "text/plain": [
       "<Figure size 432x288 with 1 Axes>"
      ]
     },
     "metadata": {
      "needs_background": "light"
     },
     "output_type": "display_data"
    }
   ],
   "source": [
    "date = list(with_.index)\n",
    "values = list(with_.values)\n",
    "  \n",
    "# fig = plt.figure(figsize = (10, 5))\n",
    " \n",
    "# creating the bar plot\n",
    "\n",
    "\n",
    "plt.bar(date, values, color ='maroon',\n",
    "        width = 0.6)"
   ]
  },
  {
   "cell_type": "code",
   "execution_count": null,
   "id": "84cdb63f",
   "metadata": {},
   "outputs": [],
   "source": []
  },
  {
   "cell_type": "markdown",
   "id": "5031ed93",
   "metadata": {},
   "source": [
    "# 9. เมื่อท่านรับประทานอาหารนอกบ้าน ท่านมักรับประทานกันทั้งหมดกี่คน (รวมตัวท่าน)"
   ]
  },
  {
   "cell_type": "code",
   "execution_count": 53,
   "id": "f7056360",
   "metadata": {},
   "outputs": [
    {
     "data": {
      "text/plain": [
       "0                  4-5 คน\n",
       "1                  2-3 คน\n",
       "2                  2-3 คน\n",
       "3                  2-3 คน\n",
       "4      มากกว่า 5 คนขึ้นไป\n",
       "              ...        \n",
       "194                2-3 คน\n",
       "195                2-3 คน\n",
       "196                2-3 คน\n",
       "197                2-3 คน\n",
       "198                2-3 คน\n",
       "Name: 9. เมื่อท่านรับประทานอาหารนอกบ้าน ท่านมักรับประทานกันทั้งหมดกี่คน (รวมตัวท่าน), Length: 199, dtype: object"
      ]
     },
     "execution_count": 53,
     "metadata": {},
     "output_type": "execute_result"
    }
   ],
   "source": [
    "col_name[11]"
   ]
  },
  {
   "cell_type": "code",
   "execution_count": 54,
   "id": "90404257",
   "metadata": {},
   "outputs": [
    {
     "data": {
      "text/plain": [
       "2-3 คน                124\n",
       "4-5 คน                 57\n",
       "1 คน                    9\n",
       "มากกว่า 5 คนขึ้นไป      9\n",
       "Name: 9. เมื่อท่านรับประทานอาหารนอกบ้าน ท่านมักรับประทานกันทั้งหมดกี่คน (รวมตัวท่าน), dtype: int64"
      ]
     },
     "execution_count": 54,
     "metadata": {},
     "output_type": "execute_result"
    }
   ],
   "source": [
    "many_with = col_name[11].value_counts()\n",
    "many_with"
   ]
  },
  {
   "cell_type": "code",
   "execution_count": 55,
   "id": "14f8b3f0",
   "metadata": {},
   "outputs": [
    {
     "data": {
      "text/plain": [
       "<BarContainer object of 4 artists>"
      ]
     },
     "execution_count": 55,
     "metadata": {},
     "output_type": "execute_result"
    },
    {
     "data": {
      "image/png": "[encoded data removed]",
      "text/plain": [
       "<Figure size 432x288 with 1 Axes>"
      ]
     },
     "metadata": {
      "needs_background": "light"
     },
     "output_type": "display_data"
    }
   ],
   "source": [
    "date = list(many_with.index)\n",
    "values = list(many_with.values)\n",
    "  \n",
    "# fig = plt.figure(figsize = (10, 5))\n",
    " \n",
    "# creating the bar plot\n",
    "\n",
    "\n",
    "plt.bar(date, values, color ='maroon',\n",
    "        width = 0.6)"
   ]
  },
  {
   "cell_type": "code",
   "execution_count": null,
   "id": "76a11f53",
   "metadata": {},
   "outputs": [],
   "source": []
  },
  {
   "cell_type": "markdown",
   "id": "820b669c",
   "metadata": {},
   "source": [
    "# 10.เมื่อท่านรับประทานอาหารนอกบ้าน มีค่าใช้จ่ายต่อคนอยู่ที่ประมาณเท่าใด"
   ]
  },
  {
   "cell_type": "code",
   "execution_count": 56,
   "id": "80e80385",
   "metadata": {},
   "outputs": [
    {
     "data": {
      "text/plain": [
       "0           501-700 บาทต่อคน\n",
       "1           301-500 บาทต่อคน\n",
       "2           301-500 บาทต่อคน\n",
       "3         700-1,000 บาทต่อคน\n",
       "4         700-1,000 บาทต่อคน\n",
       "               ...          \n",
       "194         101-300 บาทต่อคน\n",
       "195         301-500 บาทต่อคน\n",
       "196         101-300 บาทต่อคน\n",
       "197         501-700 บาทต่อคน\n",
       "198    1,000 บาทต่อคน ขึ้นไป\n",
       "Name: 10.เมื่อท่านรับประทานอาหารนอกบ้าน มีค่าใช้จ่ายต่อคนอยู่ที่ประมาณเท่าใด, Length: 199, dtype: object"
      ]
     },
     "execution_count": 56,
     "metadata": {},
     "output_type": "execute_result"
    }
   ],
   "source": [
    "col_name[12]"
   ]
  },
  {
   "cell_type": "code",
   "execution_count": 57,
   "id": "bf0e52b1",
   "metadata": {},
   "outputs": [
    {
     "data": {
      "text/plain": [
       "301-500 บาทต่อคน         86\n",
       "501-700 บาทต่อคน         43\n",
       "101-300 บาทต่อคน         34\n",
       "700-1,000 บาทต่อคน       27\n",
       "1,000 บาทต่อคน ขึ้นไป     9\n",
       "Name: 10.เมื่อท่านรับประทานอาหารนอกบ้าน มีค่าใช้จ่ายต่อคนอยู่ที่ประมาณเท่าใด, dtype: int64"
      ]
     },
     "execution_count": 57,
     "metadata": {},
     "output_type": "execute_result"
    }
   ],
   "source": [
    "cost = col_name[12].value_counts()\n",
    "cost"
   ]
  },
  {
   "cell_type": "code",
   "execution_count": 58,
   "id": "bf12cf2e",
   "metadata": {},
   "outputs": [
    {
     "data": {
      "text/plain": [
       "<BarContainer object of 5 artists>"
      ]
     },
     "execution_count": 58,
     "metadata": {},
     "output_type": "execute_result"
    },
    {
     "data": {
      "image/png": "[encoded data removed]",
      "text/plain": [
       "<Figure size 432x288 with 1 Axes>"
      ]
     },
     "metadata": {
      "needs_background": "light"
     },
     "output_type": "display_data"
    }
   ],
   "source": [
    "date = list(cost.index)\n",
    "values = list(cost.values)\n",
    "  \n",
    "# fig = plt.figure(figsize = (10, 5))\n",
    " \n",
    "# creating the bar plot\n",
    "\n",
    "\n",
    "plt.bar(date, values, color ='maroon',\n",
    "        width = 0.6)"
   ]
  },
  {
   "cell_type": "code",
   "execution_count": null,
   "id": "fd653c56",
   "metadata": {},
   "outputs": [],
   "source": []
  },
  {
   "cell_type": "markdown",
   "id": "1cbf6504",
   "metadata": {},
   "source": [
    "# 11.เมื่อท่านรับประทานอาหารนอกบ้าน ท่านมักเลือกรับประทานอาหารสัญชาติใด"
   ]
  },
  {
   "cell_type": "code",
   "execution_count": 59,
   "id": "6f88a7dc",
   "metadata": {},
   "outputs": [
    {
     "data": {
      "text/plain": [
       "0      ญี่ปุ่น\n",
       "1      ญี่ปุ่น\n",
       "2          ไทย\n",
       "3      ญี่ปุ่น\n",
       "4      ญี่ปุ่น\n",
       "        ...   \n",
       "194        ไทย\n",
       "195    ญี่ปุ่น\n",
       "196        ไทย\n",
       "197    ญี่ปุ่น\n",
       "198    แล้วแต่\n",
       "Name: 11.เมื่อท่านรับประทานอาหารนอกบ้าน ท่านมักเลือกรับประทานอาหารสัญชาติใด, Length: 199, dtype: object"
      ]
     },
     "execution_count": 59,
     "metadata": {},
     "output_type": "execute_result"
    }
   ],
   "source": [
    "col_name[13]"
   ]
  },
  {
   "cell_type": "code",
   "execution_count": 60,
   "id": "ffc98719",
   "metadata": {},
   "outputs": [
    {
     "data": {
      "text/plain": [
       "ญี่ปุ่น                                        86\n",
       "ไทย                                            63\n",
       "เกาหลี                                         23\n",
       "จีน                                            13\n",
       "อิตาเลียน                                       6\n",
       "สลับกันไปไม่หนักไปทางอันไหนเลย                  1\n",
       "บุฟเฟต์ต้ม-ปิ้งย่างทุกสัญชาติ แล้วแต่อารมณ์     1\n",
       "ทุกอย่าง                                        1\n",
       "ชาบู                                            1\n",
       "นานาชาติ                                        1\n",
       "อเมริกา                                         1\n",
       "แล้วแต่                                         1\n",
       "สลับๆกันไป                                      1\n",
       "Name: 11.เมื่อท่านรับประทานอาหารนอกบ้าน ท่านมักเลือกรับประทานอาหารสัญชาติใด, dtype: int64"
      ]
     },
     "execution_count": 60,
     "metadata": {},
     "output_type": "execute_result"
    }
   ],
   "source": [
    "catc_nation = col_name[13].value_counts()\n",
    "catc_nation"
   ]
  },
  {
   "cell_type": "code",
   "execution_count": 61,
   "id": "6bde7fed",
   "metadata": {},
   "outputs": [
    {
     "data": {
      "text/plain": [
       "{'ญี่ปุ่น': 86,\n",
       " 'ไทย': 63,\n",
       " 'เกาหลี': 23,\n",
       " 'จีน': 13,\n",
       " 'อิตาเลียน': 6,\n",
       " 'สลับกันไปไม่หนักไปทางอันไหนเลย': 1,\n",
       " 'บุฟเฟต์ต้ม-ปิ้งย่างทุกสัญชาติ แล้วแต่อารมณ์': 1,\n",
       " 'ทุกอย่าง': 1,\n",
       " 'ชาบู': 1,\n",
       " 'นานาชาติ': 1,\n",
       " 'อเมริกา': 1,\n",
       " 'แล้วแต่': 1,\n",
       " 'สลับๆกันไป': 1}"
      ]
     },
     "execution_count": 61,
     "metadata": {},
     "output_type": "execute_result"
    }
   ],
   "source": [
    "catc_nation = {k:v for k,v in catc_nation.items()}\n",
    "catc_nation"
   ]
  },
  {
   "cell_type": "code",
   "execution_count": 62,
   "id": "0a6effae",
   "metadata": {},
   "outputs": [
    {
     "data": {
      "text/plain": [
       "8"
      ]
     },
     "execution_count": 62,
     "metadata": {},
     "output_type": "execute_result"
    }
   ],
   "source": [
    "catc_other = sum([v for k,v in catc_nation.items() if v == 1 ])\n",
    "catc_other"
   ]
  },
  {
   "cell_type": "code",
   "execution_count": 63,
   "id": "61a1962c",
   "metadata": {},
   "outputs": [
    {
     "data": {
      "text/plain": [
       "{'ญี่ปุ่น': 86, 'ไทย': 63, 'เกาหลี': 23, 'จีน': 13, 'อิตาเลียน': 6, 'อื่นๆ': 8}"
      ]
     },
     "execution_count": 63,
     "metadata": {},
     "output_type": "execute_result"
    }
   ],
   "source": [
    "catc_new = {k:v for k,v in catc_nation.items() if v != 1}\n",
    "catc_new['อื่นๆ']  = catc_other\n",
    "catc_new"
   ]
  },
  {
   "cell_type": "code",
   "execution_count": 64,
   "id": "a82e850f",
   "metadata": {},
   "outputs": [
    {
     "data": {
      "text/plain": [
       "{'อิตาเลียน': 6, 'อื่นๆ': 8, 'จีน': 13, 'เกาหลี': 23, 'ไทย': 63, 'ญี่ปุ่น': 86}"
      ]
     },
     "execution_count": 64,
     "metadata": {},
     "output_type": "execute_result"
    }
   ],
   "source": [
    "catc_new = {k: v for k, v in sorted(catc_new.items(), key=lambda item: item[1])}\n",
    "catc_new"
   ]
  },
  {
   "cell_type": "code",
   "execution_count": 65,
   "id": "f6d8e9fd",
   "metadata": {},
   "outputs": [
    {
     "data": {
      "text/plain": [
       "<BarContainer object of 6 artists>"
      ]
     },
     "execution_count": 65,
     "metadata": {},
     "output_type": "execute_result"
    },
    {
     "data": {
      "image/png": "[encoded data removed]",
      "text/plain": [
       "<Figure size 432x288 with 1 Axes>"
      ]
     },
     "metadata": {
      "needs_background": "light"
     },
     "output_type": "display_data"
    }
   ],
   "source": [
    "date = list(catc_new.keys())\n",
    "values = list(catc_new.values())\n",
    "  \n",
    "# fig = plt.figure(figsize = (10, 5))\n",
    " \n",
    "# creating the bar plot\n",
    "\n",
    "\n",
    "plt.bar(date, values, color ='maroon',\n",
    "        width = 0.6)"
   ]
  },
  {
   "cell_type": "code",
   "execution_count": null,
   "id": "7e415a59",
   "metadata": {},
   "outputs": [],
   "source": []
  },
  {
   "cell_type": "markdown",
   "id": "5cbdde04",
   "metadata": {},
   "source": [
    "# 12.เมื่อท่านรับประทานอาหารนอกบ้าน  ท่านมักเลือกรับประทานอาหารประเภทใด 3 ลำดับแรก (เช่น สุกี้ ชาบู หมูกะทะ ส้มตำ ยำ เป็นต้น)"
   ]
  },
  {
   "cell_type": "code",
   "execution_count": 66,
   "id": "80fbc36e",
   "metadata": {},
   "outputs": [
    {
     "data": {
      "text/plain": [
       "0           ชาบู ชูซิ ปิ้งย่าง\n",
       "1                         ชาบู\n",
       "2             สุกี้ สเต็ก ชาบู\n",
       "3             สุกี้ ชาบู ส้มตำ\n",
       "4           ชาบู ปิ้งย่าง ชุชิ\n",
       "                ...           \n",
       "194                    หมูกะทะ\n",
       "195        ญี่ปุ่น ส้มตำ สุกี้\n",
       "196         หมูกะทะ  ร้านอาหาร\n",
       "197    Steak ปิ้งย่าง อาหารไทย\n",
       "198                    แล้วแต่\n",
       "Name: 12.เมื่อท่านรับประทานอาหารนอกบ้าน  ท่านมักเลือกรับประทานอาหารประเภทใด 3 ลำดับแรก (เช่น สุกี้ ชาบู หมูกะทะ ส้มตำ ยำ เป็นต้น), Length: 199, dtype: object"
      ]
     },
     "execution_count": 66,
     "metadata": {},
     "output_type": "execute_result"
    }
   ],
   "source": [
    "col_name[14]"
   ]
  },
  {
   "cell_type": "code",
   "execution_count": 67,
   "id": "aebd4628",
   "metadata": {},
   "outputs": [
    {
     "data": {
      "text/plain": [
       "ชาบู                           7\n",
       "ชาบู สุกี้ ปิ้งย่าง            5\n",
       "สุกี้ ชาบู ส้มตำ               4\n",
       "สุกี้                          4\n",
       "ส้มตำ สุกี้ ชาบู               3\n",
       "                              ..\n",
       "ข้าวกระเพา สปาเก็ตตี้ ส้มตำ    1\n",
       "ปิ้งย่าง,ชาบู,ซีฟู้ด           1\n",
       "ชาบู หมูกระทะส้มตำ             1\n",
       "สุกี้ ชาบู ไก่ทอด              1\n",
       "สุกี้ อาหารจีน อาหารญี่ปุ่น    1\n",
       "Name: 12.เมื่อท่านรับประทานอาหารนอกบ้าน  ท่านมักเลือกรับประทานอาหารประเภทใด 3 ลำดับแรก (เช่น สุกี้ ชาบู หมูกะทะ ส้มตำ ยำ เป็นต้น), Length: 165, dtype: int64"
      ]
     },
     "execution_count": 67,
     "metadata": {},
     "output_type": "execute_result"
    }
   ],
   "source": [
    "col_name[14].value_counts()"
   ]
  },
  {
   "cell_type": "code",
   "execution_count": 68,
   "id": "2e1020bf",
   "metadata": {},
   "outputs": [
    {
     "data": {
      "text/plain": [
       "165"
      ]
     },
     "execution_count": 68,
     "metadata": {},
     "output_type": "execute_result"
    }
   ],
   "source": [
    "len(col_name[14].value_counts())"
   ]
  },
  {
   "cell_type": "code",
   "execution_count": 69,
   "id": "cadd9320",
   "metadata": {},
   "outputs": [
    {
     "data": {
      "text/plain": [
       "['ชาบู',\n",
       " 'ชาบู สุกี้ ปิ้งย่าง',\n",
       " 'สุกี้ ชาบู ส้มตำ',\n",
       " 'สุกี้',\n",
       " 'ส้มตำ สุกี้ ชาบู',\n",
       " 'ชาบู ปิ้งย่าง ส้มตำ',\n",
       " 'ชาบู หมูกะทะ ส้มตำ',\n",
       " 'ชาบู หมูกระทะ ส้มตำ',\n",
       " 'หมูกะทะ ชาบู ส้มตำ',\n",
       " 'ปิ้งย่าง',\n",
       " 'ส้มตำ ชาบู หมูกะทะ',\n",
       " 'ชาบู สุกี้ ส้มตำ',\n",
       " 'ส้มตำ ก๋วยเตี๋ยว ชาบู ',\n",
       " 'ซูชิ',\n",
       " 'สุกี้ ชาบู หมูกะทะ',\n",
       " 'ชาบู ปิ้งย่าง ราเมง',\n",
       " 'ชาบู สุกี้ หมูกระทะ',\n",
       " 'ชาบู สุกี้ หมูกะทะ',\n",
       " 'ชาบู ปิ้งย่าง',\n",
       " 'ชาบู อาหารอีสาน ',\n",
       " 'ข้าวตามสั่ง ก๋วยเตี๋ยว สลัด',\n",
       " 'อาหารทะเล, ชาบู, ยำ',\n",
       " 'หมูกะทะ สุกี้ ส้มตำ',\n",
       " 'ราเมน',\n",
       " 'สปาเก็ตตี้',\n",
       " 'สวนอาหาร คาเฟ่ อื่นๆ',\n",
       " 'ไก่ทอดเกาหลี ราเมง พาสต้า',\n",
       " 'ปิ้งย่าง ',\n",
       " 'กับข้าวปกติ ชาบู ปิ้งย่าง',\n",
       " 'ส้มตำ ซีฟู้ด ราเมน ',\n",
       " 'สุกี้ ชาบู อาหารไทย',\n",
       " 'อาหารจานเดียว ส้มตำ ชาบู',\n",
       " 'สุกี้ ชาบู ปิ้งย่าง',\n",
       " 'ญี่ปุ่นซูชิ ส้มตำ อาหารไทย',\n",
       " 'ก๋วยเตี๋ยว ซูชิ ชาบู',\n",
       " 'ญี่ปุ่น ส้มตำ สุกี้',\n",
       " 'แล้วแต่',\n",
       " 'ชาบู ปิ้งย่าง หมูทะ',\n",
       " 'ชาบู ส้มตำ อาหารญี่ปุ่น',\n",
       " 'ปิ้งย่าง ชาบู ญี่ปุ่น',\n",
       " 'ชาบู ซูชิ ส้มตำ',\n",
       " 'สุกี้ ปิ้งย่าง ร้านอาหารจานเดียว',\n",
       " 'ส้มตำ ติ่มซำ อาหารฝรั่ง',\n",
       " 'สุกี้ ชาบู ญี่ปุ่น',\n",
       " 'ชาบู ส้มตำ ยำ',\n",
       " 'ประเภทเส้น(ก๋วยเตี๋ยว อุด้ง ราเม็ง)  สุกี้   ข้าวราดแกง',\n",
       " 'ชาบู, ปิ้งย่าง, ส้มตำ',\n",
       " 'สุกี้ ซีฟู๊ด อาหารไทย',\n",
       " 'ราเมน แกงกะหรี่ ชาบู',\n",
       " 'อาหารเซ็ทญี่ปุ่น ชาบู ตามสั่ง',\n",
       " 'ทอด ต้มยำ และยำ',\n",
       " 'ส้มตำ  สุกี้ ชาบู หมูกะทะ',\n",
       " 'สุกี้ ส้มตำ หมูกะทะ',\n",
       " 'เบอร์เกอร์, ซูชิ, สุกี้',\n",
       " 'อาหารญี่ปุ่น พวก ซูชิใดๆ > สุกี้ mk > ชาบู',\n",
       " 'ชาบู ชูซิ ปิ้งย่าง',\n",
       " 'ชาบูหม้อไฟ ส้มตำ ปิ้งย่าง ',\n",
       " 'หมูกะทะ ส้มตำ สปาเกตตี้',\n",
       " 'สเต็ก ชาบู อาหารไทย',\n",
       " 'ส้มตำ สุกี้ ยำ',\n",
       " 'ชาบู ส้มตำ ข้าวหน้าเนื้อ',\n",
       " 'ปิ้งย่าง ซูชิ พาสต้า',\n",
       " 'สุกี้ ส้มตำ ยำ',\n",
       " 'ปิ้งย่าง สุกี้ ชาบู',\n",
       " 'ญี่ปุ่น หมูกะทะ ยำ',\n",
       " 'ก๋วยเตี๋ยว สุกี้ ยำ',\n",
       " 'ชาบู  pasta กับข้าว',\n",
       " 'ปิ้งย่าง ซูชิ ชาบู',\n",
       " 'หมูกะทะ  ร้านอาหาร',\n",
       " 'หมูกะทะ สุกี้ ชาบู',\n",
       " 'อาหารไทยปกติ อาหารเกาหลี หมูกะทะ',\n",
       " 'ยำ ส้มตำ หมูกระทะ',\n",
       " 'อาหารตามสั่ง ปิ้งย่างชาบู ส้มตำ',\n",
       " 'สุกี้ อาหารไทย ส้มตำ',\n",
       " 'ชาบู ปิ้งย่าง อาหารไทย',\n",
       " 'ชาบู ปิ้งย่าง ชุชิ',\n",
       " 'สุกี้ หมูกระทะ ส้มตำ',\n",
       " 'pasta noodle',\n",
       " 'อาหารญี่ปุ่น ส้มตำ สุกี้ ',\n",
       " 'อาหารประเภทเส้น ชาบู ปิ้งย่าง',\n",
       " 'อาหารจานเดียว  ซูชิ ราเมน',\n",
       " 'ชาบู\\u200b /ก๋วยเตี๋ยว\\u200b ราเมน\\u200b/ หมูกะทะ',\n",
       " 'ชาบู, อาหารจีน, อาหารญี่ปุ่น',\n",
       " 'ชาบู ปิ้งย่าง สลัด',\n",
       " 'ชาบู ปิ้งย่าง หม่าล่า',\n",
       " 'ปิ้งย่าง ชาบู อาหารญี่ปุ่นทั่วไป',\n",
       " 'ชาบู สัมตำ พิซซ่า',\n",
       " 'ปิ้งย่าง ราเม็ง แกงกะหรี่',\n",
       " 'สุกี้ หมูกระทะ ญี่ปุ่น',\n",
       " 'ส้มตำ ยำ ข้าวต่มสั่ง',\n",
       " 'สุกี้ หมูกะทะ ชาบู',\n",
       " 'อาหารญี่ปุ่น ชาบู อาหารเกาหลี',\n",
       " 'ไทย ญี่ปุ่น เกาหลี',\n",
       " 'สุกี้ ส้มตำ ปิ้งย่าง',\n",
       " 'ปลาดิบ ชาบู ส้มตำ ',\n",
       " 'ราเมง ชาบู ปิ้งย่าง',\n",
       " 'ชาบู หมูกระทะ',\n",
       " 'อาหารญี่ปุ่น,ปิ้งย่าง,ชาบู',\n",
       " 'สุกี้ อาหารไทย สเต๊ก',\n",
       " 'ชาบู / สุกี้ / ส้มตำ',\n",
       " 'ร้านกับข้าวอาหารตามสั่ง ก๋วยเตี๋ยว ชาบู',\n",
       " 'อิตาเลียน ญี่ปุ่น ปิ้งย่าง',\n",
       " 'ชาบู ปิ้งย่าง อาหารทะเล',\n",
       " 'ซูชิ ซีฟู้ด ราเมง',\n",
       " 'ปิ้งย่าง ชาบู ส้มตำ',\n",
       " 'อาหารญี่ปุ่น',\n",
       " 'ชาบู  , บุฟเฟต์นานาชาติ  , เพื่อสุขภาพ',\n",
       " 'ซูชิ ก๋วยเตี๋ยว ปิ้งย่าง',\n",
       " 'ชาบู ปิ้งย่าง บุฟเฟ่ต์',\n",
       " 'อาหารฝรั่ง อาหารญี่ปุ่น ',\n",
       " 'ปิ้งย่าง, ชาบู, ซีฟู้ด',\n",
       " 'ต้ม นึ่ง ย่าง',\n",
       " 'สุกี้ สเต็ก/สลัด ชาบู',\n",
       " 'ปิ้งย่าง ญี่ปุ่น จีน',\n",
       " 'ซูชิ พิซซ่า ปิ้งย่าง',\n",
       " 'อาหารจานเดียว พิซซ่า ไก่ทอด',\n",
       " 'ชาบู ปิ้งย่าง สเต๊ก',\n",
       " 'อาหารไทย ปิ้งย่าง&ซูชิ ส้มตำ',\n",
       " 'ส้มตำ ชาบู สุกี้',\n",
       " 'ชาบู ญี่ปุ่น อิตาเลียน จีน ฝรั่งเศส',\n",
       " 'ตามสั่ง, ก๋วยเตี๋ยว, ซูชิ',\n",
       " 'ส้มตำ',\n",
       " 'สุกี้ กับข้าว ส้มตำ',\n",
       " 'ซูชิ, สุกี้-ชาบู, ส้มตำ',\n",
       " 'หมูกะทะ',\n",
       " 'อาหารญี่ปุ่น ชาบู พิชช่า',\n",
       " ' สุกี้ ก๋วยเตี๋ยว ไก่ทอด',\n",
       " 'Steak ปิ้งย่าง อาหารไทย',\n",
       " 'ฟัวกราส์ วากิวยากินิคุ ซูเฟล่',\n",
       " 'ชาบู ส้มตำ ซูชิ',\n",
       " 'พิซซ่า ซาชิมิ หมูกะทะ',\n",
       " 'ปิ้งย่างเกาหลี ชาบู ส้มตำ',\n",
       " 'แกงส้ม ปลาทอด น้ำพริก',\n",
       " 'ส้มตำ สุกี้ หมูกะทะ',\n",
       " 'ส้มตำ สเต็ก เกาหลี',\n",
       " 'ตามสั่ง สเต๊ก สลัด',\n",
       " 'สุกี้,พิซซ่า,ชูชิ',\n",
       " 'ชาบู ซูชิ ปิ้งย่าง',\n",
       " 'ข้าวต้มกุ๊ย พิซซ่า ปิ้งย่างเกาหลี ',\n",
       " 'ซีฟู้ด ฟาสท์ฟูด ไทย',\n",
       " 'สุกี้ , สเต็ก , ส้มตำ',\n",
       " 'ส้มตำ ชาบู ปิ้งย่าง',\n",
       " 'สุกี้ สเต็ก ชาบู',\n",
       " 'ปิ้งย่าง สุกี้ อาหารไทย',\n",
       " 'ชาบู ซูชิ หม่าล่า',\n",
       " 'ชาบู/ หมูกระทะ/ อาหารญี่ปุ่น',\n",
       " '1.สุกี้ 2. ก๋วยเตี๋ยว 3. ซูชิ',\n",
       " 'ชาบู หมูทะ ส้มตำ',\n",
       " 'สุกี้ ชาบู หมูกระทะ',\n",
       " 'Suki / ชาบู/ ส้มตำ',\n",
       " 'ก๋วยเตี๋ยว, ผัดข้าวต่างๆ, ข้าวราด',\n",
       " 'ปิ้งย่าง , หมูกระทะ, ตามสั่ง',\n",
       " 'อีสาน ปิ้งย่าง ชาบู',\n",
       " 'ซูชิ เสต็ก สุกี้',\n",
       " 'สุกี้, ชาบู, อาหารฝรั่ง',\n",
       " 'Sushi, Sukiyaki-Shabu, Noodle',\n",
       " 'หมูกะทะ ชาบู เคเอฟซี ',\n",
       " 'หมู\\u200bกะทะ\\u200b',\n",
       " 'ชาบู  ปิ้งย่าง ส้มยำ',\n",
       " 'สุกี้ ชาบู ส้มตำ เสต็ก สลัด ',\n",
       " 'ข้าวกระเพา สปาเก็ตตี้ ส้มตำ',\n",
       " 'ปิ้งย่าง,ชาบู,ซีฟู้ด',\n",
       " 'ชาบู หมูกระทะส้มตำ',\n",
       " 'สุกี้ ชาบู ไก่ทอด',\n",
       " 'สุกี้ อาหารจีน อาหารญี่ปุ่น']"
      ]
     },
     "execution_count": 69,
     "metadata": {},
     "output_type": "execute_result"
    }
   ],
   "source": [
    "text_list = list(col_name[14].value_counts().index)\n",
    "text_list"
   ]
  },
  {
   "cell_type": "code",
   "execution_count": 70,
   "id": "56545052",
   "metadata": {},
   "outputs": [],
   "source": [
    "def check_non_ch(text_list):\n",
    "    non_ch = []\n",
    "    for text in text_list:\n",
    "        for index in text:\n",
    "            if not re.match(r\"[\\u0E00-\\u0E7Fa-zA-Z' ]\", index):\n",
    "                non_ch.append(index)\n",
    "    return list(set(non_ch))"
   ]
  },
  {
   "cell_type": "code",
   "execution_count": 71,
   "id": "b1deb7a1",
   "metadata": {},
   "outputs": [
    {
     "data": {
      "text/plain": [
       "['\\u200b', '3', ',', ')', '&', '-', '(', '2', '.', '>', '1', '/']"
      ]
     },
     "execution_count": 71,
     "metadata": {},
     "output_type": "execute_result"
    }
   ],
   "source": [
    "check_non_ch(text_list)"
   ]
  },
  {
   "cell_type": "code",
   "execution_count": 72,
   "id": "69132e41",
   "metadata": {},
   "outputs": [
    {
     "data": {
      "text/plain": [
       "['\\u200b', '3', ',', ')', '&', '-', '(', '2', '.', '>', '1', '/']"
      ]
     },
     "execution_count": 72,
     "metadata": {},
     "output_type": "execute_result"
    }
   ],
   "source": [
    "check_non_ch = [index for text in text_list for index in text if not re.match(r\"[\\u0E00-\\u0E7Fa-zA-Z' ]\", index)]\n",
    "check_non_ch = list(set(check_non_ch))\n",
    "check_non_ch"
   ]
  },
  {
   "cell_type": "code",
   "execution_count": 73,
   "id": "a908e8fd",
   "metadata": {},
   "outputs": [
    {
     "data": {
      "text/plain": [
       "['\\u200b', '3', ',', ')', '&', '(', '2', '.', '>', '1', '/']"
      ]
     },
     "execution_count": 73,
     "metadata": {},
     "output_type": "execute_result"
    }
   ],
   "source": [
    "check_non_ch.remove(\"-\")\n",
    "check_non_ch"
   ]
  },
  {
   "cell_type": "code",
   "execution_count": 74,
   "id": "3117aa80",
   "metadata": {},
   "outputs": [],
   "source": [
    "def text_process(text,check_non_ch):\n",
    "    for ch in check_non_ch:\n",
    "        if ch in text :\n",
    "            text = text.replace(ch,\" \")\n",
    "    return text\n",
    "        "
   ]
  },
  {
   "cell_type": "code",
   "execution_count": 75,
   "id": "a9578ce9",
   "metadata": {},
   "outputs": [
    {
     "data": {
      "text/plain": [
       "['Sushi', 'Sukiyaki-Shabu', 'Noodle']"
      ]
     },
     "execution_count": 75,
     "metadata": {},
     "output_type": "execute_result"
    }
   ],
   "source": [
    "text = 'Sushi, Sukiyaki-Shabu, Noodle'\n",
    "a = text_process(text,check_non_ch)\n",
    "\n",
    "re.split(\"\\s+\",a)"
   ]
  },
  {
   "cell_type": "code",
   "execution_count": 76,
   "id": "d66fe935",
   "metadata": {},
   "outputs": [
    {
     "data": {
      "text/plain": [
       "['อาหารญี่ปุ่น', 'พวก', 'ซูชิใดๆ', 'สุกี้', 'mk', 'ชาบู']"
      ]
     },
     "execution_count": 76,
     "metadata": {},
     "output_type": "execute_result"
    }
   ],
   "source": [
    "text = 'อาหารญี่ปุ่น พวก ซูชิใดๆ > สุกี้ mk > ชาบู'\n",
    "a = text_process(text,check_non_ch)\n",
    "\n",
    "re.split(\"\\s+\",a)"
   ]
  },
  {
   "cell_type": "code",
   "execution_count": 77,
   "id": "adeeb9d0",
   "metadata": {},
   "outputs": [],
   "source": [
    "pattern = \"\\s+\"\n",
    "split_ch = [re.split(pattern,text_process(text,check_non_ch)) for text in text_list]"
   ]
  },
  {
   "cell_type": "code",
   "execution_count": 78,
   "id": "6034b135",
   "metadata": {},
   "outputs": [
    {
     "data": {
      "text/plain": [
       "[['ชาบู'],\n",
       " ['ชาบู', 'สุกี้', 'ปิ้งย่าง'],\n",
       " ['สุกี้', 'ชาบู', 'ส้มตำ'],\n",
       " ['สุกี้'],\n",
       " ['ส้มตำ', 'สุกี้', 'ชาบู'],\n",
       " ['ชาบู', 'ปิ้งย่าง', 'ส้มตำ'],\n",
       " ['ชาบู', 'หมูกะทะ', 'ส้มตำ'],\n",
       " ['ชาบู', 'หมูกระทะ', 'ส้มตำ'],\n",
       " ['หมูกะทะ', 'ชาบู', 'ส้มตำ'],\n",
       " ['ปิ้งย่าง'],\n",
       " ['ส้มตำ', 'ชาบู', 'หมูกะทะ'],\n",
       " ['ชาบู', 'สุกี้', 'ส้มตำ'],\n",
       " ['ส้มตำ', 'ก๋วยเตี๋ยว', 'ชาบู', ''],\n",
       " ['ซูชิ'],\n",
       " ['สุกี้', 'ชาบู', 'หมูกะทะ'],\n",
       " ['ชาบู', 'ปิ้งย่าง', 'ราเมง'],\n",
       " ['ชาบู', 'สุกี้', 'หมูกระทะ'],\n",
       " ['ชาบู', 'สุกี้', 'หมูกะทะ'],\n",
       " ['ชาบู', 'ปิ้งย่าง'],\n",
       " ['ชาบู', 'อาหารอีสาน', ''],\n",
       " ['ข้าวตามสั่ง', 'ก๋วยเตี๋ยว', 'สลัด'],\n",
       " ['อาหารทะเล', 'ชาบู', 'ยำ'],\n",
       " ['หมูกะทะ', 'สุกี้', 'ส้มตำ'],\n",
       " ['ราเมน'],\n",
       " ['สปาเก็ตตี้'],\n",
       " ['สวนอาหาร', 'คาเฟ่', 'อื่นๆ'],\n",
       " ['ไก่ทอดเกาหลี', 'ราเมง', 'พาสต้า'],\n",
       " ['ปิ้งย่าง', ''],\n",
       " ['กับข้าวปกติ', 'ชาบู', 'ปิ้งย่าง'],\n",
       " ['ส้มตำ', 'ซีฟู้ด', 'ราเมน', ''],\n",
       " ['สุกี้', 'ชาบู', 'อาหารไทย'],\n",
       " ['อาหารจานเดียว', 'ส้มตำ', 'ชาบู'],\n",
       " ['สุกี้', 'ชาบู', 'ปิ้งย่าง'],\n",
       " ['ญี่ปุ่นซูชิ', 'ส้มตำ', 'อาหารไทย'],\n",
       " ['ก๋วยเตี๋ยว', 'ซูชิ', 'ชาบู'],\n",
       " ['ญี่ปุ่น', 'ส้มตำ', 'สุกี้'],\n",
       " ['แล้วแต่'],\n",
       " ['ชาบู', 'ปิ้งย่าง', 'หมูทะ'],\n",
       " ['ชาบู', 'ส้มตำ', 'อาหารญี่ปุ่น'],\n",
       " ['ปิ้งย่าง', 'ชาบู', 'ญี่ปุ่น'],\n",
       " ['ชาบู', 'ซูชิ', 'ส้มตำ'],\n",
       " ['สุกี้', 'ปิ้งย่าง', 'ร้านอาหารจานเดียว'],\n",
       " ['ส้มตำ', 'ติ่มซำ', 'อาหารฝรั่ง'],\n",
       " ['สุกี้', 'ชาบู', 'ญี่ปุ่น'],\n",
       " ['ชาบู', 'ส้มตำ', 'ยำ'],\n",
       " ['ประเภทเส้น', 'ก๋วยเตี๋ยว', 'อุด้ง', 'ราเม็ง', 'สุกี้', 'ข้าวราดแกง'],\n",
       " ['ชาบู', 'ปิ้งย่าง', 'ส้มตำ'],\n",
       " ['สุกี้', 'ซีฟู๊ด', 'อาหารไทย'],\n",
       " ['ราเมน', 'แกงกะหรี่', 'ชาบู'],\n",
       " ['อาหารเซ็ทญี่ปุ่น', 'ชาบู', 'ตามสั่ง'],\n",
       " ['ทอด', 'ต้มยำ', 'และยำ'],\n",
       " ['ส้มตำ', 'สุกี้', 'ชาบู', 'หมูกะทะ'],\n",
       " ['สุกี้', 'ส้มตำ', 'หมูกะทะ'],\n",
       " ['เบอร์เกอร์', 'ซูชิ', 'สุกี้'],\n",
       " ['อาหารญี่ปุ่น', 'พวก', 'ซูชิใดๆ', 'สุกี้', 'mk', 'ชาบู'],\n",
       " ['ชาบู', 'ชูซิ', 'ปิ้งย่าง'],\n",
       " ['ชาบูหม้อไฟ', 'ส้มตำ', 'ปิ้งย่าง', ''],\n",
       " ['หมูกะทะ', 'ส้มตำ', 'สปาเกตตี้'],\n",
       " ['สเต็ก', 'ชาบู', 'อาหารไทย'],\n",
       " ['ส้มตำ', 'สุกี้', 'ยำ'],\n",
       " ['ชาบู', 'ส้มตำ', 'ข้าวหน้าเนื้อ'],\n",
       " ['ปิ้งย่าง', 'ซูชิ', 'พาสต้า'],\n",
       " ['สุกี้', 'ส้มตำ', 'ยำ'],\n",
       " ['ปิ้งย่าง', 'สุกี้', 'ชาบู'],\n",
       " ['ญี่ปุ่น', 'หมูกะทะ', 'ยำ'],\n",
       " ['ก๋วยเตี๋ยว', 'สุกี้', 'ยำ'],\n",
       " ['ชาบู', 'pasta', 'กับข้าว'],\n",
       " ['ปิ้งย่าง', 'ซูชิ', 'ชาบู'],\n",
       " ['หมูกะทะ', 'ร้านอาหาร'],\n",
       " ['หมูกะทะ', 'สุกี้', 'ชาบู'],\n",
       " ['อาหารไทยปกติ', 'อาหารเกาหลี', 'หมูกะทะ'],\n",
       " ['ยำ', 'ส้มตำ', 'หมูกระทะ'],\n",
       " ['อาหารตามสั่ง', 'ปิ้งย่างชาบู', 'ส้มตำ'],\n",
       " ['สุกี้', 'อาหารไทย', 'ส้มตำ'],\n",
       " ['ชาบู', 'ปิ้งย่าง', 'อาหารไทย'],\n",
       " ['ชาบู', 'ปิ้งย่าง', 'ชุชิ'],\n",
       " ['สุกี้', 'หมูกระทะ', 'ส้มตำ'],\n",
       " ['pasta', 'noodle'],\n",
       " ['อาหารญี่ปุ่น', 'ส้มตำ', 'สุกี้', ''],\n",
       " ['อาหารประเภทเส้น', 'ชาบู', 'ปิ้งย่าง'],\n",
       " ['อาหารจานเดียว', 'ซูชิ', 'ราเมน'],\n",
       " ['ชาบู', 'ก๋วยเตี๋ยว', 'ราเมน', 'หมูกะทะ'],\n",
       " ['ชาบู', 'อาหารจีน', 'อาหารญี่ปุ่น'],\n",
       " ['ชาบู', 'ปิ้งย่าง', 'สลัด'],\n",
       " ['ชาบู', 'ปิ้งย่าง', 'หม่าล่า'],\n",
       " ['ปิ้งย่าง', 'ชาบู', 'อาหารญี่ปุ่นทั่วไป'],\n",
       " ['ชาบู', 'สัมตำ', 'พิซซ่า'],\n",
       " ['ปิ้งย่าง', 'ราเม็ง', 'แกงกะหรี่'],\n",
       " ['สุกี้', 'หมูกระทะ', 'ญี่ปุ่น'],\n",
       " ['ส้มตำ', 'ยำ', 'ข้าวต่มสั่ง'],\n",
       " ['สุกี้', 'หมูกะทะ', 'ชาบู'],\n",
       " ['อาหารญี่ปุ่น', 'ชาบู', 'อาหารเกาหลี'],\n",
       " ['ไทย', 'ญี่ปุ่น', 'เกาหลี'],\n",
       " ['สุกี้', 'ส้มตำ', 'ปิ้งย่าง'],\n",
       " ['ปลาดิบ', 'ชาบู', 'ส้มตำ', ''],\n",
       " ['ราเมง', 'ชาบู', 'ปิ้งย่าง'],\n",
       " ['ชาบู', 'หมูกระทะ'],\n",
       " ['อาหารญี่ปุ่น', 'ปิ้งย่าง', 'ชาบู'],\n",
       " ['สุกี้', 'อาหารไทย', 'สเต๊ก'],\n",
       " ['ชาบู', 'สุกี้', 'ส้มตำ'],\n",
       " ['ร้านกับข้าวอาหารตามสั่ง', 'ก๋วยเตี๋ยว', 'ชาบู'],\n",
       " ['อิตาเลียน', 'ญี่ปุ่น', 'ปิ้งย่าง'],\n",
       " ['ชาบู', 'ปิ้งย่าง', 'อาหารทะเล'],\n",
       " ['ซูชิ', 'ซีฟู้ด', 'ราเมง'],\n",
       " ['ปิ้งย่าง', 'ชาบู', 'ส้มตำ'],\n",
       " ['อาหารญี่ปุ่น'],\n",
       " ['ชาบู', 'บุฟเฟต์นานาชาติ', 'เพื่อสุขภาพ'],\n",
       " ['ซูชิ', 'ก๋วยเตี๋ยว', 'ปิ้งย่าง'],\n",
       " ['ชาบู', 'ปิ้งย่าง', 'บุฟเฟ่ต์'],\n",
       " ['อาหารฝรั่ง', 'อาหารญี่ปุ่น', ''],\n",
       " ['ปิ้งย่าง', 'ชาบู', 'ซีฟู้ด'],\n",
       " ['ต้ม', 'นึ่ง', 'ย่าง'],\n",
       " ['สุกี้', 'สเต็ก', 'สลัด', 'ชาบู'],\n",
       " ['ปิ้งย่าง', 'ญี่ปุ่น', 'จีน'],\n",
       " ['ซูชิ', 'พิซซ่า', 'ปิ้งย่าง'],\n",
       " ['อาหารจานเดียว', 'พิซซ่า', 'ไก่ทอด'],\n",
       " ['ชาบู', 'ปิ้งย่าง', 'สเต๊ก'],\n",
       " ['อาหารไทย', 'ปิ้งย่าง', 'ซูชิ', 'ส้มตำ'],\n",
       " ['ส้มตำ', 'ชาบู', 'สุกี้'],\n",
       " ['ชาบู', 'ญี่ปุ่น', 'อิตาเลียน', 'จีน', 'ฝรั่งเศส'],\n",
       " ['ตามสั่ง', 'ก๋วยเตี๋ยว', 'ซูชิ'],\n",
       " ['ส้มตำ'],\n",
       " ['สุกี้', 'กับข้าว', 'ส้มตำ'],\n",
       " ['ซูชิ', 'สุกี้-ชาบู', 'ส้มตำ'],\n",
       " ['หมูกะทะ'],\n",
       " ['อาหารญี่ปุ่น', 'ชาบู', 'พิชช่า'],\n",
       " ['', 'สุกี้', 'ก๋วยเตี๋ยว', 'ไก่ทอด'],\n",
       " ['Steak', 'ปิ้งย่าง', 'อาหารไทย'],\n",
       " ['ฟัวกราส์', 'วากิวยากินิคุ', 'ซูเฟล่'],\n",
       " ['ชาบู', 'ส้มตำ', 'ซูชิ'],\n",
       " ['พิซซ่า', 'ซาชิมิ', 'หมูกะทะ'],\n",
       " ['ปิ้งย่างเกาหลี', 'ชาบู', 'ส้มตำ'],\n",
       " ['แกงส้ม', 'ปลาทอด', 'น้ำพริก'],\n",
       " ['ส้มตำ', 'สุกี้', 'หมูกะทะ'],\n",
       " ['ส้มตำ', 'สเต็ก', 'เกาหลี'],\n",
       " ['ตามสั่ง', 'สเต๊ก', 'สลัด'],\n",
       " ['สุกี้', 'พิซซ่า', 'ชูชิ'],\n",
       " ['ชาบู', 'ซูชิ', 'ปิ้งย่าง'],\n",
       " ['ข้าวต้มกุ๊ย', 'พิซซ่า', 'ปิ้งย่างเกาหลี', ''],\n",
       " ['ซีฟู้ด', 'ฟาสท์ฟูด', 'ไทย'],\n",
       " ['สุกี้', 'สเต็ก', 'ส้มตำ'],\n",
       " ['ส้มตำ', 'ชาบู', 'ปิ้งย่าง'],\n",
       " ['สุกี้', 'สเต็ก', 'ชาบู'],\n",
       " ['ปิ้งย่าง', 'สุกี้', 'อาหารไทย'],\n",
       " ['ชาบู', 'ซูชิ', 'หม่าล่า'],\n",
       " ['ชาบู', 'หมูกระทะ', 'อาหารญี่ปุ่น'],\n",
       " ['', 'สุกี้', 'ก๋วยเตี๋ยว', 'ซูชิ'],\n",
       " ['ชาบู', 'หมูทะ', 'ส้มตำ'],\n",
       " ['สุกี้', 'ชาบู', 'หมูกระทะ'],\n",
       " ['Suki', 'ชาบู', 'ส้มตำ'],\n",
       " ['ก๋วยเตี๋ยว', 'ผัดข้าวต่างๆ', 'ข้าวราด'],\n",
       " ['ปิ้งย่าง', 'หมูกระทะ', 'ตามสั่ง'],\n",
       " ['อีสาน', 'ปิ้งย่าง', 'ชาบู'],\n",
       " ['ซูชิ', 'เสต็ก', 'สุกี้'],\n",
       " ['สุกี้', 'ชาบู', 'อาหารฝรั่ง'],\n",
       " ['Sushi', 'Sukiyaki-Shabu', 'Noodle'],\n",
       " ['หมูกะทะ', 'ชาบู', 'เคเอฟซี', ''],\n",
       " ['หมู', 'กะทะ', ''],\n",
       " ['ชาบู', 'ปิ้งย่าง', 'ส้มยำ'],\n",
       " ['สุกี้', 'ชาบู', 'ส้มตำ', 'เสต็ก', 'สลัด', ''],\n",
       " ['ข้าวกระเพา', 'สปาเก็ตตี้', 'ส้มตำ'],\n",
       " ['ปิ้งย่าง', 'ชาบู', 'ซีฟู้ด'],\n",
       " ['ชาบู', 'หมูกระทะส้มตำ'],\n",
       " ['สุกี้', 'ชาบู', 'ไก่ทอด'],\n",
       " ['สุกี้', 'อาหารจีน', 'อาหารญี่ปุ่น']]"
      ]
     },
     "execution_count": 78,
     "metadata": {},
     "output_type": "execute_result"
    }
   ],
   "source": [
    "split_ch"
   ]
  },
  {
   "cell_type": "code",
   "execution_count": 79,
   "id": "81c5d4d1",
   "metadata": {},
   "outputs": [
    {
     "data": {
      "text/plain": [
       "['ชาบู',\n",
       " 'ชาบู',\n",
       " 'สุกี้',\n",
       " 'ปิ้งย่าง',\n",
       " 'สุกี้',\n",
       " 'ชาบู',\n",
       " 'ส้มตำ',\n",
       " 'สุกี้',\n",
       " 'ส้มตำ',\n",
       " 'สุกี้',\n",
       " 'ชาบู',\n",
       " 'ชาบู',\n",
       " 'ปิ้งย่าง',\n",
       " 'ส้มตำ',\n",
       " 'ชาบู',\n",
       " 'หมูกะทะ',\n",
       " 'ส้มตำ',\n",
       " 'ชาบู',\n",
       " 'หมูกระทะ',\n",
       " 'ส้มตำ',\n",
       " 'หมูกะทะ',\n",
       " 'ชาบู',\n",
       " 'ส้มตำ',\n",
       " 'ปิ้งย่าง',\n",
       " 'ส้มตำ',\n",
       " 'ชาบู',\n",
       " 'หมูกะทะ',\n",
       " 'ชาบู',\n",
       " 'สุกี้',\n",
       " 'ส้มตำ',\n",
       " 'ส้มตำ',\n",
       " 'ก๋วยเตี๋ยว',\n",
       " 'ชาบู',\n",
       " '',\n",
       " 'ซูชิ',\n",
       " 'สุกี้',\n",
       " 'ชาบู',\n",
       " 'หมูกะทะ',\n",
       " 'ชาบู',\n",
       " 'ปิ้งย่าง',\n",
       " 'ราเมง',\n",
       " 'ชาบู',\n",
       " 'สุกี้',\n",
       " 'หมูกระทะ',\n",
       " 'ชาบู',\n",
       " 'สุกี้',\n",
       " 'หมูกะทะ',\n",
       " 'ชาบู',\n",
       " 'ปิ้งย่าง',\n",
       " 'ชาบู',\n",
       " 'อาหารอีสาน',\n",
       " '',\n",
       " 'ข้าวตามสั่ง',\n",
       " 'ก๋วยเตี๋ยว',\n",
       " 'สลัด',\n",
       " 'อาหารทะเล',\n",
       " 'ชาบู',\n",
       " 'ยำ',\n",
       " 'หมูกะทะ',\n",
       " 'สุกี้',\n",
       " 'ส้มตำ',\n",
       " 'ราเมน',\n",
       " 'สปาเก็ตตี้',\n",
       " 'สวนอาหาร',\n",
       " 'คาเฟ่',\n",
       " 'อื่นๆ',\n",
       " 'ไก่ทอดเกาหลี',\n",
       " 'ราเมง',\n",
       " 'พาสต้า',\n",
       " 'ปิ้งย่าง',\n",
       " '',\n",
       " 'กับข้าวปกติ',\n",
       " 'ชาบู',\n",
       " 'ปิ้งย่าง',\n",
       " 'ส้มตำ',\n",
       " 'ซีฟู้ด',\n",
       " 'ราเมน',\n",
       " '',\n",
       " 'สุกี้',\n",
       " 'ชาบู',\n",
       " 'อาหารไทย',\n",
       " 'อาหารจานเดียว',\n",
       " 'ส้มตำ',\n",
       " 'ชาบู',\n",
       " 'สุกี้',\n",
       " 'ชาบู',\n",
       " 'ปิ้งย่าง',\n",
       " 'ญี่ปุ่นซูชิ',\n",
       " 'ส้มตำ',\n",
       " 'อาหารไทย',\n",
       " 'ก๋วยเตี๋ยว',\n",
       " 'ซูชิ',\n",
       " 'ชาบู',\n",
       " 'ญี่ปุ่น',\n",
       " 'ส้มตำ',\n",
       " 'สุกี้',\n",
       " 'แล้วแต่',\n",
       " 'ชาบู',\n",
       " 'ปิ้งย่าง',\n",
       " 'หมูทะ',\n",
       " 'ชาบู',\n",
       " 'ส้มตำ',\n",
       " 'อาหารญี่ปุ่น',\n",
       " 'ปิ้งย่าง',\n",
       " 'ชาบู',\n",
       " 'ญี่ปุ่น',\n",
       " 'ชาบู',\n",
       " 'ซูชิ',\n",
       " 'ส้มตำ',\n",
       " 'สุกี้',\n",
       " 'ปิ้งย่าง',\n",
       " 'ร้านอาหารจานเดียว',\n",
       " 'ส้มตำ',\n",
       " 'ติ่มซำ',\n",
       " 'อาหารฝรั่ง',\n",
       " 'สุกี้',\n",
       " 'ชาบู',\n",
       " 'ญี่ปุ่น',\n",
       " 'ชาบู',\n",
       " 'ส้มตำ',\n",
       " 'ยำ',\n",
       " 'ประเภทเส้น',\n",
       " 'ก๋วยเตี๋ยว',\n",
       " 'อุด้ง',\n",
       " 'ราเม็ง',\n",
       " 'สุกี้',\n",
       " 'ข้าวราดแกง',\n",
       " 'ชาบู',\n",
       " 'ปิ้งย่าง',\n",
       " 'ส้มตำ',\n",
       " 'สุกี้',\n",
       " 'ซีฟู๊ด',\n",
       " 'อาหารไทย',\n",
       " 'ราเมน',\n",
       " 'แกงกะหรี่',\n",
       " 'ชาบู',\n",
       " 'อาหารเซ็ทญี่ปุ่น',\n",
       " 'ชาบู',\n",
       " 'ตามสั่ง',\n",
       " 'ทอด',\n",
       " 'ต้มยำ',\n",
       " 'และยำ',\n",
       " 'ส้มตำ',\n",
       " 'สุกี้',\n",
       " 'ชาบู',\n",
       " 'หมูกะทะ',\n",
       " 'สุกี้',\n",
       " 'ส้มตำ',\n",
       " 'หมูกะทะ',\n",
       " 'เบอร์เกอร์',\n",
       " 'ซูชิ',\n",
       " 'สุกี้',\n",
       " 'อาหารญี่ปุ่น',\n",
       " 'พวก',\n",
       " 'ซูชิใดๆ',\n",
       " 'สุกี้',\n",
       " 'mk',\n",
       " 'ชาบู',\n",
       " 'ชาบู',\n",
       " 'ชูซิ',\n",
       " 'ปิ้งย่าง',\n",
       " 'ชาบูหม้อไฟ',\n",
       " 'ส้มตำ',\n",
       " 'ปิ้งย่าง',\n",
       " '',\n",
       " 'หมูกะทะ',\n",
       " 'ส้มตำ',\n",
       " 'สปาเกตตี้',\n",
       " 'สเต็ก',\n",
       " 'ชาบู',\n",
       " 'อาหารไทย',\n",
       " 'ส้มตำ',\n",
       " 'สุกี้',\n",
       " 'ยำ',\n",
       " 'ชาบู',\n",
       " 'ส้มตำ',\n",
       " 'ข้าวหน้าเนื้อ',\n",
       " 'ปิ้งย่าง',\n",
       " 'ซูชิ',\n",
       " 'พาสต้า',\n",
       " 'สุกี้',\n",
       " 'ส้มตำ',\n",
       " 'ยำ',\n",
       " 'ปิ้งย่าง',\n",
       " 'สุกี้',\n",
       " 'ชาบู',\n",
       " 'ญี่ปุ่น',\n",
       " 'หมูกะทะ',\n",
       " 'ยำ',\n",
       " 'ก๋วยเตี๋ยว',\n",
       " 'สุกี้',\n",
       " 'ยำ',\n",
       " 'ชาบู',\n",
       " 'pasta',\n",
       " 'กับข้าว',\n",
       " 'ปิ้งย่าง',\n",
       " 'ซูชิ',\n",
       " 'ชาบู',\n",
       " 'หมูกะทะ',\n",
       " 'ร้านอาหาร',\n",
       " 'หมูกะทะ',\n",
       " 'สุกี้',\n",
       " 'ชาบู',\n",
       " 'อาหารไทยปกติ',\n",
       " 'อาหารเกาหลี',\n",
       " 'หมูกะทะ',\n",
       " 'ยำ',\n",
       " 'ส้มตำ',\n",
       " 'หมูกระทะ',\n",
       " 'อาหารตามสั่ง',\n",
       " 'ปิ้งย่างชาบู',\n",
       " 'ส้มตำ',\n",
       " 'สุกี้',\n",
       " 'อาหารไทย',\n",
       " 'ส้มตำ',\n",
       " 'ชาบู',\n",
       " 'ปิ้งย่าง',\n",
       " 'อาหารไทย',\n",
       " 'ชาบู',\n",
       " 'ปิ้งย่าง',\n",
       " 'ชุชิ',\n",
       " 'สุกี้',\n",
       " 'หมูกระทะ',\n",
       " 'ส้มตำ',\n",
       " 'pasta',\n",
       " 'noodle',\n",
       " 'อาหารญี่ปุ่น',\n",
       " 'ส้มตำ',\n",
       " 'สุกี้',\n",
       " '',\n",
       " 'อาหารประเภทเส้น',\n",
       " 'ชาบู',\n",
       " 'ปิ้งย่าง',\n",
       " 'อาหารจานเดียว',\n",
       " 'ซูชิ',\n",
       " 'ราเมน',\n",
       " 'ชาบู',\n",
       " 'ก๋วยเตี๋ยว',\n",
       " 'ราเมน',\n",
       " 'หมูกะทะ',\n",
       " 'ชาบู',\n",
       " 'อาหารจีน',\n",
       " 'อาหารญี่ปุ่น',\n",
       " 'ชาบู',\n",
       " 'ปิ้งย่าง',\n",
       " 'สลัด',\n",
       " 'ชาบู',\n",
       " 'ปิ้งย่าง',\n",
       " 'หม่าล่า',\n",
       " 'ปิ้งย่าง',\n",
       " 'ชาบู',\n",
       " 'อาหารญี่ปุ่นทั่วไป',\n",
       " 'ชาบู',\n",
       " 'สัมตำ',\n",
       " 'พิซซ่า',\n",
       " 'ปิ้งย่าง',\n",
       " 'ราเม็ง',\n",
       " 'แกงกะหรี่',\n",
       " 'สุกี้',\n",
       " 'หมูกระทะ',\n",
       " 'ญี่ปุ่น',\n",
       " 'ส้มตำ',\n",
       " 'ยำ',\n",
       " 'ข้าวต่มสั่ง',\n",
       " 'สุกี้',\n",
       " 'หมูกะทะ',\n",
       " 'ชาบู',\n",
       " 'อาหารญี่ปุ่น',\n",
       " 'ชาบู',\n",
       " 'อาหารเกาหลี',\n",
       " 'ไทย',\n",
       " 'ญี่ปุ่น',\n",
       " 'เกาหลี',\n",
       " 'สุกี้',\n",
       " 'ส้มตำ',\n",
       " 'ปิ้งย่าง',\n",
       " 'ปลาดิบ',\n",
       " 'ชาบู',\n",
       " 'ส้มตำ',\n",
       " '',\n",
       " 'ราเมง',\n",
       " 'ชาบู',\n",
       " 'ปิ้งย่าง',\n",
       " 'ชาบู',\n",
       " 'หมูกระทะ',\n",
       " 'อาหารญี่ปุ่น',\n",
       " 'ปิ้งย่าง',\n",
       " 'ชาบู',\n",
       " 'สุกี้',\n",
       " 'อาหารไทย',\n",
       " 'สเต๊ก',\n",
       " 'ชาบู',\n",
       " 'สุกี้',\n",
       " 'ส้มตำ',\n",
       " 'ร้านกับข้าวอาหารตามสั่ง',\n",
       " 'ก๋วยเตี๋ยว',\n",
       " 'ชาบู',\n",
       " 'อิตาเลียน',\n",
       " 'ญี่ปุ่น',\n",
       " 'ปิ้งย่าง',\n",
       " 'ชาบู',\n",
       " 'ปิ้งย่าง',\n",
       " 'อาหารทะเล',\n",
       " 'ซูชิ',\n",
       " 'ซีฟู้ด',\n",
       " 'ราเมง',\n",
       " 'ปิ้งย่าง',\n",
       " 'ชาบู',\n",
       " 'ส้มตำ',\n",
       " 'อาหารญี่ปุ่น',\n",
       " 'ชาบู',\n",
       " 'บุฟเฟต์นานาชาติ',\n",
       " 'เพื่อสุขภาพ',\n",
       " 'ซูชิ',\n",
       " 'ก๋วยเตี๋ยว',\n",
       " 'ปิ้งย่าง',\n",
       " 'ชาบู',\n",
       " 'ปิ้งย่าง',\n",
       " 'บุฟเฟ่ต์',\n",
       " 'อาหารฝรั่ง',\n",
       " 'อาหารญี่ปุ่น',\n",
       " '',\n",
       " 'ปิ้งย่าง',\n",
       " 'ชาบู',\n",
       " 'ซีฟู้ด',\n",
       " 'ต้ม',\n",
       " 'นึ่ง',\n",
       " 'ย่าง',\n",
       " 'สุกี้',\n",
       " 'สเต็ก',\n",
       " 'สลัด',\n",
       " 'ชาบู',\n",
       " 'ปิ้งย่าง',\n",
       " 'ญี่ปุ่น',\n",
       " 'จีน',\n",
       " 'ซูชิ',\n",
       " 'พิซซ่า',\n",
       " 'ปิ้งย่าง',\n",
       " 'อาหารจานเดียว',\n",
       " 'พิซซ่า',\n",
       " 'ไก่ทอด',\n",
       " 'ชาบู',\n",
       " 'ปิ้งย่าง',\n",
       " 'สเต๊ก',\n",
       " 'อาหารไทย',\n",
       " 'ปิ้งย่าง',\n",
       " 'ซูชิ',\n",
       " 'ส้มตำ',\n",
       " 'ส้มตำ',\n",
       " 'ชาบู',\n",
       " 'สุกี้',\n",
       " 'ชาบู',\n",
       " 'ญี่ปุ่น',\n",
       " 'อิตาเลียน',\n",
       " 'จีน',\n",
       " 'ฝรั่งเศส',\n",
       " 'ตามสั่ง',\n",
       " 'ก๋วยเตี๋ยว',\n",
       " 'ซูชิ',\n",
       " 'ส้มตำ',\n",
       " 'สุกี้',\n",
       " 'กับข้าว',\n",
       " 'ส้มตำ',\n",
       " 'ซูชิ',\n",
       " 'สุกี้-ชาบู',\n",
       " 'ส้มตำ',\n",
       " 'หมูกะทะ',\n",
       " 'อาหารญี่ปุ่น',\n",
       " 'ชาบู',\n",
       " 'พิชช่า',\n",
       " '',\n",
       " 'สุกี้',\n",
       " 'ก๋วยเตี๋ยว',\n",
       " 'ไก่ทอด',\n",
       " 'Steak',\n",
       " 'ปิ้งย่าง',\n",
       " 'อาหารไทย',\n",
       " 'ฟัวกราส์',\n",
       " 'วากิวยากินิคุ',\n",
       " 'ซูเฟล่',\n",
       " 'ชาบู',\n",
       " 'ส้มตำ',\n",
       " 'ซูชิ',\n",
       " 'พิซซ่า',\n",
       " 'ซาชิมิ',\n",
       " 'หมูกะทะ',\n",
       " 'ปิ้งย่างเกาหลี',\n",
       " 'ชาบู',\n",
       " 'ส้มตำ',\n",
       " 'แกงส้ม',\n",
       " 'ปลาทอด',\n",
       " 'น้ำพริก',\n",
       " 'ส้มตำ',\n",
       " 'สุกี้',\n",
       " 'หมูกะทะ',\n",
       " 'ส้มตำ',\n",
       " 'สเต็ก',\n",
       " 'เกาหลี',\n",
       " 'ตามสั่ง',\n",
       " 'สเต๊ก',\n",
       " 'สลัด',\n",
       " 'สุกี้',\n",
       " 'พิซซ่า',\n",
       " 'ชูชิ',\n",
       " 'ชาบู',\n",
       " 'ซูชิ',\n",
       " 'ปิ้งย่าง',\n",
       " 'ข้าวต้มกุ๊ย',\n",
       " 'พิซซ่า',\n",
       " 'ปิ้งย่างเกาหลี',\n",
       " '',\n",
       " 'ซีฟู้ด',\n",
       " 'ฟาสท์ฟูด',\n",
       " 'ไทย',\n",
       " 'สุกี้',\n",
       " 'สเต็ก',\n",
       " 'ส้มตำ',\n",
       " 'ส้มตำ',\n",
       " 'ชาบู',\n",
       " 'ปิ้งย่าง',\n",
       " 'สุกี้',\n",
       " 'สเต็ก',\n",
       " 'ชาบู',\n",
       " 'ปิ้งย่าง',\n",
       " 'สุกี้',\n",
       " 'อาหารไทย',\n",
       " 'ชาบู',\n",
       " 'ซูชิ',\n",
       " 'หม่าล่า',\n",
       " 'ชาบู',\n",
       " 'หมูกระทะ',\n",
       " 'อาหารญี่ปุ่น',\n",
       " '',\n",
       " 'สุกี้',\n",
       " 'ก๋วยเตี๋ยว',\n",
       " 'ซูชิ',\n",
       " 'ชาบู',\n",
       " 'หมูทะ',\n",
       " 'ส้มตำ',\n",
       " 'สุกี้',\n",
       " 'ชาบู',\n",
       " 'หมูกระทะ',\n",
       " 'Suki',\n",
       " 'ชาบู',\n",
       " 'ส้มตำ',\n",
       " 'ก๋วยเตี๋ยว',\n",
       " 'ผัดข้าวต่างๆ',\n",
       " 'ข้าวราด',\n",
       " 'ปิ้งย่าง',\n",
       " 'หมูกระทะ',\n",
       " 'ตามสั่ง',\n",
       " 'อีสาน',\n",
       " 'ปิ้งย่าง',\n",
       " 'ชาบู',\n",
       " 'ซูชิ',\n",
       " 'เสต็ก',\n",
       " 'สุกี้',\n",
       " 'สุกี้',\n",
       " 'ชาบู',\n",
       " 'อาหารฝรั่ง',\n",
       " 'Sushi',\n",
       " 'Sukiyaki-Shabu',\n",
       " 'Noodle',\n",
       " 'หมูกะทะ',\n",
       " 'ชาบู',\n",
       " 'เคเอฟซี',\n",
       " '',\n",
       " 'หมู',\n",
       " 'กะทะ',\n",
       " '',\n",
       " 'ชาบู',\n",
       " 'ปิ้งย่าง',\n",
       " 'ส้มยำ',\n",
       " 'สุกี้',\n",
       " 'ชาบู',\n",
       " 'ส้มตำ',\n",
       " 'เสต็ก',\n",
       " 'สลัด',\n",
       " '',\n",
       " 'ข้าวกระเพา',\n",
       " 'สปาเก็ตตี้',\n",
       " 'ส้มตำ',\n",
       " 'ปิ้งย่าง',\n",
       " 'ชาบู',\n",
       " 'ซีฟู้ด',\n",
       " 'ชาบู',\n",
       " 'หมูกระทะส้มตำ',\n",
       " 'สุกี้',\n",
       " 'ชาบู',\n",
       " 'ไก่ทอด',\n",
       " 'สุกี้',\n",
       " 'อาหารจีน',\n",
       " 'อาหารญี่ปุ่น']"
      ]
     },
     "execution_count": 79,
     "metadata": {},
     "output_type": "execute_result"
    }
   ],
   "source": [
    "sum_ch = []\n",
    "for i in split_ch:\n",
    "    sum_ch.extend(i)\n",
    "sum_ch"
   ]
  },
  {
   "cell_type": "code",
   "execution_count": 80,
   "id": "8d437b43",
   "metadata": {},
   "outputs": [
    {
     "data": {
      "text/plain": [
       "{'ชาบู': 86,\n",
       " 'สุกี้': 49,\n",
       " 'ปิ้งย่าง': 45,\n",
       " 'ส้มตำ': 51,\n",
       " 'หมูกะทะ': 19,\n",
       " 'หมูกระทะ': 9,\n",
       " 'ก๋วยเตี๋ยว': 12,\n",
       " '': 14,\n",
       " 'ซูชิ': 18,\n",
       " 'ราเมง': 4,\n",
       " 'อาหารอีสาน': 1,\n",
       " 'ข้าวตามสั่ง': 1,\n",
       " 'สลัด': 5,\n",
       " 'อาหารทะเล': 2,\n",
       " 'ยำ': 8,\n",
       " 'ราเมน': 5,\n",
       " 'สปาเก็ตตี้': 2,\n",
       " 'สวนอาหาร': 1,\n",
       " 'คาเฟ่': 1,\n",
       " 'อื่นๆ': 1,\n",
       " 'ไก่ทอดเกาหลี': 1,\n",
       " 'พาสต้า': 2,\n",
       " 'กับข้าวปกติ': 1,\n",
       " 'ซีฟู้ด': 5,\n",
       " 'อาหารไทย': 10,\n",
       " 'อาหารจานเดียว': 3,\n",
       " 'ญี่ปุ่นซูชิ': 1,\n",
       " 'ญี่ปุ่น': 9,\n",
       " 'แล้วแต่': 1,\n",
       " 'หมูทะ': 2,\n",
       " 'อาหารญี่ปุ่น': 11,\n",
       " 'ร้านอาหารจานเดียว': 1,\n",
       " 'ติ่มซำ': 1,\n",
       " 'อาหารฝรั่ง': 3,\n",
       " 'ประเภทเส้น': 1,\n",
       " 'อุด้ง': 1,\n",
       " 'ราเม็ง': 2,\n",
       " 'ข้าวราดแกง': 1,\n",
       " 'ซีฟู๊ด': 1,\n",
       " 'แกงกะหรี่': 2,\n",
       " 'อาหารเซ็ทญี่ปุ่น': 1,\n",
       " 'ตามสั่ง': 4,\n",
       " 'ทอด': 1,\n",
       " 'ต้มยำ': 1,\n",
       " 'และยำ': 1,\n",
       " 'เบอร์เกอร์': 1,\n",
       " 'พวก': 1,\n",
       " 'ซูชิใดๆ': 1,\n",
       " 'mk': 1,\n",
       " 'ชูซิ': 1,\n",
       " 'ชาบูหม้อไฟ': 1,\n",
       " 'สปาเกตตี้': 1,\n",
       " 'สเต็ก': 5,\n",
       " 'ข้าวหน้าเนื้อ': 1,\n",
       " 'pasta': 2,\n",
       " 'กับข้าว': 2,\n",
       " 'ร้านอาหาร': 1,\n",
       " 'อาหารไทยปกติ': 1,\n",
       " 'อาหารเกาหลี': 2,\n",
       " 'อาหารตามสั่ง': 1,\n",
       " 'ปิ้งย่างชาบู': 1,\n",
       " 'ชุชิ': 1,\n",
       " 'noodle': 1,\n",
       " 'อาหารประเภทเส้น': 1,\n",
       " 'อาหารจีน': 2,\n",
       " 'หม่าล่า': 2,\n",
       " 'อาหารญี่ปุ่นทั่วไป': 1,\n",
       " 'สัมตำ': 1,\n",
       " 'พิซซ่า': 6,\n",
       " 'ข้าวต่มสั่ง': 1,\n",
       " 'ไทย': 2,\n",
       " 'เกาหลี': 2,\n",
       " 'ปลาดิบ': 1,\n",
       " 'สเต๊ก': 3,\n",
       " 'ร้านกับข้าวอาหารตามสั่ง': 1,\n",
       " 'อิตาเลียน': 2,\n",
       " 'บุฟเฟต์นานาชาติ': 1,\n",
       " 'เพื่อสุขภาพ': 1,\n",
       " 'บุฟเฟ่ต์': 1,\n",
       " 'ต้ม': 1,\n",
       " 'นึ่ง': 1,\n",
       " 'ย่าง': 1,\n",
       " 'จีน': 2,\n",
       " 'ไก่ทอด': 3,\n",
       " 'ฝรั่งเศส': 1,\n",
       " 'สุกี้-ชาบู': 1,\n",
       " 'พิชช่า': 1,\n",
       " 'Steak': 1,\n",
       " 'ฟัวกราส์': 1,\n",
       " 'วากิวยากินิคุ': 1,\n",
       " 'ซูเฟล่': 1,\n",
       " 'ซาชิมิ': 1,\n",
       " 'ปิ้งย่างเกาหลี': 2,\n",
       " 'แกงส้ม': 1,\n",
       " 'ปลาทอด': 1,\n",
       " 'น้ำพริก': 1,\n",
       " 'ชูชิ': 1,\n",
       " 'ข้าวต้มกุ๊ย': 1,\n",
       " 'ฟาสท์ฟูด': 1,\n",
       " 'Suki': 1,\n",
       " 'ผัดข้าวต่างๆ': 1,\n",
       " 'ข้าวราด': 1,\n",
       " 'อีสาน': 1,\n",
       " 'เสต็ก': 2,\n",
       " 'Sushi': 1,\n",
       " 'Sukiyaki-Shabu': 1,\n",
       " 'Noodle': 1,\n",
       " 'เคเอฟซี': 1,\n",
       " 'หมู': 1,\n",
       " 'กะทะ': 1,\n",
       " 'ส้มยำ': 1,\n",
       " 'ข้าวกระเพา': 1,\n",
       " 'หมูกระทะส้มตำ': 1}"
      ]
     },
     "execution_count": 80,
     "metadata": {},
     "output_type": "execute_result"
    }
   ],
   "source": [
    "cat_eat = {i:sum_ch.count(i) for i in sum_ch}\n",
    "cat_eat"
   ]
  },
  {
   "cell_type": "code",
   "execution_count": 81,
   "id": "ebdc663f",
   "metadata": {},
   "outputs": [
    {
     "data": {
      "text/plain": [
       "{'ชาบู': 86,\n",
       " 'ส้มตำ': 51,\n",
       " 'สุกี้': 49,\n",
       " 'ปิ้งย่าง': 45,\n",
       " 'หมูกะทะ': 19,\n",
       " 'ซูชิ': 18,\n",
       " '': 14,\n",
       " 'ก๋วยเตี๋ยว': 12,\n",
       " 'อาหารญี่ปุ่น': 11,\n",
       " 'อาหารไทย': 10,\n",
       " 'หมูกระทะ': 9,\n",
       " 'ญี่ปุ่น': 9,\n",
       " 'ยำ': 8,\n",
       " 'พิซซ่า': 6,\n",
       " 'สลัด': 5,\n",
       " 'ราเมน': 5,\n",
       " 'ซีฟู้ด': 5,\n",
       " 'สเต็ก': 5,\n",
       " 'ราเมง': 4,\n",
       " 'ตามสั่ง': 4,\n",
       " 'อาหารจานเดียว': 3,\n",
       " 'อาหารฝรั่ง': 3,\n",
       " 'สเต๊ก': 3,\n",
       " 'ไก่ทอด': 3}"
      ]
     },
     "execution_count": 81,
     "metadata": {},
     "output_type": "execute_result"
    }
   ],
   "source": [
    "cat_eat = {k: v  for k, v in sorted(cat_eat.items(), key=lambda item: item[1],reverse=True) if v>=3}\n",
    "cat_eat"
   ]
  },
  {
   "cell_type": "code",
   "execution_count": 82,
   "id": "71d52df2",
   "metadata": {},
   "outputs": [
    {
     "data": {
      "text/plain": [
       "{'ชาบู': 135,\n",
       " 'ส้มตำ': 51,\n",
       " 'ปิ้งย่าง': 45,\n",
       " 'หมูกระทะ': 28,\n",
       " 'ซูชิ': 27,\n",
       " 'ก๋วยเตี๋ยว': 12}"
      ]
     },
     "execution_count": 82,
     "metadata": {},
     "output_type": "execute_result"
    }
   ],
   "source": [
    "top_cat = {}\n",
    "top_cat['ชาบู'] = cat_eat['ชาบู']+cat_eat['สุกี้']\n",
    "top_cat['ปิ้งย่าง'] = cat_eat['ปิ้งย่าง']\n",
    "top_cat['หมูกระทะ'] = cat_eat['หมูกะทะ'] + cat_eat['หมูกระทะ']\n",
    "top_cat['ส้มตำ'] = cat_eat['ส้มตำ']\n",
    "top_cat['ซูชิ'] = cat_eat['ซูชิ'] + cat_eat['ญี่ปุ่น']\n",
    "top_cat['ก๋วยเตี๋ยว'] = cat_eat['ก๋วยเตี๋ยว']\n",
    "\n",
    "top_cat = {k: v  for k, v in sorted(top_cat.items(), key=lambda item: item[1],reverse=True)}\n",
    "top_cat"
   ]
  },
  {
   "cell_type": "code",
   "execution_count": 83,
   "id": "6c83dba3",
   "metadata": {},
   "outputs": [
    {
     "data": {
      "text/plain": [
       "<BarContainer object of 6 artists>"
      ]
     },
     "execution_count": 83,
     "metadata": {},
     "output_type": "execute_result"
    },
    {
     "name": "stderr",
     "output_type": "stream",
     "text": [
      "/home/sun/anaconda3/envs/covid-19/lib/python3.8/site-packages/matplotlib/backends/backend_agg.py:240: RuntimeWarning: Glyph 3595 missing from current font.\n",
      "  font.set_text(s, 0.0, flags=flags)\n",
      "/home/sun/anaconda3/envs/covid-19/lib/python3.8/site-packages/matplotlib/backends/backend_agg.py:240: RuntimeWarning: Glyph 3659 missing from current font.\n",
      "  font.set_text(s, 0.0, flags=flags)\n",
      "/home/sun/anaconda3/envs/covid-19/lib/python3.8/site-packages/matplotlib/backends/backend_agg.py:203: RuntimeWarning: Glyph 3595 missing from current font.\n",
      "  font.set_text(s, 0, flags=flags)\n",
      "/home/sun/anaconda3/envs/covid-19/lib/python3.8/site-packages/matplotlib/backends/backend_agg.py:203: RuntimeWarning: Glyph 3659 missing from current font.\n",
      "  font.set_text(s, 0, flags=flags)\n"
     ]
    },
    {
     "data": {
      "image/png": "[encoded data removed]",
      "text/plain": [
       "<Figure size 432x288 with 1 Axes>"
      ]
     },
     "metadata": {
      "needs_background": "light"
     },
     "output_type": "display_data"
    }
   ],
   "source": [
    "date = list(top_cat.keys())\n",
    "values = list(top_cat.values())\n",
    "  \n",
    "# fig = plt.figure(figsize = (10, 5))\n",
    " \n",
    "# creating the bar plot\n",
    "\n",
    "\n",
    "plt.bar(date, values, color ='maroon',\n",
    "        width = 0.6)"
   ]
  },
  {
   "cell_type": "code",
   "execution_count": null,
   "id": "df31a6f0",
   "metadata": {},
   "outputs": [],
   "source": []
  },
  {
   "cell_type": "markdown",
   "id": "3d6ade9f",
   "metadata": {},
   "source": [
    "# 13. เมื่อท่านรับประทานอาหารนอกบ้าน  ท่านมักเลือกรับประทานที่ร้านอาหารใด 3 ลำดับแรก เช่น MK , KFC, BBQ Plaza, MoMo Paradise, Pizza Hut เป็นต้น"
   ]
  },
  {
   "cell_type": "code",
   "execution_count": 84,
   "id": "bfd59c6d",
   "metadata": {},
   "outputs": [
    {
     "data": {
      "text/plain": [
       "0                                    MoMo, MK, BBQ Plaza\n",
       "1                               Coco ichibanya, Fuji, MK\n",
       "2                                        Mk sizzler fuji\n",
       "3                            MK , bonchon , คำปันไก่ย่าง\n",
       "4                                   bbq plaza momo sushi\n",
       "                             ...                        \n",
       "194                                     Mk pizza hut kfc\n",
       "195                                      Fuji  zen  MK  \n",
       "196    ร้านหมูกะทะทั่วไป - ร้านบุฟเฟต์อาหารญี่ปุ่น - ...\n",
       "197                              Bbq plaza, Seiru, KPlFC\n",
       "198    ไม่เลือก MK เพราะปริมาณอาหารที่ให้มาไม่สมกับรา...\n",
       "Name: 13. เมื่อท่านรับประทานอาหารนอกบ้าน  ท่านมักเลือกรับประทานที่ร้านอาหารใด 3 ลำดับแรก เช่น MK , KFC, BBQ Plaza, MoMo Paradise, Pizza Hut เป็นต้น, Length: 199, dtype: object"
      ]
     },
     "execution_count": 84,
     "metadata": {},
     "output_type": "execute_result"
    }
   ],
   "source": [
    "col_name[15]"
   ]
  },
  {
   "cell_type": "code",
   "execution_count": 85,
   "id": "610961d7",
   "metadata": {},
   "outputs": [
    {
     "data": {
      "text/plain": [
       "MK                                                                                                                         4\n",
       "MK MOMO BBQ                                                                                                                2\n",
       "KabuchaSushi แหลมเจริญ ฮะจิบัง                                                                                             1\n",
       "MK MoMo Paradise BBQ Plaza                                                                                                 1\n",
       "kfc                                                                                                                        1\n",
       "                                                                                                                          ..\n",
       "เกาหลีปิ้งย่างแล้วแต่แบรนด์, บาบีก้อน, MK                                                                                  1\n",
       "ไม่เลือก MK เพราะปริมาณอาหารที่ให้มาไม่สมกับราคาที่จ่ายไปพูดตรงๆก็คือขายแพงนั่นเองมีที่ไหนเห็ดฝางให้มาลูกครึ่งราคา50บาท    1\n",
       "MK BBQ Plaza MoMo Paradise                                                                                                 1\n",
       "Fuji, Momo, ตำมั่ว                                                                                                         1\n",
       "BBQ plaza                                                                                                                  1\n",
       "Name: 13. เมื่อท่านรับประทานอาหารนอกบ้าน  ท่านมักเลือกรับประทานที่ร้านอาหารใด 3 ลำดับแรก เช่น MK , KFC, BBQ Plaza, MoMo Paradise, Pizza Hut เป็นต้น, Length: 195, dtype: int64"
      ]
     },
     "execution_count": 85,
     "metadata": {},
     "output_type": "execute_result"
    }
   ],
   "source": [
    "col_name[15].value_counts()"
   ]
  },
  {
   "cell_type": "code",
   "execution_count": 86,
   "id": "889597c5",
   "metadata": {},
   "outputs": [
    {
     "data": {
      "text/plain": [
       "195"
      ]
     },
     "execution_count": 86,
     "metadata": {},
     "output_type": "execute_result"
    }
   ],
   "source": [
    "len(col_name[15].value_counts())"
   ]
  },
  {
   "cell_type": "code",
   "execution_count": null,
   "id": "9a663929",
   "metadata": {},
   "outputs": [],
   "source": []
  },
  {
   "cell_type": "code",
   "execution_count": null,
   "id": "f76000bf",
   "metadata": {},
   "outputs": [],
   "source": []
  },
  {
   "cell_type": "code",
   "execution_count": 87,
   "id": "f2531aa9",
   "metadata": {},
   "outputs": [
    {
     "data": {
      "text/plain": [
       "['MK',\n",
       " 'MK MOMO BBQ',\n",
       " 'KabuchaSushi แหลมเจริญ ฮะจิบัง',\n",
       " 'MK MoMo Paradise BBQ Plaza',\n",
       " 'kfc',\n",
       " 'Sushiro,BBQ Plaza,MoMo Paradise',\n",
       " 'Haidilao nice2meatyou somtum',\n",
       " 'ร้านอาหารไทย, MK, sizzler',\n",
       " 'S&P, PEPER LUNCH, MK',\n",
       " 'You and I, Momo Paradise, BBQ Plaza',\n",
       " 'BBQ KFC MoMo',\n",
       " 'ฟูจิ MK Momo',\n",
       " 'ร้านstandalone เปลี่ยนร้านไปเรื่อยๆ',\n",
       " 'Kagonoya, Sushi Masa, กับข้าวกับปลา',\n",
       " 'ตี๋น้อย Sushiro บอนชอน',\n",
       " 'Momo, BBQ Plaza, MK',\n",
       " 'Greyhound BBQ PLAZA kagonoya',\n",
       " 'Momo, MK, Pizza Hut',\n",
       " 'MK BBQ ร้านอาหารทั่วไป',\n",
       " 'Bankara   แหลมเจริญ MK',\n",
       " 'ทงคึนกุย โมโม่ ฮาจิบัง',\n",
       " 'Bbq plaza, yayoi, ฮาจิบัง',\n",
       " 'Mk bbq pizza',\n",
       " 'MK / BBQ Plaza/ COCO Ishibanya ',\n",
       " 'ร้านอาหารติดทะเล KFC ร้านอาหารทั่วไปตามโซเชียลมีเดียแนะนำ',\n",
       " 'Mk pizza hut kfc',\n",
       " 'BBQ MK',\n",
       " 'Momo paradise',\n",
       " 'MK ,ยาโยอิ,ฮาจิบัง',\n",
       " 'Momo, hidilao, ginger blow',\n",
       " 'MK sushiro ซิสเล่อ',\n",
       " 'KFC,Shabushi,Fuji ',\n",
       " 'BBQ Plaza, ชาบู ปิ้งย่าง (เปลี่ยนร้านเรื่อยๆ)',\n",
       " ' Momo, bbq , mk',\n",
       " 'MK, ซิสเล่อ, MoMo',\n",
       " 'Sushiro, MoMo Paradise, Haidilao',\n",
       " 'Foodland, burger king, แม่ศรีเรือน',\n",
       " 'บอนชอน momo paradise haidilao',\n",
       " 'ลาบลับลับ momo paradise หมูกะทะตลาดพราว',\n",
       " 'Kagonoya / ootoya / mk ',\n",
       " 'Mk',\n",
       " 'ตี๋น้อย Hachiman ramen MK',\n",
       " 'MK, Shabushi, BBQ Plaza',\n",
       " 'KFC MK  Pizza ',\n",
       " 'MK KFC MoMo',\n",
       " 'MK Momo Paradise BBQ Plaza',\n",
       " 'Simon says, Sizzler, buffet โรงแรมต่างๆ',\n",
       " 'Gabu, แซ่บอีลี่, ชินคันเซ้น',\n",
       " 'BBQ Plaza,KFC, MK',\n",
       " 'BBQ Plaza, Momo Paradise, MK',\n",
       " 'BonChon, Hachiban, On the Table',\n",
       " 'Zen Momo กับข้าวกับปลา',\n",
       " 'Momo Paradise, Jin Long House, sushi Den',\n",
       " 'Momo Paradise , Sousaku , Greyhound',\n",
       " 'ตี๋น้อย/BBQ plaza/MK',\n",
       " 'Yayoi, otoya, coco ichiban',\n",
       " 'Haidiloa MK BBQ Plaza ',\n",
       " 'ทองสมิทธิ์ MK เบิร์นบุษบา',\n",
       " 'MK, KFC, Pizza hut',\n",
       " 'MK , BBQ , Shabushi',\n",
       " 'Yayoi Coco Mk',\n",
       " 'Mk  kfc bbq',\n",
       " 'MoMo Paradise MK KFC',\n",
       " 'Burger King, otoya, ลูกไก่ทอง',\n",
       " 'Sushiro, MK, ThongSmith',\n",
       " 'MK BBQ Plaza Momo paradise',\n",
       " 'BBQ Plaza MK Hachiban',\n",
       " 'Momo zen ตำแหล',\n",
       " 'Casa mk momo',\n",
       " 'MK BBQ สุกี้ตี๋น้อย',\n",
       " 'Thai restaurant Kouen ส้มตำนัว',\n",
       " 'Sousaku Coco โอ้กระจู๋',\n",
       " 'MK , bonchon , คำปันไก่ย่าง',\n",
       " \"KFC, McDonald's, Pizza Hut \",\n",
       " 'MK, KFC, BBQ Plaza',\n",
       " 'โมโม่ / ปิ้งย่างเกาหลี / pepper lunch',\n",
       " 'Sushiro, Greyhound, เปลี่ยนร้านไปเรื่อยๆ',\n",
       " 'Siam Brasseries, Savy, S&P',\n",
       " 'momo, mk, bbq plaza',\n",
       " 'bbq plaza momo sushi',\n",
       " 'Pizzeria momo ',\n",
       " 'MoMo',\n",
       " 'MK แหลมเจริญ นิตยา',\n",
       " 'MoMo, MK, BBQ Plaza',\n",
       " 'MK, BBQ plaza เอี่ยวไถ่',\n",
       " 'ร้านส้มตำ KFC ไก่บอนชอน',\n",
       " 'Nam nam. Greyhound ',\n",
       " 'Momo paradise ,Bonchon, Pizza',\n",
       " 'Mk momo pizza',\n",
       " 'KFC, Chester grill,mk',\n",
       " 'MK Live, Tim ho wan, Wako',\n",
       " 'Momo / Bbq plaza / MK',\n",
       " '25 Degrees, Honmono, HaiDiLao',\n",
       " 'เจ๊ไฝ, เจ๊โอ, เจ๊วรรณ',\n",
       " 'Mk momo kfc',\n",
       " 'MK Fuji Sizzler',\n",
       " 'Mk sizzler fuji',\n",
       " 'แต้จิ๊ว aka tenjo',\n",
       " 'MK, Sushiro, hachiban',\n",
       " 'ร้านใหม่ที่ไม่เคยไป',\n",
       " 'MK ,BBQ,KFC',\n",
       " '1. Mk 2.ทองสมิท 3. บาบีก้อน',\n",
       " 'Suki Masa, FuFu & จ่าอู',\n",
       " 'BBQ Plaza, MoMo Paradise, Pizza company',\n",
       " 'คุณเปิ้ลหมูกะทะ shakariki ยำแซ่บพ่นไฟ',\n",
       " 'บ้านส้มตำ MK MoMo',\n",
       " 'MK / MOMO / BONCHON',\n",
       " 'KFC PIZZA company MK',\n",
       " 'MK Hudilo kfc',\n",
       " 'salad factory, sizzler, momo paradise',\n",
       " 'Mk , ห้องอาหาร , hiso sushi',\n",
       " 'ทองสมิทธิ์ ยำแซ่บ แมคโดนัล',\n",
       " 'Momo kfc mk',\n",
       " 'Sushi Hiro, Ootoya, Wine connection',\n",
       " 'Sizzler MK Bonchon',\n",
       " 'KFC MK Pizza Hut',\n",
       " 'บาบิก้อน โคโค่ ฮะจิบัง',\n",
       " 'KFC MK Pizza Hut ',\n",
       " 'ร้านหมูกะทะทั่วไป - ร้านบุฟเฟต์อาหารญี่ปุ่น - ปิ้งย่างเกาหลี',\n",
       " 'Gardengrill, maguro, tajimaya',\n",
       " 'KBBQ',\n",
       " 'MK, local restaurant, MoMo',\n",
       " 'Shinkai/ BBQ plaza/ Sousaku',\n",
       " 'ฮะจิบัง HaiDiLao coco',\n",
       " 'Momo paradise ,MK,KFC',\n",
       " 'Bankara MK Fuji',\n",
       " 'Sake-no-Mise FrenchKiss KatsuKura',\n",
       " 'Bbq plaza, Seiru, KPlFC',\n",
       " 'MK sukishi pizza',\n",
       " 'Mc KFK Pizza company',\n",
       " 'Momo, bbq plaza, kfc',\n",
       " 'Fantuan BBQ Plaza Baan Som Tum',\n",
       " 'MK MOMO KFC',\n",
       " 'BBQ',\n",
       " 'Hinoki, Korean Town, Roast',\n",
       " 'Hidilao / momo paradise / ล่าเมียว',\n",
       " 'Momo    bbq plaza   อื่นๆ',\n",
       " 'Street food, BarBGon, MK',\n",
       " 'Momo/ BBQ plaza/ Akiyoshi',\n",
       " 'Bar b q plaza, แหลมเจริญ, MK',\n",
       " 'ร้านอาหารตามสั่ง ร้านส้มตำ ฟูจิ ',\n",
       " \"Phra Nakorn, Lord Jim's, District Grill and Bar\",\n",
       " 'KFC Pizza hut MK',\n",
       " 'บ้านส้มตำ, Cqk, Ginzado',\n",
       " 'Mk bbq momo',\n",
       " 'Momo,BBQ plaza,subway',\n",
       " 'สุกี้ตี๋น้อย ปิ้งย่างเกาหลี หม่าล่า',\n",
       " 'ร้านอาหารดังตามพื้นที่นั้นๆ',\n",
       " 'ส้มตำนิตยา MK Fuji',\n",
       " 'Momo MK BBQ plaza',\n",
       " 'Mk  bbq plaza kfc',\n",
       " 'ไทยญวน momo paradise MK',\n",
       " 'Hanaya ginzado ร้านซัวเถา',\n",
       " 'MK sizzler tenya',\n",
       " 'ไม่ค่อยซ้ำกัน',\n",
       " 'MK เนื้อแท้ bonchon',\n",
       " 'ฮาจิบัง, bbq plaza, ทงคึนกุย',\n",
       " 'Coco ichibanya, Fuji, MK',\n",
       " 'MK BBQ Plaza KFC',\n",
       " 'KFC,MK,BBQ Plaza',\n",
       " 'Momo Paradise, Coco ichibanya, Fuji',\n",
       " 'mozza victoria cocottee',\n",
       " 'Bonchon, momo paradise, Coco ',\n",
       " 'MK, momo paradise, Kfc',\n",
       " 'Momo Paradise Bonchon MK',\n",
       " 'Kokinamse,the pizza,kfc',\n",
       " 'MK ottoya รสนิยม',\n",
       " 'MK > fuji > sizzler',\n",
       " 'Kfc bbQ mk',\n",
       " 'MK , santafe   bbq plaza',\n",
       " 'Mk, BBQ Plaza, MoMo',\n",
       " 'ขิงดองหมูจุ่ม เฝอวงเวียนใหญ่ momo',\n",
       " 'MK, Fuji,BBQ Plaza',\n",
       " 'BBQ Yayoi  Shubushi',\n",
       " 'Hachiban, LT fish, Haidilao',\n",
       " 'MK KFC Momo',\n",
       " 'MK, bbqplaza, กับข้าวกับปลา',\n",
       " 'Momo MK BBQ',\n",
       " 'nice two meet u, momo, mk',\n",
       " 'บ้านไอซ์ กับข้าวกับปลา  แหลมเจริญ',\n",
       " 'Mk bbq plaza momo',\n",
       " 'Fuji  zen  MK  ',\n",
       " 'ร้านประจำ  fuji doorea',\n",
       " 'BBQ Plaza / MK / MOMO Paradise ',\n",
       " 'Santafe, jone’s salad, mk',\n",
       " 'MK, KFC Shabushi',\n",
       " 'MK ,any shabu restaurant , Drum',\n",
       " 'ร้านอาหารทั่วไป(หลายร้าน) ร้านปิ้งย่างหมูกะทะ(ทั่วไปหลายร้าน) โคตรยำ',\n",
       " 'Haidilao, Kagonoya, Saemaeul ',\n",
       " 'Momo paradise, บ้านคุณแม่, Sukdal',\n",
       " 'เกาหลีปิ้งย่างแล้วแต่แบรนด์, บาบีก้อน, MK',\n",
       " 'ไม่เลือก MK เพราะปริมาณอาหารที่ให้มาไม่สมกับราคาที่จ่ายไปพูดตรงๆก็คือขายแพงนั่นเองมีที่ไหนเห็ดฝางให้มาลูกครึ่งราคา50บาท',\n",
       " 'MK BBQ Plaza MoMo Paradise',\n",
       " 'Fuji, Momo, ตำมั่ว',\n",
       " 'BBQ plaza']"
      ]
     },
     "execution_count": 87,
     "metadata": {},
     "output_type": "execute_result"
    }
   ],
   "source": [
    "text_list = list(col_name[15].value_counts().index)\n",
    "text_list"
   ]
  },
  {
   "cell_type": "code",
   "execution_count": 88,
   "id": "84ab2e1f",
   "metadata": {},
   "outputs": [
    {
     "data": {
      "text/plain": [
       "['3', ',', '5', '&', ')', '-', '(', '.', '>', '’', '1', '0', '2', '/']"
      ]
     },
     "execution_count": 88,
     "metadata": {},
     "output_type": "execute_result"
    }
   ],
   "source": [
    "check_non_ch = [index for text in text_list for index in text if not re.match(r\"[\\u0E00-\\u0E7Fa-zA-Z' ]\", index)]\n",
    "check_non_ch = list(set(check_non_ch))\n",
    "check_non_ch"
   ]
  },
  {
   "cell_type": "code",
   "execution_count": 89,
   "id": "6916acc5",
   "metadata": {},
   "outputs": [],
   "source": [
    "def text_process(text,check_non_ch):\n",
    "    for ch in check_non_ch:\n",
    "        if ch in text :\n",
    "            text = text.replace(ch,\" \")\n",
    "    return text\n",
    "        "
   ]
  },
  {
   "cell_type": "code",
   "execution_count": 90,
   "id": "2a7bc593",
   "metadata": {},
   "outputs": [],
   "source": [
    "pattern = \"\\s+\"\n",
    "split_ch = [re.split(pattern,text_process(text,check_non_ch)) for text in text_list]"
   ]
  },
  {
   "cell_type": "code",
   "execution_count": 91,
   "id": "0b91c2de",
   "metadata": {},
   "outputs": [
    {
     "data": {
      "text/plain": [
       "[['MK'],\n",
       " ['MK', 'MOMO', 'BBQ'],\n",
       " ['KabuchaSushi', 'แหลมเจริญ', 'ฮะจิบัง'],\n",
       " ['MK', 'MoMo', 'Paradise', 'BBQ', 'Plaza'],\n",
       " ['kfc'],\n",
       " ['Sushiro', 'BBQ', 'Plaza', 'MoMo', 'Paradise'],\n",
       " ['Haidilao', 'nice', 'meatyou', 'somtum'],\n",
       " ['ร้านอาหารไทย', 'MK', 'sizzler'],\n",
       " ['S', 'P', 'PEPER', 'LUNCH', 'MK'],\n",
       " ['You', 'and', 'I', 'Momo', 'Paradise', 'BBQ', 'Plaza'],\n",
       " ['BBQ', 'KFC', 'MoMo'],\n",
       " ['ฟูจิ', 'MK', 'Momo'],\n",
       " ['ร้านstandalone', 'เปลี่ยนร้านไปเรื่อยๆ'],\n",
       " ['Kagonoya', 'Sushi', 'Masa', 'กับข้าวกับปลา'],\n",
       " ['ตี๋น้อย', 'Sushiro', 'บอนชอน'],\n",
       " ['Momo', 'BBQ', 'Plaza', 'MK'],\n",
       " ['Greyhound', 'BBQ', 'PLAZA', 'kagonoya'],\n",
       " ['Momo', 'MK', 'Pizza', 'Hut'],\n",
       " ['MK', 'BBQ', 'ร้านอาหารทั่วไป'],\n",
       " ['Bankara', 'แหลมเจริญ', 'MK'],\n",
       " ['ทงคึนกุย', 'โมโม่', 'ฮาจิบัง'],\n",
       " ['Bbq', 'plaza', 'yayoi', 'ฮาจิบัง'],\n",
       " ['Mk', 'bbq', 'pizza'],\n",
       " ['MK', 'BBQ', 'Plaza', 'COCO', 'Ishibanya', ''],\n",
       " ['ร้านอาหารติดทะเล', 'KFC', 'ร้านอาหารทั่วไปตามโซเชียลมีเดียแนะนำ'],\n",
       " ['Mk', 'pizza', 'hut', 'kfc'],\n",
       " ['BBQ', 'MK'],\n",
       " ['Momo', 'paradise'],\n",
       " ['MK', 'ยาโยอิ', 'ฮาจิบัง'],\n",
       " ['Momo', 'hidilao', 'ginger', 'blow'],\n",
       " ['MK', 'sushiro', 'ซิสเล่อ'],\n",
       " ['KFC', 'Shabushi', 'Fuji', ''],\n",
       " ['BBQ', 'Plaza', 'ชาบู', 'ปิ้งย่าง', 'เปลี่ยนร้านเรื่อยๆ', ''],\n",
       " ['', 'Momo', 'bbq', 'mk'],\n",
       " ['MK', 'ซิสเล่อ', 'MoMo'],\n",
       " ['Sushiro', 'MoMo', 'Paradise', 'Haidilao'],\n",
       " ['Foodland', 'burger', 'king', 'แม่ศรีเรือน'],\n",
       " ['บอนชอน', 'momo', 'paradise', 'haidilao'],\n",
       " ['ลาบลับลับ', 'momo', 'paradise', 'หมูกะทะตลาดพราว'],\n",
       " ['Kagonoya', 'ootoya', 'mk', ''],\n",
       " ['Mk'],\n",
       " ['ตี๋น้อย', 'Hachiman', 'ramen', 'MK'],\n",
       " ['MK', 'Shabushi', 'BBQ', 'Plaza'],\n",
       " ['KFC', 'MK', 'Pizza', ''],\n",
       " ['MK', 'KFC', 'MoMo'],\n",
       " ['MK', 'Momo', 'Paradise', 'BBQ', 'Plaza'],\n",
       " ['Simon', 'says', 'Sizzler', 'buffet', 'โรงแรมต่างๆ'],\n",
       " ['Gabu', 'แซ่บอีลี่', 'ชินคันเซ้น'],\n",
       " ['BBQ', 'Plaza', 'KFC', 'MK'],\n",
       " ['BBQ', 'Plaza', 'Momo', 'Paradise', 'MK'],\n",
       " ['BonChon', 'Hachiban', 'On', 'the', 'Table'],\n",
       " ['Zen', 'Momo', 'กับข้าวกับปลา'],\n",
       " ['Momo', 'Paradise', 'Jin', 'Long', 'House', 'sushi', 'Den'],\n",
       " ['Momo', 'Paradise', 'Sousaku', 'Greyhound'],\n",
       " ['ตี๋น้อย', 'BBQ', 'plaza', 'MK'],\n",
       " ['Yayoi', 'otoya', 'coco', 'ichiban'],\n",
       " ['Haidiloa', 'MK', 'BBQ', 'Plaza', ''],\n",
       " ['ทองสมิทธิ์', 'MK', 'เบิร์นบุษบา'],\n",
       " ['MK', 'KFC', 'Pizza', 'hut'],\n",
       " ['MK', 'BBQ', 'Shabushi'],\n",
       " ['Yayoi', 'Coco', 'Mk'],\n",
       " ['Mk', 'kfc', 'bbq'],\n",
       " ['MoMo', 'Paradise', 'MK', 'KFC'],\n",
       " ['Burger', 'King', 'otoya', 'ลูกไก่ทอง'],\n",
       " ['Sushiro', 'MK', 'ThongSmith'],\n",
       " ['MK', 'BBQ', 'Plaza', 'Momo', 'paradise'],\n",
       " ['BBQ', 'Plaza', 'MK', 'Hachiban'],\n",
       " ['Momo', 'zen', 'ตำแหล'],\n",
       " ['Casa', 'mk', 'momo'],\n",
       " ['MK', 'BBQ', 'สุกี้ตี๋น้อย'],\n",
       " ['Thai', 'restaurant', 'Kouen', 'ส้มตำนัว'],\n",
       " ['Sousaku', 'Coco', 'โอ้กระจู๋'],\n",
       " ['MK', 'bonchon', 'คำปันไก่ย่าง'],\n",
       " ['KFC', \"McDonald's\", 'Pizza', 'Hut', ''],\n",
       " ['MK', 'KFC', 'BBQ', 'Plaza'],\n",
       " ['โมโม่', 'ปิ้งย่างเกาหลี', 'pepper', 'lunch'],\n",
       " ['Sushiro', 'Greyhound', 'เปลี่ยนร้านไปเรื่อยๆ'],\n",
       " ['Siam', 'Brasseries', 'Savy', 'S', 'P'],\n",
       " ['momo', 'mk', 'bbq', 'plaza'],\n",
       " ['bbq', 'plaza', 'momo', 'sushi'],\n",
       " ['Pizzeria', 'momo', ''],\n",
       " ['MoMo'],\n",
       " ['MK', 'แหลมเจริญ', 'นิตยา'],\n",
       " ['MoMo', 'MK', 'BBQ', 'Plaza'],\n",
       " ['MK', 'BBQ', 'plaza', 'เอี่ยวไถ่'],\n",
       " ['ร้านส้มตำ', 'KFC', 'ไก่บอนชอน'],\n",
       " ['Nam', 'nam', 'Greyhound', ''],\n",
       " ['Momo', 'paradise', 'Bonchon', 'Pizza'],\n",
       " ['Mk', 'momo', 'pizza'],\n",
       " ['KFC', 'Chester', 'grill', 'mk'],\n",
       " ['MK', 'Live', 'Tim', 'ho', 'wan', 'Wako'],\n",
       " ['Momo', 'Bbq', 'plaza', 'MK'],\n",
       " ['', 'Degrees', 'Honmono', 'HaiDiLao'],\n",
       " ['เจ๊ไฝ', 'เจ๊โอ', 'เจ๊วรรณ'],\n",
       " ['Mk', 'momo', 'kfc'],\n",
       " ['MK', 'Fuji', 'Sizzler'],\n",
       " ['Mk', 'sizzler', 'fuji'],\n",
       " ['แต้จิ๊ว', 'aka', 'tenjo'],\n",
       " ['MK', 'Sushiro', 'hachiban'],\n",
       " ['ร้านใหม่ที่ไม่เคยไป'],\n",
       " ['MK', 'BBQ', 'KFC'],\n",
       " ['', 'Mk', 'ทองสมิท', 'บาบีก้อน'],\n",
       " ['Suki', 'Masa', 'FuFu', 'จ่าอู'],\n",
       " ['BBQ', 'Plaza', 'MoMo', 'Paradise', 'Pizza', 'company'],\n",
       " ['คุณเปิ้ลหมูกะทะ', 'shakariki', 'ยำแซ่บพ่นไฟ'],\n",
       " ['บ้านส้มตำ', 'MK', 'MoMo'],\n",
       " ['MK', 'MOMO', 'BONCHON'],\n",
       " ['KFC', 'PIZZA', 'company', 'MK'],\n",
       " ['MK', 'Hudilo', 'kfc'],\n",
       " ['salad', 'factory', 'sizzler', 'momo', 'paradise'],\n",
       " ['Mk', 'ห้องอาหาร', 'hiso', 'sushi'],\n",
       " ['ทองสมิทธิ์', 'ยำแซ่บ', 'แมคโดนัล'],\n",
       " ['Momo', 'kfc', 'mk'],\n",
       " ['Sushi', 'Hiro', 'Ootoya', 'Wine', 'connection'],\n",
       " ['Sizzler', 'MK', 'Bonchon'],\n",
       " ['KFC', 'MK', 'Pizza', 'Hut'],\n",
       " ['บาบิก้อน', 'โคโค่', 'ฮะจิบัง'],\n",
       " ['KFC', 'MK', 'Pizza', 'Hut', ''],\n",
       " ['ร้านหมูกะทะทั่วไป', 'ร้านบุฟเฟต์อาหารญี่ปุ่น', 'ปิ้งย่างเกาหลี'],\n",
       " ['Gardengrill', 'maguro', 'tajimaya'],\n",
       " ['KBBQ'],\n",
       " ['MK', 'local', 'restaurant', 'MoMo'],\n",
       " ['Shinkai', 'BBQ', 'plaza', 'Sousaku'],\n",
       " ['ฮะจิบัง', 'HaiDiLao', 'coco'],\n",
       " ['Momo', 'paradise', 'MK', 'KFC'],\n",
       " ['Bankara', 'MK', 'Fuji'],\n",
       " ['Sake', 'no', 'Mise', 'FrenchKiss', 'KatsuKura'],\n",
       " ['Bbq', 'plaza', 'Seiru', 'KPlFC'],\n",
       " ['MK', 'sukishi', 'pizza'],\n",
       " ['Mc', 'KFK', 'Pizza', 'company'],\n",
       " ['Momo', 'bbq', 'plaza', 'kfc'],\n",
       " ['Fantuan', 'BBQ', 'Plaza', 'Baan', 'Som', 'Tum'],\n",
       " ['MK', 'MOMO', 'KFC'],\n",
       " ['BBQ'],\n",
       " ['Hinoki', 'Korean', 'Town', 'Roast'],\n",
       " ['Hidilao', 'momo', 'paradise', 'ล่าเมียว'],\n",
       " ['Momo', 'bbq', 'plaza', 'อื่นๆ'],\n",
       " ['Street', 'food', 'BarBGon', 'MK'],\n",
       " ['Momo', 'BBQ', 'plaza', 'Akiyoshi'],\n",
       " ['Bar', 'b', 'q', 'plaza', 'แหลมเจริญ', 'MK'],\n",
       " ['ร้านอาหารตามสั่ง', 'ร้านส้มตำ', 'ฟูจิ', ''],\n",
       " ['Phra', 'Nakorn', 'Lord', \"Jim's\", 'District', 'Grill', 'and', 'Bar'],\n",
       " ['KFC', 'Pizza', 'hut', 'MK'],\n",
       " ['บ้านส้มตำ', 'Cqk', 'Ginzado'],\n",
       " ['Mk', 'bbq', 'momo'],\n",
       " ['Momo', 'BBQ', 'plaza', 'subway'],\n",
       " ['สุกี้ตี๋น้อย', 'ปิ้งย่างเกาหลี', 'หม่าล่า'],\n",
       " ['ร้านอาหารดังตามพื้นที่นั้นๆ'],\n",
       " ['ส้มตำนิตยา', 'MK', 'Fuji'],\n",
       " ['Momo', 'MK', 'BBQ', 'plaza'],\n",
       " ['Mk', 'bbq', 'plaza', 'kfc'],\n",
       " ['ไทยญวน', 'momo', 'paradise', 'MK'],\n",
       " ['Hanaya', 'ginzado', 'ร้านซัวเถา'],\n",
       " ['MK', 'sizzler', 'tenya'],\n",
       " ['ไม่ค่อยซ้ำกัน'],\n",
       " ['MK', 'เนื้อแท้', 'bonchon'],\n",
       " ['ฮาจิบัง', 'bbq', 'plaza', 'ทงคึนกุย'],\n",
       " ['Coco', 'ichibanya', 'Fuji', 'MK'],\n",
       " ['MK', 'BBQ', 'Plaza', 'KFC'],\n",
       " ['KFC', 'MK', 'BBQ', 'Plaza'],\n",
       " ['Momo', 'Paradise', 'Coco', 'ichibanya', 'Fuji'],\n",
       " ['mozza', 'victoria', 'cocottee'],\n",
       " ['Bonchon', 'momo', 'paradise', 'Coco', ''],\n",
       " ['MK', 'momo', 'paradise', 'Kfc'],\n",
       " ['Momo', 'Paradise', 'Bonchon', 'MK'],\n",
       " ['Kokinamse', 'the', 'pizza', 'kfc'],\n",
       " ['MK', 'ottoya', 'รสนิยม'],\n",
       " ['MK', 'fuji', 'sizzler'],\n",
       " ['Kfc', 'bbQ', 'mk'],\n",
       " ['MK', 'santafe', 'bbq', 'plaza'],\n",
       " ['Mk', 'BBQ', 'Plaza', 'MoMo'],\n",
       " ['ขิงดองหมูจุ่ม', 'เฝอวงเวียนใหญ่', 'momo'],\n",
       " ['MK', 'Fuji', 'BBQ', 'Plaza'],\n",
       " ['BBQ', 'Yayoi', 'Shubushi'],\n",
       " ['Hachiban', 'LT', 'fish', 'Haidilao'],\n",
       " ['MK', 'KFC', 'Momo'],\n",
       " ['MK', 'bbqplaza', 'กับข้าวกับปลา'],\n",
       " ['Momo', 'MK', 'BBQ'],\n",
       " ['nice', 'two', 'meet', 'u', 'momo', 'mk'],\n",
       " ['บ้านไอซ์', 'กับข้าวกับปลา', 'แหลมเจริญ'],\n",
       " ['Mk', 'bbq', 'plaza', 'momo'],\n",
       " ['Fuji', 'zen', 'MK', ''],\n",
       " ['ร้านประจำ', 'fuji', 'doorea'],\n",
       " ['BBQ', 'Plaza', 'MK', 'MOMO', 'Paradise', ''],\n",
       " ['Santafe', 'jone', 's', 'salad', 'mk'],\n",
       " ['MK', 'KFC', 'Shabushi'],\n",
       " ['MK', 'any', 'shabu', 'restaurant', 'Drum'],\n",
       " ['ร้านอาหารทั่วไป',\n",
       "  'หลายร้าน',\n",
       "  'ร้านปิ้งย่างหมูกะทะ',\n",
       "  'ทั่วไปหลายร้าน',\n",
       "  'โคตรยำ'],\n",
       " ['Haidilao', 'Kagonoya', 'Saemaeul', ''],\n",
       " ['Momo', 'paradise', 'บ้านคุณแม่', 'Sukdal'],\n",
       " ['เกาหลีปิ้งย่างแล้วแต่แบรนด์', 'บาบีก้อน', 'MK'],\n",
       " ['ไม่เลือก',\n",
       "  'MK',\n",
       "  'เพราะปริมาณอาหารที่ให้มาไม่สมกับราคาที่จ่ายไปพูดตรงๆก็คือขายแพงนั่นเองมีที่ไหนเห็ดฝางให้มาลูกครึ่งราคา',\n",
       "  'บาท'],\n",
       " ['MK', 'BBQ', 'Plaza', 'MoMo', 'Paradise'],\n",
       " ['Fuji', 'Momo', 'ตำมั่ว'],\n",
       " ['BBQ', 'plaza']]"
      ]
     },
     "execution_count": 91,
     "metadata": {},
     "output_type": "execute_result"
    }
   ],
   "source": [
    "split_ch"
   ]
  },
  {
   "cell_type": "code",
   "execution_count": 92,
   "id": "e451e286",
   "metadata": {},
   "outputs": [
    {
     "data": {
      "text/plain": [
       "['MK',\n",
       " 'MK',\n",
       " 'MOMO',\n",
       " 'BBQ',\n",
       " 'KabuchaSushi',\n",
       " 'แหลมเจริญ',\n",
       " 'ฮะจิบัง',\n",
       " 'MK',\n",
       " 'MoMo',\n",
       " 'Paradise',\n",
       " 'BBQ',\n",
       " 'Plaza',\n",
       " 'kfc',\n",
       " 'Sushiro',\n",
       " 'BBQ',\n",
       " 'Plaza',\n",
       " 'MoMo',\n",
       " 'Paradise',\n",
       " 'Haidilao',\n",
       " 'nice',\n",
       " 'meatyou',\n",
       " 'somtum',\n",
       " 'ร้านอาหารไทย',\n",
       " 'MK',\n",
       " 'sizzler',\n",
       " 'S',\n",
       " 'P',\n",
       " 'PEPER',\n",
       " 'LUNCH',\n",
       " 'MK',\n",
       " 'You',\n",
       " 'and',\n",
       " 'I',\n",
       " 'Momo',\n",
       " 'Paradise',\n",
       " 'BBQ',\n",
       " 'Plaza',\n",
       " 'BBQ',\n",
       " 'KFC',\n",
       " 'MoMo',\n",
       " 'ฟูจิ',\n",
       " 'MK',\n",
       " 'Momo',\n",
       " 'ร้านstandalone',\n",
       " 'เปลี่ยนร้านไปเรื่อยๆ',\n",
       " 'Kagonoya',\n",
       " 'Sushi',\n",
       " 'Masa',\n",
       " 'กับข้าวกับปลา',\n",
       " 'ตี๋น้อย',\n",
       " 'Sushiro',\n",
       " 'บอนชอน',\n",
       " 'Momo',\n",
       " 'BBQ',\n",
       " 'Plaza',\n",
       " 'MK',\n",
       " 'Greyhound',\n",
       " 'BBQ',\n",
       " 'PLAZA',\n",
       " 'kagonoya',\n",
       " 'Momo',\n",
       " 'MK',\n",
       " 'Pizza',\n",
       " 'Hut',\n",
       " 'MK',\n",
       " 'BBQ',\n",
       " 'ร้านอาหารทั่วไป',\n",
       " 'Bankara',\n",
       " 'แหลมเจริญ',\n",
       " 'MK',\n",
       " 'ทงคึนกุย',\n",
       " 'โมโม่',\n",
       " 'ฮาจิบัง',\n",
       " 'Bbq',\n",
       " 'plaza',\n",
       " 'yayoi',\n",
       " 'ฮาจิบัง',\n",
       " 'Mk',\n",
       " 'bbq',\n",
       " 'pizza',\n",
       " 'MK',\n",
       " 'BBQ',\n",
       " 'Plaza',\n",
       " 'COCO',\n",
       " 'Ishibanya',\n",
       " '',\n",
       " 'ร้านอาหารติดทะเล',\n",
       " 'KFC',\n",
       " 'ร้านอาหารทั่วไปตามโซเชียลมีเดียแนะนำ',\n",
       " 'Mk',\n",
       " 'pizza',\n",
       " 'hut',\n",
       " 'kfc',\n",
       " 'BBQ',\n",
       " 'MK',\n",
       " 'Momo',\n",
       " 'paradise',\n",
       " 'MK',\n",
       " 'ยาโยอิ',\n",
       " 'ฮาจิบัง',\n",
       " 'Momo',\n",
       " 'hidilao',\n",
       " 'ginger',\n",
       " 'blow',\n",
       " 'MK',\n",
       " 'sushiro',\n",
       " 'ซิสเล่อ',\n",
       " 'KFC',\n",
       " 'Shabushi',\n",
       " 'Fuji',\n",
       " '',\n",
       " 'BBQ',\n",
       " 'Plaza',\n",
       " 'ชาบู',\n",
       " 'ปิ้งย่าง',\n",
       " 'เปลี่ยนร้านเรื่อยๆ',\n",
       " '',\n",
       " '',\n",
       " 'Momo',\n",
       " 'bbq',\n",
       " 'mk',\n",
       " 'MK',\n",
       " 'ซิสเล่อ',\n",
       " 'MoMo',\n",
       " 'Sushiro',\n",
       " 'MoMo',\n",
       " 'Paradise',\n",
       " 'Haidilao',\n",
       " 'Foodland',\n",
       " 'burger',\n",
       " 'king',\n",
       " 'แม่ศรีเรือน',\n",
       " 'บอนชอน',\n",
       " 'momo',\n",
       " 'paradise',\n",
       " 'haidilao',\n",
       " 'ลาบลับลับ',\n",
       " 'momo',\n",
       " 'paradise',\n",
       " 'หมูกะทะตลาดพราว',\n",
       " 'Kagonoya',\n",
       " 'ootoya',\n",
       " 'mk',\n",
       " '',\n",
       " 'Mk',\n",
       " 'ตี๋น้อย',\n",
       " 'Hachiman',\n",
       " 'ramen',\n",
       " 'MK',\n",
       " 'MK',\n",
       " 'Shabushi',\n",
       " 'BBQ',\n",
       " 'Plaza',\n",
       " 'KFC',\n",
       " 'MK',\n",
       " 'Pizza',\n",
       " '',\n",
       " 'MK',\n",
       " 'KFC',\n",
       " 'MoMo',\n",
       " 'MK',\n",
       " 'Momo',\n",
       " 'Paradise',\n",
       " 'BBQ',\n",
       " 'Plaza',\n",
       " 'Simon',\n",
       " 'says',\n",
       " 'Sizzler',\n",
       " 'buffet',\n",
       " 'โรงแรมต่างๆ',\n",
       " 'Gabu',\n",
       " 'แซ่บอีลี่',\n",
       " 'ชินคันเซ้น',\n",
       " 'BBQ',\n",
       " 'Plaza',\n",
       " 'KFC',\n",
       " 'MK',\n",
       " 'BBQ',\n",
       " 'Plaza',\n",
       " 'Momo',\n",
       " 'Paradise',\n",
       " 'MK',\n",
       " 'BonChon',\n",
       " 'Hachiban',\n",
       " 'On',\n",
       " 'the',\n",
       " 'Table',\n",
       " 'Zen',\n",
       " 'Momo',\n",
       " 'กับข้าวกับปลา',\n",
       " 'Momo',\n",
       " 'Paradise',\n",
       " 'Jin',\n",
       " 'Long',\n",
       " 'House',\n",
       " 'sushi',\n",
       " 'Den',\n",
       " 'Momo',\n",
       " 'Paradise',\n",
       " 'Sousaku',\n",
       " 'Greyhound',\n",
       " 'ตี๋น้อย',\n",
       " 'BBQ',\n",
       " 'plaza',\n",
       " 'MK',\n",
       " 'Yayoi',\n",
       " 'otoya',\n",
       " 'coco',\n",
       " 'ichiban',\n",
       " 'Haidiloa',\n",
       " 'MK',\n",
       " 'BBQ',\n",
       " 'Plaza',\n",
       " '',\n",
       " 'ทองสมิทธิ์',\n",
       " 'MK',\n",
       " 'เบิร์นบุษบา',\n",
       " 'MK',\n",
       " 'KFC',\n",
       " 'Pizza',\n",
       " 'hut',\n",
       " 'MK',\n",
       " 'BBQ',\n",
       " 'Shabushi',\n",
       " 'Yayoi',\n",
       " 'Coco',\n",
       " 'Mk',\n",
       " 'Mk',\n",
       " 'kfc',\n",
       " 'bbq',\n",
       " 'MoMo',\n",
       " 'Paradise',\n",
       " 'MK',\n",
       " 'KFC',\n",
       " 'Burger',\n",
       " 'King',\n",
       " 'otoya',\n",
       " 'ลูกไก่ทอง',\n",
       " 'Sushiro',\n",
       " 'MK',\n",
       " 'ThongSmith',\n",
       " 'MK',\n",
       " 'BBQ',\n",
       " 'Plaza',\n",
       " 'Momo',\n",
       " 'paradise',\n",
       " 'BBQ',\n",
       " 'Plaza',\n",
       " 'MK',\n",
       " 'Hachiban',\n",
       " 'Momo',\n",
       " 'zen',\n",
       " 'ตำแหล',\n",
       " 'Casa',\n",
       " 'mk',\n",
       " 'momo',\n",
       " 'MK',\n",
       " 'BBQ',\n",
       " 'สุกี้ตี๋น้อย',\n",
       " 'Thai',\n",
       " 'restaurant',\n",
       " 'Kouen',\n",
       " 'ส้มตำนัว',\n",
       " 'Sousaku',\n",
       " 'Coco',\n",
       " 'โอ้กระจู๋',\n",
       " 'MK',\n",
       " 'bonchon',\n",
       " 'คำปันไก่ย่าง',\n",
       " 'KFC',\n",
       " \"McDonald's\",\n",
       " 'Pizza',\n",
       " 'Hut',\n",
       " '',\n",
       " 'MK',\n",
       " 'KFC',\n",
       " 'BBQ',\n",
       " 'Plaza',\n",
       " 'โมโม่',\n",
       " 'ปิ้งย่างเกาหลี',\n",
       " 'pepper',\n",
       " 'lunch',\n",
       " 'Sushiro',\n",
       " 'Greyhound',\n",
       " 'เปลี่ยนร้านไปเรื่อยๆ',\n",
       " 'Siam',\n",
       " 'Brasseries',\n",
       " 'Savy',\n",
       " 'S',\n",
       " 'P',\n",
       " 'momo',\n",
       " 'mk',\n",
       " 'bbq',\n",
       " 'plaza',\n",
       " 'bbq',\n",
       " 'plaza',\n",
       " 'momo',\n",
       " 'sushi',\n",
       " 'Pizzeria',\n",
       " 'momo',\n",
       " '',\n",
       " 'MoMo',\n",
       " 'MK',\n",
       " 'แหลมเจริญ',\n",
       " 'นิตยา',\n",
       " 'MoMo',\n",
       " 'MK',\n",
       " 'BBQ',\n",
       " 'Plaza',\n",
       " 'MK',\n",
       " 'BBQ',\n",
       " 'plaza',\n",
       " 'เอี่ยวไถ่',\n",
       " 'ร้านส้มตำ',\n",
       " 'KFC',\n",
       " 'ไก่บอนชอน',\n",
       " 'Nam',\n",
       " 'nam',\n",
       " 'Greyhound',\n",
       " '',\n",
       " 'Momo',\n",
       " 'paradise',\n",
       " 'Bonchon',\n",
       " 'Pizza',\n",
       " 'Mk',\n",
       " 'momo',\n",
       " 'pizza',\n",
       " 'KFC',\n",
       " 'Chester',\n",
       " 'grill',\n",
       " 'mk',\n",
       " 'MK',\n",
       " 'Live',\n",
       " 'Tim',\n",
       " 'ho',\n",
       " 'wan',\n",
       " 'Wako',\n",
       " 'Momo',\n",
       " 'Bbq',\n",
       " 'plaza',\n",
       " 'MK',\n",
       " '',\n",
       " 'Degrees',\n",
       " 'Honmono',\n",
       " 'HaiDiLao',\n",
       " 'เจ๊ไฝ',\n",
       " 'เจ๊โอ',\n",
       " 'เจ๊วรรณ',\n",
       " 'Mk',\n",
       " 'momo',\n",
       " 'kfc',\n",
       " 'MK',\n",
       " 'Fuji',\n",
       " 'Sizzler',\n",
       " 'Mk',\n",
       " 'sizzler',\n",
       " 'fuji',\n",
       " 'แต้จิ๊ว',\n",
       " 'aka',\n",
       " 'tenjo',\n",
       " 'MK',\n",
       " 'Sushiro',\n",
       " 'hachiban',\n",
       " 'ร้านใหม่ที่ไม่เคยไป',\n",
       " 'MK',\n",
       " 'BBQ',\n",
       " 'KFC',\n",
       " '',\n",
       " 'Mk',\n",
       " 'ทองสมิท',\n",
       " 'บาบีก้อน',\n",
       " 'Suki',\n",
       " 'Masa',\n",
       " 'FuFu',\n",
       " 'จ่าอู',\n",
       " 'BBQ',\n",
       " 'Plaza',\n",
       " 'MoMo',\n",
       " 'Paradise',\n",
       " 'Pizza',\n",
       " 'company',\n",
       " 'คุณเปิ้ลหมูกะทะ',\n",
       " 'shakariki',\n",
       " 'ยำแซ่บพ่นไฟ',\n",
       " 'บ้านส้มตำ',\n",
       " 'MK',\n",
       " 'MoMo',\n",
       " 'MK',\n",
       " 'MOMO',\n",
       " 'BONCHON',\n",
       " 'KFC',\n",
       " 'PIZZA',\n",
       " 'company',\n",
       " 'MK',\n",
       " 'MK',\n",
       " 'Hudilo',\n",
       " 'kfc',\n",
       " 'salad',\n",
       " 'factory',\n",
       " 'sizzler',\n",
       " 'momo',\n",
       " 'paradise',\n",
       " 'Mk',\n",
       " 'ห้องอาหาร',\n",
       " 'hiso',\n",
       " 'sushi',\n",
       " 'ทองสมิทธิ์',\n",
       " 'ยำแซ่บ',\n",
       " 'แมคโดนัล',\n",
       " 'Momo',\n",
       " 'kfc',\n",
       " 'mk',\n",
       " 'Sushi',\n",
       " 'Hiro',\n",
       " 'Ootoya',\n",
       " 'Wine',\n",
       " 'connection',\n",
       " 'Sizzler',\n",
       " 'MK',\n",
       " 'Bonchon',\n",
       " 'KFC',\n",
       " 'MK',\n",
       " 'Pizza',\n",
       " 'Hut',\n",
       " 'บาบิก้อน',\n",
       " 'โคโค่',\n",
       " 'ฮะจิบัง',\n",
       " 'KFC',\n",
       " 'MK',\n",
       " 'Pizza',\n",
       " 'Hut',\n",
       " '',\n",
       " 'ร้านหมูกะทะทั่วไป',\n",
       " 'ร้านบุฟเฟต์อาหารญี่ปุ่น',\n",
       " 'ปิ้งย่างเกาหลี',\n",
       " 'Gardengrill',\n",
       " 'maguro',\n",
       " 'tajimaya',\n",
       " 'KBBQ',\n",
       " 'MK',\n",
       " 'local',\n",
       " 'restaurant',\n",
       " 'MoMo',\n",
       " 'Shinkai',\n",
       " 'BBQ',\n",
       " 'plaza',\n",
       " 'Sousaku',\n",
       " 'ฮะจิบัง',\n",
       " 'HaiDiLao',\n",
       " 'coco',\n",
       " 'Momo',\n",
       " 'paradise',\n",
       " 'MK',\n",
       " 'KFC',\n",
       " 'Bankara',\n",
       " 'MK',\n",
       " 'Fuji',\n",
       " 'Sake',\n",
       " 'no',\n",
       " 'Mise',\n",
       " 'FrenchKiss',\n",
       " 'KatsuKura',\n",
       " 'Bbq',\n",
       " 'plaza',\n",
       " 'Seiru',\n",
       " 'KPlFC',\n",
       " 'MK',\n",
       " 'sukishi',\n",
       " 'pizza',\n",
       " 'Mc',\n",
       " 'KFK',\n",
       " 'Pizza',\n",
       " 'company',\n",
       " 'Momo',\n",
       " 'bbq',\n",
       " 'plaza',\n",
       " 'kfc',\n",
       " 'Fantuan',\n",
       " 'BBQ',\n",
       " 'Plaza',\n",
       " 'Baan',\n",
       " 'Som',\n",
       " 'Tum',\n",
       " 'MK',\n",
       " 'MOMO',\n",
       " 'KFC',\n",
       " 'BBQ',\n",
       " 'Hinoki',\n",
       " 'Korean',\n",
       " 'Town',\n",
       " 'Roast',\n",
       " 'Hidilao',\n",
       " 'momo',\n",
       " 'paradise',\n",
       " 'ล่าเมียว',\n",
       " 'Momo',\n",
       " 'bbq',\n",
       " 'plaza',\n",
       " 'อื่นๆ',\n",
       " 'Street',\n",
       " 'food',\n",
       " 'BarBGon',\n",
       " 'MK',\n",
       " 'Momo',\n",
       " 'BBQ',\n",
       " 'plaza',\n",
       " 'Akiyoshi',\n",
       " 'Bar',\n",
       " 'b',\n",
       " 'q',\n",
       " 'plaza',\n",
       " 'แหลมเจริญ',\n",
       " 'MK',\n",
       " 'ร้านอาหารตามสั่ง',\n",
       " 'ร้านส้มตำ',\n",
       " 'ฟูจิ',\n",
       " '',\n",
       " 'Phra',\n",
       " 'Nakorn',\n",
       " 'Lord',\n",
       " \"Jim's\",\n",
       " 'District',\n",
       " 'Grill',\n",
       " 'and',\n",
       " 'Bar',\n",
       " 'KFC',\n",
       " 'Pizza',\n",
       " 'hut',\n",
       " 'MK',\n",
       " 'บ้านส้มตำ',\n",
       " 'Cqk',\n",
       " 'Ginzado',\n",
       " 'Mk',\n",
       " 'bbq',\n",
       " 'momo',\n",
       " 'Momo',\n",
       " 'BBQ',\n",
       " 'plaza',\n",
       " 'subway',\n",
       " 'สุกี้ตี๋น้อย',\n",
       " 'ปิ้งย่างเกาหลี',\n",
       " 'หม่าล่า',\n",
       " 'ร้านอาหารดังตามพื้นที่นั้นๆ',\n",
       " 'ส้มตำนิตยา',\n",
       " 'MK',\n",
       " 'Fuji',\n",
       " 'Momo',\n",
       " 'MK',\n",
       " 'BBQ',\n",
       " 'plaza',\n",
       " 'Mk',\n",
       " 'bbq',\n",
       " 'plaza',\n",
       " 'kfc',\n",
       " 'ไทยญวน',\n",
       " 'momo',\n",
       " 'paradise',\n",
       " 'MK',\n",
       " 'Hanaya',\n",
       " 'ginzado',\n",
       " 'ร้านซัวเถา',\n",
       " 'MK',\n",
       " 'sizzler',\n",
       " 'tenya',\n",
       " 'ไม่ค่อยซ้ำกัน',\n",
       " 'MK',\n",
       " 'เนื้อแท้',\n",
       " 'bonchon',\n",
       " 'ฮาจิบัง',\n",
       " 'bbq',\n",
       " 'plaza',\n",
       " 'ทงคึนกุย',\n",
       " 'Coco',\n",
       " 'ichibanya',\n",
       " 'Fuji',\n",
       " 'MK',\n",
       " 'MK',\n",
       " 'BBQ',\n",
       " 'Plaza',\n",
       " 'KFC',\n",
       " 'KFC',\n",
       " 'MK',\n",
       " 'BBQ',\n",
       " 'Plaza',\n",
       " 'Momo',\n",
       " 'Paradise',\n",
       " 'Coco',\n",
       " 'ichibanya',\n",
       " 'Fuji',\n",
       " 'mozza',\n",
       " 'victoria',\n",
       " 'cocottee',\n",
       " 'Bonchon',\n",
       " 'momo',\n",
       " 'paradise',\n",
       " 'Coco',\n",
       " '',\n",
       " 'MK',\n",
       " 'momo',\n",
       " 'paradise',\n",
       " 'Kfc',\n",
       " 'Momo',\n",
       " 'Paradise',\n",
       " 'Bonchon',\n",
       " 'MK',\n",
       " 'Kokinamse',\n",
       " 'the',\n",
       " 'pizza',\n",
       " 'kfc',\n",
       " 'MK',\n",
       " 'ottoya',\n",
       " 'รสนิยม',\n",
       " 'MK',\n",
       " 'fuji',\n",
       " 'sizzler',\n",
       " 'Kfc',\n",
       " 'bbQ',\n",
       " 'mk',\n",
       " 'MK',\n",
       " 'santafe',\n",
       " 'bbq',\n",
       " 'plaza',\n",
       " 'Mk',\n",
       " 'BBQ',\n",
       " 'Plaza',\n",
       " 'MoMo',\n",
       " 'ขิงดองหมูจุ่ม',\n",
       " 'เฝอวงเวียนใหญ่',\n",
       " 'momo',\n",
       " 'MK',\n",
       " 'Fuji',\n",
       " 'BBQ',\n",
       " 'Plaza',\n",
       " 'BBQ',\n",
       " 'Yayoi',\n",
       " 'Shubushi',\n",
       " 'Hachiban',\n",
       " 'LT',\n",
       " 'fish',\n",
       " 'Haidilao',\n",
       " 'MK',\n",
       " 'KFC',\n",
       " 'Momo',\n",
       " 'MK',\n",
       " 'bbqplaza',\n",
       " 'กับข้าวกับปลา',\n",
       " 'Momo',\n",
       " 'MK',\n",
       " 'BBQ',\n",
       " 'nice',\n",
       " 'two',\n",
       " 'meet',\n",
       " 'u',\n",
       " 'momo',\n",
       " 'mk',\n",
       " 'บ้านไอซ์',\n",
       " 'กับข้าวกับปลา',\n",
       " 'แหลมเจริญ',\n",
       " 'Mk',\n",
       " 'bbq',\n",
       " 'plaza',\n",
       " 'momo',\n",
       " 'Fuji',\n",
       " 'zen',\n",
       " 'MK',\n",
       " '',\n",
       " 'ร้านประจำ',\n",
       " 'fuji',\n",
       " 'doorea',\n",
       " 'BBQ',\n",
       " 'Plaza',\n",
       " 'MK',\n",
       " 'MOMO',\n",
       " 'Paradise',\n",
       " '',\n",
       " 'Santafe',\n",
       " 'jone',\n",
       " 's',\n",
       " 'salad',\n",
       " 'mk',\n",
       " 'MK',\n",
       " 'KFC',\n",
       " 'Shabushi',\n",
       " 'MK',\n",
       " 'any',\n",
       " 'shabu',\n",
       " 'restaurant',\n",
       " 'Drum',\n",
       " 'ร้านอาหารทั่วไป',\n",
       " 'หลายร้าน',\n",
       " 'ร้านปิ้งย่างหมูกะทะ',\n",
       " 'ทั่วไปหลายร้าน',\n",
       " 'โคตรยำ',\n",
       " 'Haidilao',\n",
       " 'Kagonoya',\n",
       " 'Saemaeul',\n",
       " '',\n",
       " 'Momo',\n",
       " 'paradise',\n",
       " 'บ้านคุณแม่',\n",
       " 'Sukdal',\n",
       " 'เกาหลีปิ้งย่างแล้วแต่แบรนด์',\n",
       " 'บาบีก้อน',\n",
       " 'MK',\n",
       " 'ไม่เลือก',\n",
       " 'MK',\n",
       " 'เพราะปริมาณอาหารที่ให้มาไม่สมกับราคาที่จ่ายไปพูดตรงๆก็คือขายแพงนั่นเองมีที่ไหนเห็ดฝางให้มาลูกครึ่งราคา',\n",
       " 'บาท',\n",
       " 'MK',\n",
       " 'BBQ',\n",
       " 'Plaza',\n",
       " 'MoMo',\n",
       " 'Paradise',\n",
       " 'Fuji',\n",
       " 'Momo',\n",
       " 'ตำมั่ว',\n",
       " 'BBQ',\n",
       " 'plaza']"
      ]
     },
     "execution_count": 92,
     "metadata": {},
     "output_type": "execute_result"
    }
   ],
   "source": [
    "sum_ch = []\n",
    "for i in split_ch:\n",
    "    sum_ch.extend(i)\n",
    "sum_ch"
   ]
  },
  {
   "cell_type": "code",
   "execution_count": 93,
   "id": "1d521bf2",
   "metadata": {},
   "outputs": [
    {
     "data": {
      "text/plain": [
       "{'ชาบู': 86,\n",
       " 'ส้มตำ': 51,\n",
       " 'สุกี้': 49,\n",
       " 'ปิ้งย่าง': 45,\n",
       " 'หมูกะทะ': 19,\n",
       " 'ซูชิ': 18,\n",
       " '': 14,\n",
       " 'ก๋วยเตี๋ยว': 12,\n",
       " 'อาหารญี่ปุ่น': 11,\n",
       " 'อาหารไทย': 10,\n",
       " 'หมูกระทะ': 9,\n",
       " 'ญี่ปุ่น': 9,\n",
       " 'ยำ': 8,\n",
       " 'พิซซ่า': 6,\n",
       " 'สลัด': 5,\n",
       " 'ราเมน': 5,\n",
       " 'ซีฟู้ด': 5,\n",
       " 'สเต็ก': 5,\n",
       " 'ราเมง': 4,\n",
       " 'ตามสั่ง': 4,\n",
       " 'อาหารจานเดียว': 3,\n",
       " 'อาหารฝรั่ง': 3,\n",
       " 'สเต๊ก': 3,\n",
       " 'ไก่ทอด': 3}"
      ]
     },
     "execution_count": 93,
     "metadata": {},
     "output_type": "execute_result"
    }
   ],
   "source": [
    "cat_eat = {k: v  for k, v in sorted(cat_eat.items(), key=lambda item: item[1],reverse=True)}\n",
    "cat_eat"
   ]
  },
  {
   "cell_type": "code",
   "execution_count": 94,
   "id": "f2c91603",
   "metadata": {},
   "outputs": [
    {
     "ename": "KeyError",
     "evalue": "'MK'",
     "output_type": "error",
     "traceback": [
      "\u001b[0;31m---------------------------------------------------------------------------\u001b[0m",
      "\u001b[0;31mKeyError\u001b[0m                                  Traceback (most recent call last)",
      "\u001b[0;32m/tmp/ipykernel_44970/574526694.py\u001b[0m in \u001b[0;36m<module>\u001b[0;34m\u001b[0m\n\u001b[1;32m      1\u001b[0m \u001b[0mtop_cat\u001b[0m \u001b[0;34m=\u001b[0m \u001b[0;34m{\u001b[0m\u001b[0;34m}\u001b[0m\u001b[0;34m\u001b[0m\u001b[0;34m\u001b[0m\u001b[0m\n\u001b[0;32m----> 2\u001b[0;31m \u001b[0mtop_cat\u001b[0m\u001b[0;34m[\u001b[0m\u001b[0;34m'MK'\u001b[0m\u001b[0;34m]\u001b[0m \u001b[0;34m=\u001b[0m \u001b[0mcat_eat\u001b[0m\u001b[0;34m[\u001b[0m\u001b[0;34m'MK'\u001b[0m\u001b[0;34m]\u001b[0m\u001b[0;34m+\u001b[0m\u001b[0mcat_eat\u001b[0m\u001b[0;34m[\u001b[0m\u001b[0;34m'Mk'\u001b[0m\u001b[0;34m]\u001b[0m \u001b[0;34m+\u001b[0m \u001b[0mcat_eat\u001b[0m\u001b[0;34m[\u001b[0m\u001b[0;34m'mk'\u001b[0m\u001b[0;34m]\u001b[0m\u001b[0;34m\u001b[0m\u001b[0;34m\u001b[0m\u001b[0m\n\u001b[0m\u001b[1;32m      3\u001b[0m \u001b[0mtop_cat\u001b[0m\u001b[0;34m[\u001b[0m\u001b[0;34m'BBQ'\u001b[0m\u001b[0;34m]\u001b[0m \u001b[0;34m=\u001b[0m \u001b[0mcat_eat\u001b[0m\u001b[0;34m[\u001b[0m\u001b[0;34m'BBQ'\u001b[0m\u001b[0;34m]\u001b[0m \u001b[0;34m+\u001b[0m \u001b[0mcat_eat\u001b[0m\u001b[0;34m[\u001b[0m\u001b[0;34m'bbq'\u001b[0m\u001b[0;34m]\u001b[0m \u001b[0;34m+\u001b[0m \u001b[0mcat_eat\u001b[0m\u001b[0;34m[\u001b[0m\u001b[0;34m'Bbq'\u001b[0m\u001b[0;34m]\u001b[0m \u001b[0;34m+\u001b[0m \u001b[0mcat_eat\u001b[0m\u001b[0;34m[\u001b[0m\u001b[0;34m'Plaza'\u001b[0m\u001b[0;34m]\u001b[0m \u001b[0;34m+\u001b[0m \u001b[0mcat_eat\u001b[0m\u001b[0;34m[\u001b[0m\u001b[0;34m'plaza'\u001b[0m\u001b[0;34m]\u001b[0m\u001b[0;34m\u001b[0m\u001b[0;34m\u001b[0m\u001b[0m\n\u001b[1;32m      4\u001b[0m \u001b[0mtop_cat\u001b[0m\u001b[0;34m[\u001b[0m\u001b[0;34m'Momo'\u001b[0m\u001b[0;34m]\u001b[0m \u001b[0;34m=\u001b[0m \u001b[0mcat_eat\u001b[0m\u001b[0;34m[\u001b[0m\u001b[0;34m'Momo'\u001b[0m\u001b[0;34m]\u001b[0m \u001b[0;34m+\u001b[0m\u001b[0mcat_eat\u001b[0m\u001b[0;34m[\u001b[0m\u001b[0;34m'momo'\u001b[0m\u001b[0;34m]\u001b[0m \u001b[0;34m+\u001b[0m \u001b[0mcat_eat\u001b[0m\u001b[0;34m[\u001b[0m\u001b[0;34m'MoMo'\u001b[0m\u001b[0;34m]\u001b[0m \u001b[0;34m+\u001b[0m \u001b[0mcat_eat\u001b[0m\u001b[0;34m[\u001b[0m\u001b[0;34m'MOMO'\u001b[0m\u001b[0;34m]\u001b[0m \u001b[0;34m+\u001b[0m \u001b[0mcat_eat\u001b[0m\u001b[0;34m[\u001b[0m\u001b[0;34m'Paradise'\u001b[0m\u001b[0;34m]\u001b[0m \u001b[0;34m+\u001b[0m \u001b[0mcat_eat\u001b[0m\u001b[0;34m[\u001b[0m\u001b[0;34m'paradise'\u001b[0m\u001b[0;34m]\u001b[0m\u001b[0;34m\u001b[0m\u001b[0;34m\u001b[0m\u001b[0m\n\u001b[1;32m      5\u001b[0m \u001b[0mtop_cat\u001b[0m\u001b[0;34m[\u001b[0m\u001b[0;34m'KFC'\u001b[0m\u001b[0;34m]\u001b[0m \u001b[0;34m=\u001b[0m \u001b[0mcat_eat\u001b[0m\u001b[0;34m[\u001b[0m\u001b[0;34m'KFC'\u001b[0m\u001b[0;34m]\u001b[0m \u001b[0;34m+\u001b[0m \u001b[0mcat_eat\u001b[0m\u001b[0;34m[\u001b[0m\u001b[0;34m'kfc'\u001b[0m\u001b[0;34m]\u001b[0m\u001b[0;34m\u001b[0m\u001b[0;34m\u001b[0m\u001b[0m\n",
      "\u001b[0;31mKeyError\u001b[0m: 'MK'"
     ]
    }
   ],
   "source": [
    "top_cat = {}\n",
    "top_cat['MK'] = cat_eat['MK']+cat_eat['Mk'] + cat_eat['mk']\n",
    "top_cat['BBQ'] = cat_eat['BBQ'] + cat_eat['bbq'] + cat_eat['Bbq'] + cat_eat['Plaza'] + cat_eat['plaza']\n",
    "top_cat['Momo'] = cat_eat['Momo'] +cat_eat['momo'] + cat_eat['MoMo'] + cat_eat['MOMO'] + cat_eat['Paradise'] + cat_eat['paradise']\n",
    "top_cat['KFC'] = cat_eat['KFC'] + cat_eat['kfc']\n",
    "top_cat['Pizza'] = cat_eat['Pizza'] + cat_eat['pizza']\n",
    "\n",
    "\n",
    "top_cat = {k: v  for k, v in sorted(top_cat.items(), key=lambda item: item[1],reverse=True)}\n",
    "top_cat"
   ]
  },
  {
   "cell_type": "code",
   "execution_count": null,
   "id": "aed04dbd",
   "metadata": {},
   "outputs": [],
   "source": [
    "date = list(top_cat.keys())\n",
    "values = list(top_cat.values())\n",
    "  \n",
    "# fig = plt.figure(figsize = (10, 5))\n",
    " \n",
    "# creating the bar plot\n",
    "\n",
    "\n",
    "plt.bar(date, values, color ='maroon',\n",
    "        width = 0.6)"
   ]
  },
  {
   "cell_type": "code",
   "execution_count": null,
   "id": "b58707fe",
   "metadata": {},
   "outputs": [],
   "source": []
  },
  {
   "cell_type": "markdown",
   "id": "50d51393",
   "metadata": {},
   "source": [
    "# 1.1 ท่านให้ความสำคัญกับปัจจัยใดบ้างในการเลือกร้านอาหาร 3 ปัจจัยแรก [อันดับที่ 1]"
   ]
  },
  {
   "cell_type": "code",
   "execution_count": null,
   "id": "85248421",
   "metadata": {},
   "outputs": [],
   "source": [
    "col_name[18]"
   ]
  },
  {
   "cell_type": "code",
   "execution_count": null,
   "id": "b6e7bb65",
   "metadata": {},
   "outputs": [],
   "source": [
    "col_name[18].value_counts()"
   ]
  },
  {
   "cell_type": "code",
   "execution_count": null,
   "id": "750831c2",
   "metadata": {},
   "outputs": [],
   "source": [
    "col_name[19].value_counts()"
   ]
  },
  {
   "cell_type": "code",
   "execution_count": null,
   "id": "2463e1f6",
   "metadata": {},
   "outputs": [],
   "source": [
    "col_name[20].value_counts()"
   ]
  },
  {
   "cell_type": "code",
   "execution_count": null,
   "id": "a009dc6b",
   "metadata": {},
   "outputs": [],
   "source": [
    "feature = col_name[18].value_counts()"
   ]
  },
  {
   "cell_type": "code",
   "execution_count": null,
   "id": "362ecdbf",
   "metadata": {},
   "outputs": [],
   "source": [
    "date = list(feature.index)\n",
    "values = list(feature.values)\n",
    "  \n",
    "# fig = plt.figure(figsize = (10, 5))\n",
    " \n",
    "# creating the bar plot\n",
    "\n",
    "\n",
    "plt.bar(date, values, color ='maroon',\n",
    "        width = 0.6)"
   ]
  },
  {
   "cell_type": "code",
   "execution_count": null,
   "id": "a590d760",
   "metadata": {},
   "outputs": [],
   "source": []
  },
  {
   "cell_type": "code",
   "execution_count": null,
   "id": "7a3c8315",
   "metadata": {},
   "outputs": [],
   "source": []
  },
  {
   "cell_type": "markdown",
   "id": "22fe276a",
   "metadata": {},
   "source": [
    "# 2.1 ในด้านความคุ้มค่าต่อราคาที่จ่าย ปัจจัยใดมีอิทธิพลสูงที่สุด 3 ลำดับแรก [อันดับที่ 1]"
   ]
  },
  {
   "cell_type": "code",
   "execution_count": 95,
   "id": "919e2bf3",
   "metadata": {},
   "outputs": [
    {
     "data": {
      "text/plain": [
       "0                 คุณภาพของอาหาร\n",
       "1                 คุณภาพของอาหาร\n",
       "2                 คุณภาพของอาหาร\n",
       "3                 คุณภาพของอาหาร\n",
       "4                 คุณภาพของอาหาร\n",
       "                 ...            \n",
       "194               คุณภาพของอาหาร\n",
       "195               คุณภาพของอาหาร\n",
       "196               คุณภาพของอาหาร\n",
       "197               คุณภาพของอาหาร\n",
       "198    อื่นๆ (โปรดระบุในข้อ 2.2)\n",
       "Name: 2.1 ในด้านความคุ้มค่าต่อราคาที่จ่าย ปัจจัยใดมีอิทธิพลสูงที่สุด 3 ลำดับแรก [อันดับที่ 1], Length: 199, dtype: object"
      ]
     },
     "execution_count": 95,
     "metadata": {},
     "output_type": "execute_result"
    }
   ],
   "source": [
    "col_name[22]"
   ]
  },
  {
   "cell_type": "code",
   "execution_count": 96,
   "id": "1d40b69f",
   "metadata": {},
   "outputs": [
    {
     "data": {
      "text/plain": [
       "คุณภาพของอาหาร                           172\n",
       "ปริมาณอาหาร                               11\n",
       "ชื่อเสียงของร้านอาหาร                      7\n",
       "แหล่งที่มาของวัตถุดิบ                      6\n",
       "อื่นๆ (โปรดระบุในข้อ 2.2)                  2\n",
       "ภาพลักษณ์ทางสังคมของการรับประทานอาหาร      1\n",
       "Name: 2.1 ในด้านความคุ้มค่าต่อราคาที่จ่าย ปัจจัยใดมีอิทธิพลสูงที่สุด 3 ลำดับแรก [อันดับที่ 1], dtype: int64"
      ]
     },
     "execution_count": 96,
     "metadata": {},
     "output_type": "execute_result"
    }
   ],
   "source": [
    "col_name[22].value_counts()"
   ]
  },
  {
   "cell_type": "code",
   "execution_count": 97,
   "id": "420232df",
   "metadata": {},
   "outputs": [
    {
     "data": {
      "text/plain": [
       "<BarContainer object of 6 artists>"
      ]
     },
     "execution_count": 97,
     "metadata": {},
     "output_type": "execute_result"
    },
    {
     "name": "stderr",
     "output_type": "stream",
     "text": [
      "/home/sun/anaconda3/envs/covid-19/lib/python3.8/site-packages/matplotlib/backends/backend_agg.py:240: RuntimeWarning: Glyph 3603 missing from current font.\n",
      "  font.set_text(s, 0.0, flags=flags)\n",
      "/home/sun/anaconda3/envs/covid-19/lib/python3.8/site-packages/matplotlib/backends/backend_agg.py:240: RuntimeWarning: Glyph 3616 missing from current font.\n",
      "  font.set_text(s, 0.0, flags=flags)\n",
      "/home/sun/anaconda3/envs/covid-19/lib/python3.8/site-packages/matplotlib/backends/backend_agg.py:240: RuntimeWarning: Glyph 3606 missing from current font.\n",
      "  font.set_text(s, 0.0, flags=flags)\n",
      "/home/sun/anaconda3/envs/covid-19/lib/python3.8/site-packages/matplotlib/backends/backend_agg.py:203: RuntimeWarning: Glyph 3603 missing from current font.\n",
      "  font.set_text(s, 0, flags=flags)\n",
      "/home/sun/anaconda3/envs/covid-19/lib/python3.8/site-packages/matplotlib/backends/backend_agg.py:203: RuntimeWarning: Glyph 3616 missing from current font.\n",
      "  font.set_text(s, 0, flags=flags)\n",
      "/home/sun/anaconda3/envs/covid-19/lib/python3.8/site-packages/matplotlib/backends/backend_agg.py:203: RuntimeWarning: Glyph 3606 missing from current font.\n",
      "  font.set_text(s, 0, flags=flags)\n"
     ]
    },
    {
     "data": {
      "image/png": "[encoded data removed]",
      "text/plain": [
       "<Figure size 432x288 with 1 Axes>"
      ]
     },
     "metadata": {
      "needs_background": "light"
     },
     "output_type": "display_data"
    }
   ],
   "source": [
    "date = list(col_name[22].value_counts().index)\n",
    "values = list(col_name[22].value_counts().values)\n",
    "  \n",
    "# fig = plt.figure(figsize = (10, 5))\n",
    " \n",
    "# creating the bar plot\n",
    "\n",
    "\n",
    "plt.bar(date, values, color ='maroon',\n",
    "        width = 0.6)"
   ]
  },
  {
   "cell_type": "code",
   "execution_count": null,
   "id": "1b5d9b17",
   "metadata": {},
   "outputs": [],
   "source": []
  },
  {
   "cell_type": "markdown",
   "id": "c48b1381",
   "metadata": {},
   "source": [
    "# 3.1 ในด้านความสะดวกสบายในการเดินทาง ปัจจัยใดมีอิทธิพลสูงที่สุด 3 ลำดับแรก [อันดับที่ 1]"
   ]
  },
  {
   "cell_type": "code",
   "execution_count": 98,
   "id": "f745b1a6",
   "metadata": {},
   "outputs": [
    {
     "data": {
      "text/plain": [
       "0                              มีที่จอดรถ\n",
       "1            ใกล้ที่พักอาศัย หรือที่ทำงาน\n",
       "2                              มีที่จอดรถ\n",
       "3                              มีที่จอดรถ\n",
       "4      ทำเลที่ตั้งร้านเข้าถึงง่าย เหมาะสม\n",
       "                      ...                \n",
       "194                            มีที่จอดรถ\n",
       "195                            มีที่จอดรถ\n",
       "196    ทำเลที่ตั้งร้านเข้าถึงง่าย เหมาะสม\n",
       "197                            มีที่จอดรถ\n",
       "198             อื่นๆ (โปรดระบุในข้อ 3.2)\n",
       "Name: 3.1 ในด้านความสะดวกสบายในการเดินทาง ปัจจัยใดมีอิทธิพลสูงที่สุด 3 ลำดับแรก [อันดับที่ 1], Length: 199, dtype: object"
      ]
     },
     "execution_count": 98,
     "metadata": {},
     "output_type": "execute_result"
    }
   ],
   "source": [
    "col_name[26]"
   ]
  },
  {
   "cell_type": "code",
   "execution_count": 99,
   "id": "2b4ed3e9",
   "metadata": {},
   "outputs": [
    {
     "data": {
      "text/plain": [
       "มีที่จอดรถ                                     107\n",
       "ทำเลที่ตั้งร้านเข้าถึงง่าย เหมาะสม              37\n",
       "ใกล้ที่พักอาศัย หรือที่ทำงาน                    31\n",
       "มีขนส่งสาธารณะผ่าน เช่น รถเมล์ รถไฟฟ้า เรือ     23\n",
       "อื่นๆ (โปรดระบุในข้อ 3.2)                        1\n",
       "Name: 3.1 ในด้านความสะดวกสบายในการเดินทาง ปัจจัยใดมีอิทธิพลสูงที่สุด 3 ลำดับแรก [อันดับที่ 1], dtype: int64"
      ]
     },
     "execution_count": 99,
     "metadata": {},
     "output_type": "execute_result"
    }
   ],
   "source": [
    "col_name[26].value_counts()"
   ]
  },
  {
   "cell_type": "code",
   "execution_count": 100,
   "id": "528ec480",
   "metadata": {
    "scrolled": true
   },
   "outputs": [
    {
     "data": {
      "text/plain": [
       "<BarContainer object of 5 artists>"
      ]
     },
     "execution_count": 100,
     "metadata": {},
     "output_type": "execute_result"
    },
    {
     "name": "stderr",
     "output_type": "stream",
     "text": [
      "/home/sun/anaconda3/envs/covid-19/lib/python3.8/site-packages/matplotlib/backends/backend_agg.py:240: RuntimeWarning: Glyph 3608 missing from current font.\n",
      "  font.set_text(s, 0.0, flags=flags)\n",
      "/home/sun/anaconda3/envs/covid-19/lib/python3.8/site-packages/matplotlib/backends/backend_agg.py:240: RuntimeWarning: Glyph 3612 missing from current font.\n",
      "  font.set_text(s, 0.0, flags=flags)\n",
      "/home/sun/anaconda3/envs/covid-19/lib/python3.8/site-packages/matplotlib/backends/backend_agg.py:203: RuntimeWarning: Glyph 3608 missing from current font.\n",
      "  font.set_text(s, 0, flags=flags)\n",
      "/home/sun/anaconda3/envs/covid-19/lib/python3.8/site-packages/matplotlib/backends/backend_agg.py:203: RuntimeWarning: Glyph 3612 missing from current font.\n",
      "  font.set_text(s, 0, flags=flags)\n"
     ]
    },
    {
     "data": {
      "image/png": "[encoded data removed]",
      "text/plain": [
       "<Figure size 432x288 with 1 Axes>"
      ]
     },
     "metadata": {
      "needs_background": "light"
     },
     "output_type": "display_data"
    }
   ],
   "source": [
    "date = list(col_name[26].value_counts().index)\n",
    "values = list(col_name[26].value_counts().values)\n",
    "  \n",
    "# fig = plt.figure(figsize = (10, 5))\n",
    " \n",
    "# creating the bar plot\n",
    "\n",
    "\n",
    "plt.bar(date, values, color ='maroon',\n",
    "        width = 0.6)"
   ]
  },
  {
   "cell_type": "code",
   "execution_count": null,
   "id": "12061916",
   "metadata": {},
   "outputs": [],
   "source": []
  },
  {
   "cell_type": "markdown",
   "id": "19cf48a5",
   "metadata": {},
   "source": [
    "# 4.1 ในด้านคุณภาพและรสชาติของอาหาร ปัจจัยใดมีอิทธิพลสูงที่สุด 3 ลำดับแรก [อันดับที่ 1]"
   ]
  },
  {
   "cell_type": "code",
   "execution_count": 101,
   "id": "386a4409",
   "metadata": {},
   "outputs": [
    {
     "data": {
      "text/plain": [
       "0                  รสชาติแบบดั้งเดิม\n",
       "1                  รสชาติแบบดั้งเดิม\n",
       "2                      รสชาติจัดจ้าน\n",
       "3      ความพิถีพิถันในการประกอบอาหาร\n",
       "4                  รสชาติแบบดั้งเดิม\n",
       "                   ...              \n",
       "194                รสชาติแบบดั้งเดิม\n",
       "195    ความพิถีพิถันในการประกอบอาหาร\n",
       "196                รสชาติแบบดั้งเดิม\n",
       "197                รสชาติแบบดั้งเดิม\n",
       "198                            อื่นๆ\n",
       "Name: 4.1 ในด้านคุณภาพและรสชาติของอาหาร ปัจจัยใดมีอิทธิพลสูงที่สุด 3 ลำดับแรก [อันดับที่ 1], Length: 199, dtype: object"
      ]
     },
     "execution_count": 101,
     "metadata": {},
     "output_type": "execute_result"
    }
   ],
   "source": [
    "col_name[30]"
   ]
  },
  {
   "cell_type": "code",
   "execution_count": 102,
   "id": "1a9e4aaa",
   "metadata": {},
   "outputs": [
    {
     "data": {
      "text/plain": [
       "รสชาติแบบดั้งเดิม                 83\n",
       "รสชาติจัดจ้าน                     38\n",
       "ความพิถีพิถันในการประกอบอาหาร     28\n",
       "รสชาติแปลกใหม่                    13\n",
       "วัตถุดิบจากธรรมชาติ               12\n",
       "รสชาติที่คุ้นเคย เช่น รสมือแม่    11\n",
       "ได้รับรางวัลการันตี               10\n",
       "วัตถุดิบนำเข้า                     2\n",
       "อื่นๆ                              2\n",
       "Name: 4.1 ในด้านคุณภาพและรสชาติของอาหาร ปัจจัยใดมีอิทธิพลสูงที่สุด 3 ลำดับแรก [อันดับที่ 1], dtype: int64"
      ]
     },
     "execution_count": 102,
     "metadata": {},
     "output_type": "execute_result"
    }
   ],
   "source": [
    "col_name[30].value_counts()"
   ]
  },
  {
   "cell_type": "code",
   "execution_count": 103,
   "id": "402885b8",
   "metadata": {},
   "outputs": [
    {
     "data": {
      "text/plain": [
       "<BarContainer object of 9 artists>"
      ]
     },
     "execution_count": 103,
     "metadata": {},
     "output_type": "execute_result"
    },
    {
     "data": {
      "image/png": "[encoded data removed]",
      "text/plain": [
       "<Figure size 432x288 with 1 Axes>"
      ]
     },
     "metadata": {
      "needs_background": "light"
     },
     "output_type": "display_data"
    }
   ],
   "source": [
    "date = list(col_name[30].value_counts().index)\n",
    "values = list(col_name[30].value_counts().values)\n",
    "  \n",
    "# fig = plt.figure(figsize = (10, 5))\n",
    " \n",
    "# creating the bar plot\n",
    "\n",
    "\n",
    "plt.bar(date, values, color ='maroon',\n",
    "        width = 0.6)"
   ]
  },
  {
   "cell_type": "code",
   "execution_count": null,
   "id": "29667976",
   "metadata": {},
   "outputs": [],
   "source": []
  },
  {
   "cell_type": "markdown",
   "id": "fc572381",
   "metadata": {},
   "source": [
    "# 5.1 โปรโมชั่น เเละการส่งเสริมการตลาด ปัจจัยใดมีอิทธิพลสูงที่สุด 3 ลำดับแรก [อันดับที่ 1]"
   ]
  },
  {
   "cell_type": "code",
   "execution_count": 104,
   "id": "6422d2c9",
   "metadata": {},
   "outputs": [
    {
     "data": {
      "text/plain": [
       "0      จัดโปรโมชั่นร่วมกับบัตรเครดิต\n",
       "1      จัดโปรโมชั่นร่วมกับบัตรเครดิต\n",
       "2                       จัดโปรลดราคา\n",
       "3      จัดโปรโมชั่นร่วมกับบัตรเครดิต\n",
       "4      จัดโปรโมชั่นร่วมกับบัตรเครดิต\n",
       "                   ...              \n",
       "194                     จัดโปรลดราคา\n",
       "195                     จัดโปรลดราคา\n",
       "196              โฆษณาส่งเสริมการขาย\n",
       "197                     จัดโปรลดราคา\n",
       "198                     จัดโปรลดราคา\n",
       "Name: 5.1 โปรโมชั่น เเละการส่งเสริมการตลาด ปัจจัยใดมีอิทธิพลสูงที่สุด 3 ลำดับแรก [อันดับที่ 1], Length: 199, dtype: object"
      ]
     },
     "execution_count": 104,
     "metadata": {},
     "output_type": "execute_result"
    }
   ],
   "source": [
    "col_name[34]"
   ]
  },
  {
   "cell_type": "code",
   "execution_count": 105,
   "id": "f41c4245",
   "metadata": {},
   "outputs": [
    {
     "data": {
      "text/plain": [
       "จัดโปรลดราคา                     148\n",
       "จัดโปรโมชั่นร่วมกับบัตรเครดิต     39\n",
       "โฆษณาส่งเสริมการขาย                5\n",
       "โปรโมชั่นกับพาร์ทเนอร์             4\n",
       "สะสมแต้มกับทางร้าน                 3\n",
       "Name: 5.1 โปรโมชั่น เเละการส่งเสริมการตลาด ปัจจัยใดมีอิทธิพลสูงที่สุด 3 ลำดับแรก [อันดับที่ 1], dtype: int64"
      ]
     },
     "execution_count": 105,
     "metadata": {},
     "output_type": "execute_result"
    }
   ],
   "source": [
    "col_name[34].value_counts()"
   ]
  },
  {
   "cell_type": "code",
   "execution_count": 106,
   "id": "b5814c10",
   "metadata": {},
   "outputs": [
    {
     "data": {
      "text/plain": [
       "<BarContainer object of 5 artists>"
      ]
     },
     "execution_count": 106,
     "metadata": {},
     "output_type": "execute_result"
    },
    {
     "name": "stderr",
     "output_type": "stream",
     "text": [
      "/home/sun/anaconda3/envs/covid-19/lib/python3.8/site-packages/matplotlib/backends/backend_agg.py:240: RuntimeWarning: Glyph 3590 missing from current font.\n",
      "  font.set_text(s, 0.0, flags=flags)\n",
      "/home/sun/anaconda3/envs/covid-19/lib/python3.8/site-packages/matplotlib/backends/backend_agg.py:203: RuntimeWarning: Glyph 3590 missing from current font.\n",
      "  font.set_text(s, 0, flags=flags)\n"
     ]
    },
    {
     "data": {
      "image/png": "[encoded data removed]",
      "text/plain": [
       "<Figure size 432x288 with 1 Axes>"
      ]
     },
     "metadata": {
      "needs_background": "light"
     },
     "output_type": "display_data"
    }
   ],
   "source": [
    "date = list(col_name[34].value_counts().index)\n",
    "values = list(col_name[34].value_counts().values)\n",
    "  \n",
    "# fig = plt.figure(figsize = (10, 5))\n",
    " \n",
    "# creating the bar plot\n",
    "\n",
    "\n",
    "plt.bar(date, values, color ='maroon',\n",
    "        width = 0.6)"
   ]
  },
  {
   "cell_type": "code",
   "execution_count": null,
   "id": "292a4f2a",
   "metadata": {},
   "outputs": [],
   "source": []
  },
  {
   "cell_type": "markdown",
   "id": "4a274b6e",
   "metadata": {},
   "source": [
    "# 6.1 บรรยากาศร้าน ปัจจัยใดมีอิทธิพลสูงที่สุด 3 ลำดับแรก [อันดับที่ 1]"
   ]
  },
  {
   "cell_type": "code",
   "execution_count": 107,
   "id": "bdea1b9b",
   "metadata": {},
   "outputs": [
    {
     "data": {
      "text/plain": [
       "0      สะอาดสะอ้าน\n",
       "1      สะอาดสะอ้าน\n",
       "2      สะอาดสะอ้าน\n",
       "3      สะอาดสะอ้าน\n",
       "4      สะอาดสะอ้าน\n",
       "          ...     \n",
       "194         อบอุ่น\n",
       "195    สะอาดสะอ้าน\n",
       "196    สะอาดสะอ้าน\n",
       "197    สะอาดสะอ้าน\n",
       "198          อื่นๆ\n",
       "Name: 6.1 บรรยากาศร้าน ปัจจัยใดมีอิทธิพลสูงที่สุด 3 ลำดับแรก [อันดับที่ 1], Length: 199, dtype: object"
      ]
     },
     "execution_count": 107,
     "metadata": {},
     "output_type": "execute_result"
    }
   ],
   "source": [
    "col_name[38]"
   ]
  },
  {
   "cell_type": "code",
   "execution_count": 108,
   "id": "adc08e4d",
   "metadata": {},
   "outputs": [
    {
     "data": {
      "text/plain": [
       "สะอาดสะอ้าน                                         176\n",
       "ธรรมชาติ สบายตา                                      12\n",
       "อบอุ่น                                                4\n",
       "หรูหรา                                                3\n",
       "แปลกใหม่ไม่ซ้ำใคร                                     2\n",
       "ตกแต่งตามธีม เช่น เทพนิยาย ป่า สวนดอกไม้ เป็นต้น      1\n",
       "อื่นๆ                                                 1\n",
       "Name: 6.1 บรรยากาศร้าน ปัจจัยใดมีอิทธิพลสูงที่สุด 3 ลำดับแรก [อันดับที่ 1], dtype: int64"
      ]
     },
     "execution_count": 108,
     "metadata": {},
     "output_type": "execute_result"
    }
   ],
   "source": [
    "col_name[38].value_counts()"
   ]
  },
  {
   "cell_type": "code",
   "execution_count": 109,
   "id": "42a478a0",
   "metadata": {},
   "outputs": [
    {
     "data": {
      "text/plain": [
       "<BarContainer object of 7 artists>"
      ]
     },
     "execution_count": 109,
     "metadata": {},
     "output_type": "execute_result"
    },
    {
     "data": {
      "image/png": "[encoded data removed]",
      "text/plain": [
       "<Figure size 432x288 with 1 Axes>"
      ]
     },
     "metadata": {
      "needs_background": "light"
     },
     "output_type": "display_data"
    }
   ],
   "source": [
    "date = list(col_name[38].value_counts().index)\n",
    "values = list(col_name[38].value_counts().values)\n",
    "  \n",
    "# fig = plt.figure(figsize = (10, 5))\n",
    " \n",
    "# creating the bar plot\n",
    "\n",
    "\n",
    "plt.bar(date, values, color ='maroon',\n",
    "        width = 0.6)"
   ]
  },
  {
   "cell_type": "code",
   "execution_count": null,
   "id": "a87e9043",
   "metadata": {},
   "outputs": [],
   "source": []
  },
  {
   "cell_type": "markdown",
   "id": "72fc2bbd",
   "metadata": {},
   "source": [
    "# 7.1 การบริการ และคุณภาพการบริการ ปัจจัยใดมีอิทธิพลสูงที่สุด 3 ลำดับแรก [อันดับ 1]"
   ]
  },
  {
   "cell_type": "code",
   "execution_count": 110,
   "id": "eccfc6f9",
   "metadata": {},
   "outputs": [
    {
     "data": {
      "text/plain": [
       "0      พนักงานมีมารยาทดีและมีจิตใจรักการบริการ\n",
       "1                        ความสะอาดของร้านอาหาร\n",
       "2              มีการประกอบอาหารสดใหม่จานต่อจาน\n",
       "3                        ความสะอาดของร้านอาหาร\n",
       "4                        ความสะอาดของร้านอาหาร\n",
       "                        ...                   \n",
       "194    พนักงานมีมารยาทดีและมีจิตใจรักการบริการ\n",
       "195                      ความสะอาดของร้านอาหาร\n",
       "196            มีการประกอบอาหารสดใหม่จานต่อจาน\n",
       "197                     ความรวดเร็วในการบริการ\n",
       "198                                      อื่นๆ\n",
       "Name: 7.1 การบริการ และคุณภาพการบริการ ปัจจัยใดมีอิทธิพลสูงที่สุด 3 ลำดับแรก [อันดับ 1], Length: 199, dtype: object"
      ]
     },
     "execution_count": 110,
     "metadata": {},
     "output_type": "execute_result"
    }
   ],
   "source": [
    "col_name[42]"
   ]
  },
  {
   "cell_type": "code",
   "execution_count": 111,
   "id": "0bf3f0b0",
   "metadata": {},
   "outputs": [
    {
     "data": {
      "text/plain": [
       "ความสะอาดของร้านอาหาร                      79\n",
       "พนักงานมีมารยาทดีและมีจิตใจรักการบริการ    54\n",
       "มีการประกอบอาหารสดใหม่จานต่อจาน            41\n",
       "ความรวดเร็วในการบริการ                     16\n",
       "การบริหารจัดการคิว เช่น มีแอปพลิเคชัน       6\n",
       "ความสะดวกสบายของช่องทางการติดต่อ            2\n",
       "อื่นๆ                                       1\n",
       "Name: 7.1 การบริการ และคุณภาพการบริการ ปัจจัยใดมีอิทธิพลสูงที่สุด 3 ลำดับแรก [อันดับ 1], dtype: int64"
      ]
     },
     "execution_count": 111,
     "metadata": {},
     "output_type": "execute_result"
    }
   ],
   "source": [
    "col_name[42].value_counts()"
   ]
  },
  {
   "cell_type": "code",
   "execution_count": 112,
   "id": "dc84a7ca",
   "metadata": {},
   "outputs": [
    {
     "data": {
      "text/plain": [
       "<BarContainer object of 7 artists>"
      ]
     },
     "execution_count": 112,
     "metadata": {},
     "output_type": "execute_result"
    },
    {
     "data": {
      "image/png": "[encoded data removed]",
      "text/plain": [
       "<Figure size 432x288 with 1 Axes>"
      ]
     },
     "metadata": {
      "needs_background": "light"
     },
     "output_type": "display_data"
    }
   ],
   "source": [
    "date = list(col_name[42].value_counts().index)\n",
    "values = list(col_name[42].value_counts().values)\n",
    "  \n",
    "# fig = plt.figure(figsize = (10, 5))\n",
    " \n",
    "# creating the bar plot\n",
    "\n",
    "\n",
    "plt.bar(date, values, color ='maroon',\n",
    "        width = 0.6)"
   ]
  },
  {
   "cell_type": "code",
   "execution_count": null,
   "id": "42c12965",
   "metadata": {},
   "outputs": [],
   "source": []
  },
  {
   "cell_type": "markdown",
   "id": "3aee3ed6",
   "metadata": {},
   "source": [
    "# 8. การบอกต่อจากบุคคลอ้างอิงที่มีอิทธิพลสูงที่สุด 3 ลำดับแรก [อันดับ 1]"
   ]
  },
  {
   "cell_type": "code",
   "execution_count": 113,
   "id": "cb36a9bc",
   "metadata": {},
   "outputs": [
    {
     "data": {
      "text/plain": [
       "0                             เพื่อน\n",
       "1                             เพื่อน\n",
       "2                             เพื่อน\n",
       "3                             เพื่อน\n",
       "4                       แฟนหรือคนรัก\n",
       "                   ...              \n",
       "194                    คนรู้จักอื่นๆ\n",
       "195                     แฟนหรือคนรัก\n",
       "196    Influencers, นักชิม, นักรีวิว\n",
       "197                     แฟนหรือคนรัก\n",
       "198                           เพื่อน\n",
       "Name: 8. การบอกต่อจากบุคคลอ้างอิงที่มีอิทธิพลสูงที่สุด 3 ลำดับแรก [อันดับ 1], Length: 199, dtype: object"
      ]
     },
     "execution_count": 113,
     "metadata": {},
     "output_type": "execute_result"
    }
   ],
   "source": [
    "col_name[46]"
   ]
  },
  {
   "cell_type": "code",
   "execution_count": 114,
   "id": "c3febe03",
   "metadata": {},
   "outputs": [
    {
     "data": {
      "text/plain": [
       "เพื่อน                           95\n",
       "แฟนหรือคนรัก                     42\n",
       "ครอบครัว                         36\n",
       "Influencers, นักชิม, นักรีวิว    24\n",
       "คนรู้จักอื่นๆ                     2\n",
       "Name: 8. การบอกต่อจากบุคคลอ้างอิงที่มีอิทธิพลสูงที่สุด 3 ลำดับแรก [อันดับ 1], dtype: int64"
      ]
     },
     "execution_count": 114,
     "metadata": {},
     "output_type": "execute_result"
    }
   ],
   "source": [
    "col_name[46].value_counts()"
   ]
  },
  {
   "cell_type": "code",
   "execution_count": 115,
   "id": "9b08aa34",
   "metadata": {},
   "outputs": [
    {
     "data": {
      "text/plain": [
       "<BarContainer object of 5 artists>"
      ]
     },
     "execution_count": 115,
     "metadata": {},
     "output_type": "execute_result"
    },
    {
     "data": {
      "image/png": "[encoded data removed]",
      "text/plain": [
       "<Figure size 432x288 with 1 Axes>"
      ]
     },
     "metadata": {
      "needs_background": "light"
     },
     "output_type": "display_data"
    }
   ],
   "source": [
    "date = list(col_name[46].value_counts().index)\n",
    "values = list(col_name[46].value_counts().values)\n",
    "  \n",
    "# fig = plt.figure(figsize = (10, 5))\n",
    " \n",
    "# creating the bar plot\n",
    "\n",
    "\n",
    "plt.bar(date, values, color ='maroon',\n",
    "        width = 0.6)"
   ]
  },
  {
   "cell_type": "code",
   "execution_count": null,
   "id": "45b48138",
   "metadata": {},
   "outputs": [],
   "source": []
  },
  {
   "cell_type": "markdown",
   "id": "0efacb3b",
   "metadata": {},
   "source": [
    "# 1. ท่านเคยรับประทานอาหารประเภทสุกี้หรือไม่"
   ]
  },
  {
   "cell_type": "code",
   "execution_count": 116,
   "id": "b3e8ddfa",
   "metadata": {},
   "outputs": [
    {
     "data": {
      "text/plain": [
       "0         เคย\n",
       "1         เคย\n",
       "2         เคย\n",
       "3         เคย\n",
       "4         เคย\n",
       "        ...  \n",
       "194       เคย\n",
       "195       เคย\n",
       "196       เคย\n",
       "197    ไม่เคย\n",
       "198    ไม่เคย\n",
       "Name: 1. ท่านเคยรับประทานอาหารประเภทสุกี้หรือไม่, Length: 199, dtype: object"
      ]
     },
     "execution_count": 116,
     "metadata": {},
     "output_type": "execute_result"
    }
   ],
   "source": [
    "col_name[49]"
   ]
  },
  {
   "cell_type": "code",
   "execution_count": 117,
   "id": "4e2db378",
   "metadata": {},
   "outputs": [
    {
     "data": {
      "text/plain": [
       "เคย       197\n",
       "ไม่เคย      2\n",
       "Name: 1. ท่านเคยรับประทานอาหารประเภทสุกี้หรือไม่, dtype: int64"
      ]
     },
     "execution_count": 117,
     "metadata": {},
     "output_type": "execute_result"
    }
   ],
   "source": [
    "col_name[49].value_counts()"
   ]
  },
  {
   "cell_type": "code",
   "execution_count": 118,
   "id": "5819f2e2",
   "metadata": {},
   "outputs": [
    {
     "data": {
      "text/plain": [
       "<BarContainer object of 2 artists>"
      ]
     },
     "execution_count": 118,
     "metadata": {},
     "output_type": "execute_result"
    },
    {
     "data": {
      "image/png": "[encoded data removed]",
      "text/plain": [
       "<Figure size 432x288 with 1 Axes>"
      ]
     },
     "metadata": {
      "needs_background": "light"
     },
     "output_type": "display_data"
    }
   ],
   "source": [
    "date = list(col_name[49].value_counts().index)\n",
    "values = list(col_name[49].value_counts().values)\n",
    "  \n",
    "# fig = plt.figure(figsize = (10, 5))\n",
    " \n",
    "# creating the bar plot\n",
    "\n",
    "\n",
    "plt.bar(date, values, color ='maroon',\n",
    "        width = 0.6)"
   ]
  },
  {
   "cell_type": "code",
   "execution_count": null,
   "id": "84cbe6ef",
   "metadata": {},
   "outputs": [],
   "source": []
  },
  {
   "cell_type": "markdown",
   "id": "3c6afb0d",
   "metadata": {},
   "source": [
    "# 1. หากท่านรับประทานสุกี้ ท่านรับประทานสุกี้บ่อยเพียงใด"
   ]
  },
  {
   "cell_type": "code",
   "execution_count": 120,
   "id": "6a9c11e2",
   "metadata": {},
   "outputs": [
    {
     "data": {
      "text/plain": [
       "0                           2 ครั้งต่อเดือน\n",
       "1                           1 ครั้งต่อเดือน\n",
       "2                           2 ครั้งต่อเดือน\n",
       "3                           3 ครั้งต่อเดือน\n",
       "4                           1 ครั้งต่อเดือน\n",
       "                       ...                 \n",
       "194                         1 ครั้งต่อเดือน\n",
       "195                         3 ครั้งต่อเดือน\n",
       "196    นานๆ ครั้ง (ไม่ได้เป็นประจำทุกเดือน)\n",
       "197                                     NaN\n",
       "198                                     NaN\n",
       "Name: 1. หากท่านรับประทานสุกี้ ท่านรับประทานสุกี้บ่อยเพียงใด, Length: 199, dtype: object"
      ]
     },
     "execution_count": 120,
     "metadata": {},
     "output_type": "execute_result"
    }
   ],
   "source": [
    "col_name[50]"
   ]
  },
  {
   "cell_type": "code",
   "execution_count": 121,
   "id": "1e8611ed",
   "metadata": {},
   "outputs": [
    {
     "data": {
      "text/plain": [
       "นานๆ ครั้ง (ไม่ได้เป็นประจำทุกเดือน)    67\n",
       "2 ครั้งต่อเดือน                         52\n",
       "1 ครั้งต่อเดือน                         44\n",
       "3 ครั้งต่อเดือน                         24\n",
       "4 ครั้งต่อเดือนขึ้นไป                   10\n",
       "Name: 1. หากท่านรับประทานสุกี้ ท่านรับประทานสุกี้บ่อยเพียงใด, dtype: int64"
      ]
     },
     "execution_count": 121,
     "metadata": {},
     "output_type": "execute_result"
    }
   ],
   "source": [
    "col_name[50].value_counts()"
   ]
  },
  {
   "cell_type": "code",
   "execution_count": 122,
   "id": "e8f37c57",
   "metadata": {},
   "outputs": [
    {
     "data": {
      "text/plain": [
       "<BarContainer object of 5 artists>"
      ]
     },
     "execution_count": 122,
     "metadata": {},
     "output_type": "execute_result"
    },
    {
     "data": {
      "image/png": "[encoded data removed]",
      "text/plain": [
       "<Figure size 432x288 with 1 Axes>"
      ]
     },
     "metadata": {
      "needs_background": "light"
     },
     "output_type": "display_data"
    }
   ],
   "source": [
    "date = list(col_name[50].value_counts().index)\n",
    "values = list(col_name[50].value_counts().values)\n",
    "  \n",
    "# fig = plt.figure(figsize = (10, 5))\n",
    " \n",
    "# creating the bar plot\n",
    "\n",
    "\n",
    "plt.bar(date, values, color ='maroon',\n",
    "        width = 0.6)"
   ]
  },
  {
   "cell_type": "code",
   "execution_count": null,
   "id": "871aed3c",
   "metadata": {},
   "outputs": [],
   "source": []
  },
  {
   "cell_type": "markdown",
   "id": "f0c354de",
   "metadata": {},
   "source": [
    "# 2. ท่านมักรับประทานสุกี้ในช่วงเวลาใด"
   ]
  },
  {
   "cell_type": "code",
   "execution_count": 123,
   "id": "6a886b11",
   "metadata": {},
   "outputs": [
    {
     "data": {
      "text/plain": [
       "0        17.01-21.00 น.\n",
       "1      11.00 - 14.00 น.\n",
       "2      11.00 - 14.00 น.\n",
       "3        17.01-21.00 น.\n",
       "4      14.01 - 17.00 น.\n",
       "             ...       \n",
       "194    11.00 - 14.00 น.\n",
       "195      17.01-21.00 น.\n",
       "196      17.01-21.00 น.\n",
       "197                 NaN\n",
       "198                 NaN\n",
       "Name: 2. ท่านมักรับประทานสุกี้ในช่วงเวลาใด, Length: 199, dtype: object"
      ]
     },
     "execution_count": 123,
     "metadata": {},
     "output_type": "execute_result"
    }
   ],
   "source": [
    "col_name[51]"
   ]
  },
  {
   "cell_type": "code",
   "execution_count": 124,
   "id": "b4fc42b0",
   "metadata": {},
   "outputs": [
    {
     "data": {
      "text/plain": [
       "17.01-21.00 น.      142\n",
       "11.00 - 14.00 น.     35\n",
       "14.01 - 17.00 น.     18\n",
       "หลัง 21.00 น.         1\n",
       "ก่อน 11.00 น.         1\n",
       "Name: 2. ท่านมักรับประทานสุกี้ในช่วงเวลาใด, dtype: int64"
      ]
     },
     "execution_count": 124,
     "metadata": {},
     "output_type": "execute_result"
    }
   ],
   "source": [
    "col_name[51].value_counts()"
   ]
  },
  {
   "cell_type": "code",
   "execution_count": 125,
   "id": "a0159f91",
   "metadata": {},
   "outputs": [
    {
     "data": {
      "text/plain": [
       "<BarContainer object of 5 artists>"
      ]
     },
     "execution_count": 125,
     "metadata": {},
     "output_type": "execute_result"
    },
    {
     "data": {
      "image/png": "[encoded data removed]",
      "text/plain": [
       "<Figure size 432x288 with 1 Axes>"
      ]
     },
     "metadata": {
      "needs_background": "light"
     },
     "output_type": "display_data"
    }
   ],
   "source": [
    "date = list(col_name[51].value_counts().index)\n",
    "values = list(col_name[51].value_counts().values)\n",
    "  \n",
    "# fig = plt.figure(figsize = (10, 5))\n",
    " \n",
    "# creating the bar plot\n",
    "\n",
    "\n",
    "plt.bar(date, values, color ='maroon',\n",
    "        width = 0.6)"
   ]
  },
  {
   "cell_type": "code",
   "execution_count": null,
   "id": "8700ac32",
   "metadata": {},
   "outputs": [],
   "source": []
  },
  {
   "cell_type": "markdown",
   "id": "d16ed868",
   "metadata": {},
   "source": [
    "# 3. ท่านเลือกรับประทานสุกี้แบรนด์ใดบ่อยที่สุด"
   ]
  },
  {
   "cell_type": "code",
   "execution_count": 126,
   "id": "2a998504",
   "metadata": {},
   "outputs": [
    {
     "data": {
      "text/plain": [
       "0                MK\n",
       "1                MK\n",
       "2                MK\n",
       "3                MK\n",
       "4      สุกี้ตี๋น้อย\n",
       "           ...     \n",
       "194     ร้านค้าปกติ\n",
       "195              MK\n",
       "196              MK\n",
       "197             NaN\n",
       "198             NaN\n",
       "Name: 3. ท่านเลือกรับประทานสุกี้แบรนด์ใดบ่อยที่สุด, Length: 199, dtype: object"
      ]
     },
     "execution_count": 126,
     "metadata": {},
     "output_type": "execute_result"
    }
   ],
   "source": [
    "col_name[52]"
   ]
  },
  {
   "cell_type": "code",
   "execution_count": 127,
   "id": "b9450611",
   "metadata": {
    "scrolled": true
   },
   "outputs": [
    {
     "data": {
      "text/plain": [
       "MK                  146\n",
       "สุกี้ตี๋น้อย         23\n",
       "Neo Suki              7\n",
       "เรือนเพชร             4\n",
       "Coca                  2\n",
       "ทำทานเองที่บ้าน       1\n",
       "Momo                  1\n",
       "HaiDiLao              1\n",
       "เจ๊หุย ต้มตุ๋น        1\n",
       "Mo mo paradise        1\n",
       "ร้านค้าปกติ           1\n",
       "แต้จิ๋ว เลิศเลิศ      1\n",
       "สุกี้เรือนหยก         1\n",
       "มานีมีหม้อ            1\n",
       "สุกี้ดารา             1\n",
       "CMQ hotpot            1\n",
       "ทำกินเองที่บ้าน       1\n",
       "เจริญไทยสุกี้         1\n",
       "เรือนหยกสุกี้         1\n",
       "เฝอ                   1\n",
       "Name: 3. ท่านเลือกรับประทานสุกี้แบรนด์ใดบ่อยที่สุด, dtype: int64"
      ]
     },
     "execution_count": 127,
     "metadata": {},
     "output_type": "execute_result"
    }
   ],
   "source": [
    "col_name[52].value_counts()"
   ]
  },
  {
   "cell_type": "code",
   "execution_count": 130,
   "id": "a9a2c05a",
   "metadata": {},
   "outputs": [
    {
     "data": {
      "text/plain": [
       "{'MK': 146, 'สุกี้ตี๋น้อย': 23, 'Neo Suki': 7, 'เรือนเพชร': 4, 'Coca': 2}"
      ]
     },
     "execution_count": 130,
     "metadata": {},
     "output_type": "execute_result"
    }
   ],
   "source": [
    "cat_rest = {k:v for k,v in col_name[52].value_counts().items() if v >=2}\n",
    "cat_rest"
   ]
  },
  {
   "cell_type": "code",
   "execution_count": 132,
   "id": "5dca47f7",
   "metadata": {},
   "outputs": [
    {
     "data": {
      "text/plain": [
       "{'ทำทานเองที่บ้าน': 1,\n",
       " 'Momo': 1,\n",
       " 'HaiDiLao': 1,\n",
       " 'เจ๊หุย ต้มตุ๋น': 1,\n",
       " 'Mo mo paradise': 1,\n",
       " 'ร้านค้าปกติ': 1,\n",
       " 'แต้จิ๋ว เลิศเลิศ': 1,\n",
       " 'สุกี้เรือนหยก': 1,\n",
       " 'มานีมีหม้อ': 1,\n",
       " 'สุกี้ดารา': 1,\n",
       " 'CMQ hotpot': 1,\n",
       " 'ทำกินเองที่บ้าน': 1,\n",
       " 'เจริญไทยสุกี้': 1,\n",
       " 'เรือนหยกสุกี้': 1,\n",
       " 'เฝอ': 1}"
      ]
     },
     "execution_count": 132,
     "metadata": {},
     "output_type": "execute_result"
    }
   ],
   "source": [
    "cat_other = {k:v for k,v in col_name[52].value_counts().items() if v ==1}\n",
    "cat_other"
   ]
  },
  {
   "cell_type": "code",
   "execution_count": 133,
   "id": "b061022d",
   "metadata": {},
   "outputs": [
    {
     "data": {
      "text/plain": [
       "{'MK': 146,\n",
       " 'สุกี้ตี๋น้อย': 23,\n",
       " 'Neo Suki': 7,\n",
       " 'เรือนเพชร': 4,\n",
       " 'Coca': 2,\n",
       " 'อื่นๆ': 15}"
      ]
     },
     "execution_count": 133,
     "metadata": {},
     "output_type": "execute_result"
    }
   ],
   "source": [
    "cat_rest['อื่นๆ']  = len(cat_other)\n",
    "cat_rest"
   ]
  },
  {
   "cell_type": "code",
   "execution_count": 134,
   "id": "3672183d",
   "metadata": {},
   "outputs": [
    {
     "data": {
      "text/plain": [
       "{'MK': 146,\n",
       " 'สุกี้ตี๋น้อย': 23,\n",
       " 'อื่นๆ': 15,\n",
       " 'Neo Suki': 7,\n",
       " 'เรือนเพชร': 4,\n",
       " 'Coca': 2}"
      ]
     },
     "execution_count": 134,
     "metadata": {},
     "output_type": "execute_result"
    }
   ],
   "source": [
    "cat_rest = {k: v  for k, v in sorted(cat_rest.items(), key=lambda item: item[1],reverse=True)}\n",
    "cat_rest"
   ]
  },
  {
   "cell_type": "code",
   "execution_count": 135,
   "id": "159deaeb",
   "metadata": {},
   "outputs": [
    {
     "data": {
      "text/plain": [
       "<BarContainer object of 6 artists>"
      ]
     },
     "execution_count": 135,
     "metadata": {},
     "output_type": "execute_result"
    },
    {
     "data": {
      "image/png": "[encoded data removed]",
      "text/plain": [
       "<Figure size 432x288 with 1 Axes>"
      ]
     },
     "metadata": {
      "needs_background": "light"
     },
     "output_type": "display_data"
    }
   ],
   "source": [
    "date = list(cat_rest.keys())\n",
    "values = list(cat_rest.values())\n",
    "  \n",
    "# fig = plt.figure(figsize = (10, 5))\n",
    " \n",
    "# creating the bar plot\n",
    "\n",
    "\n",
    "plt.bar(date, values, color ='maroon',\n",
    "        width = 0.6)"
   ]
  },
  {
   "cell_type": "code",
   "execution_count": null,
   "id": "40b53fed",
   "metadata": {},
   "outputs": [],
   "source": []
  },
  {
   "cell_type": "markdown",
   "id": "26fdb1b3",
   "metadata": {},
   "source": [
    "# 4. จากร้านที่ท่านเลือก ในข้อก่อนหน้า โดยภาพรวมท่านมีพึงพอใจในการเข้าใช้บริการและรับประทานหรือไม่ โปรดระบุระดับคะแนนความพึงพอใจของท่านจาก 1- 10 (1 พอใจน้อยที่สุด 10 พอใจมากที่สุด)"
   ]
  },
  {
   "cell_type": "code",
   "execution_count": 136,
   "id": "51961219",
   "metadata": {},
   "outputs": [],
   "source": [
    "#select MK"
   ]
  },
  {
   "cell_type": "code",
   "execution_count": 142,
   "id": "62df68d2",
   "metadata": {},
   "outputs": [
    {
     "data": {
      "text/html": [
       "<div>\n",
       "<style scoped>\n",
       "    .dataframe tbody tr th:only-of-type {\n",
       "        vertical-align: middle;\n",
       "    }\n",
       "\n",
       "    .dataframe tbody tr th {\n",
       "        vertical-align: top;\n",
       "    }\n",
       "\n",
       "    .dataframe thead th {\n",
       "        text-align: right;\n",
       "    }\n",
       "</style>\n",
       "<table border=\"1\" class=\"dataframe\">\n",
       "  <thead>\n",
       "    <tr style=\"text-align: right;\">\n",
       "      <th></th>\n",
       "      <th>rest</th>\n",
       "      <th>score</th>\n",
       "    </tr>\n",
       "  </thead>\n",
       "  <tbody>\n",
       "    <tr>\n",
       "      <th>0</th>\n",
       "      <td>MK</td>\n",
       "      <td>8.0</td>\n",
       "    </tr>\n",
       "    <tr>\n",
       "      <th>1</th>\n",
       "      <td>MK</td>\n",
       "      <td>9.0</td>\n",
       "    </tr>\n",
       "    <tr>\n",
       "      <th>2</th>\n",
       "      <td>MK</td>\n",
       "      <td>10.0</td>\n",
       "    </tr>\n",
       "    <tr>\n",
       "      <th>3</th>\n",
       "      <td>MK</td>\n",
       "      <td>10.0</td>\n",
       "    </tr>\n",
       "    <tr>\n",
       "      <th>4</th>\n",
       "      <td>สุกี้ตี๋น้อย</td>\n",
       "      <td>9.0</td>\n",
       "    </tr>\n",
       "    <tr>\n",
       "      <th>...</th>\n",
       "      <td>...</td>\n",
       "      <td>...</td>\n",
       "    </tr>\n",
       "    <tr>\n",
       "      <th>194</th>\n",
       "      <td>ร้านค้าปกติ</td>\n",
       "      <td>7.0</td>\n",
       "    </tr>\n",
       "    <tr>\n",
       "      <th>195</th>\n",
       "      <td>MK</td>\n",
       "      <td>6.0</td>\n",
       "    </tr>\n",
       "    <tr>\n",
       "      <th>196</th>\n",
       "      <td>MK</td>\n",
       "      <td>7.0</td>\n",
       "    </tr>\n",
       "    <tr>\n",
       "      <th>197</th>\n",
       "      <td>NaN</td>\n",
       "      <td>NaN</td>\n",
       "    </tr>\n",
       "    <tr>\n",
       "      <th>198</th>\n",
       "      <td>NaN</td>\n",
       "      <td>NaN</td>\n",
       "    </tr>\n",
       "  </tbody>\n",
       "</table>\n",
       "<p>199 rows × 2 columns</p>\n",
       "</div>"
      ],
      "text/plain": [
       "             rest  score\n",
       "0              MK    8.0\n",
       "1              MK    9.0\n",
       "2              MK   10.0\n",
       "3              MK   10.0\n",
       "4    สุกี้ตี๋น้อย    9.0\n",
       "..            ...    ...\n",
       "194   ร้านค้าปกติ    7.0\n",
       "195            MK    6.0\n",
       "196            MK    7.0\n",
       "197           NaN    NaN\n",
       "198           NaN    NaN\n",
       "\n",
       "[199 rows x 2 columns]"
      ]
     },
     "execution_count": 142,
     "metadata": {},
     "output_type": "execute_result"
    }
   ],
   "source": [
    "df = pd.DataFrame()\n",
    "df['rest'] = col_name[52]\n",
    "df['score'] = col_name[53]\n",
    "df"
   ]
  },
  {
   "cell_type": "code",
   "execution_count": 149,
   "id": "0ae4162b",
   "metadata": {},
   "outputs": [
    {
     "data": {
      "text/html": [
       "<div>\n",
       "<style scoped>\n",
       "    .dataframe tbody tr th:only-of-type {\n",
       "        vertical-align: middle;\n",
       "    }\n",
       "\n",
       "    .dataframe tbody tr th {\n",
       "        vertical-align: top;\n",
       "    }\n",
       "\n",
       "    .dataframe thead th {\n",
       "        text-align: right;\n",
       "    }\n",
       "</style>\n",
       "<table border=\"1\" class=\"dataframe\">\n",
       "  <thead>\n",
       "    <tr style=\"text-align: right;\">\n",
       "      <th></th>\n",
       "      <th>rest</th>\n",
       "      <th>score</th>\n",
       "    </tr>\n",
       "  </thead>\n",
       "  <tbody>\n",
       "    <tr>\n",
       "      <th>0</th>\n",
       "      <td>MK</td>\n",
       "      <td>8.0</td>\n",
       "    </tr>\n",
       "    <tr>\n",
       "      <th>1</th>\n",
       "      <td>MK</td>\n",
       "      <td>9.0</td>\n",
       "    </tr>\n",
       "    <tr>\n",
       "      <th>2</th>\n",
       "      <td>MK</td>\n",
       "      <td>10.0</td>\n",
       "    </tr>\n",
       "    <tr>\n",
       "      <th>3</th>\n",
       "      <td>MK</td>\n",
       "      <td>10.0</td>\n",
       "    </tr>\n",
       "    <tr>\n",
       "      <th>5</th>\n",
       "      <td>MK</td>\n",
       "      <td>9.0</td>\n",
       "    </tr>\n",
       "    <tr>\n",
       "      <th>...</th>\n",
       "      <td>...</td>\n",
       "      <td>...</td>\n",
       "    </tr>\n",
       "    <tr>\n",
       "      <th>190</th>\n",
       "      <td>MK</td>\n",
       "      <td>8.0</td>\n",
       "    </tr>\n",
       "    <tr>\n",
       "      <th>191</th>\n",
       "      <td>MK</td>\n",
       "      <td>8.0</td>\n",
       "    </tr>\n",
       "    <tr>\n",
       "      <th>192</th>\n",
       "      <td>MK</td>\n",
       "      <td>10.0</td>\n",
       "    </tr>\n",
       "    <tr>\n",
       "      <th>195</th>\n",
       "      <td>MK</td>\n",
       "      <td>6.0</td>\n",
       "    </tr>\n",
       "    <tr>\n",
       "      <th>196</th>\n",
       "      <td>MK</td>\n",
       "      <td>7.0</td>\n",
       "    </tr>\n",
       "  </tbody>\n",
       "</table>\n",
       "<p>146 rows × 2 columns</p>\n",
       "</div>"
      ],
      "text/plain": [
       "    rest  score\n",
       "0     MK    8.0\n",
       "1     MK    9.0\n",
       "2     MK   10.0\n",
       "3     MK   10.0\n",
       "5     MK    9.0\n",
       "..   ...    ...\n",
       "190   MK    8.0\n",
       "191   MK    8.0\n",
       "192   MK   10.0\n",
       "195   MK    6.0\n",
       "196   MK    7.0\n",
       "\n",
       "[146 rows x 2 columns]"
      ]
     },
     "execution_count": 149,
     "metadata": {},
     "output_type": "execute_result"
    }
   ],
   "source": [
    "score = df[df['rest'] == \"MK\"]\n",
    "score"
   ]
  },
  {
   "cell_type": "code",
   "execution_count": 151,
   "id": "4a26a1af",
   "metadata": {},
   "outputs": [
    {
     "data": {
      "text/plain": [
       "8.321917808219178"
      ]
     },
     "execution_count": 151,
     "metadata": {},
     "output_type": "execute_result"
    }
   ],
   "source": [
    "score['score'].mean()"
   ]
  },
  {
   "cell_type": "code",
   "execution_count": null,
   "id": "79a7cf5f",
   "metadata": {},
   "outputs": [],
   "source": []
  },
  {
   "cell_type": "markdown",
   "id": "5ba8f0ac",
   "metadata": {},
   "source": [
    "# 5. ท่านเลือกรับประทานสุกี้แบรนด์ดังกล่าวในข้อก่อนหน้า เพราะเหตุใด"
   ]
  },
  {
   "cell_type": "code",
   "execution_count": 152,
   "id": "1e2137b9",
   "metadata": {},
   "outputs": [
    {
     "data": {
      "text/html": [
       "<div>\n",
       "<style scoped>\n",
       "    .dataframe tbody tr th:only-of-type {\n",
       "        vertical-align: middle;\n",
       "    }\n",
       "\n",
       "    .dataframe tbody tr th {\n",
       "        vertical-align: top;\n",
       "    }\n",
       "\n",
       "    .dataframe thead th {\n",
       "        text-align: right;\n",
       "    }\n",
       "</style>\n",
       "<table border=\"1\" class=\"dataframe\">\n",
       "  <thead>\n",
       "    <tr style=\"text-align: right;\">\n",
       "      <th></th>\n",
       "      <th>rest</th>\n",
       "      <th>bec</th>\n",
       "    </tr>\n",
       "  </thead>\n",
       "  <tbody>\n",
       "    <tr>\n",
       "      <th>0</th>\n",
       "      <td>MK</td>\n",
       "      <td>รสชาติ ชื่อเสียง คุ้นเคย</td>\n",
       "    </tr>\n",
       "    <tr>\n",
       "      <th>1</th>\n",
       "      <td>MK</td>\n",
       "      <td>สะอาด</td>\n",
       "    </tr>\n",
       "    <tr>\n",
       "      <th>2</th>\n",
       "      <td>MK</td>\n",
       "      <td>รสชาติอร่อย</td>\n",
       "    </tr>\n",
       "    <tr>\n",
       "      <th>3</th>\n",
       "      <td>MK</td>\n",
       "      <td>อร่อย สะอาด อยู่ใกล้ที่พัก</td>\n",
       "    </tr>\n",
       "    <tr>\n",
       "      <th>4</th>\n",
       "      <td>สุกี้ตี๋น้อย</td>\n",
       "      <td>ถุกและดี</td>\n",
       "    </tr>\n",
       "    <tr>\n",
       "      <th>...</th>\n",
       "      <td>...</td>\n",
       "      <td>...</td>\n",
       "    </tr>\n",
       "    <tr>\n",
       "      <th>194</th>\n",
       "      <td>ร้านค้าปกติ</td>\n",
       "      <td>สะดวก ง่าย</td>\n",
       "    </tr>\n",
       "    <tr>\n",
       "      <th>195</th>\n",
       "      <td>MK</td>\n",
       "      <td>รสชาติดี แต่หลังๆ คิดว่าของแพงมาก ให้น้อยมาก</td>\n",
       "    </tr>\n",
       "    <tr>\n",
       "      <th>196</th>\n",
       "      <td>MK</td>\n",
       "      <td>ตจว. มีแค่MK</td>\n",
       "    </tr>\n",
       "    <tr>\n",
       "      <th>197</th>\n",
       "      <td>NaN</td>\n",
       "      <td>NaN</td>\n",
       "    </tr>\n",
       "    <tr>\n",
       "      <th>198</th>\n",
       "      <td>NaN</td>\n",
       "      <td>NaN</td>\n",
       "    </tr>\n",
       "  </tbody>\n",
       "</table>\n",
       "<p>199 rows × 2 columns</p>\n",
       "</div>"
      ],
      "text/plain": [
       "             rest                                           bec\n",
       "0              MK                      รสชาติ ชื่อเสียง คุ้นเคย\n",
       "1              MK                                         สะอาด\n",
       "2              MK                                   รสชาติอร่อย\n",
       "3              MK                    อร่อย สะอาด อยู่ใกล้ที่พัก\n",
       "4    สุกี้ตี๋น้อย                                      ถุกและดี\n",
       "..            ...                                           ...\n",
       "194   ร้านค้าปกติ                                    สะดวก ง่าย\n",
       "195            MK  รสชาติดี แต่หลังๆ คิดว่าของแพงมาก ให้น้อยมาก\n",
       "196            MK                                  ตจว. มีแค่MK\n",
       "197           NaN                                           NaN\n",
       "198           NaN                                           NaN\n",
       "\n",
       "[199 rows x 2 columns]"
      ]
     },
     "execution_count": 152,
     "metadata": {},
     "output_type": "execute_result"
    }
   ],
   "source": [
    "df = pd.DataFrame()\n",
    "df['rest'] = col_name[52]\n",
    "df['bec'] = col_name[54]\n",
    "df"
   ]
  },
  {
   "cell_type": "code",
   "execution_count": 153,
   "id": "1ce82c36",
   "metadata": {},
   "outputs": [
    {
     "data": {
      "text/html": [
       "<div>\n",
       "<style scoped>\n",
       "    .dataframe tbody tr th:only-of-type {\n",
       "        vertical-align: middle;\n",
       "    }\n",
       "\n",
       "    .dataframe tbody tr th {\n",
       "        vertical-align: top;\n",
       "    }\n",
       "\n",
       "    .dataframe thead th {\n",
       "        text-align: right;\n",
       "    }\n",
       "</style>\n",
       "<table border=\"1\" class=\"dataframe\">\n",
       "  <thead>\n",
       "    <tr style=\"text-align: right;\">\n",
       "      <th></th>\n",
       "      <th>rest</th>\n",
       "      <th>bec</th>\n",
       "    </tr>\n",
       "  </thead>\n",
       "  <tbody>\n",
       "    <tr>\n",
       "      <th>0</th>\n",
       "      <td>MK</td>\n",
       "      <td>รสชาติ ชื่อเสียง คุ้นเคย</td>\n",
       "    </tr>\n",
       "    <tr>\n",
       "      <th>1</th>\n",
       "      <td>MK</td>\n",
       "      <td>สะอาด</td>\n",
       "    </tr>\n",
       "    <tr>\n",
       "      <th>2</th>\n",
       "      <td>MK</td>\n",
       "      <td>รสชาติอร่อย</td>\n",
       "    </tr>\n",
       "    <tr>\n",
       "      <th>3</th>\n",
       "      <td>MK</td>\n",
       "      <td>อร่อย สะอาด อยู่ใกล้ที่พัก</td>\n",
       "    </tr>\n",
       "    <tr>\n",
       "      <th>5</th>\n",
       "      <td>MK</td>\n",
       "      <td>บริการ</td>\n",
       "    </tr>\n",
       "    <tr>\n",
       "      <th>...</th>\n",
       "      <td>...</td>\n",
       "      <td>...</td>\n",
       "    </tr>\n",
       "    <tr>\n",
       "      <th>190</th>\n",
       "      <td>MK</td>\n",
       "      <td>มีเยอะ</td>\n",
       "    </tr>\n",
       "    <tr>\n",
       "      <th>191</th>\n",
       "      <td>MK</td>\n",
       "      <td>สะดวก</td>\n",
       "    </tr>\n",
       "    <tr>\n",
       "      <th>192</th>\n",
       "      <td>MK</td>\n",
       "      <td>สะอาด</td>\n",
       "    </tr>\n",
       "    <tr>\n",
       "      <th>195</th>\n",
       "      <td>MK</td>\n",
       "      <td>รสชาติดี แต่หลังๆ คิดว่าของแพงมาก ให้น้อยมาก</td>\n",
       "    </tr>\n",
       "    <tr>\n",
       "      <th>196</th>\n",
       "      <td>MK</td>\n",
       "      <td>ตจว. มีแค่MK</td>\n",
       "    </tr>\n",
       "  </tbody>\n",
       "</table>\n",
       "<p>146 rows × 2 columns</p>\n",
       "</div>"
      ],
      "text/plain": [
       "    rest                                           bec\n",
       "0     MK                      รสชาติ ชื่อเสียง คุ้นเคย\n",
       "1     MK                                         สะอาด\n",
       "2     MK                                   รสชาติอร่อย\n",
       "3     MK                    อร่อย สะอาด อยู่ใกล้ที่พัก\n",
       "5     MK                                        บริการ\n",
       "..   ...                                           ...\n",
       "190   MK                                        มีเยอะ\n",
       "191   MK                                         สะดวก\n",
       "192   MK                                         สะอาด\n",
       "195   MK  รสชาติดี แต่หลังๆ คิดว่าของแพงมาก ให้น้อยมาก\n",
       "196   MK                                  ตจว. มีแค่MK\n",
       "\n",
       "[146 rows x 2 columns]"
      ]
     },
     "execution_count": 153,
     "metadata": {},
     "output_type": "execute_result"
    }
   ],
   "source": [
    "bec = df[df['rest'] == \"MK\"]\n",
    "bec"
   ]
  },
  {
   "cell_type": "code",
   "execution_count": 154,
   "id": "987b03d3",
   "metadata": {},
   "outputs": [
    {
     "data": {
      "text/plain": [
       "อร่อย                                           6\n",
       "สะดวก                                           6\n",
       "หาง่าย                                          4\n",
       "รสชาติดี                                        4\n",
       "รสชาติ                                          3\n",
       "                                               ..\n",
       "มีสาขาหลายหลาย อร่อย การบริการดี                1\n",
       "เวลาอยากกินอะไรง่ายๆ ไม่อ้วนมาก เน้นโปรตีน      1\n",
       "คุณภาพและบริการดี                               1\n",
       "เชื่อมั่นในคุณภาพ​ Brand​Trust ที่มีมายาวนาน    1\n",
       "สะดวกในการเดินทาง อาหารอร่อย บริการดี           1\n",
       "Name: bec, Length: 121, dtype: int64"
      ]
     },
     "execution_count": 154,
     "metadata": {},
     "output_type": "execute_result"
    }
   ],
   "source": [
    "bec['bec'].value_counts()"
   ]
  },
  {
   "cell_type": "code",
   "execution_count": 159,
   "id": "dab3d488",
   "metadata": {},
   "outputs": [
    {
     "data": {
      "text/plain": [
       "['อร่อย',\n",
       " 'สะดวก',\n",
       " 'หาง่าย',\n",
       " 'รสชาติดี',\n",
       " 'รสชาติ',\n",
       " 'อร่อย คุ้มค่า',\n",
       " 'สะอาด',\n",
       " 'สาขาเยอะ',\n",
       " 'มีหลายสาขา',\n",
       " 'น้ำจิ้มอร่อย',\n",
       " 'สั่งง่าย',\n",
       " 'สะอาด ใกล้บ้าน',\n",
       " 'สะดวก,รสชาติ',\n",
       " 'รสชาติ และการบริการ',\n",
       " 'ต้องกินตามเพื่อน',\n",
       " 'พ่อแม่ชอบกิน',\n",
       " 'สะดวก มีทั่วไป ที่บ้านชอบ',\n",
       " 'หาทานง่าย',\n",
       " 'มีร้านเยอะ',\n",
       " 'รับประทานกับครอบครัวมาตั้งแต่เด็ก รสชาติอร่อยเสมอต้นเสมอปลาย มั่นใจในคุณภาพ',\n",
       " 'เคยชิน เป็นแบรนด์ที่ครอบครัวพาไปกินตั้งแต่เด็ก',\n",
       " 'สาขาเยอะ มีอยู่ทุกที่ เข้าถึงง่าย รสชาดคงเดิม',\n",
       " 'อร่อย สะอาด',\n",
       " 'สะดวก ใกล้บ้าน รสชาติถูกปาก',\n",
       " 'สะดวก รสชาติเหมือนกันทุกที่',\n",
       " 'อร่อย ',\n",
       " 'รสชาติอร่อยถูกปาก การบริการดี',\n",
       " 'Tasty , good service , ',\n",
       " 'เคยชิน อาหารรสชาติมาตรฐานทุกสาขา',\n",
       " 'ผักสะอาด สด',\n",
       " 'สุขภาพดี มีบัตรสมาชิกส่วนลด',\n",
       " 'ใกล้บ้าน',\n",
       " 'หาทานง่าย รสชาติคงที่ สะอาด',\n",
       " 'รสชาต',\n",
       " 'หาที่กินข้าวกลางวันง่ายๆ นึกอะไรไม่ออก',\n",
       " 'สะอาด สาขาเยอะ',\n",
       " 'ทานประจำตั้งแต่เด็ก',\n",
       " 'อร่อย อยากกินเป็ดย่าง น้ำจิ้มก็อร่อย มีเมนูหลากหลาย',\n",
       " 'รสชาติเหมือนเดิมทุกครั้งที่ไปทาน',\n",
       " 'สะอาด ใกล้บ้าน อร่อย',\n",
       " 'สะอาด รสชาติคงที่ น้ำจิ้มอร่อย น้ำชาฟรี บริการดีรวดเร็ว',\n",
       " 'อาหารอร่อย, สะอาด, น้ำชาฟรี',\n",
       " 'วัตถุดิบ ความสะอาดของร้านและบริการ',\n",
       " 'ตจว. มีแค่MK',\n",
       " 'รอคิวไม่นาน มีมาตราฐานเท่ากันทุกสาขา',\n",
       " 'มีหลายสาขา เข้าถึงง่าย',\n",
       " 'สะอาด ใกล้บ้าน อร่อย ',\n",
       " 'สะอาด ชอบกินเป็ดย่าง',\n",
       " 'สาขาเยอะ ราคารับได้ อาหารอร่อย',\n",
       " 'สะอาด วัตถุดิบมีคุณภาพสมราคา',\n",
       " 'อร่อย สะอาด อยู่ใกล้ที่พัก',\n",
       " 'อร่อยสะอาด',\n",
       " 'ความสะอาดของร้าน การให้บริการและรสชาติน้ำจิ้ม',\n",
       " 'เคยชิน',\n",
       " 'วัตถุดิบสดใหม่',\n",
       " 'ที่บ้านชอบทาน',\n",
       " 'รสถูกปาก  ไม่แพง',\n",
       " 'อาหารเข้าใจง่าย ทานได้ตลอด ไม่เบื่อ',\n",
       " 'ในระยองไม่มีแบรนด์อื่น',\n",
       " 'ราคาไม่สูงมาก รสชาติดี วัตถุดิบดี',\n",
       " 'ใกล้บ้าน เป็นร้านที่ชอบไปเวลาไปกับครอบครัว',\n",
       " 'เข้าถึงง่าย',\n",
       " 'สะดวก ใกล้',\n",
       " 'รสชาติ ชื่อเสียง คุ้นเคย',\n",
       " 'อร่อย และคุ้นเคยรสชาติ',\n",
       " 'มี delivery และรสชาติอาหารไม่เปลี่ยน',\n",
       " 'อร่อย สะอาด บริการดี',\n",
       " 'น้ำจิ้ม, convenience ',\n",
       " 'สะดวก ง่าย คุ้นเคย',\n",
       " 'อร่อย รสชาติได้มาตรฐาน มีบัตรสมาชิกได้รับส่วนลด',\n",
       " 'รสชาติอร่อย สะอาด',\n",
       " 'รสชาติดี แต่หลังๆ คิดว่าของแพงมาก ให้น้อยมาก',\n",
       " 'ง่าย ไม่ต้องคิดอะไร',\n",
       " 'วัตถุดิบนำมาประกอบให้เด็กทานได้ง่าย มีเก้าอี้เด็ก เหมาะกับการมาทานแบบครอบครัว เมนูอาหารหลากหลาย และรสชาติดีเหมือนกันในทุกๆ สาขา',\n",
       " 'ร้านเข้าถึงง่าย',\n",
       " 'ไม่รู้จะกินอะไร',\n",
       " 'คุณภาพโอเค ร้านมีหลายสาขาเข้าถึงง่าย',\n",
       " 'ครอบครัวชอบทาน',\n",
       " 'พอใจในรสชาติ',\n",
       " 'สะสวกสะบาย รู้ว่าจะทานอะไร',\n",
       " 'ความสะอาด คุณภาพ',\n",
       " 'อร่อย สะอาด ราคาเหมะสม',\n",
       " 'ครอบครัวอยากกิน',\n",
       " 'คุณภาพอาหาร รสชาติคงที่',\n",
       " 'คุ้นเคย',\n",
       " 'บริการ',\n",
       " 'มีสาขาเยอะ รสชาติดี อาหารสดสะอาด',\n",
       " 'สาขาเยอะ อร่อย มีคุณภาพ เป็ดย่างอร่อย',\n",
       " 'บริการที่ดี',\n",
       " 'อร่อย บรรยากาศดี บริการดี',\n",
       " 'รสชาติดี,มีความคุ้นเคย,สะดวก',\n",
       " 'หาง่ายมีตามห้าง คิวไม่ยาว',\n",
       " 'อร่อย และสด',\n",
       " 'คนสูงอายุในบ้านชอบแบรนด์นี้',\n",
       " 'กินมานาน อร่อย ชอบน้ำชา',\n",
       " 'ใกล้บ้าน รอคิวไม่นาน',\n",
       " 'มีหลายสาขา ชอบเป็ดย่าง',\n",
       " 'ชอบน้ำจิ้ม เป็ดย่าง และรสชาติของตัวเลือกที่ใส่ในสุกี้',\n",
       " 'ร้านใกล้บ้าน',\n",
       " 'ง่าย',\n",
       " 'รสชาด โปรโมชั่นส่งเสริมการขายของสมาชิก',\n",
       " 'มีเยอะ',\n",
       " 'เดินทางง่าย, การบริการ',\n",
       " 'ครอบครัว + อยากกิน',\n",
       " 'มีสาขาเยอะ รอคิวไม่นาน อาหารได้ไว',\n",
       " 'บริการดี ',\n",
       " 'หาง่าย เดินทางสะดวก ได้มาตรฐาน',\n",
       " 'มีมาตรฐาน เข้าถึงง่าย ',\n",
       " 'หาทานง่าย รสชาตคงที่',\n",
       " 'พนักงานมีน้อย บริหารไม่ทั่วถึง',\n",
       " 'อร่อยดั่งเดิม',\n",
       " 'รสชาติ และ วัตถุ\\u200bดิบ พร้อมทั้งการบริการ',\n",
       " 'หัวหินมีแต่ MK ค่า และเป็ดย่างเอ็มเคอร่อยค่ะ',\n",
       " 'รสชาด',\n",
       " 'รสชาติและคุณภาพอาหาร',\n",
       " 'รสชาติอร่อย',\n",
       " 'มีสาขาหลายหลาย อร่อย การบริการดี',\n",
       " 'เวลาอยากกินอะไรง่ายๆ ไม่อ้วนมาก เน้นโปรตีน',\n",
       " 'คุณภาพและบริการดี',\n",
       " 'เชื่อมั่นในคุณภาพ\\u200b Brand\\u200bTrust ที่มีมายาวนาน',\n",
       " 'สะดวกในการเดินทาง อาหารอร่อย บริการดี']"
      ]
     },
     "execution_count": 159,
     "metadata": {},
     "output_type": "execute_result"
    }
   ],
   "source": [
    "list(bec['bec'].value_counts().index)"
   ]
  },
  {
   "cell_type": "code",
   "execution_count": 165,
   "id": "fbd05d60",
   "metadata": {},
   "outputs": [
    {
     "data": {
      "text/plain": [
       "{'อร่อย': 6,\n",
       " 'สะดวก': 6,\n",
       " 'หาง่าย': 4,\n",
       " 'รสชาติดี': 4,\n",
       " 'รสชาติ': 3,\n",
       " 'อร่อย คุ้มค่า': 3,\n",
       " 'สะอาด': 3}"
      ]
     },
     "execution_count": 165,
     "metadata": {},
     "output_type": "execute_result"
    }
   ],
   "source": [
    "cat = {k:v for k,v in bec['bec'].value_counts().items() if v>=3}\n",
    "cat"
   ]
  },
  {
   "cell_type": "code",
   "execution_count": null,
   "id": "97a72ba9",
   "metadata": {},
   "outputs": [],
   "source": []
  },
  {
   "cell_type": "markdown",
   "id": "c31e528f",
   "metadata": {},
   "source": [
    "# 7. ราคาต่อหัว เมื่อท่านรับประทานสุกี้เป็นราคาประมาณเท่าใด"
   ]
  },
  {
   "cell_type": "code",
   "execution_count": 167,
   "id": "8663f1db",
   "metadata": {},
   "outputs": [
    {
     "data": {
      "text/plain": [
       "0      501-700 บาทต่อคน\n",
       "1      301-500 บาทต่อคน\n",
       "2      301-500 บาทต่อคน\n",
       "3      301-500 บาทต่อคน\n",
       "4      301-500 บาทต่อคน\n",
       "             ...       \n",
       "194    101-300 บาทต่อคน\n",
       "195    301-500 บาทต่อคน\n",
       "196    101-300 บาทต่อคน\n",
       "197                 NaN\n",
       "198                 NaN\n",
       "Name: 7. ราคาต่อหัว เมื่อท่านรับประทานสุกี้เป็นราคาประมาณเท่าใด, Length: 199, dtype: object"
      ]
     },
     "execution_count": 167,
     "metadata": {},
     "output_type": "execute_result"
    }
   ],
   "source": [
    "col_name[56]"
   ]
  },
  {
   "cell_type": "code",
   "execution_count": 168,
   "id": "43efabff",
   "metadata": {},
   "outputs": [
    {
     "data": {
      "text/plain": [
       "301-500 บาทต่อคน          110\n",
       "501-700 บาทต่อคน           37\n",
       "101-300 บาทต่อคน           34\n",
       "700-1,000 บาทต่อคน         13\n",
       "มากกว่า 1,000 บาทต่อคน      2\n",
       "น้อยกว่า 100 บาทต่อคน       1\n",
       "Name: 7. ราคาต่อหัว เมื่อท่านรับประทานสุกี้เป็นราคาประมาณเท่าใด, dtype: int64"
      ]
     },
     "execution_count": 168,
     "metadata": {},
     "output_type": "execute_result"
    }
   ],
   "source": [
    "col_name[56].value_counts()"
   ]
  },
  {
   "cell_type": "code",
   "execution_count": 169,
   "id": "0f981ee6",
   "metadata": {
    "scrolled": true
   },
   "outputs": [
    {
     "data": {
      "text/plain": [
       "<BarContainer object of 6 artists>"
      ]
     },
     "execution_count": 169,
     "metadata": {},
     "output_type": "execute_result"
    },
    {
     "name": "stderr",
     "output_type": "stream",
     "text": [
      "/home/sun/anaconda3/envs/covid-19/lib/python3.8/site-packages/matplotlib/backends/backend_agg.py:240: RuntimeWarning: Glyph 3610 missing from current font.\n",
      "  font.set_text(s, 0.0, flags=flags)\n",
      "/home/sun/anaconda3/envs/covid-19/lib/python3.8/site-packages/matplotlib/backends/backend_agg.py:240: RuntimeWarning: Glyph 3634 missing from current font.\n",
      "  font.set_text(s, 0.0, flags=flags)\n",
      "/home/sun/anaconda3/envs/covid-19/lib/python3.8/site-packages/matplotlib/backends/backend_agg.py:240: RuntimeWarning: Glyph 3607 missing from current font.\n",
      "  font.set_text(s, 0.0, flags=flags)\n",
      "/home/sun/anaconda3/envs/covid-19/lib/python3.8/site-packages/matplotlib/backends/backend_agg.py:240: RuntimeWarning: Glyph 3605 missing from current font.\n",
      "  font.set_text(s, 0.0, flags=flags)\n",
      "/home/sun/anaconda3/envs/covid-19/lib/python3.8/site-packages/matplotlib/backends/backend_agg.py:240: RuntimeWarning: Glyph 3656 missing from current font.\n",
      "  font.set_text(s, 0.0, flags=flags)\n",
      "/home/sun/anaconda3/envs/covid-19/lib/python3.8/site-packages/matplotlib/backends/backend_agg.py:240: RuntimeWarning: Glyph 3629 missing from current font.\n",
      "  font.set_text(s, 0.0, flags=flags)\n",
      "/home/sun/anaconda3/envs/covid-19/lib/python3.8/site-packages/matplotlib/backends/backend_agg.py:240: RuntimeWarning: Glyph 3588 missing from current font.\n",
      "  font.set_text(s, 0.0, flags=flags)\n",
      "/home/sun/anaconda3/envs/covid-19/lib/python3.8/site-packages/matplotlib/backends/backend_agg.py:240: RuntimeWarning: Glyph 3609 missing from current font.\n",
      "  font.set_text(s, 0.0, flags=flags)\n",
      "/home/sun/anaconda3/envs/covid-19/lib/python3.8/site-packages/matplotlib/backends/backend_agg.py:240: RuntimeWarning: Glyph 3617 missing from current font.\n",
      "  font.set_text(s, 0.0, flags=flags)\n",
      "/home/sun/anaconda3/envs/covid-19/lib/python3.8/site-packages/matplotlib/backends/backend_agg.py:240: RuntimeWarning: Glyph 3585 missing from current font.\n",
      "  font.set_text(s, 0.0, flags=flags)\n",
      "/home/sun/anaconda3/envs/covid-19/lib/python3.8/site-packages/matplotlib/backends/backend_agg.py:240: RuntimeWarning: Glyph 3623 missing from current font.\n",
      "  font.set_text(s, 0.0, flags=flags)\n",
      "/home/sun/anaconda3/envs/covid-19/lib/python3.8/site-packages/matplotlib/backends/backend_agg.py:240: RuntimeWarning: Glyph 3657 missing from current font.\n",
      "  font.set_text(s, 0.0, flags=flags)\n",
      "/home/sun/anaconda3/envs/covid-19/lib/python3.8/site-packages/matplotlib/backends/backend_agg.py:240: RuntimeWarning: Glyph 3618 missing from current font.\n",
      "  font.set_text(s, 0.0, flags=flags)\n",
      "/home/sun/anaconda3/envs/covid-19/lib/python3.8/site-packages/matplotlib/backends/backend_agg.py:203: RuntimeWarning: Glyph 3610 missing from current font.\n",
      "  font.set_text(s, 0, flags=flags)\n",
      "/home/sun/anaconda3/envs/covid-19/lib/python3.8/site-packages/matplotlib/backends/backend_agg.py:203: RuntimeWarning: Glyph 3634 missing from current font.\n",
      "  font.set_text(s, 0, flags=flags)\n",
      "/home/sun/anaconda3/envs/covid-19/lib/python3.8/site-packages/matplotlib/backends/backend_agg.py:203: RuntimeWarning: Glyph 3607 missing from current font.\n",
      "  font.set_text(s, 0, flags=flags)\n",
      "/home/sun/anaconda3/envs/covid-19/lib/python3.8/site-packages/matplotlib/backends/backend_agg.py:203: RuntimeWarning: Glyph 3605 missing from current font.\n",
      "  font.set_text(s, 0, flags=flags)\n",
      "/home/sun/anaconda3/envs/covid-19/lib/python3.8/site-packages/matplotlib/backends/backend_agg.py:203: RuntimeWarning: Glyph 3656 missing from current font.\n",
      "  font.set_text(s, 0, flags=flags)\n",
      "/home/sun/anaconda3/envs/covid-19/lib/python3.8/site-packages/matplotlib/backends/backend_agg.py:203: RuntimeWarning: Glyph 3629 missing from current font.\n",
      "  font.set_text(s, 0, flags=flags)\n",
      "/home/sun/anaconda3/envs/covid-19/lib/python3.8/site-packages/matplotlib/backends/backend_agg.py:203: RuntimeWarning: Glyph 3588 missing from current font.\n",
      "  font.set_text(s, 0, flags=flags)\n",
      "/home/sun/anaconda3/envs/covid-19/lib/python3.8/site-packages/matplotlib/backends/backend_agg.py:203: RuntimeWarning: Glyph 3609 missing from current font.\n",
      "  font.set_text(s, 0, flags=flags)\n",
      "/home/sun/anaconda3/envs/covid-19/lib/python3.8/site-packages/matplotlib/backends/backend_agg.py:203: RuntimeWarning: Glyph 3617 missing from current font.\n",
      "  font.set_text(s, 0, flags=flags)\n",
      "/home/sun/anaconda3/envs/covid-19/lib/python3.8/site-packages/matplotlib/backends/backend_agg.py:203: RuntimeWarning: Glyph 3585 missing from current font.\n",
      "  font.set_text(s, 0, flags=flags)\n",
      "/home/sun/anaconda3/envs/covid-19/lib/python3.8/site-packages/matplotlib/backends/backend_agg.py:203: RuntimeWarning: Glyph 3623 missing from current font.\n",
      "  font.set_text(s, 0, flags=flags)\n",
      "/home/sun/anaconda3/envs/covid-19/lib/python3.8/site-packages/matplotlib/backends/backend_agg.py:203: RuntimeWarning: Glyph 3657 missing from current font.\n",
      "  font.set_text(s, 0, flags=flags)\n",
      "/home/sun/anaconda3/envs/covid-19/lib/python3.8/site-packages/matplotlib/backends/backend_agg.py:203: RuntimeWarning: Glyph 3618 missing from current font.\n",
      "  font.set_text(s, 0, flags=flags)\n"
     ]
    },
    {
     "data": {
      "image/png": "[encoded data removed]",
      "text/plain": [
       "<Figure size 432x288 with 1 Axes>"
      ]
     },
     "metadata": {
      "needs_background": "light"
     },
     "output_type": "display_data"
    }
   ],
   "source": [
    "date = list(col_name[56].value_counts().index)\n",
    "values = list(col_name[56].value_counts().values)\n",
    "  \n",
    "# fig = plt.figure(figsize = (10, 5))\n",
    " \n",
    "# creating the bar plot\n",
    "\n",
    "\n",
    "plt.bar(date, values, color ='maroon',\n",
    "        width = 0.6)"
   ]
  },
  {
   "cell_type": "code",
   "execution_count": null,
   "id": "8019d837",
   "metadata": {},
   "outputs": [],
   "source": []
  },
  {
   "cell_type": "markdown",
   "id": "ccc468ae",
   "metadata": {},
   "source": [
    "# 8. วัตถุดิบประเภทใด ที่ท่านชื่นชอบมากที่สุดเมื่อรับประทานสุกี้"
   ]
  },
  {
   "cell_type": "code",
   "execution_count": 170,
   "id": "ce284a75",
   "metadata": {},
   "outputs": [
    {
     "data": {
      "text/plain": [
       "0      น้ำจิ้ม\n",
       "1      น้ำจิ้ม\n",
       "2      น้ำจิ้ม\n",
       "3      น้ำจิ้ม\n",
       "4      น้ำจิ้ม\n",
       "        ...   \n",
       "194      ผักสด\n",
       "195    ลูกชิ้น\n",
       "196    น้ำจิ้ม\n",
       "197        NaN\n",
       "198        NaN\n",
       "Name: 8. วัตถุดิบประเภทใด ที่ท่านชื่นชอบมากที่สุดเมื่อรับประทานสุกี้, Length: 199, dtype: object"
      ]
     },
     "execution_count": 170,
     "metadata": {},
     "output_type": "execute_result"
    }
   ],
   "source": [
    "col_name[57]"
   ]
  },
  {
   "cell_type": "code",
   "execution_count": 171,
   "id": "415e47d2",
   "metadata": {},
   "outputs": [
    {
     "data": {
      "text/plain": [
       "เนื้อสัตว์            92\n",
       "น้ำจิ้ม               54\n",
       "ผักสด                 17\n",
       "บะหมี่                14\n",
       "น้ำซุป                12\n",
       "ลูกชิ้น                6\n",
       "ชอบหมดทุกข้อเลยค่ะ     1\n",
       "ลูกชิ้นปลาแซลมอน       1\n",
       "Name: 8. วัตถุดิบประเภทใด ที่ท่านชื่นชอบมากที่สุดเมื่อรับประทานสุกี้, dtype: int64"
      ]
     },
     "execution_count": 171,
     "metadata": {},
     "output_type": "execute_result"
    }
   ],
   "source": [
    "col_name[57].value_counts()"
   ]
  },
  {
   "cell_type": "code",
   "execution_count": 172,
   "id": "bc540e5b",
   "metadata": {},
   "outputs": [
    {
     "data": {
      "text/plain": [
       "<BarContainer object of 6 artists>"
      ]
     },
     "execution_count": 172,
     "metadata": {},
     "output_type": "execute_result"
    },
    {
     "data": {
      "image/png": "[encoded data removed]",
      "text/plain": [
       "<Figure size 432x288 with 1 Axes>"
      ]
     },
     "metadata": {
      "needs_background": "light"
     },
     "output_type": "display_data"
    }
   ],
   "source": [
    "date = list(col_name[56].value_counts().index)\n",
    "values = list(col_name[56].value_counts().values)\n",
    "  \n",
    "# fig = plt.figure(figsize = (10, 5))\n",
    " \n",
    "# creating the bar plot\n",
    "\n",
    "\n",
    "plt.bar(date, values, color ='maroon',\n",
    "        width = 0.6)"
   ]
  },
  {
   "cell_type": "code",
   "execution_count": null,
   "id": "ce32ee75",
   "metadata": {},
   "outputs": [],
   "source": []
  },
  {
   "cell_type": "code",
   "execution_count": null,
   "id": "fcf793ff",
   "metadata": {},
   "outputs": [],
   "source": []
  },
  {
   "cell_type": "markdown",
   "id": "bbe92fd9",
   "metadata": {},
   "source": [
    "# 9. อาหารอื่นๆที่ทานควบคู่กับการรับประทานสุกี้ประเภทใด ที่ท่านชื่นชอบมากที่สุด"
   ]
  },
  {
   "cell_type": "code",
   "execution_count": 173,
   "id": "01c867f9",
   "metadata": {},
   "outputs": [
    {
     "data": {
      "text/plain": [
       "0      อาหารจานเดียว เช่น เป็ดย่าง หมูกรอบ\n",
       "1      อาหารจานเดียว เช่น เป็ดย่าง หมูกรอบ\n",
       "2      อาหารจานเดียว เช่น เป็ดย่าง หมูกรอบ\n",
       "3      อาหารจานเดียว เช่น เป็ดย่าง หมูกรอบ\n",
       "4      อาหารจานเดียว เช่น เป็ดย่าง หมูกรอบ\n",
       "                      ...                 \n",
       "194                                 ติ่มซำ\n",
       "195    อาหารจานเดียว เช่น เป็ดย่าง หมูกรอบ\n",
       "196    อาหารจานเดียว เช่น เป็ดย่าง หมูกรอบ\n",
       "197                                    NaN\n",
       "198                                    NaN\n",
       "Name: 9. อาหารอื่นๆที่ทานควบคู่กับการรับประทานสุกี้ประเภทใด ที่ท่านชื่นชอบมากที่สุด, Length: 199, dtype: object"
      ]
     },
     "execution_count": 173,
     "metadata": {},
     "output_type": "execute_result"
    }
   ],
   "source": [
    "col_name[58]"
   ]
  },
  {
   "cell_type": "code",
   "execution_count": 174,
   "id": "e6a7aa22",
   "metadata": {},
   "outputs": [
    {
     "data": {
      "text/plain": [
       "อาหารจานเดียว เช่น เป็ดย่าง หมูกรอบ    145\n",
       "ติ่มซำ                                  28\n",
       "อาหารประเภททอด                          16\n",
       "อาหารประเภทยำ                            4\n",
       "แมงกระพรุนน้ำมันงา                       1\n",
       "ผัก เช่นคะน้าน้ำมันหอย                   1\n",
       "ข้าวผัดกระเทียม หรือ หมี่หยก             1\n",
       "ปกติทานแต่สุกี้                          1\n",
       "Name: 9. อาหารอื่นๆที่ทานควบคู่กับการรับประทานสุกี้ประเภทใด ที่ท่านชื่นชอบมากที่สุด, dtype: int64"
      ]
     },
     "execution_count": 174,
     "metadata": {},
     "output_type": "execute_result"
    }
   ],
   "source": [
    "col_name[58].value_counts()"
   ]
  },
  {
   "cell_type": "code",
   "execution_count": 175,
   "id": "497bfea5",
   "metadata": {},
   "outputs": [
    {
     "data": {
      "text/plain": [
       "<BarContainer object of 8 artists>"
      ]
     },
     "execution_count": 175,
     "metadata": {},
     "output_type": "execute_result"
    },
    {
     "name": "stderr",
     "output_type": "stream",
     "text": [
      "/home/sun/anaconda3/envs/covid-19/lib/python3.8/site-packages/matplotlib/backends/backend_agg.py:240: RuntimeWarning: Glyph 3627 missing from current font.\n",
      "  font.set_text(s, 0.0, flags=flags)\n",
      "/home/sun/anaconda3/envs/covid-19/lib/python3.8/site-packages/matplotlib/backends/backend_agg.py:240: RuntimeWarning: Glyph 3619 missing from current font.\n",
      "  font.set_text(s, 0.0, flags=flags)\n",
      "/home/sun/anaconda3/envs/covid-19/lib/python3.8/site-packages/matplotlib/backends/backend_agg.py:240: RuntimeWarning: Glyph 3592 missing from current font.\n",
      "  font.set_text(s, 0.0, flags=flags)\n",
      "/home/sun/anaconda3/envs/covid-19/lib/python3.8/site-packages/matplotlib/backends/backend_agg.py:240: RuntimeWarning: Glyph 3648 missing from current font.\n",
      "  font.set_text(s, 0.0, flags=flags)\n",
      "/home/sun/anaconda3/envs/covid-19/lib/python3.8/site-packages/matplotlib/backends/backend_agg.py:240: RuntimeWarning: Glyph 3604 missing from current font.\n",
      "  font.set_text(s, 0.0, flags=flags)\n",
      "/home/sun/anaconda3/envs/covid-19/lib/python3.8/site-packages/matplotlib/backends/backend_agg.py:240: RuntimeWarning: Glyph 3637 missing from current font.\n",
      "  font.set_text(s, 0.0, flags=flags)\n",
      "/home/sun/anaconda3/envs/covid-19/lib/python3.8/site-packages/matplotlib/backends/backend_agg.py:240: RuntimeWarning: Glyph 3594 missing from current font.\n",
      "  font.set_text(s, 0.0, flags=flags)\n",
      "/home/sun/anaconda3/envs/covid-19/lib/python3.8/site-packages/matplotlib/backends/backend_agg.py:240: RuntimeWarning: Glyph 3611 missing from current font.\n",
      "  font.set_text(s, 0.0, flags=flags)\n",
      "/home/sun/anaconda3/envs/covid-19/lib/python3.8/site-packages/matplotlib/backends/backend_agg.py:240: RuntimeWarning: Glyph 3655 missing from current font.\n",
      "  font.set_text(s, 0.0, flags=flags)\n",
      "/home/sun/anaconda3/envs/covid-19/lib/python3.8/site-packages/matplotlib/backends/backend_agg.py:240: RuntimeWarning: Glyph 3591 missing from current font.\n",
      "  font.set_text(s, 0.0, flags=flags)\n",
      "/home/sun/anaconda3/envs/covid-19/lib/python3.8/site-packages/matplotlib/backends/backend_agg.py:240: RuntimeWarning: Glyph 3641 missing from current font.\n",
      "  font.set_text(s, 0.0, flags=flags)\n",
      "/home/sun/anaconda3/envs/covid-19/lib/python3.8/site-packages/matplotlib/backends/backend_agg.py:240: RuntimeWarning: Glyph 3636 missing from current font.\n",
      "  font.set_text(s, 0.0, flags=flags)\n",
      "/home/sun/anaconda3/envs/covid-19/lib/python3.8/site-packages/matplotlib/backends/backend_agg.py:240: RuntimeWarning: Glyph 3595 missing from current font.\n",
      "  font.set_text(s, 0.0, flags=flags)\n",
      "/home/sun/anaconda3/envs/covid-19/lib/python3.8/site-packages/matplotlib/backends/backend_agg.py:240: RuntimeWarning: Glyph 3635 missing from current font.\n",
      "  font.set_text(s, 0.0, flags=flags)\n",
      "/home/sun/anaconda3/envs/covid-19/lib/python3.8/site-packages/matplotlib/backends/backend_agg.py:240: RuntimeWarning: Glyph 3632 missing from current font.\n",
      "  font.set_text(s, 0.0, flags=flags)\n",
      "/home/sun/anaconda3/envs/covid-19/lib/python3.8/site-packages/matplotlib/backends/backend_agg.py:240: RuntimeWarning: Glyph 3616 missing from current font.\n",
      "  font.set_text(s, 0.0, flags=flags)\n",
      "/home/sun/anaconda3/envs/covid-19/lib/python3.8/site-packages/matplotlib/backends/backend_agg.py:240: RuntimeWarning: Glyph 3649 missing from current font.\n",
      "  font.set_text(s, 0.0, flags=flags)\n",
      "/home/sun/anaconda3/envs/covid-19/lib/python3.8/site-packages/matplotlib/backends/backend_agg.py:240: RuntimeWarning: Glyph 3614 missing from current font.\n",
      "  font.set_text(s, 0.0, flags=flags)\n",
      "/home/sun/anaconda3/envs/covid-19/lib/python3.8/site-packages/matplotlib/backends/backend_agg.py:240: RuntimeWarning: Glyph 3640 missing from current font.\n",
      "  font.set_text(s, 0.0, flags=flags)\n",
      "/home/sun/anaconda3/envs/covid-19/lib/python3.8/site-packages/matplotlib/backends/backend_agg.py:240: RuntimeWarning: Glyph 3633 missing from current font.\n",
      "  font.set_text(s, 0.0, flags=flags)\n",
      "/home/sun/anaconda3/envs/covid-19/lib/python3.8/site-packages/matplotlib/backends/backend_agg.py:240: RuntimeWarning: Glyph 3612 missing from current font.\n",
      "  font.set_text(s, 0.0, flags=flags)\n",
      "/home/sun/anaconda3/envs/covid-19/lib/python3.8/site-packages/matplotlib/backends/backend_agg.py:240: RuntimeWarning: Glyph 3586 missing from current font.\n",
      "  font.set_text(s, 0.0, flags=flags)\n",
      "/home/sun/anaconda3/envs/covid-19/lib/python3.8/site-packages/matplotlib/backends/backend_agg.py:240: RuntimeWarning: Glyph 3639 missing from current font.\n",
      "  font.set_text(s, 0.0, flags=flags)\n",
      "/home/sun/anaconda3/envs/covid-19/lib/python3.8/site-packages/matplotlib/backends/backend_agg.py:240: RuntimeWarning: Glyph 3626 missing from current font.\n",
      "  font.set_text(s, 0.0, flags=flags)\n",
      "/home/sun/anaconda3/envs/covid-19/lib/python3.8/site-packages/matplotlib/backends/backend_agg.py:203: RuntimeWarning: Glyph 3627 missing from current font.\n",
      "  font.set_text(s, 0, flags=flags)\n",
      "/home/sun/anaconda3/envs/covid-19/lib/python3.8/site-packages/matplotlib/backends/backend_agg.py:203: RuntimeWarning: Glyph 3619 missing from current font.\n",
      "  font.set_text(s, 0, flags=flags)\n",
      "/home/sun/anaconda3/envs/covid-19/lib/python3.8/site-packages/matplotlib/backends/backend_agg.py:203: RuntimeWarning: Glyph 3592 missing from current font.\n",
      "  font.set_text(s, 0, flags=flags)\n",
      "/home/sun/anaconda3/envs/covid-19/lib/python3.8/site-packages/matplotlib/backends/backend_agg.py:203: RuntimeWarning: Glyph 3648 missing from current font.\n",
      "  font.set_text(s, 0, flags=flags)\n",
      "/home/sun/anaconda3/envs/covid-19/lib/python3.8/site-packages/matplotlib/backends/backend_agg.py:203: RuntimeWarning: Glyph 3604 missing from current font.\n",
      "  font.set_text(s, 0, flags=flags)\n",
      "/home/sun/anaconda3/envs/covid-19/lib/python3.8/site-packages/matplotlib/backends/backend_agg.py:203: RuntimeWarning: Glyph 3637 missing from current font.\n",
      "  font.set_text(s, 0, flags=flags)\n",
      "/home/sun/anaconda3/envs/covid-19/lib/python3.8/site-packages/matplotlib/backends/backend_agg.py:203: RuntimeWarning: Glyph 3594 missing from current font.\n",
      "  font.set_text(s, 0, flags=flags)\n",
      "/home/sun/anaconda3/envs/covid-19/lib/python3.8/site-packages/matplotlib/backends/backend_agg.py:203: RuntimeWarning: Glyph 3611 missing from current font.\n",
      "  font.set_text(s, 0, flags=flags)\n",
      "/home/sun/anaconda3/envs/covid-19/lib/python3.8/site-packages/matplotlib/backends/backend_agg.py:203: RuntimeWarning: Glyph 3655 missing from current font.\n",
      "  font.set_text(s, 0, flags=flags)\n",
      "/home/sun/anaconda3/envs/covid-19/lib/python3.8/site-packages/matplotlib/backends/backend_agg.py:203: RuntimeWarning: Glyph 3591 missing from current font.\n",
      "  font.set_text(s, 0, flags=flags)\n",
      "/home/sun/anaconda3/envs/covid-19/lib/python3.8/site-packages/matplotlib/backends/backend_agg.py:203: RuntimeWarning: Glyph 3641 missing from current font.\n",
      "  font.set_text(s, 0, flags=flags)\n",
      "/home/sun/anaconda3/envs/covid-19/lib/python3.8/site-packages/matplotlib/backends/backend_agg.py:203: RuntimeWarning: Glyph 3636 missing from current font.\n",
      "  font.set_text(s, 0, flags=flags)\n",
      "/home/sun/anaconda3/envs/covid-19/lib/python3.8/site-packages/matplotlib/backends/backend_agg.py:203: RuntimeWarning: Glyph 3595 missing from current font.\n",
      "  font.set_text(s, 0, flags=flags)\n",
      "/home/sun/anaconda3/envs/covid-19/lib/python3.8/site-packages/matplotlib/backends/backend_agg.py:203: RuntimeWarning: Glyph 3635 missing from current font.\n",
      "  font.set_text(s, 0, flags=flags)\n",
      "/home/sun/anaconda3/envs/covid-19/lib/python3.8/site-packages/matplotlib/backends/backend_agg.py:203: RuntimeWarning: Glyph 3632 missing from current font.\n",
      "  font.set_text(s, 0, flags=flags)\n",
      "/home/sun/anaconda3/envs/covid-19/lib/python3.8/site-packages/matplotlib/backends/backend_agg.py:203: RuntimeWarning: Glyph 3616 missing from current font.\n",
      "  font.set_text(s, 0, flags=flags)\n",
      "/home/sun/anaconda3/envs/covid-19/lib/python3.8/site-packages/matplotlib/backends/backend_agg.py:203: RuntimeWarning: Glyph 3649 missing from current font.\n",
      "  font.set_text(s, 0, flags=flags)\n",
      "/home/sun/anaconda3/envs/covid-19/lib/python3.8/site-packages/matplotlib/backends/backend_agg.py:203: RuntimeWarning: Glyph 3614 missing from current font.\n",
      "  font.set_text(s, 0, flags=flags)\n",
      "/home/sun/anaconda3/envs/covid-19/lib/python3.8/site-packages/matplotlib/backends/backend_agg.py:203: RuntimeWarning: Glyph 3640 missing from current font.\n",
      "  font.set_text(s, 0, flags=flags)\n",
      "/home/sun/anaconda3/envs/covid-19/lib/python3.8/site-packages/matplotlib/backends/backend_agg.py:203: RuntimeWarning: Glyph 3633 missing from current font.\n",
      "  font.set_text(s, 0, flags=flags)\n",
      "/home/sun/anaconda3/envs/covid-19/lib/python3.8/site-packages/matplotlib/backends/backend_agg.py:203: RuntimeWarning: Glyph 3612 missing from current font.\n",
      "  font.set_text(s, 0, flags=flags)\n",
      "/home/sun/anaconda3/envs/covid-19/lib/python3.8/site-packages/matplotlib/backends/backend_agg.py:203: RuntimeWarning: Glyph 3586 missing from current font.\n",
      "  font.set_text(s, 0, flags=flags)\n",
      "/home/sun/anaconda3/envs/covid-19/lib/python3.8/site-packages/matplotlib/backends/backend_agg.py:203: RuntimeWarning: Glyph 3639 missing from current font.\n",
      "  font.set_text(s, 0, flags=flags)\n",
      "/home/sun/anaconda3/envs/covid-19/lib/python3.8/site-packages/matplotlib/backends/backend_agg.py:203: RuntimeWarning: Glyph 3626 missing from current font.\n",
      "  font.set_text(s, 0, flags=flags)\n"
     ]
    },
    {
     "data": {
      "image/png": "[encoded data removed]",
      "text/plain": [
       "<Figure size 432x288 with 1 Axes>"
      ]
     },
     "metadata": {
      "needs_background": "light"
     },
     "output_type": "display_data"
    }
   ],
   "source": [
    "date = list(col_name[58].value_counts().index)\n",
    "values = list(col_name[58].value_counts().values)\n",
    "  \n",
    "# fig = plt.figure(figsize = (10, 5))\n",
    " \n",
    "# creating the bar plot\n",
    "\n",
    "\n",
    "plt.bar(date, values, color ='maroon',\n",
    "        width = 0.6)"
   ]
  },
  {
   "cell_type": "code",
   "execution_count": null,
   "id": "18b583e0",
   "metadata": {},
   "outputs": [],
   "source": []
  },
  {
   "cell_type": "markdown",
   "id": "fedde972",
   "metadata": {},
   "source": [
    "# 1. ท่านรู้จัก MK Live หรือไม่"
   ]
  },
  {
   "cell_type": "code",
   "execution_count": 176,
   "id": "af4dc1a1",
   "metadata": {},
   "outputs": [
    {
     "data": {
      "text/plain": [
       "0         รู้จัก\n",
       "1         รู้จัก\n",
       "2         รู้จัก\n",
       "3         รู้จัก\n",
       "4         รู้จัก\n",
       "         ...    \n",
       "194    ไม่รู้จัก\n",
       "195    ไม่รู้จัก\n",
       "196    ไม่รู้จัก\n",
       "197          NaN\n",
       "198          NaN\n",
       "Name: 1. ท่านรู้จัก MK Live หรือไม่, Length: 199, dtype: object"
      ]
     },
     "execution_count": 176,
     "metadata": {},
     "output_type": "execute_result"
    }
   ],
   "source": [
    "col_name[59]"
   ]
  },
  {
   "cell_type": "code",
   "execution_count": 177,
   "id": "856a6faa",
   "metadata": {},
   "outputs": [
    {
     "data": {
      "text/plain": [
       "รู้จัก       164\n",
       "ไม่รู้จัก     33\n",
       "Name: 1. ท่านรู้จัก MK Live หรือไม่, dtype: int64"
      ]
     },
     "execution_count": 177,
     "metadata": {},
     "output_type": "execute_result"
    }
   ],
   "source": [
    "col_name[59].value_counts()"
   ]
  },
  {
   "cell_type": "code",
   "execution_count": 178,
   "id": "33175e79",
   "metadata": {},
   "outputs": [
    {
     "data": {
      "text/plain": [
       "<BarContainer object of 2 artists>"
      ]
     },
     "execution_count": 178,
     "metadata": {},
     "output_type": "execute_result"
    },
    {
     "name": "stderr",
     "output_type": "stream",
     "text": [
      "/home/sun/anaconda3/envs/covid-19/lib/python3.8/site-packages/matplotlib/backends/backend_agg.py:240: RuntimeWarning: Glyph 3652 missing from current font.\n",
      "  font.set_text(s, 0.0, flags=flags)\n",
      "/home/sun/anaconda3/envs/covid-19/lib/python3.8/site-packages/matplotlib/backends/backend_agg.py:203: RuntimeWarning: Glyph 3652 missing from current font.\n",
      "  font.set_text(s, 0, flags=flags)\n"
     ]
    },
    {
     "data": {
      "image/png": "[encoded data removed]",
      "text/plain": [
       "<Figure size 432x288 with 1 Axes>"
      ]
     },
     "metadata": {
      "needs_background": "light"
     },
     "output_type": "display_data"
    }
   ],
   "source": [
    "date = list(col_name[59].value_counts().index)\n",
    "values = list(col_name[59].value_counts().values)\n",
    "  \n",
    "# fig = plt.figure(figsize = (10, 5))\n",
    " \n",
    "# creating the bar plot\n",
    "\n",
    "\n",
    "plt.bar(date, values, color ='maroon',\n",
    "        width = 0.6)"
   ]
  },
  {
   "cell_type": "code",
   "execution_count": null,
   "id": "83f4d112",
   "metadata": {},
   "outputs": [],
   "source": []
  },
  {
   "cell_type": "markdown",
   "id": "773d8ae2",
   "metadata": {},
   "source": [
    "# 2. ท่านเคยรับประทาน MK Live หรือไม่"
   ]
  },
  {
   "cell_type": "code",
   "execution_count": 179,
   "id": "6053edba",
   "metadata": {},
   "outputs": [
    {
     "data": {
      "text/plain": [
       "0         เคย\n",
       "1         เคย\n",
       "2         เคย\n",
       "3         เคย\n",
       "4         เคย\n",
       "        ...  \n",
       "194    ไม่เคย\n",
       "195    ไม่เคย\n",
       "196    ไม่เคย\n",
       "197       NaN\n",
       "198       NaN\n",
       "Name: 2. ท่านเคยรับประทาน MK Live หรือไม่, Length: 199, dtype: object"
      ]
     },
     "execution_count": 179,
     "metadata": {},
     "output_type": "execute_result"
    }
   ],
   "source": [
    "col_name[60]"
   ]
  },
  {
   "cell_type": "code",
   "execution_count": 180,
   "id": "3620184e",
   "metadata": {},
   "outputs": [
    {
     "data": {
      "text/plain": [
       "ไม่เคย    103\n",
       "เคย        94\n",
       "Name: 2. ท่านเคยรับประทาน MK Live หรือไม่, dtype: int64"
      ]
     },
     "execution_count": 180,
     "metadata": {},
     "output_type": "execute_result"
    }
   ],
   "source": [
    "col_name[60].value_counts()"
   ]
  },
  {
   "cell_type": "code",
   "execution_count": 181,
   "id": "e6c2dc10",
   "metadata": {},
   "outputs": [
    {
     "data": {
      "text/plain": [
       "<BarContainer object of 2 artists>"
      ]
     },
     "execution_count": 181,
     "metadata": {},
     "output_type": "execute_result"
    },
    {
     "data": {
      "image/png": "[encoded data removed]",
      "text/plain": [
       "<Figure size 432x288 with 1 Axes>"
      ]
     },
     "metadata": {
      "needs_background": "light"
     },
     "output_type": "display_data"
    }
   ],
   "source": [
    "date = list(col_name[60].value_counts().index)\n",
    "values = list(col_name[60].value_counts().values)\n",
    "  \n",
    "# fig = plt.figure(figsize = (10, 5))\n",
    " \n",
    "# creating the bar plot\n",
    "\n",
    "\n",
    "plt.bar(date, values, color ='maroon',\n",
    "        width = 0.6)"
   ]
  },
  {
   "cell_type": "code",
   "execution_count": null,
   "id": "918329c1",
   "metadata": {},
   "outputs": [],
   "source": []
  },
  {
   "cell_type": "markdown",
   "id": "e4615c98",
   "metadata": {},
   "source": [
    "# 1. ท่านเคยรับประทาน MK Live ที่สาขาใดบ้าง (ตอบได้มากกว่า 1 คำตอบ)"
   ]
  },
  {
   "cell_type": "code",
   "execution_count": 192,
   "id": "78e7c47e",
   "metadata": {},
   "outputs": [
    {
     "data": {
      "text/plain": [
       "0                     Emquatier\n",
       "1                   Mega Bangna\n",
       "2                   Mega Bangna\n",
       "3                 Central World\n",
       "4      Central World, Emquatier\n",
       "                 ...           \n",
       "194                         NaN\n",
       "195                         NaN\n",
       "196                         NaN\n",
       "197                         NaN\n",
       "198                         NaN\n",
       "Name: 1. ท่านเคยรับประทาน MK Live ที่สาขาใดบ้าง (ตอบได้มากกว่า 1 คำตอบ), Length: 199, dtype: object"
      ]
     },
     "execution_count": 192,
     "metadata": {},
     "output_type": "execute_result"
    }
   ],
   "source": [
    "col_name[61]"
   ]
  },
  {
   "cell_type": "code",
   "execution_count": 194,
   "id": "cb8ca904",
   "metadata": {},
   "outputs": [
    {
     "data": {
      "text/plain": [
       "Emquatier                                27\n",
       "Central World                            26\n",
       "Mega Bangna                               9\n",
       "Central World, Emquatier                  8\n",
       "Icon Siam                                 6\n",
       "Emquatier, Mega Bangna                    5\n",
       "Emquatier, Icon Siam                      4\n",
       "Central World, Icon Siam                  2\n",
       "Central World, Mega Bangna                2\n",
       "Central World, Emquatier, Mega Bangna     1\n",
       "Central Phuket                            1\n",
       "Icon Siam, Mega Bangna                    1\n",
       "Central World, Icon Siam, Mega Bangna     1\n",
       "Mega Bangna, Central Phuket               1\n",
       "Name: 1. ท่านเคยรับประทาน MK Live ที่สาขาใดบ้าง (ตอบได้มากกว่า 1 คำตอบ), dtype: int64"
      ]
     },
     "execution_count": 194,
     "metadata": {},
     "output_type": "execute_result"
    }
   ],
   "source": [
    "col_name[61].value_counts()"
   ]
  },
  {
   "cell_type": "code",
   "execution_count": 206,
   "id": "bfb207cc",
   "metadata": {
    "collapsed": true
   },
   "outputs": [
    {
     "data": {
      "text/plain": [
       "['Emquatier',\n",
       " 'Central World',\n",
       " 'Mega Bangna',\n",
       " 'Central World, Emquatier',\n",
       " 'Icon Siam',\n",
       " 'Emquatier, Mega Bangna',\n",
       " 'Emquatier, Icon Siam',\n",
       " 'Central World, Icon Siam',\n",
       " 'Central World, Mega Bangna',\n",
       " 'Central World, Emquatier, Mega Bangna',\n",
       " 'Central Phuket',\n",
       " 'Icon Siam, Mega Bangna',\n",
       " 'Central World, Icon Siam, Mega Bangna',\n",
       " 'Mega Bangna, Central Phuket']"
      ]
     },
     "execution_count": 206,
     "metadata": {},
     "output_type": "execute_result"
    }
   ],
   "source": [
    "text_list = list(col_name[61].value_counts().index)\n",
    "text_list"
   ]
  },
  {
   "cell_type": "code",
   "execution_count": 207,
   "id": "1bf5166e",
   "metadata": {},
   "outputs": [
    {
     "data": {
      "text/plain": [
       "[',']"
      ]
     },
     "execution_count": 207,
     "metadata": {},
     "output_type": "execute_result"
    }
   ],
   "source": [
    "check_non_ch = [index for text in text_list for index in text if not re.match(r\"[\\u0E00-\\u0E7Fa-zA-Z' ]\", index)]\n",
    "check_non_ch = list(set(check_non_ch))\n",
    "check_non_ch"
   ]
  },
  {
   "cell_type": "code",
   "execution_count": 208,
   "id": "721c9f81",
   "metadata": {},
   "outputs": [],
   "source": [
    "def text_process(text,check_non_ch):\n",
    "    for ch in check_non_ch:\n",
    "        if ch in text :\n",
    "            text = text.replace(ch,\" \")\n",
    "    return text"
   ]
  },
  {
   "cell_type": "code",
   "execution_count": 209,
   "id": "69b1c4e6",
   "metadata": {},
   "outputs": [
    {
     "data": {
      "text/plain": [
       "[['Emquatier'],\n",
       " ['Central World'],\n",
       " ['Mega Bangna'],\n",
       " ['Central World', 'Emquatier'],\n",
       " ['Icon Siam'],\n",
       " ['Emquatier', 'Mega Bangna'],\n",
       " ['Emquatier', 'Icon Siam'],\n",
       " ['Central World', 'Icon Siam'],\n",
       " ['Central World', 'Mega Bangna'],\n",
       " ['Central World', 'Emquatier', 'Mega Bangna'],\n",
       " ['Central Phuket'],\n",
       " ['Icon Siam', 'Mega Bangna'],\n",
       " ['Central World', 'Icon Siam', 'Mega Bangna'],\n",
       " ['Mega Bangna', 'Central Phuket']]"
      ]
     },
     "execution_count": 209,
     "metadata": {},
     "output_type": "execute_result"
    }
   ],
   "source": [
    "split_ch = [text_process(text,check_non_ch).split('  ') for text in text_list]\n",
    "split_ch"
   ]
  },
  {
   "cell_type": "code",
   "execution_count": 212,
   "id": "0b619352",
   "metadata": {},
   "outputs": [
    {
     "data": {
      "text/plain": [
       "['Icon Siam', 'Central World', 'Emquatier', 'Central Phuket', 'Mega Bangna']"
      ]
     },
     "execution_count": 212,
     "metadata": {},
     "output_type": "execute_result"
    }
   ],
   "source": [
    "sum_ch = []\n",
    "for i in split_ch:\n",
    "    sum_ch.extend(i)\n",
    "sum_ch = list(set(sum_ch))\n",
    "sum_ch"
   ]
  },
  {
   "cell_type": "code",
   "execution_count": 213,
   "id": "ad9f319e",
   "metadata": {},
   "outputs": [
    {
     "data": {
      "text/plain": [
       "Emquatier                                27\n",
       "Central World                            26\n",
       "Mega Bangna                               9\n",
       "Central World, Emquatier                  8\n",
       "Icon Siam                                 6\n",
       "Emquatier, Mega Bangna                    5\n",
       "Emquatier, Icon Siam                      4\n",
       "Central World, Icon Siam                  2\n",
       "Central World, Mega Bangna                2\n",
       "Central World, Emquatier, Mega Bangna     1\n",
       "Central Phuket                            1\n",
       "Icon Siam, Mega Bangna                    1\n",
       "Central World, Icon Siam, Mega Bangna     1\n",
       "Mega Bangna, Central Phuket               1\n",
       "Name: 1. ท่านเคยรับประทาน MK Live ที่สาขาใดบ้าง (ตอบได้มากกว่า 1 คำตอบ), dtype: int64"
      ]
     },
     "execution_count": 213,
     "metadata": {},
     "output_type": "execute_result"
    }
   ],
   "source": [
    "col_name[61].value_counts()"
   ]
  },
  {
   "cell_type": "code",
   "execution_count": 216,
   "id": "49dfe7f8",
   "metadata": {},
   "outputs": [
    {
     "data": {
      "text/plain": [
       "Index(['Emquatier', 'Central World', 'Mega Bangna', 'Central World, Emquatier',\n",
       "       'Icon Siam', 'Emquatier, Mega Bangna', 'Emquatier, Icon Siam',\n",
       "       'Central World, Icon Siam', 'Central World, Mega Bangna',\n",
       "       'Central World, Emquatier, Mega Bangna', 'Central Phuket',\n",
       "       'Icon Siam, Mega Bangna', 'Central World, Icon Siam, Mega Bangna',\n",
       "       'Mega Bangna, Central Phuket'],\n",
       "      dtype='object')"
      ]
     },
     "execution_count": 216,
     "metadata": {},
     "output_type": "execute_result"
    }
   ],
   "source": [
    "col_name[61].value_counts().index"
   ]
  },
  {
   "cell_type": "code",
   "execution_count": 226,
   "id": "0869c18b",
   "metadata": {},
   "outputs": [
    {
     "data": {
      "text/plain": [
       "{'Icon Siam': 14,\n",
       " 'Central World': 40,\n",
       " 'Emquatier': 45,\n",
       " 'Central Phuket': 2,\n",
       " 'Mega Bangna': 20}"
      ]
     },
     "execution_count": 226,
     "metadata": {},
     "output_type": "execute_result"
    }
   ],
   "source": [
    "banch = {}\n",
    "for i in sum_ch:\n",
    "    sum_b = 0\n",
    "    for k,v in col_name[61].value_counts().items():\n",
    "        split_ch = text_process(k,check_non_ch).split(\"  \")\n",
    "        if i in split_ch:\n",
    "            sum_b += v\n",
    "    banch[i] = sum_b\n",
    "            \n",
    "banch"
   ]
  },
  {
   "cell_type": "code",
   "execution_count": 227,
   "id": "ccd9785e",
   "metadata": {},
   "outputs": [
    {
     "data": {
      "text/plain": [
       "{'Emquatier': 45,\n",
       " 'Central World': 40,\n",
       " 'Mega Bangna': 20,\n",
       " 'Icon Siam': 14,\n",
       " 'Central Phuket': 2}"
      ]
     },
     "execution_count": 227,
     "metadata": {},
     "output_type": "execute_result"
    }
   ],
   "source": [
    "banch = {k: v  for k, v in sorted(banch.items(), key=lambda item: item[1],reverse=True)}\n",
    "banch"
   ]
  },
  {
   "cell_type": "code",
   "execution_count": 228,
   "id": "49f44658",
   "metadata": {},
   "outputs": [
    {
     "data": {
      "text/plain": [
       "<BarContainer object of 5 artists>"
      ]
     },
     "execution_count": 228,
     "metadata": {},
     "output_type": "execute_result"
    },
    {
     "data": {
      "image/png": "[encoded data removed]",
      "text/plain": [
       "<Figure size 432x288 with 1 Axes>"
      ]
     },
     "metadata": {
      "needs_background": "light"
     },
     "output_type": "display_data"
    }
   ],
   "source": [
    "date = list(banch.keys())\n",
    "values = list(banch.values())\n",
    "  \n",
    "# fig = plt.figure(figsize = (10, 5))\n",
    " \n",
    "# creating the bar plot\n",
    "\n",
    "\n",
    "plt.bar(date, values, color ='maroon',\n",
    "        width = 0.6)"
   ]
  },
  {
   "cell_type": "code",
   "execution_count": null,
   "id": "e9c117aa",
   "metadata": {},
   "outputs": [],
   "source": []
  },
  {
   "cell_type": "markdown",
   "id": "09071f74",
   "metadata": {},
   "source": [
    "# 3. ท่านรับประทาน MK Live บ่อยเพียงใด"
   ]
  },
  {
   "cell_type": "code",
   "execution_count": 230,
   "id": "8f7a6777",
   "metadata": {},
   "outputs": [
    {
     "data": {
      "text/plain": [
       "0               1 ครั้งต่อเดือน\n",
       "1               1 ครั้งต่อเดือน\n",
       "2      น้อยกว่า 1 ครั้งต่อเดือน\n",
       "3      น้อยกว่า 1 ครั้งต่อเดือน\n",
       "4      น้อยกว่า 1 ครั้งต่อเดือน\n",
       "                 ...           \n",
       "194                         NaN\n",
       "195                         NaN\n",
       "196                         NaN\n",
       "197                         NaN\n",
       "198                         NaN\n",
       "Name: 3. ท่านรับประทาน MK Live บ่อยเพียงใด\\n, Length: 199, dtype: object"
      ]
     },
     "execution_count": 230,
     "metadata": {},
     "output_type": "execute_result"
    }
   ],
   "source": [
    "col_name[63]"
   ]
  },
  {
   "cell_type": "code",
   "execution_count": 231,
   "id": "20d0d4d9",
   "metadata": {},
   "outputs": [
    {
     "data": {
      "text/plain": [
       "น้อยกว่า 1 ครั้งต่อเดือน    83\n",
       "1 ครั้งต่อเดือน              9\n",
       "2 ครั้งต่อเดือน              2\n",
       "Name: 3. ท่านรับประทาน MK Live บ่อยเพียงใด\\n, dtype: int64"
      ]
     },
     "execution_count": 231,
     "metadata": {},
     "output_type": "execute_result"
    }
   ],
   "source": [
    "col_name[63].value_counts()"
   ]
  },
  {
   "cell_type": "code",
   "execution_count": 232,
   "id": "b28c62d8",
   "metadata": {},
   "outputs": [
    {
     "data": {
      "text/plain": [
       "<BarContainer object of 3 artists>"
      ]
     },
     "execution_count": 232,
     "metadata": {},
     "output_type": "execute_result"
    },
    {
     "data": {
      "image/png": "[encoded data removed]",
      "text/plain": [
       "<Figure size 432x288 with 1 Axes>"
      ]
     },
     "metadata": {
      "needs_background": "light"
     },
     "output_type": "display_data"
    }
   ],
   "source": [
    "date = list(col_name[63].value_counts().index)\n",
    "values = list(col_name[63].value_counts().values)\n",
    "  \n",
    "# fig = plt.figure(figsize = (10, 5))\n",
    " \n",
    "# creating the bar plot\n",
    "\n",
    "\n",
    "plt.bar(date, values, color ='maroon',\n",
    "        width = 0.6)"
   ]
  },
  {
   "cell_type": "code",
   "execution_count": null,
   "id": "90945b48",
   "metadata": {},
   "outputs": [],
   "source": []
  },
  {
   "cell_type": "markdown",
   "id": "ecb83cab",
   "metadata": {},
   "source": [
    "# 4.1 ท่านชอบ MK Live เพราะสาเหตุใด สูงที่สุด 3 ลำดับแรก [อันดับ 1]"
   ]
  },
  {
   "cell_type": "code",
   "execution_count": 235,
   "id": "a4664b82",
   "metadata": {},
   "outputs": [
    {
     "data": {
      "text/plain": [
       "0      การตกแต่งและบรรยากาศของร้าน\n",
       "1             เป็นอาหารเพื่อสุขภาพ\n",
       "2      การตกแต่งและบรรยากาศของร้าน\n",
       "3                     เมนูแปลกใหม่\n",
       "4             เป็นอาหารเพื่อสุขภาพ\n",
       "                  ...             \n",
       "194                            NaN\n",
       "195                            NaN\n",
       "196                            NaN\n",
       "197                            NaN\n",
       "198                            NaN\n",
       "Name: 4.1 ท่านชอบ MK Live เพราะสาเหตุใด สูงที่สุด 3 ลำดับแรก [อันดับ 1], Length: 199, dtype: object"
      ]
     },
     "execution_count": 235,
     "metadata": {},
     "output_type": "execute_result"
    }
   ],
   "source": [
    "col_name[65]"
   ]
  },
  {
   "cell_type": "code",
   "execution_count": 236,
   "id": "dae448d1",
   "metadata": {},
   "outputs": [
    {
     "data": {
      "text/plain": [
       "เป็นอาหารเพื่อสุขภาพ           45\n",
       "เมนูแปลกใหม่                   16\n",
       "การตกแต่งและบรรยากาศของร้าน    12\n",
       "ไม่ต้องรอคิวนาน                 9\n",
       "มีการบริการที่ดี                6\n",
       "เดินทางสะดวกใกล้บ้าน            4\n",
       "อื่นๆ                           2\n",
       "Name: 4.1 ท่านชอบ MK Live เพราะสาเหตุใด สูงที่สุด 3 ลำดับแรก [อันดับ 1], dtype: int64"
      ]
     },
     "execution_count": 236,
     "metadata": {},
     "output_type": "execute_result"
    }
   ],
   "source": [
    "col_name[65].value_counts()"
   ]
  },
  {
   "cell_type": "code",
   "execution_count": 237,
   "id": "44f0007b",
   "metadata": {},
   "outputs": [
    {
     "data": {
      "text/plain": [
       "<BarContainer object of 7 artists>"
      ]
     },
     "execution_count": 237,
     "metadata": {},
     "output_type": "execute_result"
    },
    {
     "name": "stderr",
     "output_type": "stream",
     "text": [
      "/home/sun/anaconda3/envs/covid-19/lib/python3.8/site-packages/matplotlib/backends/backend_agg.py:240: RuntimeWarning: Glyph 3621 missing from current font.\n",
      "  font.set_text(s, 0.0, flags=flags)\n",
      "/home/sun/anaconda3/envs/covid-19/lib/python3.8/site-packages/matplotlib/backends/backend_agg.py:240: RuntimeWarning: Glyph 3651 missing from current font.\n",
      "  font.set_text(s, 0.0, flags=flags)\n",
      "/home/sun/anaconda3/envs/covid-19/lib/python3.8/site-packages/matplotlib/backends/backend_agg.py:240: RuntimeWarning: Glyph 3624 missing from current font.\n",
      "  font.set_text(s, 0.0, flags=flags)\n",
      "/home/sun/anaconda3/envs/covid-19/lib/python3.8/site-packages/matplotlib/backends/backend_agg.py:240: RuntimeWarning: Glyph 3654 missing from current font.\n",
      "  font.set_text(s, 0.0, flags=flags)\n",
      "/home/sun/anaconda3/envs/covid-19/lib/python3.8/site-packages/matplotlib/backends/backend_agg.py:203: RuntimeWarning: Glyph 3621 missing from current font.\n",
      "  font.set_text(s, 0, flags=flags)\n",
      "/home/sun/anaconda3/envs/covid-19/lib/python3.8/site-packages/matplotlib/backends/backend_agg.py:203: RuntimeWarning: Glyph 3651 missing from current font.\n",
      "  font.set_text(s, 0, flags=flags)\n",
      "/home/sun/anaconda3/envs/covid-19/lib/python3.8/site-packages/matplotlib/backends/backend_agg.py:203: RuntimeWarning: Glyph 3624 missing from current font.\n",
      "  font.set_text(s, 0, flags=flags)\n",
      "/home/sun/anaconda3/envs/covid-19/lib/python3.8/site-packages/matplotlib/backends/backend_agg.py:203: RuntimeWarning: Glyph 3654 missing from current font.\n",
      "  font.set_text(s, 0, flags=flags)\n"
     ]
    },
    {
     "data": {
      "image/png": "[encoded data removed]",
      "text/plain": [
       "<Figure size 432x288 with 1 Axes>"
      ]
     },
     "metadata": {
      "needs_background": "light"
     },
     "output_type": "display_data"
    }
   ],
   "source": [
    "date = list(col_name[65].value_counts().index)\n",
    "values = list(col_name[65].value_counts().values)\n",
    "  \n",
    "# fig = plt.figure(figsize = (10, 5))\n",
    " \n",
    "# creating the bar plot\n",
    "\n",
    "\n",
    "plt.bar(date, values, color ='maroon',\n",
    "        width = 0.6)"
   ]
  },
  {
   "cell_type": "code",
   "execution_count": null,
   "id": "28985952",
   "metadata": {},
   "outputs": [],
   "source": []
  },
  {
   "cell_type": "code",
   "execution_count": null,
   "id": "f2af7b5e",
   "metadata": {},
   "outputs": [],
   "source": []
  },
  {
   "cell_type": "markdown",
   "id": "8975f812",
   "metadata": {},
   "source": [
    "# 5.1 ท่านคิดว่า MK Live ต่างจาก MK อย่างไร สูงที่สุด 3 ลำดับแรก [อันดับ 1]"
   ]
  },
  {
   "cell_type": "code",
   "execution_count": 245,
   "id": "241a8677",
   "metadata": {},
   "outputs": [
    {
     "data": {
      "text/plain": [
       "0                                    ราคา\n",
       "1      MK Live เหมาะกับคนรักสุขภาพมากกว่า\n",
       "2                                    ราคา\n",
       "3                     เมนูอาหารแตกต่างกัน\n",
       "4                     เมนูอาหารแตกต่างกัน\n",
       "                      ...                \n",
       "194                                   NaN\n",
       "195                                   NaN\n",
       "196                                   NaN\n",
       "197                                   NaN\n",
       "198                                   NaN\n",
       "Name: 5.1 ท่านคิดว่า MK Live ต่างจาก MK อย่างไร สูงที่สุด 3 ลำดับแรก [อันดับ 1], Length: 199, dtype: object"
      ]
     },
     "execution_count": 245,
     "metadata": {},
     "output_type": "execute_result"
    }
   ],
   "source": [
    "col_name[69]"
   ]
  },
  {
   "cell_type": "code",
   "execution_count": 246,
   "id": "1f3b82fa",
   "metadata": {},
   "outputs": [
    {
     "data": {
      "text/plain": [
       "ราคา                                  36\n",
       "MK Live เหมาะกับคนรักสุขภาพมากกว่า    24\n",
       "เมนูอาหารแตกต่างกัน                   19\n",
       "บรรยากาศการตกแต่งร้าน                  6\n",
       "ไม่แตกต่าง                             4\n",
       "คุณภาพและความสดใหม่ของอาหาร            4\n",
       "อื่นๆ                                  1\n",
       "Name: 5.1 ท่านคิดว่า MK Live ต่างจาก MK อย่างไร สูงที่สุด 3 ลำดับแรก [อันดับ 1], dtype: int64"
      ]
     },
     "execution_count": 246,
     "metadata": {},
     "output_type": "execute_result"
    }
   ],
   "source": [
    "col_name[69].value_counts()"
   ]
  },
  {
   "cell_type": "code",
   "execution_count": 247,
   "id": "84d1dc67",
   "metadata": {},
   "outputs": [
    {
     "data": {
      "text/plain": [
       "<BarContainer object of 7 artists>"
      ]
     },
     "execution_count": 247,
     "metadata": {},
     "output_type": "execute_result"
    },
    {
     "name": "stderr",
     "output_type": "stream",
     "text": [
      "/home/sun/anaconda3/envs/covid-19/lib/python3.8/site-packages/matplotlib/backends/backend_agg.py:240: RuntimeWarning: Glyph 3603 missing from current font.\n",
      "  font.set_text(s, 0.0, flags=flags)\n",
      "/home/sun/anaconda3/envs/covid-19/lib/python3.8/site-packages/matplotlib/backends/backend_agg.py:203: RuntimeWarning: Glyph 3603 missing from current font.\n",
      "  font.set_text(s, 0, flags=flags)\n"
     ]
    },
    {
     "data": {
      "image/png": "[encoded data removed]",
      "text/plain": [
       "<Figure size 432x288 with 1 Axes>"
      ]
     },
     "metadata": {
      "needs_background": "light"
     },
     "output_type": "display_data"
    }
   ],
   "source": [
    "date = list(col_name[69].value_counts().index)\n",
    "values = list(col_name[69].value_counts().values)\n",
    "  \n",
    "# fig = plt.figure(figsize = (10, 5))\n",
    " \n",
    "# creating the bar plot\n",
    "\n",
    "\n",
    "plt.bar(date, values, color ='maroon',\n",
    "        width = 0.6)"
   ]
  },
  {
   "cell_type": "code",
   "execution_count": null,
   "id": "68bfdd6e",
   "metadata": {},
   "outputs": [],
   "source": []
  },
  {
   "cell_type": "markdown",
   "id": "17d6d715",
   "metadata": {},
   "source": [
    "# 1. ปัจจัยที่สำคัญที่สุดปัจจัยใด ที่จะทำให้ท่านสนใจทดลองรับประทานอาหารที่ร้าน MK Live (เลือกได้ไม่เกิน 3 คำตอบ)\n"
   ]
  },
  {
   "cell_type": "code",
   "execution_count": 250,
   "id": "a5f54605",
   "metadata": {},
   "outputs": [
    {
     "data": {
      "text/plain": [
       "0                                                    NaN\n",
       "1                                                    NaN\n",
       "2                                                    NaN\n",
       "3                                                    NaN\n",
       "4                                                    NaN\n",
       "                             ...                        \n",
       "194          ราคาอาหาร, เมนูอาหาร, บรรยากาศการตกแต่งร้าน\n",
       "195    ราคาอาหาร, เมนูอาหาร, คุณภาพและความสดใหม่ของอาหาร\n",
       "196                                                  NaN\n",
       "197                                                  NaN\n",
       "198                                                  NaN\n",
       "Name: 1. ปัจจัยที่สำคัญที่สุดปัจจัยใด ที่จะทำให้ท่านสนใจทดลองรับประทานอาหารที่ร้าน MK Live (เลือกได้ไม่เกิน 3 คำตอบ)\\n, Length: 199, dtype: object"
      ]
     },
     "execution_count": 250,
     "metadata": {},
     "output_type": "execute_result"
    }
   ],
   "source": [
    "col_name[74]"
   ]
  },
  {
   "cell_type": "code",
   "execution_count": 251,
   "id": "c74b972c",
   "metadata": {
    "scrolled": true
   },
   "outputs": [
    {
     "data": {
      "text/plain": [
       "ราคาอาหาร, เมนูอาหาร, คุณภาพและความสดใหม่ของอาหาร                                17\n",
       "ราคาอาหาร, เมนูอาหาร, ที่ตั้งของสาขา                                              7\n",
       "ราคาอาหาร, เมนูอาหาร, โปรโมชั่น                                                   4\n",
       "เมนูอาหาร, คุณภาพและความสดใหม่ของอาหาร, ภาพลักษณ์ของแบรนด์                        4\n",
       "ราคาอาหาร, คุณภาพและความสดใหม่ของอาหาร, พนักงาน และระดับการบริการ                 3\n",
       "ราคาอาหาร, คุณภาพและความสดใหม่ของอาหาร, ที่ตั้งของสาขา                            3\n",
       "เมนูอาหาร, คุณภาพและความสดใหม่ของอาหาร, ที่ตั้งของสาขา                            3\n",
       "เมนูอาหาร, การประชาสัมพันธ์ และโฆษณา, โปรโมชั่น                                   2\n",
       "เมนูอาหาร, ภาพลักษณ์ของแบรนด์, บรรยากาศการตกแต่งร้าน                              2\n",
       "เมนูอาหาร, คุณภาพและความสดใหม่ของอาหาร                                            2\n",
       "คุณภาพและความสดใหม่ของอาหาร, ภาพลักษณ์ของแบรนด์, บรรยากาศการตกแต่งร้าน            2\n",
       "เมนูอาหาร, คุณภาพและความสดใหม่ของอาหาร, พนักงาน และระดับการบริการ                 2\n",
       "ราคาอาหาร, คุณภาพและความสดใหม่ของอาหาร, ภาพลักษณ์ของแบรนด์                        2\n",
       "ราคาอาหาร, คุณภาพและความสดใหม่ของอาหาร, จำนวนสาขา                                 1\n",
       "คุณภาพและความสดใหม่ของอาหาร, บรรยากาศการตกแต่งร้าน, การประชาสัมพันธ์ และโฆษณา     1\n",
       "ราคาอาหาร, คุณภาพและความสดใหม่ของอาหาร, โปรโมชั่น                                 1\n",
       "ภาพลักษณ์ของแบรนด์, อยากรู้ว่าต่างจาก MK ปกติยังไง                                1\n",
       "คุณภาพและความสดใหม่ของอาหาร, ภาพลักษณ์ของแบรนด์, พนักงาน และระดับการบริการ        1\n",
       "ราคาอาหาร, เมนูอาหาร, ภาพลักษณ์ของแบรนด์                                          1\n",
       "ภาพลักษณ์ของแบรนด์, บรรยากาศการตกแต่งร้าน, การประชาสัมพันธ์ และโฆษณา              1\n",
       "เมนูอาหาร, ที่ตั้งของสาขา                                                         1\n",
       "ราคาอาหาร, ที่ตั้งของสาขา, จำนวนสาขา                                              1\n",
       "เมนูอาหาร, ภาพลักษณ์ของแบรนด์, การประชาสัมพันธ์ และโฆษณา                          1\n",
       "คุณภาพและความสดใหม่ของอาหาร, ที่ตั้งของสาขา, บรรยากาศการตกแต่งร้าน                1\n",
       "การประชาสัมพันธ์ และโฆษณา                                                         1\n",
       "เมนูอาหาร, คุณภาพและความสดใหม่ของอาหาร, บรรยากาศการตกแต่งร้าน                     1\n",
       "อยากลอง                                                                           1\n",
       "ราคาอาหาร, ที่ตั้งของสาขา, การประชาสัมพันธ์ และโฆษณา                              1\n",
       "คุณภาพและความสดใหม่ของอาหาร                                                       1\n",
       "ที่ตั้งของสาขา, บรรยากาศการตกแต่งร้าน, โปรโมชั่น                                  1\n",
       "เมนูอาหาร, ภาพลักษณ์ของแบรนด์, พนักงาน และระดับการบริการ                          1\n",
       "โปรโมชั่น                                                                         1\n",
       "ความแปลกใหม่ และต้องการทดลองสิ่งใหม่                                              1\n",
       "ราคาอาหาร, ที่ตั้งของสาขา, พนักงาน และระดับการบริการ                              1\n",
       "เมนูอาหาร, คุณภาพและความสดใหม่ของอาหาร, โปรโมชั่น                                 1\n",
       "คุณภาพและความสดใหม่ของอาหาร, พนักงาน และระดับการบริการ, โปรโมชั่น                 1\n",
       "ที่ตั้งของสาขา, การประชาสัมพันธ์ และโฆษณา, โปรโมชั่น                              1\n",
       "คุณภาพและความสดใหม่ของอาหาร, อยากลอง                                              1\n",
       "สงสัยว่าคืออะไร                                                                   1\n",
       "ภาพลักษณ์ของแบรนด์, บรรยากาศการตกแต่งร้าน                                         1\n",
       "ราคาอาหาร, เมนูอาหาร, บรรยากาศการตกแต่งร้าน                                       1\n",
       "เมนูอาหาร, คุณภาพและความสดใหม่ของอาหาร, การประชาสัมพันธ์ และโฆษณา                 1\n",
       "คุณภาพและความสดใหม่ของอาหาร, การประชาสัมพันธ์ และโฆษณา, โปรโมชั่น                 1\n",
       "คุณภาพและความสดใหม่ของอาหาร, ที่ตั้งของสาขา, พนักงาน และระดับการบริการ            1\n",
       "Name: 1. ปัจจัยที่สำคัญที่สุดปัจจัยใด ที่จะทำให้ท่านสนใจทดลองรับประทานอาหารที่ร้าน MK Live (เลือกได้ไม่เกิน 3 คำตอบ)\\n, dtype: int64"
      ]
     },
     "execution_count": 251,
     "metadata": {},
     "output_type": "execute_result"
    }
   ],
   "source": [
    "col_name[74].value_counts()"
   ]
  },
  {
   "cell_type": "code",
   "execution_count": 253,
   "id": "cb452a65",
   "metadata": {
    "scrolled": true
   },
   "outputs": [
    {
     "data": {
      "text/plain": [
       "[',']"
      ]
     },
     "execution_count": 253,
     "metadata": {},
     "output_type": "execute_result"
    }
   ],
   "source": [
    "text_list = list(col_name[74].value_counts().index)\n",
    "check_non_ch = [index for text in text_list for index in text if not re.match(r\"[\\u0E00-\\u0E7Fa-zA-Z' ]\", index)]\n",
    "check_non_ch = list(set(check_non_ch))\n",
    "check_non_ch"
   ]
  },
  {
   "cell_type": "code",
   "execution_count": 254,
   "id": "7538bcea",
   "metadata": {},
   "outputs": [],
   "source": [
    "def text_process(text,check_non_ch):\n",
    "    for ch in check_non_ch:\n",
    "        if ch in text :\n",
    "            text = text.replace(ch,\" \")\n",
    "    return text"
   ]
  },
  {
   "cell_type": "code",
   "execution_count": 258,
   "id": "c42b834b",
   "metadata": {
    "scrolled": true
   },
   "outputs": [
    {
     "data": {
      "text/plain": [
       "[['ราคาอาหาร', 'เมนูอาหาร', 'คุณภาพและความสดใหม่ของอาหาร'],\n",
       " ['ราคาอาหาร', 'เมนูอาหาร', 'ที่ตั้งของสาขา'],\n",
       " ['ราคาอาหาร', 'เมนูอาหาร', 'โปรโมชั่น'],\n",
       " ['เมนูอาหาร', 'คุณภาพและความสดใหม่ของอาหาร', 'ภาพลักษณ์ของแบรนด์'],\n",
       " ['ราคาอาหาร', 'คุณภาพและความสดใหม่ของอาหาร', 'พนักงาน และระดับการบริการ'],\n",
       " ['ราคาอาหาร', 'คุณภาพและความสดใหม่ของอาหาร', 'ที่ตั้งของสาขา'],\n",
       " ['เมนูอาหาร', 'คุณภาพและความสดใหม่ของอาหาร', 'ที่ตั้งของสาขา'],\n",
       " ['เมนูอาหาร', 'การประชาสัมพันธ์ และโฆษณา', 'โปรโมชั่น'],\n",
       " ['เมนูอาหาร', 'ภาพลักษณ์ของแบรนด์', 'บรรยากาศการตกแต่งร้าน'],\n",
       " ['เมนูอาหาร', 'คุณภาพและความสดใหม่ของอาหาร'],\n",
       " ['คุณภาพและความสดใหม่ของอาหาร',\n",
       "  'ภาพลักษณ์ของแบรนด์',\n",
       "  'บรรยากาศการตกแต่งร้าน'],\n",
       " ['เมนูอาหาร', 'คุณภาพและความสดใหม่ของอาหาร', 'พนักงาน และระดับการบริการ'],\n",
       " ['ราคาอาหาร', 'คุณภาพและความสดใหม่ของอาหาร', 'ภาพลักษณ์ของแบรนด์'],\n",
       " ['ราคาอาหาร', 'คุณภาพและความสดใหม่ของอาหาร', 'จำนวนสาขา'],\n",
       " ['คุณภาพและความสดใหม่ของอาหาร',\n",
       "  'บรรยากาศการตกแต่งร้าน',\n",
       "  'การประชาสัมพันธ์ และโฆษณา'],\n",
       " ['ราคาอาหาร', 'คุณภาพและความสดใหม่ของอาหาร', 'โปรโมชั่น'],\n",
       " ['ภาพลักษณ์ของแบรนด์', 'อยากรู้ว่าต่างจาก MK ปกติยังไง'],\n",
       " ['คุณภาพและความสดใหม่ของอาหาร',\n",
       "  'ภาพลักษณ์ของแบรนด์',\n",
       "  'พนักงาน และระดับการบริการ'],\n",
       " ['ราคาอาหาร', 'เมนูอาหาร', 'ภาพลักษณ์ของแบรนด์'],\n",
       " ['ภาพลักษณ์ของแบรนด์', 'บรรยากาศการตกแต่งร้าน', 'การประชาสัมพันธ์ และโฆษณา'],\n",
       " ['เมนูอาหาร', 'ที่ตั้งของสาขา'],\n",
       " ['ราคาอาหาร', 'ที่ตั้งของสาขา', 'จำนวนสาขา'],\n",
       " ['เมนูอาหาร', 'ภาพลักษณ์ของแบรนด์', 'การประชาสัมพันธ์ และโฆษณา'],\n",
       " ['คุณภาพและความสดใหม่ของอาหาร', 'ที่ตั้งของสาขา', 'บรรยากาศการตกแต่งร้าน'],\n",
       " ['การประชาสัมพันธ์ และโฆษณา'],\n",
       " ['เมนูอาหาร', 'คุณภาพและความสดใหม่ของอาหาร', 'บรรยากาศการตกแต่งร้าน'],\n",
       " ['อยากลอง'],\n",
       " ['ราคาอาหาร', 'ที่ตั้งของสาขา', 'การประชาสัมพันธ์ และโฆษณา'],\n",
       " ['คุณภาพและความสดใหม่ของอาหาร'],\n",
       " ['ที่ตั้งของสาขา', 'บรรยากาศการตกแต่งร้าน', 'โปรโมชั่น'],\n",
       " ['เมนูอาหาร', 'ภาพลักษณ์ของแบรนด์', 'พนักงาน และระดับการบริการ'],\n",
       " ['โปรโมชั่น'],\n",
       " ['ความแปลกใหม่ และต้องการทดลองสิ่งใหม่'],\n",
       " ['ราคาอาหาร', 'ที่ตั้งของสาขา', 'พนักงาน และระดับการบริการ'],\n",
       " ['เมนูอาหาร', 'คุณภาพและความสดใหม่ของอาหาร', 'โปรโมชั่น'],\n",
       " ['คุณภาพและความสดใหม่ของอาหาร', 'พนักงาน และระดับการบริการ', 'โปรโมชั่น'],\n",
       " ['ที่ตั้งของสาขา', 'การประชาสัมพันธ์ และโฆษณา', 'โปรโมชั่น'],\n",
       " ['คุณภาพและความสดใหม่ของอาหาร', 'อยากลอง'],\n",
       " ['สงสัยว่าคืออะไร'],\n",
       " ['ภาพลักษณ์ของแบรนด์', 'บรรยากาศการตกแต่งร้าน'],\n",
       " ['ราคาอาหาร', 'เมนูอาหาร', 'บรรยากาศการตกแต่งร้าน'],\n",
       " ['เมนูอาหาร', 'คุณภาพและความสดใหม่ของอาหาร', 'การประชาสัมพันธ์ และโฆษณา'],\n",
       " ['คุณภาพและความสดใหม่ของอาหาร', 'การประชาสัมพันธ์ และโฆษณา', 'โปรโมชั่น'],\n",
       " ['คุณภาพและความสดใหม่ของอาหาร',\n",
       "  'ที่ตั้งของสาขา',\n",
       "  'พนักงาน และระดับการบริการ']]"
      ]
     },
     "execution_count": 258,
     "metadata": {},
     "output_type": "execute_result"
    }
   ],
   "source": [
    "split_ch = [text_process(text,check_non_ch).split('  ') for text in text_list]\n",
    "split_ch"
   ]
  },
  {
   "cell_type": "code",
   "execution_count": 259,
   "id": "8d9f741f",
   "metadata": {},
   "outputs": [
    {
     "data": {
      "text/plain": [
       "['อยากลอง',\n",
       " 'บรรยากาศการตกแต่งร้าน',\n",
       " 'ที่ตั้งของสาขา',\n",
       " 'พนักงาน และระดับการบริการ',\n",
       " 'สงสัยว่าคืออะไร',\n",
       " 'ราคาอาหาร',\n",
       " 'โปรโมชั่น',\n",
       " 'ภาพลักษณ์ของแบรนด์',\n",
       " 'ความแปลกใหม่ และต้องการทดลองสิ่งใหม่',\n",
       " 'คุณภาพและความสดใหม่ของอาหาร',\n",
       " 'เมนูอาหาร',\n",
       " 'จำนวนสาขา',\n",
       " 'อยากรู้ว่าต่างจาก MK ปกติยังไง',\n",
       " 'การประชาสัมพันธ์ และโฆษณา']"
      ]
     },
     "execution_count": 259,
     "metadata": {},
     "output_type": "execute_result"
    }
   ],
   "source": [
    "sum_ch = []\n",
    "for i in split_ch:\n",
    "    sum_ch.extend(i)\n",
    "sum_ch = list(set(sum_ch))\n",
    "sum_ch"
   ]
  },
  {
   "cell_type": "code",
   "execution_count": 260,
   "id": "a92e0c75",
   "metadata": {},
   "outputs": [
    {
     "data": {
      "text/plain": [
       "{'อยากลอง': 2,\n",
       " 'บรรยากาศการตกแต่งร้าน': 11,\n",
       " 'ที่ตั้งของสาขา': 21,\n",
       " 'พนักงาน และระดับการบริการ': 10,\n",
       " 'สงสัยว่าคืออะไร': 1,\n",
       " 'ราคาอาหาร': 43,\n",
       " 'โปรโมชั่น': 13,\n",
       " 'ภาพลักษณ์ของแบรนด์': 17,\n",
       " 'ความแปลกใหม่ และต้องการทดลองสิ่งใหม่': 1,\n",
       " 'คุณภาพและความสดใหม่ของอาหาร': 51,\n",
       " 'เมนูอาหาร': 51,\n",
       " 'จำนวนสาขา': 2,\n",
       " 'อยากรู้ว่าต่างจาก MK ปกติยังไง': 1,\n",
       " 'การประชาสัมพันธ์ และโฆษณา': 10}"
      ]
     },
     "execution_count": 260,
     "metadata": {},
     "output_type": "execute_result"
    }
   ],
   "source": [
    "banch = {}\n",
    "for i in sum_ch:\n",
    "    sum_b = 0\n",
    "    for k,v in col_name[74].value_counts().items():\n",
    "        split_ch = text_process(k,check_non_ch).split(\"  \")\n",
    "        if i in split_ch:\n",
    "            sum_b += v\n",
    "    banch[i] = sum_b\n",
    "            \n",
    "banch"
   ]
  },
  {
   "cell_type": "code",
   "execution_count": 262,
   "id": "67cca87c",
   "metadata": {},
   "outputs": [
    {
     "data": {
      "text/plain": [
       "{'คุณภาพและความสดใหม่ของอาหาร': 51,\n",
       " 'เมนูอาหาร': 51,\n",
       " 'ราคาอาหาร': 43,\n",
       " 'ที่ตั้งของสาขา': 21,\n",
       " 'ภาพลักษณ์ของแบรนด์': 17,\n",
       " 'โปรโมชั่น': 13,\n",
       " 'บรรยากาศการตกแต่งร้าน': 11,\n",
       " 'พนักงาน และระดับการบริการ': 10,\n",
       " 'การประชาสัมพันธ์ และโฆษณา': 10,\n",
       " 'อยากลอง': 2,\n",
       " 'จำนวนสาขา': 2,\n",
       " 'สงสัยว่าคืออะไร': 1,\n",
       " 'ความแปลกใหม่ และต้องการทดลองสิ่งใหม่': 1,\n",
       " 'อยากรู้ว่าต่างจาก MK ปกติยังไง': 1}"
      ]
     },
     "execution_count": 262,
     "metadata": {},
     "output_type": "execute_result"
    }
   ],
   "source": [
    "banch = {k: v  for k, v in sorted(banch.items(), key=lambda item: item[1],reverse=True)}\n",
    "banch"
   ]
  },
  {
   "cell_type": "code",
   "execution_count": 263,
   "id": "ff0a649e",
   "metadata": {},
   "outputs": [
    {
     "data": {
      "text/plain": [
       "<BarContainer object of 14 artists>"
      ]
     },
     "execution_count": 263,
     "metadata": {},
     "output_type": "execute_result"
    },
    {
     "data": {
      "image/png": "[encoded data removed]",
      "text/plain": [
       "<Figure size 432x288 with 1 Axes>"
      ]
     },
     "metadata": {
      "needs_background": "light"
     },
     "output_type": "display_data"
    }
   ],
   "source": [
    "date = list(banch.keys())\n",
    "values = list(banch.values())\n",
    "  \n",
    "# fig = plt.figure(figsize = (10, 5))\n",
    " \n",
    "# creating the bar plot\n",
    "\n",
    "\n",
    "plt.bar(date, values, color ='maroon',\n",
    "        width = 0.6)"
   ]
  },
  {
   "cell_type": "code",
   "execution_count": null,
   "id": "b0a2dac2",
   "metadata": {},
   "outputs": [],
   "source": []
  },
  {
   "cell_type": "code",
   "execution_count": null,
   "id": "d996d893",
   "metadata": {},
   "outputs": [],
   "source": []
  },
  {
   "cell_type": "markdown",
   "id": "de96e8ef",
   "metadata": {},
   "source": [
    "# 1. เพศ"
   ]
  },
  {
   "cell_type": "code",
   "execution_count": 271,
   "id": "7b2fc520",
   "metadata": {},
   "outputs": [
    {
     "data": {
      "text/plain": [
       "0      หญิง\n",
       "1      หญิง\n",
       "2      หญิง\n",
       "3      หญิง\n",
       "4       ชาย\n",
       "       ... \n",
       "194    หญิง\n",
       "195    หญิง\n",
       "196     ชาย\n",
       "197     NaN\n",
       "198     NaN\n",
       "Name: 1. เพศ, Length: 199, dtype: object"
      ]
     },
     "execution_count": 271,
     "metadata": {},
     "output_type": "execute_result"
    }
   ],
   "source": [
    "col_name[78]"
   ]
  },
  {
   "cell_type": "code",
   "execution_count": 272,
   "id": "10606bd1",
   "metadata": {},
   "outputs": [
    {
     "data": {
      "text/plain": [
       "หญิง          119\n",
       "ชาย            75\n",
       "LGBTQ           1\n",
       "ตัวเลือก 2      1\n",
       "ทอม             1\n",
       "Name: 1. เพศ, dtype: int64"
      ]
     },
     "execution_count": 272,
     "metadata": {},
     "output_type": "execute_result"
    }
   ],
   "source": [
    "col_name[78].value_counts()"
   ]
  },
  {
   "cell_type": "code",
   "execution_count": 274,
   "id": "3673268a",
   "metadata": {},
   "outputs": [
    {
     "data": {
      "text/plain": [
       "{'หญิง': 119, 'ชาย': 75}"
      ]
     },
     "execution_count": 274,
     "metadata": {},
     "output_type": "execute_result"
    }
   ],
   "source": [
    "sex = {k:v for k,v in col_name[78].value_counts().items() if v>1}\n",
    "sex"
   ]
  },
  {
   "cell_type": "code",
   "execution_count": 275,
   "id": "f35a7d31",
   "metadata": {},
   "outputs": [
    {
     "data": {
      "text/plain": [
       "<BarContainer object of 2 artists>"
      ]
     },
     "execution_count": 275,
     "metadata": {},
     "output_type": "execute_result"
    },
    {
     "name": "stderr",
     "output_type": "stream",
     "text": [
      "/home/sun/anaconda3/envs/covid-19/lib/python3.8/site-packages/matplotlib/backends/backend_agg.py:240: RuntimeWarning: Glyph 3597 missing from current font.\n",
      "  font.set_text(s, 0.0, flags=flags)\n",
      "/home/sun/anaconda3/envs/covid-19/lib/python3.8/site-packages/matplotlib/backends/backend_agg.py:203: RuntimeWarning: Glyph 3597 missing from current font.\n",
      "  font.set_text(s, 0, flags=flags)\n"
     ]
    },
    {
     "data": {
      "image/png": "[encoded data removed]",
      "text/plain": [
       "<Figure size 432x288 with 1 Axes>"
      ]
     },
     "metadata": {
      "needs_background": "light"
     },
     "output_type": "display_data"
    }
   ],
   "source": [
    "date = list(sex.keys())\n",
    "values = list(sex.values())\n",
    "  \n",
    "# fig = plt.figure(figsize = (10, 5))\n",
    " \n",
    "# creating the bar plot\n",
    "\n",
    "\n",
    "plt.bar(date, values, color ='maroon',\n",
    "        width = 0.6)"
   ]
  },
  {
   "cell_type": "code",
   "execution_count": null,
   "id": "b217ae96",
   "metadata": {},
   "outputs": [],
   "source": []
  },
  {
   "cell_type": "markdown",
   "id": "d36bc3bd",
   "metadata": {},
   "source": [
    "# 2. อายุ"
   ]
  },
  {
   "cell_type": "code",
   "execution_count": 277,
   "id": "4e739599",
   "metadata": {},
   "outputs": [
    {
     "data": {
      "text/plain": [
       "0      26-33 ปี\n",
       "1      26-33 ปี\n",
       "2      26-33 ปี\n",
       "3      26-33 ปี\n",
       "4      26-33 ปี\n",
       "         ...   \n",
       "194    26-33 ปี\n",
       "195    42-49 ปี\n",
       "196    26-33 ปี\n",
       "197         NaN\n",
       "198         NaN\n",
       "Name: 2. อายุ, Length: 199, dtype: object"
      ]
     },
     "execution_count": 277,
     "metadata": {},
     "output_type": "execute_result"
    }
   ],
   "source": [
    "col_name[79]"
   ]
  },
  {
   "cell_type": "code",
   "execution_count": 278,
   "id": "229bb078",
   "metadata": {},
   "outputs": [
    {
     "data": {
      "text/plain": [
       "26-33 ปี       110\n",
       "34-41 ปี        49\n",
       "50 ปีขึ้นไป     14\n",
       "42-49 ปี        13\n",
       "18-25 ปี        11\n",
       "Name: 2. อายุ, dtype: int64"
      ]
     },
     "execution_count": 278,
     "metadata": {},
     "output_type": "execute_result"
    }
   ],
   "source": [
    "col_name[79].value_counts()"
   ]
  },
  {
   "cell_type": "code",
   "execution_count": 279,
   "id": "f6809be4",
   "metadata": {},
   "outputs": [
    {
     "data": {
      "text/plain": [
       "<BarContainer object of 5 artists>"
      ]
     },
     "execution_count": 279,
     "metadata": {},
     "output_type": "execute_result"
    },
    {
     "name": "stderr",
     "output_type": "stream",
     "text": [
      "/home/sun/anaconda3/envs/covid-19/lib/python3.8/site-packages/matplotlib/backends/backend_agg.py:240: RuntimeWarning: Glyph 3638 missing from current font.\n",
      "  font.set_text(s, 0.0, flags=flags)\n",
      "/home/sun/anaconda3/envs/covid-19/lib/python3.8/site-packages/matplotlib/backends/backend_agg.py:203: RuntimeWarning: Glyph 3638 missing from current font.\n",
      "  font.set_text(s, 0, flags=flags)\n"
     ]
    },
    {
     "data": {
      "image/png": "[encoded data removed]",
      "text/plain": [
       "<Figure size 432x288 with 1 Axes>"
      ]
     },
     "metadata": {
      "needs_background": "light"
     },
     "output_type": "display_data"
    }
   ],
   "source": [
    "date = list(col_name[79].value_counts().index)\n",
    "values = list(col_name[79].value_counts().values)\n",
    "  \n",
    "# fig = plt.figure(figsize = (10, 5))\n",
    " \n",
    "# creating the bar plot\n",
    "\n",
    "\n",
    "plt.bar(date, values, color ='maroon',\n",
    "        width = 0.6)"
   ]
  },
  {
   "cell_type": "code",
   "execution_count": null,
   "id": "dbe77df6",
   "metadata": {},
   "outputs": [],
   "source": []
  },
  {
   "cell_type": "markdown",
   "id": "16ecffff",
   "metadata": {},
   "source": [
    "# 3. ระดับการศึกษา"
   ]
  },
  {
   "cell_type": "code",
   "execution_count": 280,
   "id": "9216d0a9",
   "metadata": {},
   "outputs": [
    {
     "data": {
      "text/plain": [
       "0      ปริญญาตรี\n",
       "1      ปริญญาตรี\n",
       "2      ปริญญาตรี\n",
       "3      ปริญญาตรี\n",
       "4      ปริญญาตรี\n",
       "         ...    \n",
       "194    ปริญญาตรี\n",
       "195    ปริญญาตรี\n",
       "196    มัธยมปลาย\n",
       "197          NaN\n",
       "198          NaN\n",
       "Name: 3. ระดับการศึกษา, Length: 199, dtype: object"
      ]
     },
     "execution_count": 280,
     "metadata": {},
     "output_type": "execute_result"
    }
   ],
   "source": [
    "col_name[80]"
   ]
  },
  {
   "cell_type": "code",
   "execution_count": 281,
   "id": "ec1e6e67",
   "metadata": {},
   "outputs": [
    {
     "data": {
      "text/plain": [
       "ปริญญาตรี          118\n",
       "ปริญญาโท            65\n",
       "สูงกว่าปริญญาโท     10\n",
       "มัธยมปลาย            3\n",
       "อนุปริญญาตรี         1\n",
       "Name: 3. ระดับการศึกษา, dtype: int64"
      ]
     },
     "execution_count": 281,
     "metadata": {},
     "output_type": "execute_result"
    }
   ],
   "source": [
    "col_name[80].value_counts()"
   ]
  },
  {
   "cell_type": "code",
   "execution_count": 282,
   "id": "09804aaf",
   "metadata": {},
   "outputs": [
    {
     "data": {
      "text/plain": [
       "<BarContainer object of 5 artists>"
      ]
     },
     "execution_count": 282,
     "metadata": {},
     "output_type": "execute_result"
    },
    {
     "data": {
      "image/png": "[encoded data removed]",
      "text/plain": [
       "<Figure size 432x288 with 1 Axes>"
      ]
     },
     "metadata": {
      "needs_background": "light"
     },
     "output_type": "display_data"
    }
   ],
   "source": [
    "date = list(col_name[80].value_counts().index)\n",
    "values = list(col_name[80].value_counts().values)\n",
    "  \n",
    "# fig = plt.figure(figsize = (10, 5))\n",
    " \n",
    "# creating the bar plot\n",
    "\n",
    "\n",
    "plt.bar(date, values, color ='maroon',\n",
    "        width = 0.6)"
   ]
  },
  {
   "cell_type": "code",
   "execution_count": null,
   "id": "9fa3ffd5",
   "metadata": {},
   "outputs": [],
   "source": []
  },
  {
   "cell_type": "markdown",
   "id": "36a4f4e7",
   "metadata": {},
   "source": [
    "# 4. อาชีพ"
   ]
  },
  {
   "cell_type": "code",
   "execution_count": 283,
   "id": "bd251b87",
   "metadata": {},
   "outputs": [
    {
     "data": {
      "text/plain": [
       "0               พนักงานเอกชน\n",
       "1               พนักงานเอกชน\n",
       "2      ข้าราชการ/รัฐวิสาหกิจ\n",
       "3      ข้าราชการ/รัฐวิสาหกิจ\n",
       "4               พนักงานเอกชน\n",
       "               ...          \n",
       "194    ข้าราชการ/รัฐวิสาหกิจ\n",
       "195               อาชีพอิสระ\n",
       "196               อาชีพอิสระ\n",
       "197                      NaN\n",
       "198                      NaN\n",
       "Name: 4. อาชีพ, Length: 199, dtype: object"
      ]
     },
     "execution_count": 283,
     "metadata": {},
     "output_type": "execute_result"
    }
   ],
   "source": [
    "col_name[81]"
   ]
  },
  {
   "cell_type": "code",
   "execution_count": 284,
   "id": "56c464b2",
   "metadata": {},
   "outputs": [
    {
     "data": {
      "text/plain": [
       "พนักงานเอกชน             144\n",
       "ธุรกิจส่วนตัว             23\n",
       "ข้าราชการ/รัฐวิสาหกิจ     13\n",
       "อาชีพอิสระ                11\n",
       "นักศึกษา                   4\n",
       "ทันตแพทย์                  1\n",
       "แพทย์                      1\n",
       "Name: 4. อาชีพ, dtype: int64"
      ]
     },
     "execution_count": 284,
     "metadata": {},
     "output_type": "execute_result"
    }
   ],
   "source": [
    "col_name[81].value_counts()"
   ]
  },
  {
   "cell_type": "code",
   "execution_count": 285,
   "id": "1d9e3138",
   "metadata": {},
   "outputs": [
    {
     "data": {
      "text/plain": [
       "<BarContainer object of 7 artists>"
      ]
     },
     "execution_count": 285,
     "metadata": {},
     "output_type": "execute_result"
    },
    {
     "name": "stderr",
     "output_type": "stream",
     "text": [
      "/home/sun/anaconda3/envs/covid-19/lib/python3.8/site-packages/matplotlib/backends/backend_agg.py:240: RuntimeWarning: Glyph 3600 missing from current font.\n",
      "  font.set_text(s, 0.0, flags=flags)\n",
      "/home/sun/anaconda3/envs/covid-19/lib/python3.8/site-packages/matplotlib/backends/backend_agg.py:203: RuntimeWarning: Glyph 3600 missing from current font.\n",
      "  font.set_text(s, 0, flags=flags)\n"
     ]
    },
    {
     "data": {
      "image/png": "[encoded data removed]",
      "text/plain": [
       "<Figure size 432x288 with 1 Axes>"
      ]
     },
     "metadata": {
      "needs_background": "light"
     },
     "output_type": "display_data"
    }
   ],
   "source": [
    "date = list(col_name[81].value_counts().index)\n",
    "values = list(col_name[81].value_counts().values)\n",
    "  \n",
    "# fig = plt.figure(figsize = (10, 5))\n",
    " \n",
    "# creating the bar plot\n",
    "\n",
    "\n",
    "plt.bar(date, values, color ='maroon',\n",
    "        width = 0.6)"
   ]
  },
  {
   "cell_type": "code",
   "execution_count": null,
   "id": "c2372b55",
   "metadata": {},
   "outputs": [],
   "source": []
  },
  {
   "cell_type": "markdown",
   "id": "7b4a74d1",
   "metadata": {},
   "source": [
    "# 5. รายได้ต่อเดือน"
   ]
  },
  {
   "cell_type": "code",
   "execution_count": 286,
   "id": "4abbc2be",
   "metadata": {},
   "outputs": [
    {
     "data": {
      "text/plain": [
       "0      45,001-60,000 บาท\n",
       "1       60,001 บาทขึ้นไป\n",
       "2      15,001-30,000 บาท\n",
       "3      45,001-60,000 บาท\n",
       "4       60,001 บาทขึ้นไป\n",
       "             ...        \n",
       "194    15,001-30,000 บาท\n",
       "195    15,001-30,000 บาท\n",
       "196    15,001-30,000 บาท\n",
       "197                  NaN\n",
       "198                  NaN\n",
       "Name: 5. รายได้ต่อเดือน, Length: 199, dtype: object"
      ]
     },
     "execution_count": 286,
     "metadata": {},
     "output_type": "execute_result"
    }
   ],
   "source": [
    "col_name[82]"
   ]
  },
  {
   "cell_type": "code",
   "execution_count": 287,
   "id": "0d3e6d6d",
   "metadata": {},
   "outputs": [
    {
     "data": {
      "text/plain": [
       "60,001 บาทขึ้นไป      87\n",
       "30,001-45,000 บาท     47\n",
       "45,001-60,000 บาท     39\n",
       "15,001-30,000 บาท     23\n",
       "ต่ำกว่า 15,000 บาท     1\n",
       "Name: 5. รายได้ต่อเดือน, dtype: int64"
      ]
     },
     "execution_count": 287,
     "metadata": {},
     "output_type": "execute_result"
    }
   ],
   "source": [
    "col_name[82].value_counts()"
   ]
  },
  {
   "cell_type": "code",
   "execution_count": 288,
   "id": "3ddebf12",
   "metadata": {},
   "outputs": [
    {
     "data": {
      "text/plain": [
       "<BarContainer object of 5 artists>"
      ]
     },
     "execution_count": 288,
     "metadata": {},
     "output_type": "execute_result"
    },
    {
     "data": {
      "image/png": "[encoded data removed]",
      "text/plain": [
       "<Figure size 432x288 with 1 Axes>"
      ]
     },
     "metadata": {
      "needs_background": "light"
     },
     "output_type": "display_data"
    }
   ],
   "source": [
    "date = list(col_name[82].value_counts().index)\n",
    "values = list(col_name[82].value_counts().values)\n",
    "  \n",
    "# fig = plt.figure(figsize = (10, 5))\n",
    " \n",
    "# creating the bar plot\n",
    "\n",
    "\n",
    "plt.bar(date, values, color ='maroon',\n",
    "        width = 0.6)"
   ]
  },
  {
   "cell_type": "code",
   "execution_count": null,
   "id": "a37b3c93",
   "metadata": {},
   "outputs": [],
   "source": []
  },
  {
   "cell_type": "markdown",
   "id": "caaf0135",
   "metadata": {},
   "source": [
    "# 6. สถานภาพ"
   ]
  },
  {
   "cell_type": "code",
   "execution_count": 289,
   "id": "ee3b6aca",
   "metadata": {},
   "outputs": [
    {
     "data": {
      "text/plain": [
       "0       โสด\n",
       "1      สมรส\n",
       "2       โสด\n",
       "3      สมรส\n",
       "4       โสด\n",
       "       ... \n",
       "194     โสด\n",
       "195     โสด\n",
       "196     โสด\n",
       "197     NaN\n",
       "198     NaN\n",
       "Name: 6. สถานภาพ, Length: 199, dtype: object"
      ]
     },
     "execution_count": 289,
     "metadata": {},
     "output_type": "execute_result"
    }
   ],
   "source": [
    "col_name[83]"
   ]
  },
  {
   "cell_type": "code",
   "execution_count": 290,
   "id": "1e9ee749",
   "metadata": {},
   "outputs": [
    {
     "data": {
      "text/plain": [
       "โสด     150\n",
       "สมรส     47\n",
       "Name: 6. สถานภาพ, dtype: int64"
      ]
     },
     "execution_count": 290,
     "metadata": {},
     "output_type": "execute_result"
    }
   ],
   "source": [
    "col_name[83].value_counts()"
   ]
  },
  {
   "cell_type": "code",
   "execution_count": 291,
   "id": "c21af9cf",
   "metadata": {},
   "outputs": [
    {
     "data": {
      "text/plain": [
       "<BarContainer object of 2 artists>"
      ]
     },
     "execution_count": 291,
     "metadata": {},
     "output_type": "execute_result"
    },
    {
     "data": {
      "image/png": "[encoded data removed]",
      "text/plain": [
       "<Figure size 432x288 with 1 Axes>"
      ]
     },
     "metadata": {
      "needs_background": "light"
     },
     "output_type": "display_data"
    }
   ],
   "source": [
    "date = list(col_name[83].value_counts().index)\n",
    "values = list(col_name[83].value_counts().values)\n",
    "  \n",
    "# fig = plt.figure(figsize = (10, 5))\n",
    " \n",
    "# creating the bar plot\n",
    "\n",
    "\n",
    "plt.bar(date, values, color ='maroon',\n",
    "        width = 0.6)"
   ]
  },
  {
   "cell_type": "code",
   "execution_count": null,
   "id": "e37a5ca0",
   "metadata": {},
   "outputs": [],
   "source": []
  },
  {
   "cell_type": "markdown",
   "id": "1b68cb94",
   "metadata": {},
   "source": [
    "# 7. ในปัจจุบันสมาชิกที่อาศัยอยู่กับท่านมีกี่คน (รวมตัวท่านด้วย)"
   ]
  },
  {
   "cell_type": "code",
   "execution_count": 292,
   "id": "e6b8fc54",
   "metadata": {},
   "outputs": [
    {
     "data": {
      "text/plain": [
       "0        3 - 4 คน\n",
       "1      5 คนขึ้นไป\n",
       "2        3 - 4 คน\n",
       "3           2  คน\n",
       "4        3 - 4 คน\n",
       "          ...    \n",
       "194      3 - 4 คน\n",
       "195         2  คน\n",
       "196         2  คน\n",
       "197           NaN\n",
       "198           NaN\n",
       "Name: 7. ในปัจจุบันสมาชิกที่อาศัยอยู่กับท่านมีกี่คน (รวมตัวท่านด้วย), Length: 199, dtype: object"
      ]
     },
     "execution_count": 292,
     "metadata": {},
     "output_type": "execute_result"
    }
   ],
   "source": [
    "col_name[84]"
   ]
  },
  {
   "cell_type": "code",
   "execution_count": 293,
   "id": "d7b944bb",
   "metadata": {},
   "outputs": [
    {
     "data": {
      "text/plain": [
       "3 - 4 คน      88\n",
       "5 คนขึ้นไป    39\n",
       "2  คน         37\n",
       "1 คน          33\n",
       "Name: 7. ในปัจจุบันสมาชิกที่อาศัยอยู่กับท่านมีกี่คน (รวมตัวท่านด้วย), dtype: int64"
      ]
     },
     "execution_count": 293,
     "metadata": {},
     "output_type": "execute_result"
    }
   ],
   "source": [
    "col_name[84].value_counts()"
   ]
  },
  {
   "cell_type": "code",
   "execution_count": 294,
   "id": "6d3e0e03",
   "metadata": {},
   "outputs": [
    {
     "data": {
      "text/plain": [
       "<BarContainer object of 4 artists>"
      ]
     },
     "execution_count": 294,
     "metadata": {},
     "output_type": "execute_result"
    },
    {
     "data": {
      "image/png": "[encoded data removed]",
      "text/plain": [
       "<Figure size 432x288 with 1 Axes>"
      ]
     },
     "metadata": {
      "needs_background": "light"
     },
     "output_type": "display_data"
    }
   ],
   "source": [
    "date = list(col_name[84].value_counts().index)\n",
    "values = list(col_name[84].value_counts().values)\n",
    "  \n",
    "# fig = plt.figure(figsize = (10, 5))\n",
    " \n",
    "# creating the bar plot\n",
    "\n",
    "\n",
    "plt.bar(date, values, color ='maroon',\n",
    "        width = 0.6)"
   ]
  },
  {
   "cell_type": "code",
   "execution_count": null,
   "id": "fcf5cbb2",
   "metadata": {},
   "outputs": [],
   "source": []
  },
  {
   "cell_type": "markdown",
   "id": "2b54229b",
   "metadata": {},
   "source": [
    "# 6.1 ท่านคิดว่า MK Live ควรปรับปรุงหรือพัฒนาในด้านใดมากที่สุด\n",
    " [อันดับ 1]"
   ]
  },
  {
   "cell_type": "code",
   "execution_count": 297,
   "id": "01bc69d1",
   "metadata": {},
   "outputs": [
    {
     "data": {
      "text/plain": [
       "0                    ปริมาณอาหาร\n",
       "1      การประชาสัมพันธ์ และโฆษณา\n",
       "2                      โปรโมชั่น\n",
       "3                      โปรโมชั่น\n",
       "4                    ปริมาณอาหาร\n",
       "                 ...            \n",
       "194                          NaN\n",
       "195                          NaN\n",
       "196                          NaN\n",
       "197                          NaN\n",
       "198                          NaN\n",
       "Name: 6.1 ท่านคิดว่า MK Live ควรปรับปรุงหรือพัฒนาในด้านใดมากที่สุด\\n [อันดับ 1], Length: 199, dtype: object"
      ]
     },
     "execution_count": 297,
     "metadata": {},
     "output_type": "execute_result"
    }
   ],
   "source": [
    "col_name[87]"
   ]
  },
  {
   "cell_type": "code",
   "execution_count": 298,
   "id": "f05989e5",
   "metadata": {},
   "outputs": [
    {
     "data": {
      "text/plain": [
       "ราคาอาหาร                    41\n",
       "การประชาสัมพันธ์ และโฆษณา    18\n",
       "ปริมาณอาหาร                  13\n",
       "โปรโมชั่น                    10\n",
       "ความหลากหลายของเมนู           6\n",
       "ความใส่ใจของพนักงาน           3\n",
       "อื่นๆ                         1\n",
       "Name: 6.1 ท่านคิดว่า MK Live ควรปรับปรุงหรือพัฒนาในด้านใดมากที่สุด\\n [อันดับ 1], dtype: int64"
      ]
     },
     "execution_count": 298,
     "metadata": {},
     "output_type": "execute_result"
    }
   ],
   "source": [
    "col_name[87].value_counts()"
   ]
  },
  {
   "cell_type": "code",
   "execution_count": 299,
   "id": "b92bd5b0",
   "metadata": {},
   "outputs": [
    {
     "data": {
      "text/plain": [
       "<BarContainer object of 7 artists>"
      ]
     },
     "execution_count": 299,
     "metadata": {},
     "output_type": "execute_result"
    },
    {
     "data": {
      "image/png": "[encoded data removed]",
      "text/plain": [
       "<Figure size 432x288 with 1 Axes>"
      ]
     },
     "metadata": {
      "needs_background": "light"
     },
     "output_type": "display_data"
    }
   ],
   "source": [
    "date = list(col_name[87].value_counts().index)\n",
    "values = list(col_name[87].value_counts().values)\n",
    "  \n",
    "# fig = plt.figure(figsize = (10, 5))\n",
    " \n",
    "# creating the bar plot\n",
    "\n",
    "\n",
    "plt.bar(date, values, color ='maroon',\n",
    "        width = 0.6)"
   ]
  },
  {
   "cell_type": "code",
   "execution_count": null,
   "id": "e29e9d2c",
   "metadata": {},
   "outputs": [],
   "source": []
  }
 ],
 "metadata": {
  "kernelspec": {
   "display_name": "Python 3 (ipykernel)",
   "language": "python",
   "name": "python3"
  },
  "language_info": {
   "codemirror_mode": {
    "name": "ipython",
    "version": 3
   },
   "file_extension": ".py",
   "mimetype": "text/x-python",
   "name": "python",
   "nbconvert_exporter": "python",
   "pygments_lexer": "ipython3",
   "version": "3.8.10"
  }
 },
 "nbformat": 4,
 "nbformat_minor": 5
}
